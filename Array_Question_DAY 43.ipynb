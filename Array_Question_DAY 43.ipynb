{
 "cells": [
  {
   "cell_type": "code",
   "execution_count": 3,
   "id": "0169cb19-68f4-4725-abb8-d4ca905a5303",
   "metadata": {},
   "outputs": [],
   "source": [
    "def check_sort(arr):\n",
    "    n=len(arr)\n",
    "    count=0\n",
    "    for i in range(n):\n",
    "        if arr[i] > arr[(i + 1) % n] :\n",
    "            count +=1\n",
    "        if count > 1 :\n",
    "            return False\n",
    "    return True"
   ]
  },
  {
   "cell_type": "code",
   "execution_count": 5,
   "id": "14c6c7de-62d7-4214-bf70-c19849cf92da",
   "metadata": {},
   "outputs": [
    {
     "name": "stdout",
     "output_type": "stream",
     "text": [
      "True\n"
     ]
    }
   ],
   "source": [
    "arr=[3 , 4 ,4, 5 , 1 , 2]\n",
    "print(check_sort(arr))"
   ]
  },
  {
   "cell_type": "code",
   "execution_count": 8,
   "id": "b070d3cf-c02b-41be-a49d-cdc7be5aa326",
   "metadata": {},
   "outputs": [],
   "source": [
    "def remove(arr):\n",
    "    arr=set(arr)\n",
    "    arr=list(arr)\n",
    "    return arr"
   ]
  },
  {
   "cell_type": "code",
   "execution_count": 9,
   "id": "e7d24082-ae2a-44f6-8000-18696cedc786",
   "metadata": {},
   "outputs": [
    {
     "name": "stdout",
     "output_type": "stream",
     "text": [
      "[1, 2, 3, 4, 5]\n"
     ]
    }
   ],
   "source": [
    "arr=[ 1, 2, 3,2, 4, 1, 5 , 1]\n",
    "print(remove(arr))"
   ]
  },
  {
   "cell_type": "code",
   "execution_count": 16,
   "id": "fc35fecc-8f82-49cb-877a-dfbd0febd69a",
   "metadata": {},
   "outputs": [],
   "source": [
    "def remove_dup(arr):\n",
    "    n=len(arr)\n",
    "    for i in range(n):\n",
    "        for j in range(n):\n",
    "            if arr[i] == arr[j] and i != j:\n",
    "                arr[j] = 0\n",
    "    return arr\n",
    "            \n",
    "        "
   ]
  },
  {
   "cell_type": "code",
   "execution_count": 17,
   "id": "b565aa4a-2d6e-4088-96d1-6a130cfd01cc",
   "metadata": {},
   "outputs": [
    {
     "name": "stdout",
     "output_type": "stream",
     "text": [
      "[5, 4, 3, 2, 1, 0, 0, 0]\n"
     ]
    }
   ],
   "source": [
    "arr=[ 1, 2, 3,2, 4, 1, 5 , 1]\n",
    "print(remove_dup(arr))"
   ]
  },
  {
   "cell_type": "code",
   "execution_count": null,
   "id": "14ce0a50-d03f-463c-9424-f92947a699fa",
   "metadata": {},
   "outputs": [],
   "source": [
    "\n",
    "\n",
    "\n"
   ]
  },
  {
   "cell_type": "code",
   "execution_count": null,
   "id": "38581b52-7d5f-4251-b841-905a70eb1a90",
   "metadata": {},
   "outputs": [],
   "source": []
  },
  {
   "cell_type": "code",
   "execution_count": null,
   "id": "9524b5a2-9923-408b-b6da-926b07b231d0",
   "metadata": {},
   "outputs": [],
   "source": []
  },
  {
   "cell_type": "code",
   "execution_count": null,
   "id": "161e496a-28c1-4712-8cee-8574ec8c94cd",
   "metadata": {},
   "outputs": [],
   "source": []
  },
  {
   "cell_type": "code",
   "execution_count": null,
   "id": "475b98df-7036-4fdb-bfb9-8aea71eed427",
   "metadata": {},
   "outputs": [],
   "source": []
  },
  {
   "cell_type": "code",
   "execution_count": null,
   "id": "4469ad7e-8123-4aca-9180-3d53bc1306bd",
   "metadata": {},
   "outputs": [],
   "source": []
  },
  {
   "cell_type": "code",
   "execution_count": null,
   "id": "0c65bff7-da0f-4a85-9d19-8ce77ae4b865",
   "metadata": {},
   "outputs": [],
   "source": []
  },
  {
   "cell_type": "code",
   "execution_count": null,
   "id": "980d0931-4a58-498e-a325-164428e8729e",
   "metadata": {},
   "outputs": [],
   "source": []
  },
  {
   "cell_type": "code",
   "execution_count": null,
   "id": "33f2628a-1f18-4580-8fa3-e184867b55f2",
   "metadata": {},
   "outputs": [],
   "source": []
  },
  {
   "cell_type": "code",
   "execution_count": null,
   "id": "69bcba0a-ea1d-46d7-8859-a4387d391d7d",
   "metadata": {},
   "outputs": [],
   "source": []
  }
 ],
 "metadata": {
  "kernelspec": {
   "display_name": "Python 3 (ipykernel)",
   "language": "python",
   "name": "python3"
  },
  "language_info": {
   "codemirror_mode": {
    "name": "ipython",
    "version": 3
   },
   "file_extension": ".py",
   "mimetype": "text/x-python",
   "name": "python",
   "nbconvert_exporter": "python",
   "pygments_lexer": "ipython3",
   "version": "3.11.2"
  },
  "widgets": {
   "application/vnd.jupyter.widget-state+json": {
    "state": {},
    "version_major": 2,
    "version_minor": 0
   }
  }
 },
 "nbformat": 4,
 "nbformat_minor": 5
}
