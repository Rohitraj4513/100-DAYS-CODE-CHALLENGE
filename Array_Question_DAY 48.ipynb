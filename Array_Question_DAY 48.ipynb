{
 "cells": [
  {
   "cell_type": "code",
   "execution_count": 27,
   "id": "c0b2533d-02c9-4957-893a-b82f9832ec5d",
   "metadata": {},
   "outputs": [],
   "source": [
    "import math\n",
    "def mini(arr , tst):\n",
    "    n=len(arr)\n",
    "    lw=max(arr)\n",
    "    lst=0\n",
    "    \n",
    "    for i in range(1, lw):\n",
    "        Sum=0\n",
    "        for j in range(n):\n",
    "            Sum += math.ceil(arr[j] % i )\n",
    "            \n",
    "        if Sum <= tst :\n",
    "            lst=Sum\n",
    "        else:\n",
    "            if Sum > tst:\n",
    "                return lst\n",
    "        "
   ]
  },
  {
   "cell_type": "code",
   "execution_count": 28,
   "id": "e2d19eed-367a-4440-9635-ccd4b6f276ed",
   "metadata": {},
   "outputs": [
    {
     "name": "stdout",
     "output_type": "stream",
     "text": [
      "5\n"
     ]
    }
   ],
   "source": [
    "arr=[1,2,5,9]\n",
    "print(mini(arr , 6))"
   ]
  },
  {
   "cell_type": "code",
   "execution_count": 59,
   "id": "e4ed3204-dfaa-4ca7-b937-659343920e31",
   "metadata": {},
   "outputs": [],
   "source": [
    "def SUM(arr , ts):\n",
    "    sum_=0\n",
    "    m=len(arr)\n",
    "    for i in range(m):\n",
    "        sum_ += math.ceil(arr[i] / ts)\n",
    "    return sum_\n",
    "        \n",
    "def mini(arr , tst):\n",
    "    low , high = 1 , max(arr)\n",
    "    ans=-1\n",
    "    while(low <=  high):\n",
    "        mid= (low + high )//2\n",
    "\n",
    "        if SUM(arr , mid) <= tst:\n",
    "            ans=mid\n",
    "            high=mid-1\n",
    "        else:\n",
    "            low=mid+1\n",
    "    return ans"
   ]
  },
  {
   "cell_type": "code",
   "execution_count": 60,
   "id": "1e8fee6f-1660-47f7-88ef-55091033d058",
   "metadata": {},
   "outputs": [
    {
     "name": "stdout",
     "output_type": "stream",
     "text": [
      "44\n"
     ]
    }
   ],
   "source": [
    "arr=[44,22,33,11,1]\n",
    "print(mini(arr , 5))"
   ]
  },
  {
   "cell_type": "code",
   "execution_count": 61,
   "id": "f94009da-7a1e-4502-b395-284b395fe2d4",
   "metadata": {},
   "outputs": [],
   "source": [
    "class Solution(object):\n",
    "    def SUM(self, arr ,t):\n",
    "        n=len(arr)\n",
    "        sum_=0\n",
    "        for i in range(n):\n",
    "            sum_ += math.ceil(arr[i] / t)\n",
    "        return sum_\n",
    "\n",
    "    def mini(self, arr, tr):\n",
    "        low , high = 1 , max(arr)\n",
    "        ans = -1\n",
    "        while(low <= high):\n",
    "            mid = (low + high)//2\n",
    "            if self.SUM(arr , mid) <= tr:\n",
    "                ans=mid\n",
    "                high=mid-1\n",
    "            else:\n",
    "                low=mid+1\n",
    "        return ans"
   ]
  },
  {
   "cell_type": "code",
   "execution_count": 62,
   "id": "99627168-1c32-4bb8-9178-e73d948dfc47",
   "metadata": {},
   "outputs": [
    {
     "name": "stdout",
     "output_type": "stream",
     "text": [
      "44\n"
     ]
    }
   ],
   "source": [
    "obj=Solution()\n",
    "arr=[44,22,33,11,1]\n",
    "print(obj.mini(arr , 5))"
   ]
  },
  {
   "cell_type": "code",
   "execution_count": 63,
   "id": "8e6dcd2d-82c6-4a32-b8f4-2d43aedeb4fd",
   "metadata": {},
   "outputs": [
    {
     "name": "stdout",
     "output_type": "stream",
     "text": [
      "5\n"
     ]
    }
   ],
   "source": [
    "arr=[1,2,5,9]\n",
    "print(obj.mini(arr , 6))"
   ]
  },
  {
   "cell_type": "code",
   "execution_count": null,
   "id": "b9e665da-1c1a-42f6-961c-50b14b768387",
   "metadata": {},
   "outputs": [],
   "source": []
  },
  {
   "cell_type": "code",
   "execution_count": null,
   "id": "48e92efd-7593-430f-900d-310365438785",
   "metadata": {},
   "outputs": [],
   "source": []
  },
  {
   "cell_type": "code",
   "execution_count": null,
   "id": "dfd86de3-f904-47c2-98b5-8f0f6a641b2e",
   "metadata": {},
   "outputs": [],
   "source": []
  }
 ],
 "metadata": {
  "kernelspec": {
   "display_name": "Python 3 (ipykernel)",
   "language": "python",
   "name": "python3"
  },
  "language_info": {
   "codemirror_mode": {
    "name": "ipython",
    "version": 3
   },
   "file_extension": ".py",
   "mimetype": "text/x-python",
   "name": "python",
   "nbconvert_exporter": "python",
   "pygments_lexer": "ipython3",
   "version": "3.11.2"
  },
  "widgets": {
   "application/vnd.jupyter.widget-state+json": {
    "state": {},
    "version_major": 2,
    "version_minor": 0
   }
  }
 },
 "nbformat": 4,
 "nbformat_minor": 5
}
