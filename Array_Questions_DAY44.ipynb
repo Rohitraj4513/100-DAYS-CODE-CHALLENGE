{
 "cells": [
  {
   "cell_type": "code",
   "execution_count": 13,
   "id": "df6f58b6-5b54-4c17-9599-a13019b6cce2",
   "metadata": {},
   "outputs": [],
   "source": [
    "def remove_duplicate(arr):\n",
    "    i=0\n",
    "    for j in range(1 , len( arr)):\n",
    "        if arr[i] != arr[j] :\n",
    "            arr[i+1] = arr[j]\n",
    "            i +=1\n",
    "        if arr[i] == arr[j]:\n",
    "            arr[j]=0\n",
    "    return arr"
   ]
  },
  {
   "cell_type": "code",
   "execution_count": 14,
   "id": "e1ca3f28-c4ec-4a9c-b9a9-2bbd6024ea2b",
   "metadata": {},
   "outputs": [
    {
     "name": "stdout",
     "output_type": "stream",
     "text": [
      "[1, 2, 3, 4, 5, 0, 0, 0]\n"
     ]
    }
   ],
   "source": [
    "arr=[ 1, 1 , 2, 3, 3, 4, 5, 5]\n",
    "print(remove_duplicate(arr))"
   ]
  },
  {
   "cell_type": "code",
   "execution_count": 22,
   "id": "62d3a514-9e32-4fdd-886d-f9919b5b5236",
   "metadata": {},
   "outputs": [],
   "source": [
    "def rotate_arr(arr , k):\n",
    "    k = k % len(arr)\n",
    "    return arr[-k:] + arr[:-k]"
   ]
  },
  {
   "cell_type": "code",
   "execution_count": 25,
   "id": "d8f9983d-60bd-4c01-bcf4-b0321fae3d9f",
   "metadata": {},
   "outputs": [
    {
     "name": "stdout",
     "output_type": "stream",
     "text": [
      "[0, 0, 1, 2, 3, 4, 5, 0]\n"
     ]
    }
   ],
   "source": [
    "arrr=[1, 2, 3 , 4 ,5 ]\n",
    "print(rotate_arr(arr , 2))"
   ]
  },
  {
   "cell_type": "code",
   "execution_count": 32,
   "id": "01337668-e9ce-45e5-9b42-f12f8ee9dde4",
   "metadata": {},
   "outputs": [
    {
     "name": "stdout",
     "output_type": "stream",
     "text": [
      "[4, 5, 1, 2, 3]\n"
     ]
    }
   ],
   "source": [
    "def rotate_arr1(arr, k):\n",
    "    arr =arr[-k:] + arr[:-k]\n",
    "    return arr\n",
    "arrr=[1, 2, 3 , 4 ,5 ]\n",
    "print(rotate_arr1(arrr , 2))"
   ]
  },
  {
   "cell_type": "code",
   "execution_count": 43,
   "id": "db4cd32f-d9f7-4d60-95a0-78911b932c51",
   "metadata": {},
   "outputs": [],
   "source": [
    "def left(arr):\n",
    "    temp=arr[0]\n",
    "    temp1=arr[1]\n",
    "    n=len(arr)\n",
    "    for i in range(1 , n-1):\n",
    "        arr[i-1] = arr[i]\n",
    "        arr[i] = arr[i+1]\n",
    "    arr[n-1]=temp1\n",
    "    arr[n-2]=temp\n",
    "    return arr"
   ]
  },
  {
   "cell_type": "code",
   "execution_count": 44,
   "id": "37fba564-368f-4dc3-b226-85c0e92b8919",
   "metadata": {},
   "outputs": [
    {
     "name": "stdout",
     "output_type": "stream",
     "text": [
      "[2, 3, 4, 1, 2]\n"
     ]
    }
   ],
   "source": [
    "arrr=[1, 2, 3 , 4 ,5 ]\n",
    "print(left(arrr))"
   ]
  },
  {
   "cell_type": "code",
   "execution_count": 41,
   "id": "0421d5af-d2f1-4050-aec6-afd0dc64858d",
   "metadata": {},
   "outputs": [],
   "source": [
    "def right(arr):\n",
    "    n=len(arr)\n",
    "    temp=arr[n-1]\n",
    "    for i in range(n-2 , -1 , -1):\n",
    "        arr[i+1] = arr[i]\n",
    "    arr[0] =temp\n",
    "    return arr"
   ]
  },
  {
   "cell_type": "code",
   "execution_count": 42,
   "id": "1c034211-f21b-4f87-97b3-8f427fb7aeb1",
   "metadata": {},
   "outputs": [
    {
     "name": "stdout",
     "output_type": "stream",
     "text": [
      "[5, 1, 2, 3, 4]\n"
     ]
    }
   ],
   "source": [
    "arrr=[1, 2, 3 , 4 ,5 ]\n",
    "print(right(arrr))"
   ]
  },
  {
   "cell_type": "code",
   "execution_count": 47,
   "id": "17cdd44c-a100-465a-adb3-004e05aba07f",
   "metadata": {},
   "outputs": [
    {
     "name": "stdout",
     "output_type": "stream",
     "text": [
      "[4, 5, 1, 2, 3]\n"
     ]
    }
   ],
   "source": [
    "def brute(arr , k):\n",
    "    k=k % len(arr)\n",
    "    return arr[-k:] + arr[:-k]\n",
    "arr=[1 , 2 , 3 , 4 , 5]\n",
    "print(brute(arr , 2))"
   ]
  },
  {
   "cell_type": "code",
   "execution_count": 48,
   "id": "bced4c77-0495-4cb1-9175-770c83e38214",
   "metadata": {},
   "outputs": [
    {
     "name": "stdout",
     "output_type": "stream",
     "text": [
      "[3, 4, 5, 1, 2]\n"
     ]
    }
   ],
   "source": [
    "def brute(arr , l):\n",
    "    return arr[k:] + arr[:k]\n",
    "arr=[1 , 2 , 3 , 4 , 5]\n",
    "print(brute(arr , 2))"
   ]
  },
  {
   "cell_type": "code",
   "execution_count": 49,
   "id": "dd9991ad-e123-48bd-b486-f2dd9be26395",
   "metadata": {},
   "outputs": [
    {
     "name": "stdout",
     "output_type": "stream",
     "text": [
      "[5, 4, 3, 2, 1]\n"
     ]
    }
   ],
   "source": [
    "def reverse(arr):\n",
    "    return arr[::-1]\n",
    "arr=[1 , 2 , 3 , 4 , 5]\n",
    "print(reverse(arr ))"
   ]
  },
  {
   "cell_type": "code",
   "execution_count": 54,
   "id": "0eb35d50-1555-41be-ba64-9f815531c6be",
   "metadata": {},
   "outputs": [
    {
     "name": "stdout",
     "output_type": "stream",
     "text": [
      "[5, 4, 3, 2, 1]\n"
     ]
    }
   ],
   "source": [
    "def reversed(arr):\n",
    "    st =0 \n",
    "    end=len(arr)-1\n",
    "    while st < end :\n",
    "        arr[st] , arr[end] = arr[end] , arr[st]\n",
    "        st +=1\n",
    "        end -=1\n",
    "arr=[1 , 2 , 3 , 4 , 5]\n",
    "reversed(arr )\n",
    "print(arr)\n"
   ]
  },
  {
   "cell_type": "code",
   "execution_count": 58,
   "id": "407e4bed-13d3-4129-a452-4a1830431579",
   "metadata": {},
   "outputs": [
    {
     "name": "stdout",
     "output_type": "stream",
     "text": [
      "[5, 6, 7, 1, 2, 3, 4]\n"
     ]
    }
   ],
   "source": [
    "#reverse by k step\n",
    "def reverse(st , end):\n",
    "    while st < end:\n",
    "        arr[st] , arr[end] = arr[end] , arr[st]\n",
    "        st +=1\n",
    "        end -=1\n",
    "    return arr\n",
    "def k_step(arr , k):\n",
    "    n=len(arr)\n",
    "    k=k % n\n",
    "    reverse(0 , n-1)\n",
    "    reverse(0, k-1)\n",
    "    reverse(k , n-1 )\n",
    "\n",
    "arr=[1,2,3,4,5,6,7]\n",
    "k_step(arr , 3)\n",
    "print(arr)"
   ]
  },
  {
   "cell_type": "code",
   "execution_count": 68,
   "id": "82ec3ece-f030-45c6-88cf-6a525f841be7",
   "metadata": {},
   "outputs": [
    {
     "name": "stdout",
     "output_type": "stream",
     "text": [
      "[1, 3, 12, 0, 0]\n"
     ]
    }
   ],
   "source": [
    "def last_zero(arr):\n",
    "    temp=0\n",
    "    for i in range(len(arr)):\n",
    "        if arr[i] != 0:\n",
    "            arr[temp] , arr[i] = arr[i] , arr[temp]\n",
    "            temp +=1\n",
    "    return arr\n",
    "nums = [0,1,0,3,12]\n",
    "print(last_zero(nums))  "
   ]
  },
  {
   "cell_type": "code",
   "execution_count": null,
   "id": "83fa612a-9cb8-4abe-b416-10eb53210e67",
   "metadata": {},
   "outputs": [],
   "source": [
    "def union(arr , arr1):\n",
    "    arr"
   ]
  },
  {
   "cell_type": "code",
   "execution_count": 79,
   "id": "c034322c-5a4c-4ea7-9017-95c69b89a0b2",
   "metadata": {},
   "outputs": [
    {
     "name": "stdout",
     "output_type": "stream",
     "text": [
      "9\n",
      "8\n"
     ]
    }
   ],
   "source": [
    "def missing(arr):\n",
    "    mx=max(arr)\n",
    "    print(mx)\n",
    "    newq=[0]* (mx + 2) \n",
    "    for i in arr:\n",
    "        newq[i] +=1\n",
    "    for i in range(len(newq)):\n",
    "        if newq[i] == 0:\n",
    "            return i\n",
    "arr=[9,6,4,2,3,5,7,0,1]\n",
    "print(missing(arr))\n",
    "\n",
    "                "
   ]
  },
  {
   "cell_type": "code",
   "execution_count": 84,
   "id": "704d20a9-4708-4913-9baa-bb1a14a7d60e",
   "metadata": {},
   "outputs": [
    {
     "name": "stdout",
     "output_type": "stream",
     "text": [
      "8\n"
     ]
    }
   ],
   "source": [
    "def missin(arr):\n",
    "    n=len(arr)\n",
    "    total=(n*(n + 1)) // 2\n",
    "    return total - s\n",
    "    \n",
    "arr=[9,6,4,2,3,5,7,0,1]\n",
    "print(missin(arr))  "
   ]
  },
  {
   "cell_type": "code",
   "execution_count": 89,
   "id": "d2b88308-0315-4912-a030-22ddb7681c6c",
   "metadata": {},
   "outputs": [],
   "source": [
    "def repit(arr):\n",
    "    frq=0\n",
    "    value=0\n",
    "    for i in range(len(arr)):\n",
    "        if arr[i] == 1:\n",
    "            frq += 1\n",
    "        else:\n",
    "            if frq > value:\n",
    "                value=frq\n",
    "            frq=0\n",
    "    if frq > value:\n",
    "        return frq\n",
    "    return value"
   ]
  },
  {
   "cell_type": "code",
   "execution_count": 91,
   "id": "6142b5d7-c3dc-4c65-90f9-feaf3f9972ca",
   "metadata": {},
   "outputs": [
    {
     "name": "stdout",
     "output_type": "stream",
     "text": [
      "2\n"
     ]
    }
   ],
   "source": [
    "arr=[1,0,1,1,0,1]\n",
    "print(repit(arr))"
   ]
  },
  {
   "cell_type": "code",
   "execution_count": 92,
   "id": "8a413d03-8e83-41b0-a745-722705249d6a",
   "metadata": {},
   "outputs": [],
   "source": [
    "def uniqelmt(arr):\n",
    "    n=len(arr)\n",
    "    mx=max(arr)\n",
    "    narr=[0] * (mx + 1)\n",
    "    for i in arr:\n",
    "        narr[i] +=1\n",
    "    for i in range(len(narr)):\n",
    "        if narr[i] == 1:\n",
    "            return i\n",
    "    return -1"
   ]
  },
  {
   "cell_type": "code",
   "execution_count": 94,
   "id": "e9ec304b-9ed3-43c3-9cd4-da7717adc750",
   "metadata": {},
   "outputs": [
    {
     "name": "stdout",
     "output_type": "stream",
     "text": [
      "4\n"
     ]
    }
   ],
   "source": [
    "arr=[4,1,2,1,2]\n",
    "print(uniqelmt(arr))"
   ]
  },
  {
   "cell_type": "code",
   "execution_count": 95,
   "id": "c0b0bb2a-1e20-43a8-91c2-918ffac16505",
   "metadata": {},
   "outputs": [
    {
     "name": "stdout",
     "output_type": "stream",
     "text": [
      "4\n"
     ]
    }
   ],
   "source": [
    "def uniqelmt(arr):\n",
    "    xor=0\n",
    "    for i in arr:\n",
    "        xor ^= i\n",
    "    return xor\n",
    "arr=[4,1,2,1,2]\n",
    "print(uniqelmt(arr))"
   ]
  },
  {
   "cell_type": "code",
   "execution_count": null,
   "id": "50742caa-f2dd-4ff7-a149-af06544ccdb3",
   "metadata": {},
   "outputs": [],
   "source": []
  },
  {
   "cell_type": "code",
   "execution_count": null,
   "id": "e5c21a4e-4a0b-4843-b7b8-e4a888914996",
   "metadata": {},
   "outputs": [],
   "source": []
  },
  {
   "cell_type": "code",
   "execution_count": null,
   "id": "626bc53c-d694-4cc1-be91-40ae4cfa8149",
   "metadata": {},
   "outputs": [],
   "source": []
  },
  {
   "cell_type": "code",
   "execution_count": null,
   "id": "eec6e2fb-6c6c-421b-aea9-9202ecf0deb2",
   "metadata": {},
   "outputs": [],
   "source": []
  },
  {
   "cell_type": "code",
   "execution_count": null,
   "id": "584139a1-0a02-47d4-95f1-7874ae00cd72",
   "metadata": {},
   "outputs": [],
   "source": []
  },
  {
   "cell_type": "code",
   "execution_count": null,
   "id": "2cf65347-13d3-4e60-8c4b-85670981271e",
   "metadata": {},
   "outputs": [],
   "source": []
  },
  {
   "cell_type": "code",
   "execution_count": null,
   "id": "608e9311-be2b-4c3a-baa5-ffd274971223",
   "metadata": {},
   "outputs": [],
   "source": []
  },
  {
   "cell_type": "code",
   "execution_count": null,
   "id": "795c0768-bc89-4f5f-bb4c-ef387383a2d9",
   "metadata": {},
   "outputs": [],
   "source": []
  },
  {
   "cell_type": "code",
   "execution_count": null,
   "id": "eeae80e2-411e-419c-b4b1-9bcc51a88f90",
   "metadata": {},
   "outputs": [],
   "source": []
  },
  {
   "cell_type": "code",
   "execution_count": null,
   "id": "d82d8304-0814-434f-b85d-81910123ea59",
   "metadata": {},
   "outputs": [],
   "source": []
  },
  {
   "cell_type": "code",
   "execution_count": null,
   "id": "fd32d865-d45d-49cb-be3c-dc8888222005",
   "metadata": {},
   "outputs": [],
   "source": []
  },
  {
   "cell_type": "code",
   "execution_count": null,
   "id": "666460a4-45f0-40e0-891f-02074737d751",
   "metadata": {},
   "outputs": [],
   "source": []
  },
  {
   "cell_type": "code",
   "execution_count": null,
   "id": "e182e6f8-0b0a-4e7a-8cba-23d6d8f5f512",
   "metadata": {},
   "outputs": [],
   "source": []
  },
  {
   "cell_type": "code",
   "execution_count": null,
   "id": "78e08dba-5a33-4a67-8bc2-513849582218",
   "metadata": {},
   "outputs": [],
   "source": []
  },
  {
   "cell_type": "code",
   "execution_count": null,
   "id": "1a69f053-c425-4b8a-ad34-2850c9b96d53",
   "metadata": {},
   "outputs": [],
   "source": []
  },
  {
   "cell_type": "code",
   "execution_count": null,
   "id": "77997f02-3f0a-4390-bdc0-659efbbce6c8",
   "metadata": {},
   "outputs": [],
   "source": []
  },
  {
   "cell_type": "code",
   "execution_count": null,
   "id": "a81e125f-6a46-46e9-bf4c-36ef78f74383",
   "metadata": {},
   "outputs": [],
   "source": []
  },
  {
   "cell_type": "code",
   "execution_count": null,
   "id": "5ee5d389-475a-4969-b64b-1746c226978b",
   "metadata": {},
   "outputs": [],
   "source": []
  },
  {
   "cell_type": "code",
   "execution_count": null,
   "id": "d488acc4-1ed7-478c-a5e7-9f710a1a2fe5",
   "metadata": {},
   "outputs": [],
   "source": []
  },
  {
   "cell_type": "code",
   "execution_count": null,
   "id": "3cf1b024-9f83-43fe-b1cc-f4db87cb87b6",
   "metadata": {},
   "outputs": [],
   "source": []
  },
  {
   "cell_type": "code",
   "execution_count": null,
   "id": "0e4eaf1a-a5d7-4927-835d-569722b09eb3",
   "metadata": {},
   "outputs": [],
   "source": []
  },
  {
   "cell_type": "code",
   "execution_count": null,
   "id": "349c6cf3-ba52-48e7-90c3-6a2f42894594",
   "metadata": {},
   "outputs": [],
   "source": []
  },
  {
   "cell_type": "code",
   "execution_count": null,
   "id": "883ec5bd-8e0f-43fa-b100-dc4fb19b5d55",
   "metadata": {},
   "outputs": [],
   "source": []
  },
  {
   "cell_type": "code",
   "execution_count": null,
   "id": "b1f4156c-16c4-4128-9c6e-b9614b8cfec7",
   "metadata": {},
   "outputs": [],
   "source": []
  },
  {
   "cell_type": "code",
   "execution_count": null,
   "id": "718b0e07-4800-4a5b-81de-0ad116524a9d",
   "metadata": {},
   "outputs": [],
   "source": []
  },
  {
   "cell_type": "code",
   "execution_count": null,
   "id": "c6846545-0574-4f24-b571-61ed03fba075",
   "metadata": {},
   "outputs": [],
   "source": []
  },
  {
   "cell_type": "code",
   "execution_count": null,
   "id": "3a06332c-eda5-4b72-ac57-00650515ebf6",
   "metadata": {},
   "outputs": [],
   "source": []
  },
  {
   "cell_type": "code",
   "execution_count": null,
   "id": "c74a59c2-b8de-491f-87e5-e4f0f5618217",
   "metadata": {},
   "outputs": [],
   "source": []
  },
  {
   "cell_type": "code",
   "execution_count": null,
   "id": "232a63af-4027-4294-bc0b-7474548c0b4c",
   "metadata": {},
   "outputs": [],
   "source": []
  },
  {
   "cell_type": "code",
   "execution_count": null,
   "id": "c7d67487-3b7a-418c-a6ee-474b26b180d2",
   "metadata": {},
   "outputs": [],
   "source": []
  },
  {
   "cell_type": "code",
   "execution_count": null,
   "id": "1e0262da-1149-413c-bda9-f12d6a6fab6f",
   "metadata": {},
   "outputs": [],
   "source": []
  }
 ],
 "metadata": {
  "kernelspec": {
   "display_name": "Python 3 (ipykernel)",
   "language": "python",
   "name": "python3"
  },
  "language_info": {
   "codemirror_mode": {
    "name": "ipython",
    "version": 3
   },
   "file_extension": ".py",
   "mimetype": "text/x-python",
   "name": "python",
   "nbconvert_exporter": "python",
   "pygments_lexer": "ipython3",
   "version": "3.11.2"
  },
  "widgets": {
   "application/vnd.jupyter.widget-state+json": {
    "state": {},
    "version_major": 2,
    "version_minor": 0
   }
  }
 },
 "nbformat": 4,
 "nbformat_minor": 5
}
