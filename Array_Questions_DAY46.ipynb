{
 "cells": [
  {
   "cell_type": "code",
   "execution_count": 3,
   "id": "733f5dbc-1777-4de6-a7c9-958bb907d114",
   "metadata": {},
   "outputs": [],
   "source": [
    "def idx(arr):\n",
    "    l , h , m= 0 , len(arr)-1 , 0\n",
    "    while(m <= h):\n",
    "        if arr[m] == 0:\n",
    "            arr[l] , arr[m] = arr[m] , arr[l]\n",
    "            m +=1\n",
    "            l +=1\n",
    "        elif(arr[m] == 1):\n",
    "            m +=1\n",
    "        else:\n",
    "            arr[h] , arr[m] = arr[m] , arr[h]\n",
    "            h -=1"
   ]
  },
  {
   "cell_type": "code",
   "execution_count": 4,
   "id": "07baf2f0-d725-465b-8fd7-0bcbd6c24a3b",
   "metadata": {},
   "outputs": [
    {
     "name": "stdout",
     "output_type": "stream",
     "text": [
      "[0, 0, 1, 1, 1, 2, 2]\n"
     ]
    }
   ],
   "source": [
    "arr= [1 , 2, 1, 0 ,2 , 0 , 1]\n",
    "idx(arr)\n",
    "print(arr)"
   ]
  },
  {
   "cell_type": "code",
   "execution_count": 18,
   "id": "cc3cecc6-bc96-45e1-9707-29e2cf6dd866",
   "metadata": {},
   "outputs": [],
   "source": [
    "def mejority(arr):\n",
    "    n=len(arr)\n",
    "    tr=n / 2\n",
    "    for i in range(n):\n",
    "        count=1\n",
    "        for j in range(n):\n",
    "            if arr[i] == arr[j]:\n",
    "                count +=1\n",
    "        if count > tr:\n",
    "            return arr[i]\n",
    "\n",
    "    return -1\n"
   ]
  },
  {
   "cell_type": "code",
   "execution_count": 19,
   "id": "9f6cb7f9-fe7e-44fd-bfc4-a7df70916653",
   "metadata": {},
   "outputs": [
    {
     "name": "stdout",
     "output_type": "stream",
     "text": [
      "2\n"
     ]
    }
   ],
   "source": [
    "arr=[2,2,1,1,1,2,2 , 2]\n",
    "print(mejority(arr))"
   ]
  },
  {
   "cell_type": "code",
   "execution_count": 20,
   "id": "490d522d-5596-4895-8d64-c2e09957f859",
   "metadata": {},
   "outputs": [],
   "source": [
    "def mejo(arr):\n",
    "    n=len(arr)\n",
    "    hash={}\n",
    "    for i in arr:\n",
    "        hash[i]=hash.get(i , 0)+1\n",
    "        \n",
    "    for i , num in enumerate(arr):\n",
    "        if num > n//2:\n",
    "            return key\n",
    "    return -1\n",
    "        \n",
    "        "
   ]
  },
  {
   "cell_type": "code",
   "execution_count": 21,
   "id": "2b8a81fd-003f-45b2-b1ef-31abce828cb8",
   "metadata": {},
   "outputs": [
    {
     "name": "stdout",
     "output_type": "stream",
     "text": [
      "2\n"
     ]
    }
   ],
   "source": [
    "arr=[2,2,1,1,1,2,2 , 2]\n",
    "print(mejority(arr))"
   ]
  },
  {
   "cell_type": "code",
   "execution_count": 31,
   "id": "d60e7173-f319-445b-9f87-ef57e43068c2",
   "metadata": {},
   "outputs": [],
   "source": [
    "def majority(arr):\n",
    "    count=0\n",
    "    cnt=0\n",
    "    n=len(arr)\n",
    "    for i in range(n):\n",
    "        if count == 0:\n",
    "            count +=1\n",
    "            cnt=arr[i]\n",
    "        elif cnt == arr[i]:\n",
    "            count +=1\n",
    "        else:\n",
    "            count -=1\n",
    "    cnt1=0\n",
    "    for i in range(n):\n",
    "        if cnt == arr[i]:\n",
    "            cnt1 +=1\n",
    "    if cnt1 > n //2 :\n",
    "        return cnt\n",
    "    return -1\n",
    "        "
   ]
  },
  {
   "cell_type": "code",
   "execution_count": 32,
   "id": "3b53fc6b-1816-4b53-9774-c7f993181ca7",
   "metadata": {},
   "outputs": [
    {
     "name": "stdout",
     "output_type": "stream",
     "text": [
      "3\n"
     ]
    }
   ],
   "source": [
    "arr=[3,2,3]\n",
    "print(majority(arr))"
   ]
  },
  {
   "cell_type": "code",
   "execution_count": 33,
   "id": "6da27c0a-3652-47e3-a121-93a1db5023d8",
   "metadata": {},
   "outputs": [],
   "source": [
    "class Solution(object):\n",
    "    def majorityElement(self, arr):\n",
    "        count = cnt =0\n",
    "        n=len(arr)\n",
    "        for i in range(n):\n",
    "            if count == 0:\n",
    "                count +=1\n",
    "                cnt=arr[i]\n",
    "            elif cnt == arr[i]:\n",
    "                count +=1\n",
    "            else:\n",
    "                count -=1\n",
    "        cnt1 =0\n",
    "        for i in range(n):\n",
    "            if cnt == arr[i]:\n",
    "                cnt1 +=1\n",
    "        if cnt1 > n//2 :\n",
    "            return cnt\n",
    "        return -1"
   ]
  },
  {
   "cell_type": "code",
   "execution_count": 34,
   "id": "66b19acc-e9aa-43e5-bfa4-81e5ce7251c4",
   "metadata": {},
   "outputs": [
    {
     "name": "stdout",
     "output_type": "stream",
     "text": [
      "3\n"
     ]
    }
   ],
   "source": [
    "OBJ=Solution()\n",
    "arr=[3,2,3]\n",
    "print(OBJ.majorityElement(arr))"
   ]
  },
  {
   "cell_type": "code",
   "execution_count": 37,
   "id": "2e15f2f0-a708-410a-97ea-3922f848b8b5",
   "metadata": {},
   "outputs": [],
   "source": [
    "def majority(arr):\n",
    "    co = cnt =0\n",
    "    for i in arr:\n",
    "        if co == 0:\n",
    "            cnt = i\n",
    "        if cnt == i:\n",
    "            co +=1\n",
    "        else:\n",
    "            co -=1\n",
    "    if arr.count(cnt) > len(arr)//2:\n",
    "        return cnt\n",
    "    return -1"
   ]
  },
  {
   "cell_type": "code",
   "execution_count": 39,
   "id": "c249a4d3-ad22-4e56-8c88-93ce67f0b405",
   "metadata": {},
   "outputs": [
    {
     "name": "stdout",
     "output_type": "stream",
     "text": [
      "2\n"
     ]
    }
   ],
   "source": [
    "arr=[2,2,1,1,1,2,2 , 2]\n",
    "print(majority(arr))"
   ]
  },
  {
   "cell_type": "code",
   "execution_count": 64,
   "id": "c4c4d6e7-cdd1-4f96-a1d5-9697465b6a5f",
   "metadata": {},
   "outputs": [],
   "source": [
    "def substing(arr , k):\n",
    "    low = sum_ = 0 \n",
    "    mxlen=0\n",
    "    for i in range(len(arr)):\n",
    "        sum_ += arr[i]\n",
    "\n",
    "        while(sum_ > k and  low <= i):\n",
    "             sum_ -=arr[low]\n",
    "             low +=1\n",
    "        \n",
    "        # if sum_ == k :\n",
    "        #     lent=i-low+1\n",
    "        #     if lent > mxlen:\n",
    "        #         mxlen=lent\n",
    "        if sum_ == k:\n",
    "            mxlen=max(mxlen , i-low+1)\n",
    "    \n",
    "       \n",
    "    return mxlen\n",
    "        "
   ]
  },
  {
   "cell_type": "code",
   "execution_count": 65,
   "id": "0d10c9df-94ea-4e0c-8987-c119ce839349",
   "metadata": {},
   "outputs": [
    {
     "name": "stdout",
     "output_type": "stream",
     "text": [
      "4\n"
     ]
    }
   ],
   "source": [
    "arr=[10, 5, 2, 7 ,1, -10]\n",
    "print(substing(arr , 15))"
   ]
  },
  {
   "cell_type": "code",
   "execution_count": null,
   "id": "6d6aa7aa-1c52-4423-ae7e-65c523a24862",
   "metadata": {},
   "outputs": [],
   "source": [
    "Input: arr[] = [10, 5, 2, 7, 1, -10], k = 15"
   ]
  },
  {
   "cell_type": "code",
   "execution_count": 66,
   "id": "e545515d-8bca-4af9-8517-89c5cebaa368",
   "metadata": {},
   "outputs": [],
   "source": [
    "def substing(arr , k):\n",
    "    low = sum = 0 \n",
    "    mxlen=0\n",
    "    hash={}\n",
    "    n=len(arr)\n",
    "    for i in range(n):\n",
    "        sum += arr[i]\n",
    "\n",
    "        if sum == k:\n",
    "            mxlen = i+1\n",
    "\n",
    "        rem = sum-k\n",
    "        if rem in hash:\n",
    "            mxlen=max(mxlen , i-hash[rem])\n",
    "            \n",
    "        if sum not in hash:\n",
    "            hash[sum] = i\n",
    "    return mxlen\n",
    "            "
   ]
  },
  {
   "cell_type": "code",
   "execution_count": 67,
   "id": "1f230e37-88b0-4cc1-9b19-d2c960df968e",
   "metadata": {},
   "outputs": [
    {
     "name": "stdout",
     "output_type": "stream",
     "text": [
      "6\n"
     ]
    }
   ],
   "source": [
    "arr=[10, 5, 2, 7 ,1, -10]\n",
    "print(substing(arr , 15))"
   ]
  },
  {
   "cell_type": "code",
   "execution_count": 77,
   "id": "9b7f82de-e3c5-4563-8962-97dc6df65683",
   "metadata": {},
   "outputs": [],
   "source": [
    "def longest(arr):\n",
    "    mxt=-10**9\n",
    "    n=len(arr)\n",
    "    for i in range(n):\n",
    "        for j in range(i , n):\n",
    "            sum_=0\n",
    "            for k in range(i , j+1):\n",
    "                sum_ += arr[k]\n",
    "            mxt=max(sum_, mxt)\n",
    "    return mxt\n",
    "            \n",
    "    "
   ]
  },
  {
   "cell_type": "code",
   "execution_count": 78,
   "id": "650cef40-2c2c-4746-976f-353b6478440c",
   "metadata": {},
   "outputs": [
    {
     "name": "stdout",
     "output_type": "stream",
     "text": [
      "6\n"
     ]
    }
   ],
   "source": [
    "nums = [-2,1,-3,4,-1,2,1,-5,4]\n",
    "print(longest(nums))"
   ]
  },
  {
   "cell_type": "code",
   "execution_count": 89,
   "id": "df9785a8-5a05-4d89-a101-d57df4a4112e",
   "metadata": {},
   "outputs": [],
   "source": [
    "def longest(arr):\n",
    "    mxt=-10**9\n",
    "    n=len(arr)\n",
    "    for i in range(n):\n",
    "        sum_=0\n",
    "        for j in range(i ,n):\n",
    "            sum_ += arr[j]\n",
    "            mxt=max(sum_, mxt)\n",
    "    return mxt"
   ]
  },
  {
   "cell_type": "code",
   "execution_count": 90,
   "id": "6c901d3e-1d56-4d5d-8552-07ea75b588db",
   "metadata": {},
   "outputs": [
    {
     "name": "stdout",
     "output_type": "stream",
     "text": [
      "6\n"
     ]
    }
   ],
   "source": [
    "nums = [-2,1,-3,4,-1,2,1,-5,4]\n",
    "print(longest(nums))"
   ]
  },
  {
   "cell_type": "code",
   "execution_count": 93,
   "id": "3f308e53-396b-4a19-8152-247393f26abe",
   "metadata": {},
   "outputs": [],
   "source": [
    "def longest(arr):\n",
    "    sum_=0\n",
    "    mxc=-10**9\n",
    "    for i in range(len(arr)):\n",
    "        sum_ += arr[i]\n",
    "        if sum_ > mxc:\n",
    "            mxc=sum_\n",
    "        if sum_ < 0:\n",
    "            sum_=0\n",
    "    return mxc"
   ]
  },
  {
   "cell_type": "code",
   "execution_count": 94,
   "id": "c974b67d-058f-47fe-b8e4-0738d41e9789",
   "metadata": {},
   "outputs": [
    {
     "name": "stdout",
     "output_type": "stream",
     "text": [
      "6\n"
     ]
    }
   ],
   "source": [
    "nums = [-2,1,-3,4,-1,2,1,-5,4]\n",
    "print(longest(nums))"
   ]
  },
  {
   "cell_type": "code",
   "execution_count": 99,
   "id": "db4f0abb-f03c-475f-ae33-b663da635a30",
   "metadata": {},
   "outputs": [],
   "source": [
    "def push(arr):\n",
    "    low , mid, high = 0, 0 , len(arr)-1\n",
    "    n=len(arr)\n",
    "    if arr[n-1] == 0:\n",
    "        high -=1\n",
    "    while (low <= high):\n",
    "        if arr[low] == 0 :\n",
    "            arr[low] , arr[high] = arr[high] , arr[low]\n",
    "            low +=1\n",
    "            high -=1\n",
    "        elif arr[low] > 0:\n",
    "            low +=1\n",
    "        else:\n",
    "            low +=1\n",
    "        "
   ]
  },
  {
   "cell_type": "code",
   "execution_count": 100,
   "id": "08bb935b-ee7b-4602-913c-7cba0fa4fb88",
   "metadata": {},
   "outputs": [
    {
     "name": "stdout",
     "output_type": "stream",
     "text": [
      "[4, 1, 2, 0, 0]\n"
     ]
    }
   ],
   "source": [
    "arr=[4 , 0 ,2 , 1, 0]\n",
    "push(arr)\n",
    "print(arr)"
   ]
  },
  {
   "cell_type": "code",
   "execution_count": null,
   "id": "3b0f9a0d-1b9a-476d-8298-288da9f35b12",
   "metadata": {},
   "outputs": [],
   "source": []
  },
  {
   "cell_type": "code",
   "execution_count": null,
   "id": "81049cb8-d7af-4856-9be0-bf447d7390b2",
   "metadata": {},
   "outputs": [],
   "source": []
  },
  {
   "cell_type": "code",
   "execution_count": null,
   "id": "daa397b6-b28b-4c75-b256-365c769cd69a",
   "metadata": {},
   "outputs": [],
   "source": []
  },
  {
   "cell_type": "code",
   "execution_count": null,
   "id": "45811ee2-7a35-47b6-84f5-d6bb0f91545f",
   "metadata": {},
   "outputs": [],
   "source": []
  },
  {
   "cell_type": "code",
   "execution_count": null,
   "id": "0934dd0a-b5e1-4a3c-8e3f-e989547c8f28",
   "metadata": {},
   "outputs": [],
   "source": []
  },
  {
   "cell_type": "code",
   "execution_count": null,
   "id": "d08eabde-f0a8-4a4f-a1f0-79223d198bc8",
   "metadata": {},
   "outputs": [],
   "source": []
  },
  {
   "cell_type": "code",
   "execution_count": null,
   "id": "243be25d-c9eb-42d6-ae75-4f001837b531",
   "metadata": {},
   "outputs": [],
   "source": []
  },
  {
   "cell_type": "code",
   "execution_count": null,
   "id": "ae81f0b7-4080-4185-bd37-563e67e5bdf2",
   "metadata": {},
   "outputs": [],
   "source": []
  }
 ],
 "metadata": {
  "kernelspec": {
   "display_name": "Python 3 (ipykernel)",
   "language": "python",
   "name": "python3"
  },
  "language_info": {
   "codemirror_mode": {
    "name": "ipython",
    "version": 3
   },
   "file_extension": ".py",
   "mimetype": "text/x-python",
   "name": "python",
   "nbconvert_exporter": "python",
   "pygments_lexer": "ipython3",
   "version": "3.11.2"
  },
  "widgets": {
   "application/vnd.jupyter.widget-state+json": {
    "state": {},
    "version_major": 2,
    "version_minor": 0
   }
  }
 },
 "nbformat": 4,
 "nbformat_minor": 5
}
