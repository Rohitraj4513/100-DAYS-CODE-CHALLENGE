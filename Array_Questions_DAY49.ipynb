{
 "cells": [
  {
   "cell_type": "code",
   "execution_count": 15,
   "id": "d5c2410a-76c5-4d15-81ff-68972ef943a4",
   "metadata": {},
   "outputs": [],
   "source": [
    "def function(arr , day):\n",
    "    days=1 \n",
    "    sum_=0\n",
    "    for i in range(len(arr)):\n",
    "        if sum_ + arr[i] > day:\n",
    "            days +=1\n",
    "            sum_=arr[i]\n",
    "        else:\n",
    "            sum_ += arr[i]\n",
    "    return days\n",
    "def ship(arr , tr):\n",
    "    mx=max(arr) \n",
    "    smt=sum(arr)\n",
    "    for i in range(mx , smt+1):\n",
    "        value=function(arr , i)\n",
    "        if value <= tr:\n",
    "            return i  "
   ]
  },
  {
   "cell_type": "code",
   "execution_count": 16,
   "id": "663665d1-5362-4353-841c-fe2749ca91ea",
   "metadata": {},
   "outputs": [
    {
     "name": "stdout",
     "output_type": "stream",
     "text": [
      "15\n"
     ]
    }
   ],
   "source": [
    "arr=[1,2,3,4,5,6,7,8,9,10]\n",
    "print(ship(arr , 5))"
   ]
  },
  {
   "cell_type": "code",
   "execution_count": 37,
   "id": "ff9a5a67-f8ff-45d4-9cd3-014acf0f4fe8",
   "metadata": {},
   "outputs": [],
   "source": [
    "def Sum_value(arr , day):\n",
    "    days=1 \n",
    "    Sum_=0\n",
    "    for i in range(len(arr)):\n",
    "        if Sum_ + arr[i] > day:\n",
    "            days +=1\n",
    "            Sum_=arr[i]\n",
    "        else:\n",
    "            Sum_ +=arr[i]\n",
    "    return days\n",
    "            \n",
    "def ship_belt(arr , days):\n",
    "    low , high = max(arr) , sum(arr)\n",
    "    while(low <= high):\n",
    "        mid= (low + high) // 2\n",
    "        value=Sum_value(arr , mid)\n",
    "        if value <= days:\n",
    "            high=mid-1\n",
    "        else:\n",
    "            low=mid+1\n",
    "    return low\n",
    "            "
   ]
  },
  {
   "cell_type": "code",
   "execution_count": 38,
   "id": "fd68667a-b26d-43dd-b3a8-3fcd85ec438d",
   "metadata": {},
   "outputs": [
    {
     "name": "stdout",
     "output_type": "stream",
     "text": [
      "15\n"
     ]
    }
   ],
   "source": [
    "arr=[1,2,3,4,5,6,7,8,9,10]\n",
    "print(ship_belt(arr , 5))"
   ]
  },
  {
   "cell_type": "code",
   "execution_count": 42,
   "id": "34d0ed09-761b-4000-948b-39ec78248a1a",
   "metadata": {},
   "outputs": [],
   "source": [
    "class Solution(object):\n",
    "    \n",
    "    def S_fun(self, arr , m):\n",
    "        store=0\n",
    "        days=1\n",
    "        for i in range(len(arr)):\n",
    "            if store + arr[i] > m:\n",
    "                days +=1\n",
    "                store = arr[i]\n",
    "            else:\n",
    "                store +=arr[i]\n",
    "        return days\n",
    "\n",
    "    def shipWithinDays(self, arr, days):\n",
    "        low , high = max(arr) , sum(arr)\n",
    "        while(low <=  high):\n",
    "            mid = (low + high) // 2\n",
    "            value=self.S_fun(arr , mid)\n",
    "\n",
    "            if value <= days:\n",
    "                high= mid-1\n",
    "            else:\n",
    "                low = mid + 1\n",
    "        return low"
   ]
  },
  {
   "cell_type": "code",
   "execution_count": 43,
   "id": "30318798-57e2-462f-af38-1645faa4d8b6",
   "metadata": {},
   "outputs": [
    {
     "name": "stdout",
     "output_type": "stream",
     "text": [
      "15\n"
     ]
    }
   ],
   "source": [
    "s=Solution()\n",
    "arr=[1,2,3,4,5,6,7,8,9,10]\n",
    "print(s.shipWithinDays(arr , 5))"
   ]
  },
  {
   "cell_type": "code",
   "execution_count": 85,
   "id": "87d8cbee-58c9-4356-ba45-283d6c4a2070",
   "metadata": {},
   "outputs": [],
   "source": [
    "def rearreng(arr , arr1):\n",
    "    l , h = 0 , 0\n",
    "    newarr=[]\n",
    "    while l < len(arr)  and h < len(arr1):\n",
    "        if arr[l] < arr1[h]:\n",
    "            newarr.append(arr[l])\n",
    "            l +=1\n",
    "        else:\n",
    "            newarr.append(arr1[h])\n",
    "            h +=1\n",
    "    while l < len(arr):\n",
    "        newarr.append(arr[l])\n",
    "        l +=1\n",
    "    while h < len(arr1):\n",
    "        newarr.append(arr1[h])\n",
    "        h +=1\n",
    "    print(newarr)\n",
    "    mx=len(newarr)\n",
    "    md=mx//2\n",
    "    if mx % 2 != 0:\n",
    "        return newarr[md]\n",
    "    else:\n",
    "        return (newarr[md] + newarr[md-1])/2\n",
    "            "
   ]
  },
  {
   "cell_type": "code",
   "execution_count": 87,
   "id": "252a2b34-9cfc-41e6-9b9c-25aae503c187",
   "metadata": {},
   "outputs": [
    {
     "name": "stdout",
     "output_type": "stream",
     "text": [
      "[1, 2, 3, 3, 4, 6, 8]\n",
      "3\n"
     ]
    }
   ],
   "source": [
    "arr=[1 ,2  , 3]\n",
    "arr1=[3  , 4 , 6 , 8]\n",
    "print(rearreng(arr , arr1))\n"
   ]
  },
  {
   "cell_type": "code",
   "execution_count": null,
   "id": "3a12ce9b-b170-4f0a-b87f-550d6b7d84e3",
   "metadata": {},
   "outputs": [],
   "source": []
  },
  {
   "cell_type": "code",
   "execution_count": null,
   "id": "5fec416f-9dc0-40bd-989f-fef2339b65f5",
   "metadata": {},
   "outputs": [],
   "source": []
  }
 ],
 "metadata": {
  "kernelspec": {
   "display_name": "Python 3 (ipykernel)",
   "language": "python",
   "name": "python3"
  },
  "language_info": {
   "codemirror_mode": {
    "name": "ipython",
    "version": 3
   },
   "file_extension": ".py",
   "mimetype": "text/x-python",
   "name": "python",
   "nbconvert_exporter": "python",
   "pygments_lexer": "ipython3",
   "version": "3.11.2"
  },
  "widgets": {
   "application/vnd.jupyter.widget-state+json": {
    "state": {},
    "version_major": 2,
    "version_minor": 0
   }
  }
 },
 "nbformat": 4,
 "nbformat_minor": 5
}
