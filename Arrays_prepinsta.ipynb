{
 "cells": [
  {
   "cell_type": "code",
   "execution_count": 2,
   "id": "a33e2eed-4d2b-4dc0-b756-cf2a14b4260b",
   "metadata": {},
   "outputs": [
    {
     "name": "stdout",
     "output_type": "stream",
     "text": [
      "true\n"
     ]
    }
   ],
   "source": [
    "#Program for checking duplicate in an array – Duplicate Integer Problem\n",
    "nums = [1, 2, 3, 5]\n",
    "for i in range(len(nums)):\n",
    "    match = 0\n",
    "    for j in range(len(nums)):\n",
    "        if nums[i] == nums[j] and i != j :\n",
    "            match +=1\n",
    "            break\n",
    "if match == 0:\n",
    "    print('true')\n",
    "else:\n",
    "    print(\"flase\")"
   ]
  },
  {
   "cell_type": "code",
   "execution_count": 8,
   "id": "c2efec80-b894-46bc-9a13-93a11982e58e",
   "metadata": {},
   "outputs": [
    {
     "name": "stdout",
     "output_type": "stream",
     "text": [
      "yahh\n",
      "yahh\n",
      "yahh\n",
      "yahh\n",
      "[4, 2, 1, 6]\n"
     ]
    }
   ],
   "source": [
    "#Program for checking duplicate in an array – Duplicate Integer Problem\n",
    "nums = [1, 4 , 2 , 1  , 6]\n",
    "for i in range(len(nums)-1):\n",
    "    count = 0\n",
    "    for j in range(len(nums)):\n",
    "        if nums[i] == nums[j] and i != j :\n",
    "            nums.remove(nums[j])\n",
    "            break\n",
    "print(nums)\n",
    "        "
   ]
  },
  {
   "cell_type": "code",
   "execution_count": 2,
   "id": "0dcd8f6a-6713-47b5-8c8d-8ed17521e7fe",
   "metadata": {},
   "outputs": [
    {
     "name": "stdout",
     "output_type": "stream",
     "text": [
      "[1, 1, 2, 4, 6]\n"
     ]
    }
   ],
   "source": [
    "#Program for checking duplicate in an array – Duplicate Integer Problem\n",
    "arr = [1, 4 , 2 , 1  , 6]\n",
    "for i in range(len(arr)):\n",
    "    for j in range(0 , len(arr)-i-1):\n",
    "        if arr[j] > arr[j+1]:\n",
    "            arr[j] , arr[j+1]  =  arr[j+1] , arr[j]\n",
    "\n",
    "print(arr)"
   ]
  },
  {
   "cell_type": "code",
   "execution_count": 14,
   "id": "2e856d60-dc6e-43ce-9159-fcdd6957f877",
   "metadata": {},
   "outputs": [
    {
     "name": "stdout",
     "output_type": "stream",
     "text": [
      "[1, 1, 2, 4, 6]\n"
     ]
    }
   ],
   "source": [
    "#Program for checking duplicate in an array – Duplicate Integer Problem\n",
    "arr = [1, 4 , 2 , 1  , 6]\n",
    "for i in range(len(arr)):\n",
    "    count = i\n",
    "    for j in range(i+1 , len(arr)):\n",
    "        if arr[count] > arr[j]:\n",
    "            arr[count] , arr[j]  =  arr[j] , arr[count]\n",
    "print(arr)"
   ]
  },
  {
   "cell_type": "code",
   "execution_count": 24,
   "id": "153e656c-439f-46ef-8ef8-4ae9fa0166e4",
   "metadata": {},
   "outputs": [
    {
     "name": "stdout",
     "output_type": "stream",
     "text": [
      "anagram\n"
     ]
    }
   ],
   "source": [
    "#Program for checking if two strings are Anagram of each other – Is Anagram?\n",
    "s = \"Racecar\"\n",
    "t = \"carrace\"\n",
    "s = s.lower()\n",
    "if len(s) != len(t):\n",
    "    print(\"not anagram\")\n",
    "cpt1 =\"\".join(sorted(s))\n",
    "cpt2 =\"\".join(sorted(t))\n",
    "\n",
    "count = 0\n",
    "for i in range(len(cpt1)):\n",
    "    if cpt1[i] != cpt2[i]:\n",
    "        count +=1\n",
    "if count == 0:\n",
    "    print('anagram')\n",
    "else:\n",
    "    print('not anagram')\n"
   ]
  },
  {
   "cell_type": "code",
   "execution_count": 2,
   "id": "93853f60-7b68-4764-9335-44e054eb95d7",
   "metadata": {},
   "outputs": [
    {
     "name": "stdout",
     "output_type": "stream",
     "text": [
      "aaccerr\n"
     ]
    }
   ],
   "source": [
    "#sting sort\n",
    "st = \"racecar\"\n",
    "lst = list(st)\n",
    "\n",
    "for i in range(len(lst)):\n",
    "    count = i\n",
    "    for j in range(i+1 , len(lst)):\n",
    "        if lst[count] > lst[j]:\n",
    "            lst[count] , lst[j]  =  lst[j] , lst[count]\n",
    "s = \"\".join(lst)\n",
    "\n",
    "print(s)"
   ]
  },
  {
   "cell_type": "code",
   "execution_count": 6,
   "id": "983d3651-a8c7-4893-b369-12c53a2a0855",
   "metadata": {},
   "outputs": [
    {
     "name": "stdout",
     "output_type": "stream",
     "text": [
      "0 1\n"
     ]
    }
   ],
   "source": [
    "#Pair with Given Sum – 2Sum Problem\n",
    "nums = [5,5]\n",
    "target = 10\n",
    "for i in range(len(nums)):\n",
    "    for j in range(i+1 , len(nums)):\n",
    "            if nums[i] + nums[j] == target:\n",
    "                print(i , j)\n",
    "                break"
   ]
  },
  {
   "cell_type": "code",
   "execution_count": 9,
   "id": "69019c8d-a085-4385-b2c3-ae1f631e03d3",
   "metadata": {},
   "outputs": [
    {
     "name": "stdout",
     "output_type": "stream",
     "text": [
      "0 1\n"
     ]
    }
   ],
   "source": [
    "#Pair with Given Sum – 2Sum Problem\n",
    "arr = [3,4,5,6]\n",
    "target = 7\n",
    "seen = {}\n",
    "for i , num in enumerate(arr):\n",
    "    diff = target - num\n",
    "    if diff in seen:\n",
    "        print(seen[diff] , i)\n",
    "        break\n",
    "    seen[num] = i"
   ]
  },
  {
   "cell_type": "code",
   "execution_count": null,
   "id": "861fb6d9-263b-4534-a14b-5535d2ca2856",
   "metadata": {},
   "outputs": [],
   "source": []
  }
 ],
 "metadata": {
  "kernelspec": {
   "display_name": "Python 3 (ipykernel)",
   "language": "python",
   "name": "python3"
  },
  "language_info": {
   "codemirror_mode": {
    "name": "ipython",
    "version": 3
   },
   "file_extension": ".py",
   "mimetype": "text/x-python",
   "name": "python",
   "nbconvert_exporter": "python",
   "pygments_lexer": "ipython3",
   "version": "3.11.2"
  },
  "widgets": {
   "application/vnd.jupyter.widget-state+json": {
    "state": {},
    "version_major": 2,
    "version_minor": 0
   }
  }
 },
 "nbformat": 4,
 "nbformat_minor": 5
}
