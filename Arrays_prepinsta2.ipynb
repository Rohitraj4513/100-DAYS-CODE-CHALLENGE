{
 "cells": [
  {
   "cell_type": "code",
   "execution_count": 5,
   "id": "0eae9d4b-bb10-4d06-b528-93eea7bb3039",
   "metadata": {},
   "outputs": [
    {
     "name": "stdout",
     "output_type": "stream",
     "text": [
      "[['act', 'cat'], ['pots', 'tops', 'stop'], ['hat']]\n"
     ]
    }
   ],
   "source": [
    "#Given a sequence of words, print all anagrams together – Anagrams Group Problem\n",
    "\n",
    "def Anagrams(s):\n",
    "    n = len(s)\n",
    "    st = {}\n",
    "    for i in s:\n",
    "        srt = \"\".join(sorted(i))\n",
    "        if srt in st:\n",
    "            st[srt] +=[i]\n",
    "        else:\n",
    "            st[srt] = [i]\n",
    "    sr = list(st.values())\n",
    "    return sr\n",
    "\n",
    "        \n",
    "s = [\"act\",\"pots\",\"tops\",\"cat\",\"stop\",\"hat\"]\n",
    "print(Anagrams(s))\n"
   ]
  },
  {
   "cell_type": "code",
   "execution_count": 6,
   "id": "020cfc46-3ba0-4c09-98ef-e16c573cedcc",
   "metadata": {},
   "outputs": [
    {
     "name": "stdout",
     "output_type": "stream",
     "text": [
      "2 3 "
     ]
    }
   ],
   "source": [
    "#Top K Frequent Elements Problem\n",
    "nums = [1,2,2,3,3,3]\n",
    "k = 2\n",
    "hash = {}\n",
    "for i in nums:\n",
    "    hash[i] = hash.get(i , 0)+1\n",
    "    \n",
    "for i in hash:\n",
    "    if hash[i] >= k:\n",
    "        print(i ,end=\" \")\n"
   ]
  },
  {
   "cell_type": "code",
   "execution_count": 7,
   "id": "2c8c24d7-afe8-4919-a12d-f6475a341106",
   "metadata": {},
   "outputs": [
    {
     "name": "stdout",
     "output_type": "stream",
     "text": [
      "[2, 3]\n"
     ]
    }
   ],
   "source": [
    "#Top K Frequent Elements Problem\n",
    "nums = [1,2,2,3,3,3]\n",
    "k = 2\n",
    "lst=[]\n",
    "for i in range(len(nums)):\n",
    "    count = 0\n",
    "    for j in range(len(nums)):\n",
    "        if nums[i] == nums[j] :\n",
    "            count +=1\n",
    "    if count >= k:\n",
    "        if nums[i] not in lst:\n",
    "            lst.append(nums[i])          \n",
    "print(lst)"
   ]
  },
  {
   "cell_type": "code",
   "execution_count": 8,
   "id": "63eb4113-ecc3-41b2-be16-3ca15ae9eb11",
   "metadata": {},
   "outputs": [
    {
     "name": "stdout",
     "output_type": "stream",
     "text": [
      "Encode :prepinsta$course$are$best\n",
      "Encode :['prepinsta', 'course', 'are', 'best']\n"
     ]
    }
   ],
   "source": [
    "#Encode and Decode Strings Problem\n",
    "def encode(s):\n",
    "    return \"$\".join(s)\n",
    "def decode(st):\n",
    "    return st.split(\"$\")\n",
    "    \n",
    "arr = [\"prepinsta\",\"course\",\"are\",\"best\"]\n",
    "st1 = encode(arr) \n",
    "st2 = decode(st1)\n",
    "\n",
    "print(f\"Encode :{st1}\")\n",
    "print(f\"Encode :{st2}\")"
   ]
  },
  {
   "cell_type": "code",
   "execution_count": null,
   "id": "0cb3677f-325d-482c-910d-c6ee8e860b30",
   "metadata": {},
   "outputs": [],
   "source": []
  }
 ],
 "metadata": {
  "kernelspec": {
   "display_name": "Python 3 (ipykernel)",
   "language": "python",
   "name": "python3"
  },
  "language_info": {
   "codemirror_mode": {
    "name": "ipython",
    "version": 3
   },
   "file_extension": ".py",
   "mimetype": "text/x-python",
   "name": "python",
   "nbconvert_exporter": "python",
   "pygments_lexer": "ipython3",
   "version": "3.11.2"
  },
  "widgets": {
   "application/vnd.jupyter.widget-state+json": {
    "state": {},
    "version_major": 2,
    "version_minor": 0
   }
  }
 },
 "nbformat": 4,
 "nbformat_minor": 5
}
