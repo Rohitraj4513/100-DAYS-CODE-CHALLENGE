{
 "cells": [
  {
   "cell_type": "code",
   "execution_count": 7,
   "id": "bd8d945e-cd0f-45fa-96ac-1d277463c437",
   "metadata": {},
   "outputs": [
    {
     "name": "stdin",
     "output_type": "stream",
     "text": [
      "Enter number 10\n"
     ]
    },
    {
     "name": "stdout",
     "output_type": "stream",
     "text": [
      "Positive\n"
     ]
    }
   ],
   "source": [
    "#Check if a Number is Positive and Negative in Python\n",
    "number=int(input(\"Enter number\"))\n",
    "if number >= 0:\n",
    "    print('Positive')\n",
    "else:\n",
    "    print(\"Negative\")"
   ]
  },
  {
   "cell_type": "code",
   "execution_count": 13,
   "id": "c7b77e49-de42-40d9-b049-5a30896a7175",
   "metadata": {},
   "outputs": [
    {
     "name": "stdin",
     "output_type": "stream",
     "text": [
      "Enter number -10\n"
     ]
    },
    {
     "name": "stdout",
     "output_type": "stream",
     "text": [
      "Event\n"
     ]
    }
   ],
   "source": [
    "#Check Whether a Number is Even or Odd in Python\n",
    "number=int(input(\"Enter number\"))\n",
    "if number % 2 == 0 :\n",
    "    print('Event')\n",
    "else:\n",
    "    print('odd')\n",
    "    "
   ]
  },
  {
   "cell_type": "code",
   "execution_count": 17,
   "id": "0a52cefb-f8ee-4037-a3f2-c34844929190",
   "metadata": {},
   "outputs": [
    {
     "name": "stdin",
     "output_type": "stream",
     "text": [
      "Enter number 5\n"
     ]
    },
    {
     "name": "stdout",
     "output_type": "stream",
     "text": [
      "Sum of N no: 15\n"
     ]
    }
   ],
   "source": [
    "#Find the Sum of the First N Natural Numbers in Python\n",
    "number=int(input(\"Enter number\"))\n",
    "sum=0\n",
    "for i in range(number+1):\n",
    "    sum += i\n",
    "print(f\"Sum of N no: {sum}\")"
   ]
  },
  {
   "cell_type": "code",
   "execution_count": 21,
   "id": "5ac824f6-bd1e-40f1-8264-a88b0435a887",
   "metadata": {},
   "outputs": [],
   "source": [
    "#Sum of N natural numbers \n",
    "def nnum(num):\n",
    "    if num== 1:\n",
    "        return 1\n",
    "    return num +  nnum(num-1)\n",
    "print(nnum(5))"
   ]
  },
  {
   "cell_type": "code",
   "execution_count": 24,
   "id": "195a21a5-236d-4cfa-bde8-e3f7377f02bf",
   "metadata": {},
   "outputs": [
    {
     "name": "stdout",
     "output_type": "stream",
     "text": [
      "14\n"
     ]
    }
   ],
   "source": [
    "#Find the Sum of the Numbers in a Given Interval\n",
    "num1=2\n",
    "num2=5\n",
    "sum =0 \n",
    "for i in range(num1 , num2+1):\n",
    "    sum +=i\n",
    "print(sum)"
   ]
  },
  {
   "cell_type": "code",
   "execution_count": 25,
   "id": "db302096-d713-42e5-97ae-da6c0b1438aa",
   "metadata": {},
   "outputs": [
    {
     "name": "stdout",
     "output_type": "stream",
     "text": [
      "Greater num2\n"
     ]
    }
   ],
   "source": [
    "#Find the Greatest of the Two Numbers\n",
    "num1=2\n",
    "num2=5\n",
    "if num1 > num2:\n",
    "    print('Greater num1')\n",
    "else:\n",
    "    print('Greater num2')"
   ]
  },
  {
   "cell_type": "code",
   "execution_count": 26,
   "id": "c0c01a01-0d6f-45dc-b54c-955cabe7c2fe",
   "metadata": {},
   "outputs": [
    {
     "name": "stdout",
     "output_type": "stream",
     "text": [
      "Greater num3\n"
     ]
    }
   ],
   "source": [
    "#Find the Greatest of the Three Numbers\n",
    "num1=2\n",
    "num2=5\n",
    "num3 =8\n",
    "if num1 > num2 and num1 > num3:\n",
    "    print('Greater num1')\n",
    "if num2 > num1 and num2 > num3:\n",
    "    print('Greater num2')\n",
    "else:\n",
    "    print('Greater num3')"
   ]
  },
  {
   "cell_type": "code",
   "execution_count": 28,
   "id": "38479f73-4c4f-4034-8325-86829279c046",
   "metadata": {},
   "outputs": [
    {
     "name": "stdin",
     "output_type": "stream",
     "text": [
      "enter year 2020\n"
     ]
    },
    {
     "name": "stdout",
     "output_type": "stream",
     "text": [
      "leap year\n"
     ]
    }
   ],
   "source": [
    "#Check Whether a Year is a Leap Year\n",
    "year=int(input('enter year'))\n",
    "if (year % 400 ==0 )or (year % 4 ==0  and year % 100 != 0 ):\n",
    "    print(\"leap year\")\n",
    "else:\n",
    "    print('not leap')"
   ]
  },
  {
   "cell_type": "code",
   "execution_count": 29,
   "id": "4bdf2d98-df94-4026-821b-07aca209663b",
   "metadata": {},
   "outputs": [
    {
     "name": "stdout",
     "output_type": "stream",
     "text": [
      "leap year\n"
     ]
    }
   ],
   "source": [
    "#Check Whether a Year is a Leap Year\n",
    "import calendar as cl\n",
    "if cl.isleap(year):\n",
    "    print(\"leap year\")\n",
    "else:\n",
    "    print('not leap')"
   ]
  },
  {
   "cell_type": "code",
   "execution_count": 39,
   "id": "b325f693-13b5-47c4-bd1b-493cb6f43d5e",
   "metadata": {},
   "outputs": [
    {
     "name": "stdin",
     "output_type": "stream",
     "text": [
      "Enter number 11\n"
     ]
    },
    {
     "name": "stdout",
     "output_type": "stream",
     "text": [
      "prime\n"
     ]
    }
   ],
   "source": [
    "#Check Whether a Number is a Prime\n",
    "number=int(input(\"Enter number\"))\n",
    "count=0\n",
    "for i in range(2 , number//2 + 1):\n",
    "    if number % i ==0 :\n",
    "        count +=1\n",
    "        break\n",
    "if not count:  \n",
    "    print(\"prime\")\n",
    "else:\n",
    "    print(\"not prime\")\n",
    "    "
   ]
  },
  {
   "cell_type": "code",
   "execution_count": 47,
   "id": "5e476b53-783a-4937-b2de-804e5aa6c136",
   "metadata": {},
   "outputs": [
    {
     "name": "stdout",
     "output_type": "stream",
     "text": [
      "2 3 5 7 11 13 17 19 23 "
     ]
    }
   ],
   "source": [
    "#Find the Prime Numbers in a Given Range\n",
    "num1=2\n",
    "num2=24\n",
    "for i in range(num1 , num2):\n",
    "    count=0\n",
    "    for j in range(2 , num2+1):\n",
    "        if i % j ==0 and i != j:\n",
    "            count +=1\n",
    "            break\n",
    "    if not count:\n",
    "        print(i , end=' ')\n",
    "        "
   ]
  },
  {
   "cell_type": "code",
   "execution_count": 59,
   "id": "7d816638-d889-41e5-86a1-25c4642d0219",
   "metadata": {},
   "outputs": [
    {
     "name": "stdin",
     "output_type": "stream",
     "text": [
      "Enter number 12345\n"
     ]
    },
    {
     "name": "stdout",
     "output_type": "stream",
     "text": [
      "15\n"
     ]
    }
   ],
   "source": [
    "#Sum of Digits of a Number\n",
    "number=int(input(\"Enter number\"))\n",
    "sum=0\n",
    "while number != 0:\n",
    "    rem= number % 10\n",
    "    sum += rem\n",
    "    number = number // 10 \n",
    "print(sum)\n",
    "    "
   ]
  },
  {
   "cell_type": "code",
   "execution_count": 52,
   "id": "bce574c2-44c0-4491-ac74-3379dd9b43a0",
   "metadata": {},
   "outputs": [
    {
     "name": "stdin",
     "output_type": "stream",
     "text": [
      "Enter number 123\n"
     ]
    },
    {
     "name": "stdout",
     "output_type": "stream",
     "text": [
      "6\n"
     ]
    }
   ],
   "source": [
    "#Sum of Digits of a Number\n",
    "number=input(\"Enter number\")\n",
    "sum=0\n",
    "for i in number:\n",
    "    sum += int(i)\n",
    "print(sum)"
   ]
  },
  {
   "cell_type": "code",
   "execution_count": 62,
   "id": "f12d02a3-179a-43a8-95bc-8d38c1a6db92",
   "metadata": {},
   "outputs": [
    {
     "name": "stdout",
     "output_type": "stream",
     "text": [
      "6\n"
     ]
    }
   ],
   "source": [
    "def Sumof(num , sum):\n",
    "    if num == 0:\n",
    "        return sum\n",
    "    digit= num % 10\n",
    "    sum += digit\n",
    "    return Sumof(num // 10 , sum)\n",
    "print(Sumof(123 , 0))"
   ]
  },
  {
   "cell_type": "code",
   "execution_count": 63,
   "id": "5f86cbb8-09bb-4d9e-a4b5-cd7b8ca66d1f",
   "metadata": {},
   "outputs": [
    {
     "name": "stdin",
     "output_type": "stream",
     "text": [
      "Enter number 123\n"
     ]
    },
    {
     "name": "stdout",
     "output_type": "stream",
     "text": [
      "321\n"
     ]
    }
   ],
   "source": [
    "#Find the Reverse of a Number\n",
    "number=input(\"Enter number\")\n",
    "print(number[::-1])"
   ]
  },
  {
   "cell_type": "code",
   "execution_count": 70,
   "id": "1788a0fe-74cd-4a1a-98c3-5479e0592626",
   "metadata": {},
   "outputs": [
    {
     "name": "stdin",
     "output_type": "stream",
     "text": [
      "Enter number 123\n"
     ]
    },
    {
     "name": "stdout",
     "output_type": "stream",
     "text": [
      "321\n"
     ]
    }
   ],
   "source": [
    "#Find the Reverse of a Number\n",
    "number=int(input(\"Enter number\"))\n",
    "rev=0\n",
    "while number != 0:\n",
    "    rem = number % 10\n",
    "    rev=(rev * 10) + rem\n",
    "    number = number // 10\n",
    "print(rev)  "
   ]
  },
  {
   "cell_type": "code",
   "execution_count": 101,
   "id": "e706627c-cc6d-489e-92ca-95fa34a6fc26",
   "metadata": {},
   "outputs": [
    {
     "name": "stdout",
     "output_type": "stream",
     "text": [
      "321\n"
     ]
    }
   ],
   "source": [
    "#Find the Reverse of a Numbe\n",
    "def reverse(num , rev):\n",
    "    if num == 0:\n",
    "        return rev\n",
    "    rem= num % 10\n",
    "    rev = (rev * 10) + rem\n",
    "    return reverse(num // 10 , rev)\n",
    "    \n",
    "print(reverse(123 , 0))"
   ]
  },
  {
   "cell_type": "code",
   "execution_count": 76,
   "id": "2bb00305-ed44-4bed-a9c7-48ca893edf70",
   "metadata": {},
   "outputs": [
    {
     "name": "stdin",
     "output_type": "stream",
     "text": [
      "enter number 121\n"
     ]
    },
    {
     "name": "stdout",
     "output_type": "stream",
     "text": [
      "palindrome\n"
     ]
    }
   ],
   "source": [
    "#Palindrome Program\n",
    "num=input('enter number')\n",
    "nnum=num[::-1]\n",
    "if num == nnum:\n",
    "    print('palindrome')\n",
    "else:\n",
    "    print('Not palindrome')"
   ]
  },
  {
   "cell_type": "code",
   "execution_count": 83,
   "id": "9ff9ca78-a0da-4374-99cc-659eb8d7a6a1",
   "metadata": {},
   "outputs": [
    {
     "name": "stdin",
     "output_type": "stream",
     "text": [
      "enter number 1221\n"
     ]
    },
    {
     "name": "stdout",
     "output_type": "stream",
     "text": [
      "palindrome\n"
     ]
    }
   ],
   "source": [
    "#Palindrome Program\n",
    "num=int(input('enter number'))\n",
    "rev=0\n",
    "cmp=num\n",
    "while num != 0:\n",
    "    rem = num % 10\n",
    "    rev = (rev * 10 ) + rem\n",
    "    num = num // 10\n",
    "if cmp== rev :\n",
    "    print('palindrome')\n",
    "else:\n",
    "    print('Not palindrome')\n",
    "    "
   ]
  },
  {
   "cell_type": "code",
   "execution_count": 104,
   "id": "16460711-d53a-4475-8221-b66fe6d23c5c",
   "metadata": {},
   "outputs": [
    {
     "name": "stdout",
     "output_type": "stream",
     "text": [
      "321\n",
      "not palindrome\n"
     ]
    }
   ],
   "source": [
    "#Find the Reverse of a Numbe\n",
    "def reverse(num , rev):\n",
    "    if num == 0:\n",
    "        return rev\n",
    "    rem = num % 10\n",
    "    rev = (rev * 10) + rem\n",
    "    return reverse(num // 10 , rev)\n",
    "\n",
    "num = 123\n",
    "nu=reverse(num , 0)\n",
    "print(nu)\n",
    "if num == nu :\n",
    "    print('palindrome')\n",
    "else:\n",
    "    print('not palindrome')"
   ]
  },
  {
   "cell_type": "code",
   "execution_count": 118,
   "id": "2a8fa9cf-9167-4514-ae66-04ea1eeaf67f",
   "metadata": {},
   "outputs": [
    {
     "name": "stdout",
     "output_type": "stream",
     "text": [
      "palindrome\n"
     ]
    }
   ],
   "source": [
    "str='aadaa'\n",
    "low , high= 0 , len(str)-1\n",
    "count=0\n",
    "while low <= high:\n",
    "    if str[low] == str[high]:\n",
    "        low +=1\n",
    "        high -=1\n",
    "    else:\n",
    "        count +=1\n",
    "        break\n",
    "if not count:\n",
    "    print('palindrome')\n",
    "else:\n",
    "    print('Not palindrome')"
   ]
  },
  {
   "cell_type": "code",
   "execution_count": null,
   "id": "16700336-4933-4255-8d11-7f22b0f9e2e3",
   "metadata": {},
   "outputs": [],
   "source": []
  },
  {
   "cell_type": "code",
   "execution_count": null,
   "id": "aa856c73-f3b6-4fd8-8367-cb51408775e7",
   "metadata": {},
   "outputs": [],
   "source": []
  }
 ],
 "metadata": {
  "kernelspec": {
   "display_name": "Python 3 (ipykernel)",
   "language": "python",
   "name": "python3"
  },
  "language_info": {
   "codemirror_mode": {
    "name": "ipython",
    "version": 3
   },
   "file_extension": ".py",
   "mimetype": "text/x-python",
   "name": "python",
   "nbconvert_exporter": "python",
   "pygments_lexer": "ipython3",
   "version": "3.11.2"
  },
  "widgets": {
   "application/vnd.jupyter.widget-state+json": {
    "state": {},
    "version_major": 2,
    "version_minor": 0
   }
  }
 },
 "nbformat": 4,
 "nbformat_minor": 5
}
