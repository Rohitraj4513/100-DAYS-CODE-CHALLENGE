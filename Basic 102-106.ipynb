{
 "cells": [
  {
   "cell_type": "code",
   "execution_count": 22,
   "id": "c86f5cab-607e-4b2a-9d15-592b47dab699",
   "metadata": {},
   "outputs": [
    {
     "name": "stdout",
     "output_type": "stream",
     "text": [
      "Not Anagram\n"
     ]
    }
   ],
   "source": [
    "#Check if The Two Strings are Anagram or not\n",
    "st1 = \"aab\"\n",
    "st2 = \"abb\"\n",
    "\n",
    "st2=st2.lower()\n",
    "st1=st1.lower()\n",
    "\n",
    "st1 = sorted(st1)\n",
    "st2= sorted(st2)\n",
    "\n",
    "if st1 == st2:\n",
    "    print('Anagram')\n",
    "else:\n",
    "    print('Not Anagram')\n"
   ]
  },
  {
   "cell_type": "code",
   "execution_count": 31,
   "id": "f783fd50-292c-4ae0-8ae1-2f8e51f20cdb",
   "metadata": {},
   "outputs": [
    {
     "name": "stdout",
     "output_type": "stream",
     "text": [
      "Not Anagram\n"
     ]
    }
   ],
   "source": [
    "#Check if The Two Strings are Anagram or not\n",
    "st1 = \"hello\"\n",
    "st2 = \"world\"\n",
    "\n",
    "st2=st2.lower()\n",
    "st1=st1.lower()\n",
    "\n",
    "st2=list(st2)\n",
    "st1=list(st1)\n",
    "\n",
    "if len(st1) != len(st2):\n",
    "    print(\"Not Anagram\")\n",
    "\n",
    "for i in range(len(st1)):\n",
    "    for j in range( i , len(st1)):\n",
    "        if st1[i] > st1[j]:\n",
    "            st1[i] , st1[j] = st1[j] , st1[i]\n",
    "            \n",
    "for i in range(len(st2)):\n",
    "    for j in range( i , len(st2)):\n",
    "        if st2[i] > st2[j]:\n",
    "            st2[i] , st2[j] = st2[j] , st2[i]\n",
    "            \n",
    "st1=\"\".join(st1)\n",
    "st2=\"\".join(st2)\n",
    " \n",
    "if st1 == st2:\n",
    "    print(\"Anagram\")\n",
    "else:\n",
    "    print(\"Not Anagram\")"
   ]
  },
  {
   "cell_type": "code",
   "execution_count": 48,
   "id": "b35e2f8c-ae4a-4acb-b200-31198d57b178",
   "metadata": {},
   "outputs": [
    {
     "name": "stdout",
     "output_type": "stream",
     "text": [
      "3\n"
     ]
    }
   ],
   "source": [
    "#Count The Common Subsequence in two Strings\n",
    "n1=\"ABC\"\n",
    "m=\"AB\"\n",
    "ln1=len(n1)\n",
    "ln2=len(m)\n",
    "st1=[]\n",
    "st2=[]\n",
    "ans=0\n",
    "for i in range(1 << ln1):\n",
    "    st=\"\"\n",
    "    for j in range(ln1):\n",
    "        if i & (1 << j):\n",
    "            st += n1[j]\n",
    "    if st:\n",
    "        st1.append(st)\n",
    "\n",
    "for i in range(1 << ln2):\n",
    "    st=\"\"\n",
    "    for j in range(ln2):\n",
    "        if i & (1 << j):\n",
    "            st += m[j]\n",
    "    if st:\n",
    "        st2.append(st)\n",
    "\n",
    "for i in range(len(st2)):\n",
    "    for j in range(len(st1)):\n",
    "        if st2[i] == st1[j]:\n",
    "            ans +=1\n",
    "print(ans)\n",
    "            "
   ]
  },
  {
   "cell_type": "code",
   "execution_count": 52,
   "id": "d28418cd-c20f-4184-92cb-fdd0e201bfb3",
   "metadata": {},
   "outputs": [
    {
     "name": "stdout",
     "output_type": "stream",
     "text": [
      "True\n"
     ]
    }
   ],
   "source": [
    "#Two String match where one contains wildcard character\n",
    "def solve(str1, str2):\n",
    "    n, m = len(str1), len(str2)\n",
    "\n",
    "    if n == 0 and m == 0:\n",
    "        return True\n",
    "    \n",
    "    if str1 and str1[0] == '*' and m == 0:\n",
    "        return False\n",
    "\n",
    "    if str1 and str2 and (str1[0] == '?' or str1[0] == str2[0]):\n",
    "        return solve(str1[1:], str2[1:])\n",
    "    \n",
    "    if str1 and str1[0] == '*':\n",
    "        return solve(str1[1:], str2) or (m > 0 and solve(str1, str2[1:]))\n",
    "    \n",
    "    return False\n",
    "\n",
    "\n",
    "print(solve(\"Prepins*a\", \"Prepinsta\"))  "
   ]
  },
  {
   "cell_type": "code",
   "execution_count": 6,
   "id": "9da0e72b-3a0f-4595-8f50-20f7e75ca1b5",
   "metadata": {},
   "outputs": [
    {
     "name": "stdout",
     "output_type": "stream",
     "text": [
      "Not sorted :['ABC', 'ACB', 'BAC', 'BCA', 'CAB', 'CBA']\n",
      "ABC\n",
      "ACB\n",
      "BAC\n",
      "BCA\n",
      "CAB\n",
      "CBA\n"
     ]
    }
   ],
   "source": [
    "#Lexicographic Permutations in Sorted Order\n",
    "s='ABC'\n",
    "def param(s , choos):\n",
    "    if not s:\n",
    "        para.append(choos)\n",
    "    else:\n",
    "        for i in range(len(s)):\n",
    "            param(s[:i] + s[i+1:] , choos + s[i])\n",
    "\n",
    "\n",
    "para= []\n",
    "param(s , \"\")\n",
    "print(f\"Not sorted :{para}\")\n",
    "para.sort()\n",
    "for i in para:\n",
    "    print(i)"
   ]
  },
  {
   "cell_type": "code",
   "execution_count": null,
   "id": "895a0887-f240-48d7-81f5-49d37fd34e0f",
   "metadata": {},
   "outputs": [],
   "source": []
  },
  {
   "cell_type": "code",
   "execution_count": null,
   "id": "90fffef8-3974-4362-b0c0-4b08e96de71d",
   "metadata": {},
   "outputs": [],
   "source": []
  },
  {
   "cell_type": "code",
   "execution_count": null,
   "id": "cdd9f494-168a-438b-921e-7768a991844f",
   "metadata": {},
   "outputs": [],
   "source": []
  },
  {
   "cell_type": "code",
   "execution_count": null,
   "id": "6f236f1e-9124-4798-b476-6da3a6629a39",
   "metadata": {},
   "outputs": [],
   "source": []
  },
  {
   "cell_type": "code",
   "execution_count": null,
   "id": "88da6bb2-21dd-4bde-a42b-7e7f99cf20fd",
   "metadata": {},
   "outputs": [],
   "source": []
  },
  {
   "cell_type": "code",
   "execution_count": null,
   "id": "1f120c4b-c381-4a11-92c1-106b924adf8b",
   "metadata": {},
   "outputs": [],
   "source": []
  },
  {
   "cell_type": "code",
   "execution_count": null,
   "id": "64d13f50-5a6e-4aef-bf14-1782240a646a",
   "metadata": {},
   "outputs": [],
   "source": []
  },
  {
   "cell_type": "code",
   "execution_count": null,
   "id": "6b48caf1-e220-4766-b1e3-69e50cd9199e",
   "metadata": {},
   "outputs": [],
   "source": []
  },
  {
   "cell_type": "code",
   "execution_count": null,
   "id": "5d5161b1-1145-4f94-9251-9f1cfbf34c7a",
   "metadata": {},
   "outputs": [],
   "source": []
  },
  {
   "cell_type": "code",
   "execution_count": null,
   "id": "16f97fae-30b5-493d-ab35-2424e5c0a36e",
   "metadata": {},
   "outputs": [],
   "source": []
  },
  {
   "cell_type": "code",
   "execution_count": null,
   "id": "503f0395-46cd-435f-a1d0-8eb25089e83d",
   "metadata": {},
   "outputs": [],
   "source": []
  },
  {
   "cell_type": "code",
   "execution_count": null,
   "id": "3e9d9dfd-b45a-4dd7-ab4e-1a815933e86a",
   "metadata": {},
   "outputs": [],
   "source": []
  }
 ],
 "metadata": {
  "kernelspec": {
   "display_name": "Python 3 (ipykernel)",
   "language": "python",
   "name": "python3"
  },
  "language_info": {
   "codemirror_mode": {
    "name": "ipython",
    "version": 3
   },
   "file_extension": ".py",
   "mimetype": "text/x-python",
   "name": "python",
   "nbconvert_exporter": "python",
   "pygments_lexer": "ipython3",
   "version": "3.11.2"
  },
  "widgets": {
   "application/vnd.jupyter.widget-state+json": {
    "state": {},
    "version_major": 2,
    "version_minor": 0
   }
  }
 },
 "nbformat": 4,
 "nbformat_minor": 5
}
