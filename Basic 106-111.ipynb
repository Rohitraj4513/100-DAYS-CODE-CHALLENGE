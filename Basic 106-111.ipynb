{
 "cells": [
  {
   "cell_type": "code",
   "execution_count": 2,
   "id": "e36a1955-e2b7-4f75-949f-f3525acd86fa",
   "metadata": {},
   "outputs": [
    {
     "name": "stdout",
     "output_type": "stream",
     "text": [
      "[0, 0, 0, 0, 1, 1, 1, 2, 2, 2]\n"
     ]
    }
   ],
   "source": [
    "#Sort array which consists of 0,1 and 2 without using sorting algo\n",
    "arr = [0 ,2 ,1 ,0 ,2 ,1 ,0 ,2 ,0 ,1]\n",
    "ans= []\n",
    "for i in range(len(arr)):\n",
    "    for j in range(i , len(arr)):\n",
    "        if arr[i] > arr[j]:\n",
    "            arr[i] , arr[j] = arr[j] , arr[i]\n",
    "print(arr)"
   ]
  },
  {
   "cell_type": "code",
   "execution_count": 5,
   "id": "b481c541-2373-48b5-b447-636d067daf3c",
   "metadata": {},
   "outputs": [
    {
     "name": "stdout",
     "output_type": "stream",
     "text": [
      "[0, 0, 0, 0, 1, 1, 1, 2, 2, 2]\n",
      "3\n"
     ]
    }
   ],
   "source": [
    "#Sort array which consists of 0,1 and 2 without using any sorting algo\n",
    "arr = [0 ,2 ,1 ,0 ,2 ,1 ,0 ,2 ,0 ,1]\n",
    "ans= []\n",
    "c0=0\n",
    "c1=0\n",
    "c2=0\n",
    "for i in arr:\n",
    "    if i == 0:\n",
    "        c0 += 1\n",
    "    elif i == 1:\n",
    "        c1+=1\n",
    "    elif i == 2:\n",
    "        c2 +=1\n",
    "for i in range(c0):\n",
    "    ans.append(0)\n",
    "for i in range(c1):\n",
    "    ans.append(1)\n",
    "for i in range(c2):\n",
    "    ans.append(2)\n",
    "\n",
    "print(ans)\n",
    "\n",
    "    "
   ]
  },
  {
   "cell_type": "code",
   "execution_count": 7,
   "id": "b732143a-1678-463a-ba64-ca2895f096ed",
   "metadata": {},
   "outputs": [
    {
     "name": "stdout",
     "output_type": "stream",
     "text": [
      "Max elemnts in Array : 336\n",
      "min elemnts in Array : -89\n"
     ]
    }
   ],
   "source": [
    "#Find the “Kth” max and min element of an array\n",
    "arr = [ 2 , 4 , 18 , 77 , 22 , -89 , 18 , 88 , 336]\n",
    "low = 10**9\n",
    "mx = -10**9\n",
    "for i in range(len(arr)):\n",
    "    if arr[i] < low:\n",
    "        low  = arr[i]\n",
    "    if arr[i] > mx :\n",
    "        mx = arr[i]\n",
    "print(f\"Max element in Array : {mx}\")\n",
    "print(f\"min element in Array : {low}\")"
   ]
  },
  {
   "cell_type": "code",
   "execution_count": 9,
   "id": "e4731755-73e6-4158-9da5-0db9eac40196",
   "metadata": {},
   "outputs": [
    {
     "name": "stdout",
     "output_type": "stream",
     "text": [
      "[-6, -5, -3, -1, 1, 3, 3, 4, 7]\n"
     ]
    }
   ],
   "source": [
    "#Move all the negative elements to one side of the array\n",
    "arr = [1, 3, -1, 4, -3, -5, -6, 3, 7]\n",
    "ans = []\n",
    "for i in range(len(arr)):\n",
    "    for j in range(len(arr)):\n",
    "        if arr[i] < arr[j]:\n",
    "            arr[i] , arr[j] = arr[j] , arr[i]\n",
    "print(arr)\n"
   ]
  },
  {
   "cell_type": "code",
   "execution_count": 18,
   "id": "7f38b29a-ea2c-436c-be58-9ba050cbad2f",
   "metadata": {},
   "outputs": [
    {
     "name": "stdout",
     "output_type": "stream",
     "text": [
      "Union of two arr: {1, 2, 3, 4, 5, 6, 7, 9, 10, 17}\n",
      "Intersection of two arr: {2}\n"
     ]
    }
   ],
   "source": [
    "#Find the Union and Intersection of the two sorted arrays in Python\n",
    "arr1 = [1 , 2 , 3 , 4 , 5 , 7]\n",
    "arr2 = [2 , 6 , 9 , 10 , 17]\n",
    "arr1= set(arr1)\n",
    "arr2 =set(arr2)\n",
    "\n",
    "union = arr1 | arr2\n",
    "intercent = arr1 & arr2\n",
    "print(f\"Union of two arr: {union}\")\n",
    "print(f\"Intersection of two arr: {intercent}\")"
   ]
  },
  {
   "cell_type": "code",
   "execution_count": 29,
   "id": "8e81dbae-fba0-4bf7-a733-05270ba29416",
   "metadata": {},
   "outputs": [
    {
     "name": "stdout",
     "output_type": "stream",
     "text": [
      "Union of two arr: [1, 2, 3, 4, 5, 7, 10, 17]\n",
      "Intersection of two arr: [2, 3, 7]\n"
     ]
    }
   ],
   "source": [
    "#Find the Union and Intersection of the two sorted arrays in Python\n",
    "arr1 = [1 , 2 , 3 , 4 , 5 , 7]\n",
    "arr2 = [2 , 3 , 7 , 10 , 17]\n",
    "mx = max(len(arr1)  , len(arr2))\n",
    "mi = min(len(arr1)  , len(arr2))\n",
    "\n",
    "union = []\n",
    "intercent = []\n",
    "\n",
    "for i in range(mx):\n",
    "    for j in range(mi):\n",
    "        if arr1[i] == arr2[j]:\n",
    "            intercent.append(arr1[i])\n",
    "        \n",
    "    if arr1[i] not in union:\n",
    "        union.append(arr1[i])\n",
    "\n",
    "for i in range(mi):\n",
    "    count =0\n",
    "    for j in range(mx):\n",
    "        if arr[i] == arr[j]:\n",
    "            count +=1\n",
    "            \n",
    "    if arr2[i] not in union:\n",
    "        union.append(arr2[i])\n",
    "    \n",
    "       \n",
    "print(f\"Union of two arr: {union}\")\n",
    "print(f\"Intersection of two arr: {intercent}\")        \n",
    "            \n",
    "        "
   ]
  },
  {
   "cell_type": "code",
   "execution_count": 30,
   "id": "e614368a-5568-4636-9693-d8ef79885a5e",
   "metadata": {},
   "outputs": [
    {
     "name": "stdout",
     "output_type": "stream",
     "text": [
      "Largest Sum of Contiguous Subarray:9\n"
     ]
    }
   ],
   "source": [
    "#Find Largest sum of contiguous Subarray in Python\n",
    "arr = [1, -2, 3, 4, -1, 2, 1, -5, 4]\n",
    "sum1=-10**9\n",
    "current_sum =0\n",
    "for i in arr:\n",
    "    current_sum += i\n",
    "    sum1 = max(current_sum , sum1)\n",
    "    \n",
    "    if current_sum < 0 :\n",
    "        current_sum = 0\n",
    "\n",
    "print(f\"Largest Sum of Contiguous Subarray:{sum1}\")    "
   ]
  },
  {
   "cell_type": "code",
   "execution_count": null,
   "id": "56dee349-cd56-4aba-ad54-14255e63bd0f",
   "metadata": {},
   "outputs": [],
   "source": []
  },
  {
   "cell_type": "code",
   "execution_count": null,
   "id": "73a73f41-9abd-4bee-b0a6-9663782f1911",
   "metadata": {},
   "outputs": [],
   "source": []
  },
  {
   "cell_type": "code",
   "execution_count": null,
   "id": "f1ac4a81-dc00-4068-b6ed-c59fadc47635",
   "metadata": {},
   "outputs": [],
   "source": []
  },
  {
   "cell_type": "code",
   "execution_count": null,
   "id": "5803cd71-7087-4dfc-ba9c-98efd617d5fa",
   "metadata": {},
   "outputs": [],
   "source": []
  },
  {
   "cell_type": "code",
   "execution_count": null,
   "id": "292d51a7-af01-4dc9-bdfb-361972873034",
   "metadata": {},
   "outputs": [],
   "source": []
  },
  {
   "cell_type": "code",
   "execution_count": null,
   "id": "7af5e99f-141a-444d-95e3-8e57f905bd14",
   "metadata": {},
   "outputs": [],
   "source": []
  },
  {
   "cell_type": "code",
   "execution_count": null,
   "id": "0311b832-9ba4-4d0a-b99b-1b5cd2f67bc3",
   "metadata": {},
   "outputs": [],
   "source": []
  },
  {
   "cell_type": "code",
   "execution_count": null,
   "id": "b344f258-aaa3-4150-ae10-e8f8fbd3fdfb",
   "metadata": {},
   "outputs": [],
   "source": []
  },
  {
   "cell_type": "code",
   "execution_count": null,
   "id": "a6c7b310-0814-4595-9845-5355fd18b2b8",
   "metadata": {},
   "outputs": [],
   "source": []
  },
  {
   "cell_type": "code",
   "execution_count": null,
   "id": "160b81cf-36fa-447a-84fd-22094afc4fa9",
   "metadata": {},
   "outputs": [],
   "source": []
  },
  {
   "cell_type": "code",
   "execution_count": null,
   "id": "1d6713d2-491c-4e5d-99c8-21376cd96da6",
   "metadata": {},
   "outputs": [],
   "source": []
  },
  {
   "cell_type": "code",
   "execution_count": null,
   "id": "662abf89-2ced-473a-825e-5dc4577d0d6d",
   "metadata": {},
   "outputs": [],
   "source": []
  },
  {
   "cell_type": "code",
   "execution_count": null,
   "id": "bfed8aa0-9eb7-47c8-bc36-ebb07ad0d13c",
   "metadata": {},
   "outputs": [],
   "source": []
  },
  {
   "cell_type": "code",
   "execution_count": null,
   "id": "e87c15a6-0ea5-4c06-9da0-0a1d4ddeaef2",
   "metadata": {},
   "outputs": [],
   "source": []
  },
  {
   "cell_type": "code",
   "execution_count": null,
   "id": "6f0dac2a-a0f2-402c-8163-aa863e80ab75",
   "metadata": {},
   "outputs": [],
   "source": []
  }
 ],
 "metadata": {
  "kernelspec": {
   "display_name": "Python 3 (ipykernel)",
   "language": "python",
   "name": "python3"
  },
  "language_info": {
   "codemirror_mode": {
    "name": "ipython",
    "version": 3
   },
   "file_extension": ".py",
   "mimetype": "text/x-python",
   "name": "python",
   "nbconvert_exporter": "python",
   "pygments_lexer": "ipython3",
   "version": "3.11.2"
  },
  "widgets": {
   "application/vnd.jupyter.widget-state+json": {
    "state": {},
    "version_major": 2,
    "version_minor": 0
   }
  }
 },
 "nbformat": 4,
 "nbformat_minor": 5
}
