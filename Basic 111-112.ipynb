{
 "cells": [
  {
   "cell_type": "code",
   "execution_count": 1,
   "id": "64dcbf11-d325-498d-b771-951f6b79772a",
   "metadata": {},
   "outputs": [],
   "source": [
    "#Minimum no. of Jumps to reach the end of an array in Python\n",
    "def minjump(nums):\n",
    "    if len(nums) == 1:\n",
    "        return 0\n",
    "    totaljump = cover = lastjump = 0\n",
    "    lastindex = len(nums)-1\n",
    "    for i in range(lastindex):\n",
    "        cover = max(cover , i + nums[i])\n",
    "\n",
    "        if i == lastjump :\n",
    "            lastjump = cover\n",
    "            totaljump +=1\n",
    "\n",
    "            if cover >= lastindex:\n",
    "                return totaljump\n",
    "    return totaljump"
   ]
  },
  {
   "cell_type": "code",
   "execution_count": 3,
   "id": "7a76d645-bbcd-402c-9337-1faf02aea726",
   "metadata": {},
   "outputs": [
    {
     "name": "stdout",
     "output_type": "stream",
     "text": [
      "Total Jump : 3 \n"
     ]
    }
   ],
   "source": [
    "arr = [1, 3, 5, 8, 9, 2, 6, 7, 6, 8, 9]\n",
    "print(f\"Total Jump : {minjump(arr)} \")"
   ]
  },
  {
   "cell_type": "code",
   "execution_count": null,
   "id": "e396055d-d7dd-4b62-a2c2-ecc84bb30836",
   "metadata": {},
   "outputs": [],
   "source": []
  },
  {
   "cell_type": "code",
   "execution_count": null,
   "id": "3a395a6d-9abf-425b-895a-c4910101d5d1",
   "metadata": {},
   "outputs": [],
   "source": []
  },
  {
   "cell_type": "code",
   "execution_count": null,
   "id": "f19b105f-73e1-4836-87d5-08ae16836e7b",
   "metadata": {},
   "outputs": [],
   "source": []
  },
  {
   "cell_type": "code",
   "execution_count": null,
   "id": "e8a594b5-5925-4547-b0f6-d5c700e021e5",
   "metadata": {},
   "outputs": [],
   "source": []
  },
  {
   "cell_type": "code",
   "execution_count": null,
   "id": "4162bce8-4ef9-447f-b32e-200a7c8373f0",
   "metadata": {},
   "outputs": [],
   "source": []
  },
  {
   "cell_type": "code",
   "execution_count": null,
   "id": "eba3844c-49e7-4f41-90d2-77a1a60c3fe3",
   "metadata": {},
   "outputs": [],
   "source": []
  },
  {
   "cell_type": "code",
   "execution_count": null,
   "id": "3bdfac9d-9e92-4793-af4f-01bfeff7cded",
   "metadata": {},
   "outputs": [],
   "source": []
  },
  {
   "cell_type": "code",
   "execution_count": null,
   "id": "3850d808-ba71-4022-8acf-b32bba7235f3",
   "metadata": {},
   "outputs": [],
   "source": []
  }
 ],
 "metadata": {
  "kernelspec": {
   "display_name": "Python 3 (ipykernel)",
   "language": "python",
   "name": "python3"
  },
  "language_info": {
   "codemirror_mode": {
    "name": "ipython",
    "version": 3
   },
   "file_extension": ".py",
   "mimetype": "text/x-python",
   "name": "python",
   "nbconvert_exporter": "python",
   "pygments_lexer": "ipython3",
   "version": "3.11.2"
  },
  "widgets": {
   "application/vnd.jupyter.widget-state+json": {
    "state": {},
    "version_major": 2,
    "version_minor": 0
   }
  }
 },
 "nbformat": 4,
 "nbformat_minor": 5
}
