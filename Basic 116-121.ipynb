{
 "cells": [
  {
   "cell_type": "code",
   "execution_count": 29,
   "id": "9cc6ddb1-d410-43ef-bea3-0f7de7cd2864",
   "metadata": {},
   "outputs": [
    {
     "name": "stdout",
     "output_type": "stream",
     "text": [
      "7\n"
     ]
    }
   ],
   "source": [
    "#Kadane’s Algorithm in Python\n",
    "arr = [-2, -3, 4, -1, -2, 1, 5, -3]\n",
    "\n",
    "mxsum=0\n",
    "currentsum  = 0\n",
    "for i in range(len(arr)):\n",
    "    currentsum += arr[i]\n",
    "    \n",
    "    if currentsum < 0:\n",
    "        currentsum = 0\n",
    "    else:\n",
    "        mxsum = max(mxsum , currentsum)\n",
    "        \n",
    "print(mxsum)\n",
    "        "
   ]
  },
  {
   "cell_type": "code",
   "execution_count": 27,
   "id": "f6149ae2-4ee9-41c4-929e-0970caa15a0b",
   "metadata": {},
   "outputs": [
    {
     "name": "stdout",
     "output_type": "stream",
     "text": [
      " a ab abc  b bc  c "
     ]
    }
   ],
   "source": [
    "arr = \"abc\" # arr = [1 , 2 , 3 , 4 , 5]\n",
    "n = len(arr)\n",
    "\n",
    "for i in range(n):\n",
    "    for j in range(i , n+1):\n",
    "        for k in range(i , j):\n",
    "            print(arr[k] , end=\"\")\n",
    "        print(' ' , end=\"\")\n"
   ]
  },
  {
   "cell_type": "code",
   "execution_count": 28,
   "id": "44c3ff89-481a-4b40-ab45-bd94a60d2e6c",
   "metadata": {},
   "outputs": [
    {
     "name": "stdout",
     "output_type": "stream",
     "text": [
      "12\n"
     ]
    }
   ],
   "source": [
    "arr = [-1 , -2 , 3 , 4 , 5]\n",
    "mxsum = 0\n",
    "for i in range(len(arr)):\n",
    "    sm = 0\n",
    "    for j in range(i , len(arr)):\n",
    "        sm += arr[j]\n",
    "        mxsum = max(sm , mxsum)\n",
    "print(mxsum)\n",
    "    "
   ]
  },
  {
   "cell_type": "code",
   "execution_count": 43,
   "id": "9f4c64f4-5b6a-48e5-87ee-22f89969d64a",
   "metadata": {},
   "outputs": [
    {
     "name": "stdout",
     "output_type": "stream",
     "text": [
      "*****\n",
      "*   *\n",
      "*   *\n",
      "*   *\n",
      "*****\n"
     ]
    }
   ],
   "source": [
    "#PRINTING PATTERN:\n",
    "n= 5\n",
    "for i in range(n):\n",
    "    for j in range(n):\n",
    "        if i == 0 or i == n-1:\n",
    "            print(\"*\" , end='')\n",
    "        elif j == 0 or j == n-1 and i != 0 and i != n-1:\n",
    "            print(\"*\", end=\"\")\n",
    "        else:\n",
    "            print(end=\" \")\n",
    "        \n",
    "    print()\n",
    "        \n",
    "        "
   ]
  },
  {
   "cell_type": "code",
   "execution_count": 44,
   "id": "4c1d3968-431c-4300-bf2b-c2c2ad258590",
   "metadata": {},
   "outputs": [
    {
     "name": "stdout",
     "output_type": "stream",
     "text": [
      "*****\n",
      "*****\n",
      "*****\n",
      "*****\n",
      "*****\n"
     ]
    }
   ],
   "source": [
    "#Square Star Pattern\n",
    "n= 5\n",
    "for i in range(n):\n",
    "    for j in range(n):\n",
    "        print(\"*\" , end=\"\")\n",
    "    print()"
   ]
  },
  {
   "cell_type": "code",
   "execution_count": 63,
   "id": "4eeb5a77-2baa-4f73-84ee-5c7ae837a952",
   "metadata": {},
   "outputs": [
    {
     "name": "stdout",
     "output_type": "stream",
     "text": [
      "*****\n",
      " *****\n",
      "  *****\n",
      "   *****\n",
      "    *****\n"
     ]
    }
   ],
   "source": [
    "#Printing Rhombus Star Pattern\n",
    "n = 5 \n",
    "for i in range(n):\n",
    "    for j in range(i):\n",
    "        print(end=\" \")\n",
    "    for k in range(n):\n",
    "        print(\"*\" , end=\"\")   \n",
    "    print()\n",
    "\n",
    "        "
   ]
  },
  {
   "cell_type": "code",
   "execution_count": 69,
   "id": "4a6eb511-b991-4c34-8e27-a542d853a4dd",
   "metadata": {},
   "outputs": [
    {
     "name": "stdout",
     "output_type": "stream",
     "text": [
      "******\n",
      "******\n",
      "******\n",
      "******\n"
     ]
    }
   ],
   "source": [
    "#Printing Rectangle Star Pattern\n",
    "r=6\n",
    "c=4\n",
    "for i in range(c):\n",
    "    for j in range(n):\n",
    "        print(\"*\" , end=\"\")\n",
    "       \n",
    "    print()"
   ]
  },
  {
   "cell_type": "code",
   "execution_count": null,
   "id": "42e4dec3-57c3-4334-bf16-48a1ce12d2a6",
   "metadata": {},
   "outputs": [],
   "source": []
  }
 ],
 "metadata": {
  "kernelspec": {
   "display_name": "Python 3 (ipykernel)",
   "language": "python",
   "name": "python3"
  },
  "language_info": {
   "codemirror_mode": {
    "name": "ipython",
    "version": 3
   },
   "file_extension": ".py",
   "mimetype": "text/x-python",
   "name": "python",
   "nbconvert_exporter": "python",
   "pygments_lexer": "ipython3",
   "version": "3.11.2"
  },
  "widgets": {
   "application/vnd.jupyter.widget-state+json": {
    "state": {},
    "version_major": 2,
    "version_minor": 0
   }
  }
 },
 "nbformat": 4,
 "nbformat_minor": 5
}
