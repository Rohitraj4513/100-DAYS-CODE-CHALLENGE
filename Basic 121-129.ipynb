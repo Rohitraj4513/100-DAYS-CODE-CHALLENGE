{
 "cells": [
  {
   "cell_type": "code",
   "execution_count": 24,
   "id": "7eb99ee1-ef39-43c5-a799-bbc9611d3073",
   "metadata": {},
   "outputs": [
    {
     "name": "stdout",
     "output_type": "stream",
     "text": [
      "[[1, 6], [8, 10], [15, 20]]\n"
     ]
    }
   ],
   "source": [
    "#Merge Intervals\n",
    "arr = [ [1, 3], [2, 6], [8, 10], [15, 18], [18, 20] ]\n",
    "arr.sort()\n",
    "ans=[]\n",
    "low=0\n",
    "for i in range(len(arr)):\n",
    "    if not ans:\n",
    "        ans.append(arr[i])  \n",
    "    elif arr[i][0] <= ans[low][1]:\n",
    "        ans[low][1] = max(arr[i][1] , ans[low][1]) \n",
    "    else:\n",
    "        ans.append(arr[i])\n",
    "        low +=1\n",
    "print(ans)   "
   ]
  },
  {
   "cell_type": "code",
   "execution_count": 51,
   "id": "1edc8734-a321-4375-b1b6-aca5698593d6",
   "metadata": {},
   "outputs": [
    {
     "name": "stdout",
     "output_type": "stream",
     "text": [
      "(6, 3) (6, 5) (6, 2) (3, 2) (5, 2) "
     ]
    }
   ],
   "source": [
    "# Counting Inversion in Python\n",
    "A = [6, 3, 5, 2, 7]\n",
    "ans= []\n",
    "for i in range(len(arr)):\n",
    "    for j in range(i , len(arr)):\n",
    "        if A[i] > A[j] and i != j :\n",
    "            ans.append((A[i] , A[j]))\n",
    "for i in range(len(ans)):\n",
    "    print(ans[i],end=' ')\n",
    "            "
   ]
  },
  {
   "cell_type": "code",
   "execution_count": 13,
   "id": "9fb95e47-d3df-484c-9841-bc5b42d5eb28",
   "metadata": {},
   "outputs": [
    {
     "name": "stdout",
     "output_type": "stream",
     "text": [
      "buy stock on day 1\n",
      "sell stock on day 4\n"
     ]
    }
   ],
   "source": [
    "#Best time to buy and Sell stock in Java \n",
    "price = [7,1,5,3,6,4]\n",
    "buy =-1\n",
    "sell=-1\n",
    "buy_amount=10**9\n",
    "sell_amount=0\n",
    "for i in range( 1 , len(price)):\n",
    "    if price[i-1] < price[i] and price[i] > sell_amount:\n",
    "        sell_amount = price[i]\n",
    "        sell = i\n",
    "    if price[i-1] < price[i] and price[i-1] < buy_amount:\n",
    "        buy_amount = price[i-1]\n",
    "        buy = i-1\n",
    "\n",
    "print(f\"buy stock on day {buy}\")\n",
    "print(f\"sell stock on day {sell}\")\n"
   ]
  },
  {
   "cell_type": "code",
   "execution_count": 19,
   "id": "26099945-218e-4c60-8d40-a14ae22db949",
   "metadata": {},
   "outputs": [
    {
     "name": "stdout",
     "output_type": "stream",
     "text": [
      "[(2, 3), (4, 1), (3, 2)]\n"
     ]
    }
   ],
   "source": [
    "#Pairs with given sum in Python\n",
    "arr = [5, 2, 3, 4, 1, 6, 3 , 2]\n",
    "pair = []\n",
    "sub_sum = 5\n",
    "\n",
    "for i in range(len(arr)-1):\n",
    "    if arr[i] + arr[i+1] == sub_sum:\n",
    "        pair.append((arr[i] , arr[i+1]))\n",
    "print(pair)"
   ]
  },
  {
   "cell_type": "code",
   "execution_count": 20,
   "id": "0b2263e0-6b9e-4ca6-a7cf-453bd1885106",
   "metadata": {},
   "outputs": [
    {
     "name": "stdout",
     "output_type": "stream",
     "text": [
      "[(2, 3), (4, 1), (3, 2)]\n"
     ]
    }
   ],
   "source": [
    "#Pairs with given sum in Python\n",
    "def pair(arr , target):\n",
    "    ans = []\n",
    "    for i in range(len(arr)-1):\n",
    "        if arr[i] + arr[i+1] == target:\n",
    "            ans.append((arr[i] , arr[i+1]))\n",
    "    return ans\n",
    "arr = [5, 2, 3, 4, 1, 6, 3 , 2]\n",
    "sub_sum = 5\n",
    "print(pair(arr , sub_sum))"
   ]
  },
  {
   "cell_type": "code",
   "execution_count": 49,
   "id": "5aa9106d-1182-49d4-83fb-432fe4ce8569",
   "metadata": {},
   "outputs": [
    {
     "name": "stdout",
     "output_type": "stream",
     "text": [
      "[(1, 5), (4, 2)]\n"
     ]
    }
   ],
   "source": [
    "#Find all possible pairs with given sum \n",
    "def pair(arr , target):\n",
    "    ans = []\n",
    "    for i in range(len(arr)):\n",
    "        for j in range(i+1 , len(arr)):\n",
    "            if arr[i] + arr[j] == target:\n",
    "                ans.append((arr[i] , arr[j]))\n",
    "    return ans\n",
    "arr = [1, 4, 2, 3, 5]\n",
    "target = 6\n",
    "print(pair(arr , target))"
   ]
  },
  {
   "cell_type": "code",
   "execution_count": 34,
   "id": "1e80d2af-98df-4e46-9552-5ebf149b9bc5",
   "metadata": {},
   "outputs": [
    {
     "name": "stdout",
     "output_type": "stream",
     "text": [
      "[2, -3, 1]\n"
     ]
    }
   ],
   "source": [
    "#Subarray with sum equal to 0 then print Subarray\n",
    "arr = [ 4, 2, -3, 1, 6 ]\n",
    "ans=[]\n",
    "for i in range(len(arr)):\n",
    "    sum_s=0\n",
    "    for j in range(i , len(arr)):\n",
    "        for k in range(i , j):\n",
    "            sum_s += arr[k]\n",
    "            if sum_s == 0:\n",
    "                for h in range(i , j):\n",
    "                    ans.append(arr[h])\n",
    "print(ans)\n",
    "                "
   ]
  },
  {
   "cell_type": "code",
   "execution_count": 44,
   "id": "f282478a-97b6-40ac-8efc-b0cd074a9d52",
   "metadata": {},
   "outputs": [
    {
     "name": "stdout",
     "output_type": "stream",
     "text": [
      "True\n"
     ]
    }
   ],
   "source": [
    "#Subarray with sum equal to 0 return True\n",
    "arr = [ 4, 2, -3, 1, 6 ]\n",
    "ans=[]\n",
    "for i in range(len(arr)):\n",
    "    sum_s=0\n",
    "    for j in range(i , len(arr)):\n",
    "        for k in range(i , j):\n",
    "            sum_s += arr[k]\n",
    "            if sum_s == 0:\n",
    "                print(\"True\")\n",
    "                break\n",
    "    "
   ]
  },
  {
   "cell_type": "code",
   "execution_count": 50,
   "id": "f4d8a933-a84e-40be-ad29-674eccb93e84",
   "metadata": {},
   "outputs": [
    {
     "name": "stdout",
     "output_type": "stream",
     "text": [
      "True\n"
     ]
    }
   ],
   "source": [
    "#Subarray with sum equal to 0 return True\n",
    "arr = [ 4, 2, -3, 1, 6 ]\n",
    "mx_sum=0\n",
    "current_sum=0\n",
    "for i in range(len(arr)):\n",
    "    current_sum = arr[i]\n",
    "    for j in range(i +1  , len(arr)):\n",
    "        current_sum += arr[j]\n",
    "        if current_sum == 0:\n",
    "            print(\"True\")\n",
    "            break"
   ]
  },
  {
   "cell_type": "code",
   "execution_count": 48,
   "id": "9cf23d83-70bd-4b91-ab8e-9191fa44ec37",
   "metadata": {},
   "outputs": [
    {
     "name": "stdout",
     "output_type": "stream",
     "text": [
      "7\n"
     ]
    }
   ],
   "source": [
    "#Kadane’s Algorithm in Python\n",
    "arr = [ -4, 2, -3, 1, 6 ]\n",
    "mx_sum=0\n",
    "current_sum=0\n",
    "for i in range(len(arr)):\n",
    "    current_sum += arr[i]\n",
    "\n",
    "    if current_sum < 0:\n",
    "        current_sum = 0\n",
    "    else:\n",
    "        mx_sum = max(current_sum , mx_sum)\n",
    "print(mx_sum)"
   ]
  },
  {
   "cell_type": "code",
   "execution_count": null,
   "id": "6dcbb260-d602-4070-84d6-5f640a3416b7",
   "metadata": {},
   "outputs": [],
   "source": []
  }
 ],
 "metadata": {
  "kernelspec": {
   "display_name": "Python 3 (ipykernel)",
   "language": "python",
   "name": "python3"
  },
  "language_info": {
   "codemirror_mode": {
    "name": "ipython",
    "version": 3
   },
   "file_extension": ".py",
   "mimetype": "text/x-python",
   "name": "python",
   "nbconvert_exporter": "python",
   "pygments_lexer": "ipython3",
   "version": "3.11.2"
  },
  "widgets": {
   "application/vnd.jupyter.widget-state+json": {
    "state": {},
    "version_major": 2,
    "version_minor": 0
   }
  }
 },
 "nbformat": 4,
 "nbformat_minor": 5
}
