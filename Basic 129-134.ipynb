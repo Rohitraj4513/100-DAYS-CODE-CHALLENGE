{
 "cells": [
  {
   "cell_type": "code",
   "execution_count": 2,
   "id": "33afbfe7-6bec-4c41-8340-b5eab99916e9",
   "metadata": {},
   "outputs": [
    {
     "name": "stdout",
     "output_type": "stream",
     "text": [
      "120\n"
     ]
    }
   ],
   "source": [
    "#Factorial of a Large Number\n",
    "num=5\n",
    "ans=1\n",
    "for i in range(1 , num+1):\n",
    "    ans *= i\n",
    "\n",
    "print(ans)\n",
    "    \n",
    "    "
   ]
  },
  {
   "cell_type": "code",
   "execution_count": 4,
   "id": "0a592b39-ba8e-4cb0-83fa-1209a968c6b2",
   "metadata": {},
   "outputs": [
    {
     "name": "stdout",
     "output_type": "stream",
     "text": [
      "{9, 5}\n"
     ]
    }
   ],
   "source": [
    "#Find common elements using set\n",
    "arr1= [2 , 3 , 5 , 7 , 2 , 9]\n",
    "arr2= [1 , 4 , 5 , 6 , 0 , 9]\n",
    "arr3= [2 , 3 , 5 , 7 , 1 , 9]\n",
    "arr1=set(arr1)\n",
    "arr2=set(arr2)\n",
    "arr3 =set(arr3)\n",
    "\n",
    "ans = arr1 & arr2 & arr3\n",
    "print(ans)\n"
   ]
  },
  {
   "cell_type": "code",
   "execution_count": 9,
   "id": "b30a53c8-4f13-4d37-b375-17633f5744e7",
   "metadata": {},
   "outputs": [
    {
     "name": "stdout",
     "output_type": "stream",
     "text": [
      "[5, 9]\n"
     ]
    }
   ],
   "source": [
    "#Find common elements In 3 sorted arrays in Python\n",
    "arr1= [1 , 3 , 5 , 6 , 8 , 9]\n",
    "arr2= [2 , 4 , 5 , 7 , 9 , 11]\n",
    "arr3= [3 , 4 , 5 , 6 , 9 , 12]\n",
    "ans = []\n",
    "for i in range(len(arr1)):\n",
    "    for j in range(len(arr2)):\n",
    "        if arr1[i] == arr2[j] and arr1[i] == arr3[j]:\n",
    "            ans.append(arr1[i])\n",
    "\n",
    "print(ans)"
   ]
  },
  {
   "cell_type": "code",
   "execution_count": 34,
   "id": "5f63119f-9f06-4b97-9180-d5c260227c2e",
   "metadata": {},
   "outputs": [
    {
     "name": "stdout",
     "output_type": "stream",
     "text": [
      "[-2, -3, -1, -4, -9, -11]\n",
      "[7, 5, 1]\n",
      "[-2, 7, -3, 5, -1, 1, -4, -9, -11]\n"
     ]
    }
   ],
   "source": [
    "#Rearrange the array in Python \n",
    "arr = [ 7, 5, -2, 1, -3 , -1 , -4 , -9 , -11 ]\n",
    "neg=[]\n",
    "pst=[]\n",
    "ans = []\n",
    "p=0\n",
    "n=0\n",
    "\n",
    "for i in range(len(arr)):\n",
    "    if arr[i] < 0:\n",
    "        neg.append(arr[i])\n",
    "    else:\n",
    "        pst.append(arr[i])\n",
    "        \n",
    "for i in range(len(arr)):\n",
    "    if i % 2 == 0 and n < len(neg) :\n",
    "        arr[i] = neg[n]\n",
    "        n +=1\n",
    "    else:\n",
    "        if p < len(pst):\n",
    "            arr[i] = pst[p]\n",
    "            p +=1\n",
    "        else:\n",
    "            arr[i] = neg[n]\n",
    "            n +=1\n",
    "print(arr)"
   ]
  },
  {
   "cell_type": "code",
   "execution_count": 44,
   "id": "bbbd5cf3-6b19-46c4-b466-53258fc5a829",
   "metadata": {},
   "outputs": [
    {
     "name": "stdout",
     "output_type": "stream",
     "text": [
      "4\n"
     ]
    }
   ],
   "source": [
    "#Given an array of size n and a number k, fin all elements that appear more than ” n/k ” times.\n",
    "arr = [ 4, 1 , 3 , 1 , 5 , 1 , ]\n",
    "k=7\n",
    "n= len(arr)\n",
    "res = n // k\n",
    "for i in range(n):\n",
    "    ans = 0\n",
    "    for j in range(i+1 , n):\n",
    "        if arr[i] == arr[j]:\n",
    "            ans +=1\n",
    "    if ans == res:\n",
    "        print(arr[i])\n",
    "        break            \n"
   ]
  },
  {
   "cell_type": "code",
   "execution_count": 76,
   "id": "43ec4f47-be40-46a9-a018-5f50664edda2",
   "metadata": {},
   "outputs": [
    {
     "name": "stdout",
     "output_type": "stream",
     "text": [
      "110\n"
     ]
    }
   ],
   "source": [
    "#Maximum profit by buying and selling a share at most twice\n",
    "arr = [2, 40, 15, 10, 8, 25, 80]\n",
    "by1=10**9\n",
    "by2=10**9\n",
    "sl=0\n",
    "sl2=0\n",
    "for i in range(len(arr)):\n",
    "    for j in range( len(arr)):\n",
    "        if arr[i] < arr[j] and i != j:\n",
    "            if by1 > arr[i]:\n",
    "                by1 = arr[i]\n",
    "        if arr[i] > by1 and arr[i] < arr[j]:\n",
    "            if by2 > arr[i]:\n",
    "                by2= arr[i]\n",
    "        if arr[i] > arr[j]:\n",
    "            sl = arr[i]\n",
    "        if sl > arr[j]:\n",
    "            if arr[j] > sl2:\n",
    "                sl2 = arr[j]\n",
    "total = (sl - by1) + (sl2 - by2)\n",
    "print(total)\n",
    "\n",
    "        "
   ]
  },
  {
   "cell_type": "code",
   "execution_count": null,
   "id": "2d17e63e-664c-4f65-9f30-277b19b04402",
   "metadata": {},
   "outputs": [],
   "source": []
  },
  {
   "cell_type": "code",
   "execution_count": null,
   "id": "642ec427-c526-4fc2-95b4-e216da8aaf4c",
   "metadata": {},
   "outputs": [],
   "source": []
  }
 ],
 "metadata": {
  "kernelspec": {
   "display_name": "Python 3 (ipykernel)",
   "language": "python",
   "name": "python3"
  },
  "language_info": {
   "codemirror_mode": {
    "name": "ipython",
    "version": 3
   },
   "file_extension": ".py",
   "mimetype": "text/x-python",
   "name": "python",
   "nbconvert_exporter": "python",
   "pygments_lexer": "ipython3",
   "version": "3.11.2"
  },
  "widgets": {
   "application/vnd.jupyter.widget-state+json": {
    "state": {},
    "version_major": 2,
    "version_minor": 0
   }
  }
 },
 "nbformat": 4,
 "nbformat_minor": 5
}
