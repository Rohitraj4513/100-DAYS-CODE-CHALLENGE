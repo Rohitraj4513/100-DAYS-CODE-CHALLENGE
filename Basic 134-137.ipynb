{
 "cells": [
  {
   "cell_type": "code",
   "execution_count": 9,
   "id": "78ee7e8d-f39a-484d-b7c2-fe6524dc9a95",
   "metadata": {},
   "outputs": [
    {
     "name": "stdout",
     "output_type": "stream",
     "text": [
      "['abc', 'acb', 'bac', 'bca', 'cab', 'cba']\n"
     ]
    }
   ],
   "source": [
    "#Next Permutatio\n",
    "st= \"abc\"\n",
    "n=len(st)\n",
    "st2=[]\n",
    "for i in range(n):\n",
    "    for j in range(n):\n",
    "        if i == j :\n",
    "            continue\n",
    "        for k in range(n):\n",
    "            if k == i or k == j :\n",
    "                continue\n",
    "            st2.append(st[i] + st[j] + st[k])\n",
    "print(st2)"
   ]
  },
  {
   "cell_type": "code",
   "execution_count": 14,
   "id": "a14e6d1a-8517-4e77-a067-dead351f611b",
   "metadata": {},
   "outputs": [
    {
     "name": "stdout",
     "output_type": "stream",
     "text": [
      "5\n"
     ]
    }
   ],
   "source": [
    "#Longest Consecutive Subsequence\n",
    "arr = [7, 8, 1, 5, 4, 3 , 2]\n",
    "lngt=1\n",
    "for i in range(len(arr)):\n",
    "    count = 1\n",
    "    num = arr[i]\n",
    "    while num+1 in arr:\n",
    "        count +=1\n",
    "        num +=1\n",
    "    if count > lngt :\n",
    "        lngt = count\n",
    "print(lngt)\n"
   ]
  },
  {
   "cell_type": "code",
   "execution_count": 15,
   "id": "07e8d642-bda8-4c83-ad2e-358db7ff5a99",
   "metadata": {},
   "outputs": [
    {
     "name": "stdout",
     "output_type": "stream",
     "text": [
      "5\n"
     ]
    }
   ],
   "source": [
    "##Longest Consecutive Subsequence\n",
    "arr = [7, 8, 1, 5, 4, 3 , 2]\n",
    "lngt=0\n",
    "subaval=1\n",
    "count=0\n",
    "arr.sort()\n",
    "\n",
    "for i in range(len(arr)):\n",
    "    \n",
    "    if arr[i] - 1 == subaval:\n",
    "        count +=1\n",
    "        subaval = arr[i]\n",
    "    if arr[i] != count:\n",
    "        count = 1\n",
    "        subaval = arr[i]\n",
    "    lngt = max(lngt , count)\n",
    "print(lngt)"
   ]
  },
  {
   "cell_type": "code",
   "execution_count": 21,
   "id": "17e9c51a-71f4-4356-9d33-fb2224bb733c",
   "metadata": {},
   "outputs": [
    {
     "name": "stdout",
     "output_type": "stream",
     "text": [
      "9\n"
     ]
    }
   ],
   "source": [
    "#Trapping Rain Water in Python\n",
    "arr = [2,0,3,0,2,0,4]\n",
    "total = 0\n",
    "for i in range(len(arr)):\n",
    "    mxlft = arr[i]\n",
    "    for j in range(i , -1 , -1):\n",
    "        mxlft = max(mxlft , arr[j])\n",
    "\n",
    "    mxrgt = arr[i]\n",
    "    for j in range(i , len(arr)):\n",
    "        mxrgt = max(mxlft , arr[j])\n",
    "\n",
    "    value = min(mxlft , mxrgt) - arr[i]\n",
    "    total += value \n",
    "\n",
    "print(total)\n",
    "    "
   ]
  },
  {
   "cell_type": "code",
   "execution_count": 23,
   "id": "e072c040-32fb-4f7a-b40e-41805d19cbb7",
   "metadata": {},
   "outputs": [
    {
     "name": "stdout",
     "output_type": "stream",
     "text": [
      "6\n"
     ]
    }
   ],
   "source": [
    "#Trapping Rain Water in Python\n",
    "arr = [0, 1, 0, 2, 1, 0, 1, 3, 2, 1, 2, 1]\n",
    "total = 0\n",
    "n = len(arr)\n",
    "for i in range(n):\n",
    "    mxlft = arr[i]\n",
    "    for j in range(i , -1 , -1):\n",
    "        mxlft = max(mxlft , arr[j])\n",
    "\n",
    "    mxrgt = arr[i]\n",
    "    for j in range(i , n):\n",
    "        mxrgt = max(mxrgt , arr[j])\n",
    "\n",
    "    value = min(mxlft , mxrgt) - arr[i]\n",
    "    total += value\n",
    "print(total)"
   ]
  },
  {
   "cell_type": "code",
   "execution_count": null,
   "id": "3a8d9a3f-4663-42e6-a032-eeb46b6425c3",
   "metadata": {},
   "outputs": [],
   "source": []
  }
 ],
 "metadata": {
  "kernelspec": {
   "display_name": "Python 3 (ipykernel)",
   "language": "python",
   "name": "python3"
  },
  "language_info": {
   "codemirror_mode": {
    "name": "ipython",
    "version": 3
   },
   "file_extension": ".py",
   "mimetype": "text/x-python",
   "name": "python",
   "nbconvert_exporter": "python",
   "pygments_lexer": "ipython3",
   "version": "3.11.2"
  },
  "widgets": {
   "application/vnd.jupyter.widget-state+json": {
    "state": {},
    "version_major": 2,
    "version_minor": 0
   }
  }
 },
 "nbformat": 4,
 "nbformat_minor": 5
}
