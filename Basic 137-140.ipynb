{
 "cells": [
  {
   "cell_type": "code",
   "execution_count": 3,
   "id": "567634bd-e8c4-445f-9aa1-a0c108a2cac3",
   "metadata": {},
   "outputs": [
    {
     "name": "stdout",
     "output_type": "stream",
     "text": [
      "7\n"
     ]
    }
   ],
   "source": [
    "#Chocolate Distribution Problem\n",
    "arr = [12, 4, 7, 9, 2, 23, 25] \n",
    "m = 4\n",
    "ans = 0\n",
    "count=0\n",
    "arr.sort()\n",
    "i=0\n",
    "while m-1 != len(arr)-1:\n",
    "    if arr[m] > arr[i]:\n",
    "        ans = arr[m-1] - arr[i]\n",
    "        if count == 0 or ans == count:\n",
    "            count = ans\n",
    "        m +=1\n",
    "        i+=1\n",
    "print(count)   "
   ]
  },
  {
   "cell_type": "code",
   "execution_count": 4,
   "id": "a2f30867-47d3-4ab5-a172-87c3882f2a5a",
   "metadata": {},
   "outputs": [
    {
     "name": "stdout",
     "output_type": "stream",
     "text": [
      "5\n"
     ]
    }
   ],
   "source": [
    "#Number of digits in an integer in Python\n",
    "n=12345\n",
    "digit = 0\n",
    "while n != 0:\n",
    "    n //= 10\n",
    "    digit +=1\n",
    "print(digit)"
   ]
  },
  {
   "cell_type": "code",
   "execution_count": 14,
   "id": "1a731c5a-ee84-4e78-b56b-95d07cb77728",
   "metadata": {},
   "outputs": [
    {
     "name": "stdout",
     "output_type": "stream",
     "text": [
      "one Two Three\n"
     ]
    }
   ],
   "source": [
    "#Converting digit/number to words in Python\n",
    "n=123\n",
    "s=str(n)\n",
    "lst = []\n",
    "dict = {1 :'one' , 2 :'Two' , 3 : 'Three' , 4 : 'four' , 5 : 'five' , 6 : 'six' , 7 : 'seven' , 8 : 'eight' , 9 : 'nine' , 0 : 'zero' }\n",
    "for i in s:\n",
    "    if int(i) in dict:\n",
    "        lst.append(dict[int(i)])\n",
    "lst = \" \".join(lst)\n",
    "print(lst)       "
   ]
  },
  {
   "cell_type": "code",
   "execution_count": 10,
   "id": "b346779a-d204-42f3-b66e-2826e905bd0e",
   "metadata": {},
   "outputs": [
    {
     "data": {
      "text/plain": [
       "'zero'"
      ]
     },
     "execution_count": 10,
     "metadata": {},
     "output_type": "execute_result"
    }
   ],
   "source": []
  },
  {
   "cell_type": "code",
   "execution_count": null,
   "id": "794db0e7-0e65-4511-ae38-d0548de294a5",
   "metadata": {},
   "outputs": [],
   "source": []
  },
  {
   "cell_type": "code",
   "execution_count": null,
   "id": "729e196d-e1a0-4c44-bbd3-221fe1b1c1ac",
   "metadata": {},
   "outputs": [],
   "source": []
  },
  {
   "cell_type": "code",
   "execution_count": null,
   "id": "877ac7d6-25fc-45dd-a704-95901ffdb970",
   "metadata": {},
   "outputs": [],
   "source": []
  },
  {
   "cell_type": "code",
   "execution_count": null,
   "id": "19ffd687-8bf2-4e25-9819-3bb5de9affeb",
   "metadata": {},
   "outputs": [],
   "source": []
  },
  {
   "cell_type": "code",
   "execution_count": null,
   "id": "b089ff4d-6b00-4899-b58d-a627940dc872",
   "metadata": {},
   "outputs": [],
   "source": []
  },
  {
   "cell_type": "code",
   "execution_count": null,
   "id": "947857fc-683a-4643-88ce-087790f385c3",
   "metadata": {},
   "outputs": [],
   "source": []
  },
  {
   "cell_type": "code",
   "execution_count": null,
   "id": "295ac265-e7b1-4fa0-b1af-0ff0ef0d2763",
   "metadata": {},
   "outputs": [],
   "source": []
  },
  {
   "cell_type": "code",
   "execution_count": null,
   "id": "a3d6ce6b-1db8-4efe-a218-83647da4726a",
   "metadata": {},
   "outputs": [],
   "source": []
  }
 ],
 "metadata": {
  "kernelspec": {
   "display_name": "Python 3 (ipykernel)",
   "language": "python",
   "name": "python3"
  },
  "language_info": {
   "codemirror_mode": {
    "name": "ipython",
    "version": 3
   },
   "file_extension": ".py",
   "mimetype": "text/x-python",
   "name": "python",
   "nbconvert_exporter": "python",
   "pygments_lexer": "ipython3",
   "version": "3.11.2"
  },
  "widgets": {
   "application/vnd.jupyter.widget-state+json": {
    "state": {},
    "version_major": 2,
    "version_minor": 0
   }
  }
 },
 "nbformat": 4,
 "nbformat_minor": 5
}
