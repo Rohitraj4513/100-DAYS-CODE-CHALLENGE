{
 "cells": [
  {
   "cell_type": "code",
   "execution_count": 10,
   "id": "2b1478ae-755b-4cb4-9091-1b21db762dbe",
   "metadata": {},
   "outputs": [
    {
     "name": "stdout",
     "output_type": "stream",
     "text": [
      "false\n"
     ]
    }
   ],
   "source": [
    "#find the Armstrong Number\n",
    "num = 372\n",
    "n=len(str(num))\n",
    "cmp=num\n",
    "su=0\n",
    "while num != 0:\n",
    "    rem= num % 10\n",
    "    num = num // 10\n",
    "    su += (rem**n)\n",
    "    \n",
    "if su == cmp:\n",
    "    print('True')\n",
    "else:\n",
    "    print('false')\n"
   ]
  },
  {
   "cell_type": "code",
   "execution_count": 13,
   "id": "feee38ef-b1b4-48ca-8808-f207f1b5ba56",
   "metadata": {},
   "outputs": [
    {
     "name": "stdout",
     "output_type": "stream",
     "text": [
      "False\n"
     ]
    }
   ],
   "source": [
    "#Find the Armstrong Number\n",
    "def Arm(num , su , n):\n",
    "    if num == 0:\n",
    "        return su\n",
    "    rem= num % 10\n",
    "    su += rem**n\n",
    "    return Arm(num // 10 , su , n)\n",
    "num=372\n",
    "n=len(str(num))\n",
    "ans=Arm(num , 0 , n)\n",
    "if ans == num :\n",
    "    print('True')\n",
    "else:\n",
    "    print('False')"
   ]
  },
  {
   "cell_type": "code",
   "execution_count": 22,
   "id": "ebbb0774-4b3b-453d-8d39-eb23256860b2",
   "metadata": {},
   "outputs": [
    {
     "name": "stdout",
     "output_type": "stream",
     "text": [
      "153,370,371,407,1634,8208,9474,"
     ]
    }
   ],
   "source": [
    "#Find the Armstrong Number in a given Range\n",
    "n1=150\n",
    "n2=10000\n",
    "\n",
    "for k in range(n1 , n2+1):\n",
    "    su=0\n",
    "    n=len(str(k))\n",
    "    i=k\n",
    "    while i != 0:\n",
    "        rem= i % 10\n",
    "        su += (rem ** n)\n",
    "        i = i // 10\n",
    "    if su == k:\n",
    "        print(k , end=',')\n",
    "    "
   ]
  },
  {
   "cell_type": "code",
   "execution_count": 24,
   "id": "add480ba-ae84-43a1-8622-3b450a56a364",
   "metadata": {},
   "outputs": [
    {
     "name": "stdin",
     "output_type": "stream",
     "text": [
      "enter number 10\n"
     ]
    },
    {
     "name": "stdout",
     "output_type": "stream",
     "text": [
      "0 1 1 2 3 5 8 13 21 34 "
     ]
    }
   ],
   "source": [
    "#Find the Fibonacci Series up to Nth Term \n",
    "num=int(input('enter number'))\n",
    "n1=0\n",
    "n2=1\n",
    "print(n1 , n2  , end= ' ')\n",
    "for i in range(2 , num):\n",
    "    n3= n1+n2\n",
    "    n1=n2\n",
    "    n2=n3\n",
    "    print(n3 , end=' ')\n",
    "    "
   ]
  },
  {
   "cell_type": "code",
   "execution_count": 27,
   "id": "b22e0d34-cd22-4187-a94c-53d7dfe3d1c4",
   "metadata": {},
   "outputs": [
    {
     "name": "stdout",
     "output_type": "stream",
     "text": [
      "5\n"
     ]
    }
   ],
   "source": [
    "#Find the Nth Term of a Fibonacci Series\n",
    "def fabbo(n):\n",
    "    if n < 2 :\n",
    "        return n\n",
    "    fb=[0 , 1]\n",
    "    for i in range(1 , n):\n",
    "        fb.append(fb[i] + fb[i-1])\n",
    "    return fb[n]\n",
    "n=6\n",
    "print(fabbo(n-1))"
   ]
  },
  {
   "cell_type": "code",
   "execution_count": 37,
   "id": "33efa706-942c-4e45-afbb-ddddbcf46daf",
   "metadata": {},
   "outputs": [
    {
     "name": "stdout",
     "output_type": "stream",
     "text": [
      "NA\n"
     ]
    }
   ],
   "source": [
    "#Factorial of a Number\n",
    "def fact(n):\n",
    "    if n < 0 :\n",
    "        return 'NA'\n",
    "    sum=1\n",
    "    for i in range(1 , n+1):\n",
    "        sum *=i\n",
    "    return sum\n",
    "print(fact(-1))\n"
   ]
  },
  {
   "cell_type": "code",
   "execution_count": 38,
   "id": "8b863ca6-72bf-460f-abc6-e7868336f8fa",
   "metadata": {},
   "outputs": [
    {
     "name": "stdout",
     "output_type": "stream",
     "text": [
      "8\n"
     ]
    }
   ],
   "source": [
    "#Find the Power of a Number\n",
    "def pow(n ,  m):\n",
    "    return n**m\n",
    "print(pow(2 , 3))\n"
   ]
  },
  {
   "cell_type": "code",
   "execution_count": 40,
   "id": "1d249330-b17e-4262-a39c-0e3260bf3048",
   "metadata": {},
   "outputs": [
    {
     "name": "stdout",
     "output_type": "stream",
     "text": [
      "8\n"
     ]
    }
   ],
   "source": [
    "#Find the Power of a Number\n",
    "def pow(n , m):\n",
    "    if m == 0:\n",
    "        return 1\n",
    "    return n * pow(n , m-1)\n",
    "print(pow(2 , 3))"
   ]
  },
  {
   "cell_type": "code",
   "execution_count": 42,
   "id": "fc29fd81-ef1e-4995-b154-ac06b4e40805",
   "metadata": {},
   "outputs": [
    {
     "name": "stdout",
     "output_type": "stream",
     "text": [
      "[2, 5]\n"
     ]
    }
   ],
   "source": [
    "#Find the Factors of a Number\n",
    "def find(n):\n",
    "    ans=[]\n",
    "    for i in range(2 ,n):\n",
    "        if n % i == 0 :\n",
    "            ans.append(i)\n",
    "    return ans\n",
    "print(find(10))\n",
    "        "
   ]
  },
  {
   "cell_type": "code",
   "execution_count": 49,
   "id": "e05d24cd-3af7-4415-bcd1-9a68df76e522",
   "metadata": {},
   "outputs": [
    {
     "name": "stdout",
     "output_type": "stream",
     "text": [
      "[2, 3, 5, 7]\n"
     ]
    }
   ],
   "source": [
    "#Find the Prime Factors of a Number\n",
    "def primfact(n):\n",
    "    ans=[]\n",
    "    while n % 2 ==0:\n",
    "        ans.append(2)\n",
    "        n = n//2\n",
    "    for i in range(3 , int(n**0.5) + 1, 2):\n",
    "        while n % i == 0:\n",
    "            ans.append(i)\n",
    "            n = n//i\n",
    "    if n > 2 :\n",
    "        ans.append(n)\n",
    "        \n",
    "    return ans\n",
    "print(primfact(210))"
   ]
  },
  {
   "cell_type": "code",
   "execution_count": 59,
   "id": "3cdd3f12-3444-47a3-b2df-2cf81381f420",
   "metadata": {},
   "outputs": [
    {
     "name": "stdout",
     "output_type": "stream",
     "text": [
      "True\n"
     ]
    }
   ],
   "source": [
    "def fun(n):\n",
    "    ans = 1\n",
    "    for i in range(1 , n+1):\n",
    "        ans *=i\n",
    "    return ans\n",
    "        \n",
    "def fact(n):\n",
    "    temp=n\n",
    "    sm=0\n",
    "    while n != 0:\n",
    "        rem = n % 10\n",
    "        sm += fun(rem)\n",
    "        n = n // 10\n",
    "    return temp == sm\n",
    "\n",
    "print(fact(145))"
   ]
  },
  {
   "cell_type": "code",
   "execution_count": null,
   "id": "e12dffe5-5125-4dd6-a92d-b6befb4c94e2",
   "metadata": {},
   "outputs": [],
   "source": []
  },
  {
   "cell_type": "code",
   "execution_count": null,
   "id": "981df680-ac4c-46cc-883c-a8206178601c",
   "metadata": {},
   "outputs": [],
   "source": []
  },
  {
   "cell_type": "code",
   "execution_count": null,
   "id": "cfd23ecc-d4b1-4a91-bf6c-7e5974fc670c",
   "metadata": {},
   "outputs": [],
   "source": []
  },
  {
   "cell_type": "code",
   "execution_count": null,
   "id": "7165cee8-0a46-4633-b8fa-f265f8fb5d7d",
   "metadata": {},
   "outputs": [],
   "source": []
  },
  {
   "cell_type": "code",
   "execution_count": null,
   "id": "5edd5101-939e-4400-bd9d-e67e97edc995",
   "metadata": {},
   "outputs": [],
   "source": []
  }
 ],
 "metadata": {
  "kernelspec": {
   "display_name": "Python 3 (ipykernel)",
   "language": "python",
   "name": "python3"
  },
  "language_info": {
   "codemirror_mode": {
    "name": "ipython",
    "version": 3
   },
   "file_extension": ".py",
   "mimetype": "text/x-python",
   "name": "python",
   "nbconvert_exporter": "python",
   "pygments_lexer": "ipython3",
   "version": "3.11.2"
  },
  "widgets": {
   "application/vnd.jupyter.widget-state+json": {
    "state": {},
    "version_major": 2,
    "version_minor": 0
   }
  }
 },
 "nbformat": 4,
 "nbformat_minor": 5
}
