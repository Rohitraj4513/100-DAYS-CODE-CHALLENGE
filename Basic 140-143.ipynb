{
 "cells": [
  {
   "cell_type": "code",
   "execution_count": 45,
   "id": "e4f74978-26ad-4d53-8306-8472ed958a6a",
   "metadata": {},
   "outputs": [
    {
     "name": "stdout",
     "output_type": "stream",
     "text": [
      "3\n"
     ]
    }
   ],
   "source": [
    "#Smallest Sub-array with sum greater than a given value in Python\n",
    "arr = [ 1, 4, 0, 0, 2, 6, 3] \n",
    "s = 9\n",
    "update=10**9\n",
    "for i in range(len(arr)):\n",
    "    for j in range(i , len(arr)):\n",
    "        sm=0\n",
    "        count=0\n",
    "        for k in range(i , j+1):\n",
    "            sm += arr[k]\n",
    "            count +=1\n",
    "        if sm > s:\n",
    "            update = min(count , sm)\n",
    "print(update)      "
   ]
  },
  {
   "cell_type": "code",
   "execution_count": 49,
   "id": "9ac3ca4d-1b08-4026-9a6f-64ee1e9eda49",
   "metadata": {},
   "outputs": [
    {
     "name": "stdout",
     "output_type": "stream",
     "text": [
      "[1, 13, 5, 3, 10, 17, 16, 18, 22, 43]\n"
     ]
    }
   ],
   "source": [
    "#Three way Partitioning of an Array around a Given Range in Python\n",
    "array = [1, 17, 22, 16, 13, 5, 43, 18, 3, 10]\n",
    "lowVal = 14\n",
    "highVal = 20\n",
    "new_arr=[]\n",
    "for i in range(len(array)):\n",
    "    if lowVal > array[i]:\n",
    "        new_arr.append(array[i])\n",
    "\n",
    "for i in range(len(array)):\n",
    "    if lowVal <= array[i] <= highVal:\n",
    "        new_arr.append(array[i])\n",
    "\n",
    "for i in range(len(array)):\n",
    "    if highVal < array[i]:\n",
    "        new_arr.append(array[i])\n",
    "\n",
    "print(new_arr)"
   ]
  },
  {
   "cell_type": "code",
   "execution_count": 70,
   "id": "3544441b-5713-4efc-96b0-c39606f63537",
   "metadata": {},
   "outputs": [
    {
     "name": "stdout",
     "output_type": "stream",
     "text": [
      "2\n"
     ]
    }
   ],
   "source": [
    "#Minimum no. of merge operations required to make an array palindrome\n",
    "arr = [2, 10, 12, 26, 3, 22, 2]\n",
    "st=0\n",
    "end = len(arr)-1\n",
    "count = 0\n",
    "\n",
    "while st < end :\n",
    "    if arr[st] == arr[end]:\n",
    "        st +=1\n",
    "        end -=1\n",
    "    elif arr[st] < arr[end]:\n",
    "        arr[st+1] += arr[st]\n",
    "        st +=1\n",
    "        count +=1\n",
    "    else:\n",
    "        arr[end-1] += arr[end]\n",
    "        count +=1\n",
    "        end -=1\n",
    "        \n",
    "print(count)\n",
    "\n",
    "        \n",
    "    "
   ]
  },
  {
   "cell_type": "code",
   "execution_count": 75,
   "id": "261e06d4-06e7-497e-84d2-085cc1141256",
   "metadata": {},
   "outputs": [
    {
     "name": "stdout",
     "output_type": "stream",
     "text": [
      "h\n",
      "[2, 22, 26, 22, 2]\n",
      "1\n"
     ]
    }
   ],
   "source": [
    "#Minimum no. of merge operations required to make an array palindrome\n",
    "arr = [2, 10, 12, 26,  22, 2]\n",
    "st=0\n",
    "n=len(arr)\n",
    "end = len(arr)-1\n",
    "new_arr=[]\n",
    "count =0\n",
    "for i in range(len(arr)):\n",
    "    if st == n:\n",
    "        break\n",
    "        \n",
    "    if st > end and st < n:\n",
    "        new_arr.append(arr[st])\n",
    "        st +=1\n",
    "    elif st+1 == end and n % 2 == 1:\n",
    "        sm = arr[st] + arr[end]\n",
    "        new_arr.append(sm)\n",
    "        st +=2\n",
    "        end -=2\n",
    "        count +=1\n",
    "    elif arr[st] == arr[end] and st != end :\n",
    "        new_arr.append(arr[i])\n",
    "        st +=1\n",
    "        end -=1\n",
    "    elif arr[st]+ arr[st+1] == arr[end] and st < end:\n",
    "        sm = arr[st]+ arr[st+1]\n",
    "        new_arr.append(sm)\n",
    "        st +=2\n",
    "        end -=1\n",
    "        count +=1\n",
    "    else:\n",
    "        new_arr.append(arr[end])\n",
    "        st +=1\n",
    "        end -=1  \n",
    "        \n",
    "print(new_arr) \n",
    "print(count)"
   ]
  },
  {
   "cell_type": "code",
   "execution_count": null,
   "id": "7bfda7fc-3002-44c4-810c-7dbf8bdb44b2",
   "metadata": {},
   "outputs": [],
   "source": []
  },
  {
   "cell_type": "code",
   "execution_count": null,
   "id": "96559347-40ad-4a6f-96c5-726a8b5d632f",
   "metadata": {},
   "outputs": [],
   "source": []
  },
  {
   "cell_type": "code",
   "execution_count": null,
   "id": "1075874d-078e-4f1d-bb85-0f4f8d7f98d7",
   "metadata": {},
   "outputs": [],
   "source": []
  },
  {
   "cell_type": "code",
   "execution_count": null,
   "id": "18303ef9-334f-44ba-82c7-6866007f4297",
   "metadata": {},
   "outputs": [],
   "source": []
  },
  {
   "cell_type": "code",
   "execution_count": null,
   "id": "d28ef02d-7a40-4216-bdc7-df65c973ff96",
   "metadata": {},
   "outputs": [],
   "source": []
  },
  {
   "cell_type": "code",
   "execution_count": null,
   "id": "dda33784-3221-4029-b8e5-5b2bd0968e5f",
   "metadata": {},
   "outputs": [],
   "source": []
  },
  {
   "cell_type": "code",
   "execution_count": null,
   "id": "9fa55083-528a-40f3-8765-c594ca07df9e",
   "metadata": {},
   "outputs": [],
   "source": []
  },
  {
   "cell_type": "code",
   "execution_count": null,
   "id": "928c2c2c-1271-403b-abb0-3e73f7ab22b0",
   "metadata": {},
   "outputs": [],
   "source": []
  },
  {
   "cell_type": "code",
   "execution_count": null,
   "id": "b8921cfe-9370-4c92-a4f4-1aea29d86dab",
   "metadata": {},
   "outputs": [],
   "source": []
  },
  {
   "cell_type": "code",
   "execution_count": null,
   "id": "303a09b0-3a76-4ac2-9b7e-bb5a838fa1dd",
   "metadata": {},
   "outputs": [],
   "source": []
  },
  {
   "cell_type": "code",
   "execution_count": null,
   "id": "e0cb3d5e-53c9-49a8-b760-fc20ebf85c0c",
   "metadata": {},
   "outputs": [],
   "source": []
  },
  {
   "cell_type": "code",
   "execution_count": null,
   "id": "f20c4bf7-8502-4da9-aab0-e802b820623a",
   "metadata": {},
   "outputs": [],
   "source": []
  },
  {
   "cell_type": "code",
   "execution_count": null,
   "id": "0704a26e-2453-4b24-a8aa-1a3548662ed4",
   "metadata": {},
   "outputs": [],
   "source": []
  },
  {
   "cell_type": "code",
   "execution_count": null,
   "id": "439c8544-f617-42a9-aff1-437d6e5582fa",
   "metadata": {},
   "outputs": [],
   "source": []
  },
  {
   "cell_type": "code",
   "execution_count": null,
   "id": "051b89e6-0c31-4b24-9426-d2fec8ad242e",
   "metadata": {},
   "outputs": [],
   "source": []
  },
  {
   "cell_type": "code",
   "execution_count": null,
   "id": "77830fdb-cad3-425a-964b-e7a7ddf1662e",
   "metadata": {},
   "outputs": [],
   "source": []
  }
 ],
 "metadata": {
  "kernelspec": {
   "display_name": "Python 3 (ipykernel)",
   "language": "python",
   "name": "python3"
  },
  "language_info": {
   "codemirror_mode": {
    "name": "ipython",
    "version": 3
   },
   "file_extension": ".py",
   "mimetype": "text/x-python",
   "name": "python",
   "nbconvert_exporter": "python",
   "pygments_lexer": "ipython3",
   "version": "3.11.2"
  },
  "widgets": {
   "application/vnd.jupyter.widget-state+json": {
    "state": {},
    "version_major": 2,
    "version_minor": 0
   }
  }
 },
 "nbformat": 4,
 "nbformat_minor": 5
}
