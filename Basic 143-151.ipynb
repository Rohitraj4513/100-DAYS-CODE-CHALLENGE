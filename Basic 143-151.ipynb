{
 "cells": [
  {
   "cell_type": "code",
   "execution_count": 7,
   "id": "1d4b258c-7095-4b46-8c9f-59ef6b5125cf",
   "metadata": {},
   "outputs": [
    {
     "name": "stdout",
     "output_type": "stream",
     "text": [
      "88\n",
      "44\n"
     ]
    }
   ],
   "source": [
    "#Median of two sorted arrays of equal size in Python\n",
    "arr1 = [ 1, 12, 15, 26, 38 , 40 ]\n",
    "arr2 = [ 2, 13, 17, 30, 45 , 50 ]\n",
    "mid1=0\n",
    "mid2=0\n",
    "n = len(arr1)\n",
    "k = n//2\n",
    "if n % 2 == 1 :\n",
    "    mid1 = arr1[k]\n",
    "    mid2 = arr2[k]\n",
    "else:\n",
    "    mid1 = arr1[k] + arr1[k -1]\n",
    "    mid2 = arr2[k] + arr2[k -1]\n",
    "\n",
    "median = mid1 + mid2 \n",
    "print(median)\n",
    "median //= 2\n",
    "print(median)"
   ]
  },
  {
   "cell_type": "code",
   "execution_count": 8,
   "id": "1ab21bd1-4f8e-4753-a659-0cbf7983f683",
   "metadata": {},
   "outputs": [
    {
     "name": "stdout",
     "output_type": "stream",
     "text": [
      "62\n",
      "31\n"
     ]
    }
   ],
   "source": [
    "#Median of Two Sorted Arrays of Different Size in Python\n",
    "arr1 = [ 1, 12, 15, 26, 38 ]\n",
    "arr2 = [ 2, 13, 17, 30, 45 , 50 ]\n",
    "n1 = len(arr1)\n",
    "n2= len(arr2)\n",
    "if n1 % 2 == 1:\n",
    "    mid1 = arr1[n1//2]\n",
    "else:\n",
    "    mid1 = arr1[n1//2] + arr1[n1//2 -1]\n",
    "    \n",
    "if n2 % 2 == 1:\n",
    "    mid2 = arr2[n2//2]\n",
    "else:\n",
    "    mid2 = arr2[n2//2] + arr2[n2//2 -1]\n",
    "\n",
    "median = mid1 + mid2 \n",
    "print(median)\n",
    "median //= 2\n",
    "print(median)\n",
    "    \n",
    "    "
   ]
  },
  {
   "cell_type": "code",
   "execution_count": 25,
   "id": "0c34e0da-9508-4066-8266-a794bf4008a7",
   "metadata": {},
   "outputs": [
    {
     "name": "stdout",
     "output_type": "stream",
     "text": [
      "[['cat', 'tac', 'act'], ['dog', 'god'], ['z']]\n"
     ]
    }
   ],
   "source": [
    "#Print all Anagrams Together in Python\n",
    "wordArr = [ \"cat\", \"dog\", \"tac\", \"god\", \"act\", \"z\" ]\n",
    "anagram = {}\n",
    "\n",
    "for word in wordArr:\n",
    "    sorted_word = \"\".join(sorted(word))\n",
    "\n",
    "    if sorted_word in anagram:\n",
    "        anagram[sorted_word].append(word)\n",
    "    else:\n",
    "        anagram[sorted_word] = [word]\n",
    "an = list(anagram.values())\n",
    "ans = str(an)\n",
    "print(ans)"
   ]
  },
  {
   "cell_type": "code",
   "execution_count": 17,
   "id": "80a286d0-2244-413e-ad11-417e8a2952b0",
   "metadata": {},
   "outputs": [
    {
     "name": "stdout",
     "output_type": "stream",
     "text": [
      "8\n"
     ]
    }
   ],
   "source": [
    "#Median of Row Wise Sorted Matrix in Python\n",
    "mat = [[1, 2, 3],\n",
    "      [4 , 5 , 6],\n",
    "      [7 , 8 , 9]]      \n",
    "arr = []\n",
    "rows = len(mat)\n",
    "cols = len(mat[0])\n",
    "for i in range(rows):\n",
    "    for j in range(cols):\n",
    "        arr.append(mat[i][j])\n",
    "arr.sort()\n",
    "n =len(arr)\n",
    "if n % 2 == 1:\n",
    "    print(arr[n//2])\n",
    "else:\n",
    "    ans = arr[n//2] + arr[n//2 - 1]\n",
    "    print(ans)    "
   ]
  },
  {
   "cell_type": "code",
   "execution_count": 26,
   "id": "55412b70-da09-4ef3-9926-a09929ceb6f7",
   "metadata": {},
   "outputs": [
    {
     "name": "stdout",
     "output_type": "stream",
     "text": [
      "4\n",
      "3 rd Rows \n"
     ]
    }
   ],
   "source": [
    "#Row with Maximum no. of 1’s in Python\n",
    "mat = [[ 0, 1, 0, 0 ],\n",
    "        [ 1, 0, 0, 1 ],\n",
    "        [ 1, 1, 1, 1 ],\n",
    "        [ 0, 0, 1, 1 ] ]\n",
    "\n",
    "rows = len(mat)\n",
    "cols = len(mat[0])\n",
    "print(cols)\n",
    "\n",
    "for i in range(rows):\n",
    "    count = 0\n",
    "    for j in range(cols):\n",
    "        if mat[i][j] == 1:\n",
    "            count +=1\n",
    "    if count == cols:\n",
    "        print(f\"{i+1} rd Rows \")\n",
    "        break\n",
    "\n"
   ]
  },
  {
   "cell_type": "code",
   "execution_count": 27,
   "id": "321e32df-65e7-4383-93cc-b2ecb469e90c",
   "metadata": {},
   "outputs": [
    {
     "name": "stdout",
     "output_type": "stream",
     "text": [
      "[1, 10, 11, 13, 14, 16, 17, 20, 22, 43, 50, 54, 69, 81, 95, 99]\n"
     ]
    }
   ],
   "source": [
    "#Print Elements in Sorted Order using Row-Column wise Sorted Matrix in Python\n",
    "mat = [[1, 20, 43, 14],\n",
    "        [50, 69, 17, 81],\n",
    "        [99, 10, 11, 22],\n",
    "        [13, 54, 95, 16]]\n",
    "\n",
    "rows = len(mat)\n",
    "cols = len(mat[0])\n",
    "\n",
    "arr = []\n",
    "\n",
    "for i in range(rows):\n",
    "    for j in range(cols):\n",
    "        arr.append(mat[i][j])\n",
    "arr.sort()\n",
    "print(arr)"
   ]
  },
  {
   "cell_type": "code",
   "execution_count": 33,
   "id": "0940b6c5-616a-495f-b6d2-a77bc0bf4633",
   "metadata": {},
   "outputs": [
    {
     "name": "stdout",
     "output_type": "stream",
     "text": [
      "[7, 4, 1]\n",
      "[8, 5, 2]\n",
      "[9, 6, 3]\n"
     ]
    }
   ],
   "source": [
    "#Rotate a matrix by 90o in Java\n",
    "mat = [[1, 2, 3],\n",
    "      [4 , 5 , 6],\n",
    "      [7 , 8 , 9]]\n",
    "rows = len(mat)\n",
    "cols = len(mat[0])\n",
    "ans = [[0]*rows for i in range(cols)]\n",
    "for i in range(rows):\n",
    "    for j in range(cols):\n",
    "        ans[j][rows-1-i]  = mat[i][j]\n",
    "for i in range(len(ans)):\n",
    "    print(ans[i])\n",
    "        "
   ]
  },
  {
   "cell_type": "code",
   "execution_count": 55,
   "id": "9419a239-5a2a-4595-a89e-3351a17a5cad",
   "metadata": {},
   "outputs": [
    {
     "name": "stdout",
     "output_type": "stream",
     "text": [
      "[30]\n",
      "{10: 1, 20: 1, 30: 4, 40: 1, 15: 1, 25: 1, 35: 1, 27: 1, 37: 1, 48: 1, 32: 1, 33: 1, 39: 1}\n"
     ]
    }
   ],
   "source": [
    "#Common elements in all rows of a given matrix in Python\n",
    "mat = [[10, 20, 30, 40],\n",
    "       [15, 25, 35, 30],\n",
    "       [27, 30, 37, 48],\n",
    "       [32, 33, 39, 30]]\n",
    "rows = len(mat)\n",
    "cols = len(mat[0])\n",
    "hash = {}\n",
    "for row in mat:\n",
    "    for value in row:\n",
    "        hash[value] = hash.get(value, 0) + 1\n",
    "\n",
    "ans =[key  for key , val in hash.items() if val == rows]\n",
    "print(ans)\n",
    "print(hash)"
   ]
  },
  {
   "cell_type": "code",
   "execution_count": null,
   "id": "f3ed6dc9-bf6b-4eac-970f-3d72c9278aa5",
   "metadata": {},
   "outputs": [],
   "source": []
  },
  {
   "cell_type": "code",
   "execution_count": null,
   "id": "2ba73237-886f-4fe0-af24-7f7234fc1eae",
   "metadata": {},
   "outputs": [],
   "source": []
  },
  {
   "cell_type": "code",
   "execution_count": null,
   "id": "6274e1f0-2ab7-4f74-9775-47cade44acb2",
   "metadata": {},
   "outputs": [],
   "source": []
  },
  {
   "cell_type": "code",
   "execution_count": null,
   "id": "9622c19f-0ffd-4a4a-a286-d6958eb72c08",
   "metadata": {},
   "outputs": [],
   "source": []
  },
  {
   "cell_type": "code",
   "execution_count": null,
   "id": "a6487c94-b36a-4fe0-af39-ac4cd45e78d7",
   "metadata": {},
   "outputs": [],
   "source": []
  },
  {
   "cell_type": "code",
   "execution_count": null,
   "id": "f98474c0-a728-4178-88de-7d7743a9848d",
   "metadata": {},
   "outputs": [],
   "source": []
  },
  {
   "cell_type": "code",
   "execution_count": null,
   "id": "9d63b62d-6023-45f1-b5c3-c7e2bce1bec4",
   "metadata": {},
   "outputs": [],
   "source": []
  },
  {
   "cell_type": "code",
   "execution_count": null,
   "id": "02ed6817-1e1f-4547-bad2-9941e01e6ea4",
   "metadata": {},
   "outputs": [],
   "source": []
  },
  {
   "cell_type": "code",
   "execution_count": null,
   "id": "8253121a-000e-463a-a958-cc71699d48f0",
   "metadata": {},
   "outputs": [],
   "source": []
  },
  {
   "cell_type": "code",
   "execution_count": null,
   "id": "12656e17-e2ea-45b6-be83-7e44681d23e3",
   "metadata": {},
   "outputs": [],
   "source": []
  },
  {
   "cell_type": "code",
   "execution_count": null,
   "id": "7f5e5269-8fc5-4072-aa27-7e7a2079259d",
   "metadata": {},
   "outputs": [],
   "source": []
  },
  {
   "cell_type": "code",
   "execution_count": null,
   "id": "93eb6b53-52f2-44ca-a9c0-bb8595841c26",
   "metadata": {},
   "outputs": [],
   "source": []
  },
  {
   "cell_type": "code",
   "execution_count": null,
   "id": "989ae9cf-fc53-4f75-b7f8-d162da44ed47",
   "metadata": {},
   "outputs": [],
   "source": []
  }
 ],
 "metadata": {
  "kernelspec": {
   "display_name": "Python 3 (ipykernel)",
   "language": "python",
   "name": "python3"
  },
  "language_info": {
   "codemirror_mode": {
    "name": "ipython",
    "version": 3
   },
   "file_extension": ".py",
   "mimetype": "text/x-python",
   "name": "python",
   "nbconvert_exporter": "python",
   "pygments_lexer": "ipython3",
   "version": "3.11.2"
  },
  "widgets": {
   "application/vnd.jupyter.widget-state+json": {
    "state": {},
    "version_major": 2,
    "version_minor": 0
   }
  }
 },
 "nbformat": 4,
 "nbformat_minor": 5
}
