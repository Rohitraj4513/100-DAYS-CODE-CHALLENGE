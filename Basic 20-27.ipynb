{
 "cells": [
  {
   "cell_type": "code",
   "execution_count": 3,
   "id": "21442d9d-0034-492c-82ad-a9570af192b5",
   "metadata": {},
   "outputs": [
    {
     "name": "stdout",
     "output_type": "stream",
     "text": [
      "True\n"
     ]
    }
   ],
   "source": [
    "#Check Whether or Not the Number is a Perfect Number \n",
    "nm=28\n",
    "div=[]\n",
    "sum=0\n",
    "for i in range(1 , nm):\n",
    "    if nm % i == 0:\n",
    "        div.append(i)\n",
    "for i in div:\n",
    "    sum +=i\n",
    "if nm == sum :\n",
    "    print('True')\n",
    "else:\n",
    "    print('False')\n",
    "    "
   ]
  },
  {
   "cell_type": "code",
   "execution_count": 8,
   "id": "21eb726a-a8ca-4746-a68f-b96a5f2f2910",
   "metadata": {},
   "outputs": [
    {
     "name": "stdout",
     "output_type": "stream",
     "text": [
      "True\n"
     ]
    }
   ],
   "source": [
    "#Check Whether or Not the Number is a Perfect Number \n",
    "nm=28\n",
    "sum=0\n",
    "for i in range(1 , nm//2 + 1):\n",
    "    if nm % i == 0 :\n",
    "        sum += i\n",
    "        \n",
    "if nm == sum :\n",
    "    print('True')\n",
    "else:\n",
    "    print('False')\n",
    "    "
   ]
  },
  {
   "cell_type": "code",
   "execution_count": 16,
   "id": "5ae7fbc2-e14b-4de2-b3fe-9fe2fc400b1f",
   "metadata": {},
   "outputs": [
    {
     "name": "stdout",
     "output_type": "stream",
     "text": [
      "True\n"
     ]
    }
   ],
   "source": [
    "def recurtion(nm , i , sum):\n",
    "    if i >= nm:\n",
    "        return sum\n",
    "    if nm % i == 0:\n",
    "        sum +=i\n",
    "    return recurtion(nm , i+1 , sum)\n",
    "\n",
    "nm=28\n",
    "res=(recurtion(nm , 1 , 0))\n",
    "if nm == res :\n",
    "    print('True')\n",
    "else:\n",
    "    print('False')\n",
    "    "
   ]
  },
  {
   "cell_type": "code",
   "execution_count": 26,
   "id": "02f6a13b-476e-404c-8eab-e15a972e1a91",
   "metadata": {},
   "outputs": [
    {
     "name": "stdout",
     "output_type": "stream",
     "text": [
      "True\n"
     ]
    }
   ],
   "source": [
    "#Check Whether or Not the Number is an Automorphic Number\n",
    "num=5\n",
    "nm=num * num\n",
    "mod=10 ** len(str(num))\n",
    "if nm % mod == num :\n",
    "    print('True')\n",
    "else:\n",
    "    print('False')\n",
    "    "
   ]
  },
  {
   "cell_type": "code",
   "execution_count": 39,
   "id": "b956bfbe-4697-409b-ae5f-9f139711aec7",
   "metadata": {},
   "outputs": [
    {
     "name": "stdout",
     "output_type": "stream",
     "text": [
      "34\n"
     ]
    }
   ],
   "source": [
    "#Harshad number\n",
    "num=408\n",
    "cmp=num\n",
    "su=0\n",
    "while num != 0 :\n",
    "    rem = num % 10\n",
    "    su +=  rem\n",
    "    num = num // 10\n",
    "    \n",
    "res=cmp // su\n",
    "print(res)\n",
    "\n"
   ]
  },
  {
   "cell_type": "code",
   "execution_count": 41,
   "id": "e53a6a52-2106-4ea8-ab73-e6c7d6c2af76",
   "metadata": {},
   "outputs": [
    {
     "name": "stdout",
     "output_type": "stream",
     "text": [
      "False\n"
     ]
    }
   ],
   "source": [
    "#Check Whether or Not the Number is an Abundant Number\n",
    "num=5\n",
    "sum=0\n",
    "for i in range(1 , num):\n",
    "    if num % i == 0:\n",
    "        sum +=i\n",
    "if sum > num :\n",
    "    print('True')\n",
    "else:\n",
    "    print('False')\n",
    "        "
   ]
  },
  {
   "cell_type": "code",
   "execution_count": 49,
   "id": "48f08e81-6e8a-4d75-af53-7a6fb4b28e0b",
   "metadata": {},
   "outputs": [
    {
     "name": "stdout",
     "output_type": "stream",
     "text": [
      "6\n",
      "28\n",
      "True\n"
     ]
    }
   ],
   "source": [
    "#Friendly Pair Numbers\n",
    "n1 , n2 = 6 , 28\n",
    "sum1=0\n",
    "sum2=0\n",
    "for i in range(1 , n2):\n",
    "    if n1 % i == 0 and n1 != i and i < n1:\n",
    "        sum1 +=i\n",
    "    if n2 % i == 0 and n2 != i and i < n2 :\n",
    "        sum2 +=i\n",
    "print(sum1)\n",
    "print(sum2)\n",
    "if n1 == sum1 and n2 == sum2 :\n",
    "    print('True')\n",
    "else:\n",
    "    print('False')\n",
    "    "
   ]
  },
  {
   "cell_type": "code",
   "execution_count": 59,
   "id": "f0ddc81e-4f45-41eb-8f80-0891b89451a9",
   "metadata": {},
   "outputs": [
    {
     "name": "stdout",
     "output_type": "stream",
     "text": [
      "12\n"
     ]
    }
   ],
   "source": [
    "#Python program to find HCF of Two Numbers\n",
    "n1=36\n",
    "n2=60\n",
    "s1=[]\n",
    "s2=[]\n",
    "gcd=1\n",
    "mx=max(n1 ,n2)\n",
    "for i in range(1, mx):\n",
    "    if n1 % i == 0 and i != n1 and i < n1:\n",
    "        s1.append(i)\n",
    "    if n2 % i == 0 and i != n2 and i < n2:\n",
    "        s2.append(i)\n",
    "\n",
    "\n",
    "gcd=max(set(s1) & set(s2))\n",
    "print(gcd)\n",
    "        \n",
    "        \n",
    "    "
   ]
  },
  {
   "cell_type": "code",
   "execution_count": 67,
   "id": "d20def19-aa1d-4fbd-b605-60eb7c81f44f",
   "metadata": {},
   "outputs": [
    {
     "name": "stdout",
     "output_type": "stream",
     "text": [
      "84\n"
     ]
    }
   ],
   "source": [
    "#LCM of two numbers\n",
    "n1=14\n",
    "n2=12\n",
    "lcm=1\n",
    "for i in range(max(n1 , n2) , 1 + n1 * n2):\n",
    "    if i % n1 == i % n2 == 0:\n",
    "        lcm = i\n",
    "        break\n",
    "print(lcm)"
   ]
  },
  {
   "cell_type": "code",
   "execution_count": null,
   "id": "671231e2-f13c-4c7c-9a37-0ea5089ebff9",
   "metadata": {},
   "outputs": [],
   "source": []
  },
  {
   "cell_type": "code",
   "execution_count": null,
   "id": "ee7b660f-bb7e-4ba8-89dc-1708dd4ef063",
   "metadata": {},
   "outputs": [],
   "source": []
  },
  {
   "cell_type": "code",
   "execution_count": null,
   "id": "6405ee3c-ef26-453b-836f-c49aa67a0eea",
   "metadata": {},
   "outputs": [],
   "source": []
  },
  {
   "cell_type": "code",
   "execution_count": null,
   "id": "44ccbd7e-b16d-4b9d-881d-a92a614cb185",
   "metadata": {},
   "outputs": [],
   "source": []
  },
  {
   "cell_type": "code",
   "execution_count": null,
   "id": "78a68915-6328-441d-bf01-f4a3961e7218",
   "metadata": {},
   "outputs": [],
   "source": []
  },
  {
   "cell_type": "code",
   "execution_count": null,
   "id": "a0c82544-e704-40ef-aadf-fbf046532471",
   "metadata": {},
   "outputs": [],
   "source": []
  },
  {
   "cell_type": "code",
   "execution_count": null,
   "id": "4acbf507-3820-46b5-a597-da546f6ccaf5",
   "metadata": {},
   "outputs": [],
   "source": []
  },
  {
   "cell_type": "code",
   "execution_count": null,
   "id": "55ec55b7-615d-45ef-bc65-51a815775c8d",
   "metadata": {},
   "outputs": [],
   "source": []
  },
  {
   "cell_type": "code",
   "execution_count": null,
   "id": "b1220a68-c9f6-4b52-a3c3-6ed15054e18f",
   "metadata": {},
   "outputs": [],
   "source": []
  },
  {
   "cell_type": "code",
   "execution_count": null,
   "id": "5bd9d75e-0ad7-421b-88ac-b1c3dd463626",
   "metadata": {},
   "outputs": [],
   "source": []
  },
  {
   "cell_type": "code",
   "execution_count": null,
   "id": "ecfc4b91-abc3-47ea-acf8-80c184a2840c",
   "metadata": {},
   "outputs": [],
   "source": []
  },
  {
   "cell_type": "code",
   "execution_count": null,
   "id": "ce07ec9b-3aa0-46b9-9dc5-6842c5b4f676",
   "metadata": {},
   "outputs": [],
   "source": []
  },
  {
   "cell_type": "code",
   "execution_count": null,
   "id": "5c8e5937-5dcb-417e-8c75-735a0d665a66",
   "metadata": {},
   "outputs": [],
   "source": []
  },
  {
   "cell_type": "code",
   "execution_count": null,
   "id": "7cd30530-5abf-43c3-84a7-b48bf9cbcb90",
   "metadata": {},
   "outputs": [],
   "source": []
  },
  {
   "cell_type": "code",
   "execution_count": null,
   "id": "a5efa39b-bb66-433a-ae52-e3526bf2a45f",
   "metadata": {},
   "outputs": [],
   "source": []
  },
  {
   "cell_type": "code",
   "execution_count": null,
   "id": "03f6dc96-dbd8-4492-9acc-44a5cb993bab",
   "metadata": {},
   "outputs": [],
   "source": []
  },
  {
   "cell_type": "code",
   "execution_count": null,
   "id": "ac3b2963-ae54-4319-a1b2-e178592eb80f",
   "metadata": {},
   "outputs": [],
   "source": []
  },
  {
   "cell_type": "code",
   "execution_count": null,
   "id": "42504373-1ad3-48bb-ba97-0ae5a56b3002",
   "metadata": {},
   "outputs": [],
   "source": []
  }
 ],
 "metadata": {
  "kernelspec": {
   "display_name": "Python 3 (ipykernel)",
   "language": "python",
   "name": "python3"
  },
  "language_info": {
   "codemirror_mode": {
    "name": "ipython",
    "version": 3
   },
   "file_extension": ".py",
   "mimetype": "text/x-python",
   "name": "python",
   "nbconvert_exporter": "python",
   "pygments_lexer": "ipython3",
   "version": "3.11.2"
  },
  "widgets": {
   "application/vnd.jupyter.widget-state+json": {
    "state": {},
    "version_major": 2,
    "version_minor": 0
   }
  }
 },
 "nbformat": 4,
 "nbformat_minor": 5
}
