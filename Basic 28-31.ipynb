{
 "cells": [
  {
   "cell_type": "code",
   "execution_count": 2,
   "id": "205da366-4ae1-4c68-9406-bba2587eb6bf",
   "metadata": {},
   "outputs": [
    {
     "name": "stdout",
     "output_type": "stream",
     "text": [
      "12\n"
     ]
    }
   ],
   "source": [
    "#GCD of Two numbers\n",
    "n1=36\n",
    "n2=60\n",
    "s1=[]\n",
    "s2=[]\n",
    "gcd=0\n",
    "for i in range(1 , max(n1 , n2)):\n",
    "    if n1 % i == 0  and i != n1 and i < n1:\n",
    "        s1.append(i)\n",
    "    if n2 % i == 0  and i != n2 and i < n2:\n",
    "        s2.append(i)\n",
    "gcd = max(set(s1) & set(s2))\n",
    "print(gcd)\n",
    "                \n",
    "    "
   ]
  },
  {
   "cell_type": "code",
   "execution_count": 3,
   "id": "18b6eac4-28af-498f-9610-042915240140",
   "metadata": {},
   "outputs": [
    {
     "name": "stdout",
     "output_type": "stream",
     "text": [
      "12\n"
     ]
    }
   ],
   "source": [
    "#GCD of Two numbers\n",
    "n1=36\n",
    "n2=60\n",
    "gcd=0\n",
    "for i in range(1 , max(n1 , n2)):\n",
    "    if n1 % i == n2 % i == 0:\n",
    "        gcd = i\n",
    "print(gcd)"
   ]
  },
  {
   "cell_type": "code",
   "execution_count": 8,
   "id": "effcfc70-8729-4821-91b7-648e1155c585",
   "metadata": {},
   "outputs": [
    {
     "name": "stdout",
     "output_type": "stream",
     "text": [
      "10\n"
     ]
    }
   ],
   "source": [
    "#Binary to Decimal Conversion\n",
    "binary=\"1010\"\n",
    "decimal=0\n",
    "power=0\n",
    "for i in reversed(binary):\n",
    "    decimal += int(i) * (2 ** power)\n",
    "    power +=1\n",
    "print(decimal)"
   ]
  },
  {
   "cell_type": "code",
   "execution_count": 18,
   "id": "d07f4cac-d0a5-4b7c-9aa6-4d520aa44e05",
   "metadata": {},
   "outputs": [
    {
     "name": "stdout",
     "output_type": "stream",
     "text": [
      "10\n"
     ]
    }
   ],
   "source": [
    "#Binary to Decimal Conversion\n",
    "num=1010\n",
    "decimal=0\n",
    "power=0\n",
    "while num > 0 :\n",
    "    rem= num % 10\n",
    "    decimal += rem * (2 ** power)\n",
    "    num = num // 10\n",
    "    power +=1\n",
    "print(decimal)"
   ]
  },
  {
   "cell_type": "code",
   "execution_count": 12,
   "id": "9c694b95-65f7-4897-b881-245493009198",
   "metadata": {},
   "outputs": [
    {
     "name": "stdout",
     "output_type": "stream",
     "text": [
      "5\n"
     ]
    }
   ],
   "source": [
    "bina='101'\n",
    "decimal = int(bina , 2)\n",
    "print(decimal)"
   ]
  },
  {
   "cell_type": "code",
   "execution_count": 14,
   "id": "f90372a2-657e-49db-b88b-99e2fa99d7f4",
   "metadata": {},
   "outputs": [
    {
     "name": "stdout",
     "output_type": "stream",
     "text": [
      "330\n"
     ]
    }
   ],
   "source": [
    "#Octal To Decimal Conversion\n",
    "oct=\"512\"\n",
    "octal=int(oct , 8)\n",
    "print(octal)"
   ]
  },
  {
   "cell_type": "code",
   "execution_count": 23,
   "id": "133b11b1-89fe-4136-b9d8-0e37436d21fa",
   "metadata": {},
   "outputs": [
    {
     "name": "stdout",
     "output_type": "stream",
     "text": [
      "330\n"
     ]
    }
   ],
   "source": [
    "#Octal To Decimal Conversion\n",
    "oct= 512\n",
    "dec=0\n",
    "power=1\n",
    "while oct:\n",
    "    rem= oct % 10\n",
    "    oct = oct // 10\n",
    "    dec += rem * power\n",
    "    \n",
    "    power *=8\n",
    "print(dec)"
   ]
  },
  {
   "cell_type": "code",
   "execution_count": 30,
   "id": "6081111e-7e22-4636-bac1-827cbf3bc559",
   "metadata": {},
   "outputs": [
    {
     "name": "stdout",
     "output_type": "stream",
     "text": [
      "201\n"
     ]
    }
   ],
   "source": [
    "#Hexadecimal to Decimal Conversion\n",
    "hexdec=\"C9\"\n",
    "hex=int(hexdec , 16)\n",
    "print(hex)"
   ]
  },
  {
   "cell_type": "code",
   "execution_count": 29,
   "id": "fae71bad-54ce-4181-bf7b-167209fb00e6",
   "metadata": {},
   "outputs": [
    {
     "name": "stdout",
     "output_type": "stream",
     "text": [
      "201\n"
     ]
    }
   ],
   "source": [
    "#Hexadecimal to Decimal Conversion\n",
    "hex='C9'\n",
    "decimal=0\n",
    "pow=0\n",
    "n=len(hex)\n",
    "for i in range(n-1 , -1 , -1):\n",
    "    if '0' <= hex[i] <= '9':\n",
    "        dig=int(hex[i])\n",
    "        decimal += dig * (16 ** pow)\n",
    "        pow +=1\n",
    "    elif 'A' <= hex[i] <= 'F' :\n",
    "        dig= ord(hex[i])-55\n",
    "        decimal += dig * (16 ** pow)\n",
    "        pow +=1\n",
    "print(decimal)\n",
    "        "
   ]
  },
  {
   "cell_type": "code",
   "execution_count": null,
   "id": "71443b21-f850-4f3b-a6ff-26ce4ad24e1a",
   "metadata": {},
   "outputs": [],
   "source": []
  }
 ],
 "metadata": {
  "kernelspec": {
   "display_name": "Python 3 (ipykernel)",
   "language": "python",
   "name": "python3"
  },
  "language_info": {
   "codemirror_mode": {
    "name": "ipython",
    "version": 3
   },
   "file_extension": ".py",
   "mimetype": "text/x-python",
   "name": "python",
   "nbconvert_exporter": "python",
   "pygments_lexer": "ipython3",
   "version": "3.11.2"
  },
  "widgets": {
   "application/vnd.jupyter.widget-state+json": {
    "state": {},
    "version_major": 2,
    "version_minor": 0
   }
  }
 },
 "nbformat": 4,
 "nbformat_minor": 5
}
