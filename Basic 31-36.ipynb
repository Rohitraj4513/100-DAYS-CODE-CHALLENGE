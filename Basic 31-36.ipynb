{
 "cells": [
  {
   "cell_type": "code",
   "execution_count": 14,
   "id": "6c2b68d6-898b-4980-a64b-115bee3763fb",
   "metadata": {},
   "outputs": [
    {
     "name": "stdout",
     "output_type": "stream",
     "text": [
      "10101"
     ]
    }
   ],
   "source": [
    "#Decimal to binary conversion\n",
    "num=21\n",
    "binary=[]\n",
    "while num > 0:\n",
    "    binary.append(num%2)\n",
    "    num= num // 2\n",
    "\n",
    "for i in range(len(binary)-1, -1 , -1):\n",
    "    print(binary[i] , end='')\n",
    "    "
   ]
  },
  {
   "cell_type": "code",
   "execution_count": 18,
   "id": "82444408-0ac5-4ec1-a41a-049e94c4b8f3",
   "metadata": {},
   "outputs": [
    {
     "name": "stdout",
     "output_type": "stream",
     "text": [
      "1010\n"
     ]
    }
   ],
   "source": [
    "#Decimal to binary conversion\n",
    "num=10\n",
    "binary=0\n",
    "i=1\n",
    "while num != 0:\n",
    "    rem= num % 2\n",
    "    binary += rem * i\n",
    "    num //= 2\n",
    "    i *=10\n",
    "print(binary)"
   ]
  },
  {
   "cell_type": "code",
   "execution_count": 21,
   "id": "131921c6-a5aa-4914-9412-36c2a1b6f802",
   "metadata": {},
   "outputs": [
    {
     "name": "stdout",
     "output_type": "stream",
     "text": [
      "12"
     ]
    }
   ],
   "source": [
    "#Decimal to octal conversion\n",
    "num=10\n",
    "octal=[]\n",
    "while num > 0:\n",
    "    octal.append(num % 8)\n",
    "    num //= 8\n",
    "\n",
    "for i in range(len(octal)-1 , -1 , -1):\n",
    "    print(octal[i] ,end='')"
   ]
  },
  {
   "cell_type": "code",
   "execution_count": 22,
   "id": "e4d91f71-23bf-4579-9b3f-bd84685ab8cd",
   "metadata": {},
   "outputs": [
    {
     "name": "stdout",
     "output_type": "stream",
     "text": [
      "12\n"
     ]
    }
   ],
   "source": [
    "#Decimal to octal conversion\n",
    "num=10\n",
    "octal=0\n",
    "i=1\n",
    "while num != 0:\n",
    "    rem= num % 8\n",
    "    octal += rem * i\n",
    "    num //= 8\n",
    "    i *=10\n",
    "print(octal)\n"
   ]
  },
  {
   "cell_type": "code",
   "execution_count": 25,
   "id": "64ed7473-4e79-4dc4-9dd7-1c389c6af9a0",
   "metadata": {},
   "outputs": [
    {
     "name": "stdout",
     "output_type": "stream",
     "text": [
      "9F1"
     ]
    }
   ],
   "source": [
    "#Hexadecimal to Decimal conversion\n",
    "num=2545\n",
    "hex=[]\n",
    "while num != 0:\n",
    "    rem = num % 16\n",
    "    if rem < 10 :\n",
    "        hex.append(chr(rem + 48))\n",
    "    else:\n",
    "        hex.append(chr(rem + 55))\n",
    "    num = num // 16\n",
    "for i in range(len(hex)-1 , -1 , -1):\n",
    "    print(hex[i] , end='')"
   ]
  },
  {
   "cell_type": "code",
   "execution_count": 28,
   "id": "e69c2457-80fa-4ca0-a908-e9d31752ec5b",
   "metadata": {},
   "outputs": [
    {
     "name": "stdout",
     "output_type": "stream",
     "text": [
      " 3st crdt -10 , -20\n"
     ]
    }
   ],
   "source": [
    "#Quadrants in which a given coordinate lies \n",
    "x=-10\n",
    "y=-20\n",
    "if x > 0 and y > 0 :\n",
    "    print(f\" 1st crdt {x} , {y}\")\n",
    "elif x > 0 and y < 0 :\n",
    "    print(f\" 2st crdt {x} , {y}\")\n",
    "elif x < 0 and y < 0 :\n",
    "    print(f\" 3st crdt {x} , {y}\")\n",
    "elif x < 0 and y > 0:\n",
    "    print(f\" 4st crdt {x} , {y}\")\n",
    "    \n",
    "    \n",
    "    "
   ]
  },
  {
   "cell_type": "code",
   "execution_count": 33,
   "id": "9d755a17-1e10-41ab-a322-57dd1b002962",
   "metadata": {},
   "outputs": [
    {
     "name": "stdout",
     "output_type": "stream",
     "text": [
      "30240\n"
     ]
    }
   ],
   "source": [
    "#Permutations in which n people can occupy r seats in a classroom\n",
    "def fact(num):\n",
    "    fact=1\n",
    "    for i in range(num , 1 , -1):\n",
    "        fact *=i\n",
    "    return fact\n",
    "n=10\n",
    "r=6\n",
    "p =fact(n) // fact(r-1)\n",
    "print(p)"
   ]
  },
  {
   "cell_type": "code",
   "execution_count": null,
   "id": "8ca03ac8-282e-4d56-9e4b-b80d1a842917",
   "metadata": {},
   "outputs": [],
   "source": []
  }
 ],
 "metadata": {
  "kernelspec": {
   "display_name": "Python 3 (ipykernel)",
   "language": "python",
   "name": "python3"
  },
  "language_info": {
   "codemirror_mode": {
    "name": "ipython",
    "version": 3
   },
   "file_extension": ".py",
   "mimetype": "text/x-python",
   "name": "python",
   "nbconvert_exporter": "python",
   "pygments_lexer": "ipython3",
   "version": "3.11.2"
  },
  "widgets": {
   "application/vnd.jupyter.widget-state+json": {
    "state": {},
    "version_major": 2,
    "version_minor": 0
   }
  }
 },
 "nbformat": 4,
 "nbformat_minor": 5
}
