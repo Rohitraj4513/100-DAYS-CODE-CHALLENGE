{
 "cells": [
  {
   "cell_type": "code",
   "execution_count": 7,
   "id": "06ce62f3-70ec-490c-b33f-489fd9f2316e",
   "metadata": {},
   "outputs": [
    {
     "name": "stdout",
     "output_type": "stream",
     "text": [
      "47 282\n"
     ]
    }
   ],
   "source": [
    "#Addition of two fractions:\n",
    "def gcd(n1 , n2):\n",
    "    gdc=0\n",
    "    for i in range(1 , max(n1 , n2)):\n",
    "        if n1 % i == n2 % i == 0:\n",
    "            gdc=i\n",
    "    return gdc\n",
    "\n",
    "m1 , m2= 14 , 10\n",
    "n1 , n2 = 24 , 3\n",
    "\n",
    "lcm = (m2 * n2) // gcd(m2 , n2)\n",
    "sum = (m1 * lcm // m2) + (n1 * lcm // n2)\n",
    "n3 = sum // gcd( sum , lcm)\n",
    "lcm = lcm // gcd(sum , lcm)\n",
    "print(n3 , sum)"
   ]
  },
  {
   "cell_type": "code",
   "execution_count": 9,
   "id": "0211798a-bf90-423c-a84a-d700aa33d0e8",
   "metadata": {},
   "outputs": [
    {
     "name": "stdout",
     "output_type": "stream",
     "text": [
      "28.259999999999998\n"
     ]
    }
   ],
   "source": [
    "#How to find area of circle\n",
    "r=3\n",
    "sum = 3.14 * r * r\n",
    "print(sum)"
   ]
  },
  {
   "cell_type": "code",
   "execution_count": 13,
   "id": "56dfaefe-8067-4729-8bb4-70b6918e57a6",
   "metadata": {},
   "outputs": [
    {
     "name": "stdout",
     "output_type": "stream",
     "text": [
      "[2, 3, 5, 7, 11, 13, 17, 19, 23, 29, 31, 37, 41, 43, 47, 53, 59, 61, 67, 71, 73, 79, 83, 89, 97]\n"
     ]
    }
   ],
   "source": [
    "#Find Prime number between 1 to100\n",
    "num=100\n",
    "prime=[]\n",
    "for i in range(2 , 100+1):\n",
    "    count=0\n",
    "    for j in range(2 , i):\n",
    "        if i % j == 0 :\n",
    "            count +=1\n",
    "            break\n",
    "    if count == 0:\n",
    "        prime.append(i)\n",
    "print(prime)\n",
    "            \n",
    "            "
   ]
  },
  {
   "cell_type": "code",
   "execution_count": 18,
   "id": "4338a42c-abc2-4bc0-b61d-bcf7792a0b98",
   "metadata": {},
   "outputs": [
    {
     "name": "stdout",
     "output_type": "stream",
     "text": [
      "0.4494897427831779 -3.224744871391589\n"
     ]
    }
   ],
   "source": [
    "#Roots of a quadratic equation\n",
    "a , b , c =  1 , 4 , 4\n",
    "if a == 0 :\n",
    "    print('invlid')\n",
    "    \n",
    "d= b **2 + 4 * a + a * c\n",
    "real =-b / (2 * a)\n",
    "\n",
    "\n",
    "if d > 0:\n",
    "    sqr = d**0.5\n",
    "    print(real +  sqr / (2 * a) , real - sqr / (2 * 2))\n",
    "elif d == 0 :\n",
    "    print(real)\n",
    "else:\n",
    "    print((-d)**0.5 / (2 * a))\n"
   ]
  },
  {
   "cell_type": "code",
   "execution_count": 26,
   "id": "ec9f1b69-ce9e-4774-b526-0a4cdc0fa323",
   "metadata": {},
   "outputs": [
    {
     "name": "stdout",
     "output_type": "stream",
     "text": [
      "8\n"
     ]
    }
   ],
   "source": [
    "#Power  of  a  Number\n",
    "def power(n1 , n2):\n",
    "    if n2 == 0:\n",
    "        return 1\n",
    "    return n1 * power(n1 , n2-1)\n",
    "\n",
    "print(power(2 , 3))\n",
    "    "
   ]
  },
  {
   "cell_type": "code",
   "execution_count": 25,
   "id": "686c2fb1-2cae-4ce5-8c32-94352ada7086",
   "metadata": {},
   "outputs": [
    {
     "name": "stdout",
     "output_type": "stream",
     "text": [
      "8\n"
     ]
    }
   ],
   "source": [
    "#Power  of  a  Number\n",
    "def power(n1 , n2):\n",
    "    ans = 1\n",
    "    while n2 != 0:\n",
    "        ans = ans * n1\n",
    "        n2 = n2 - 1\n",
    "    return ans\n",
    "print(power(2 , 3))"
   ]
  },
  {
   "cell_type": "code",
   "execution_count": 32,
   "id": "3907e225-46b6-4eb1-a926-863abab05d55",
   "metadata": {},
   "outputs": [
    {
     "name": "stdout",
     "output_type": "stream",
     "text": [
      "True\n"
     ]
    }
   ],
   "source": [
    "#Prime Number using Recursion\n",
    "def prime(num , i=2):\n",
    "    if num == i:\n",
    "        return True\n",
    "    elif num % 2 == 0:\n",
    "        return False\n",
    "    return prime(num  , i+1)\n",
    "\n",
    "print(prime(971))\n",
    "    "
   ]
  },
  {
   "cell_type": "code",
   "execution_count": null,
   "id": "9fe3b109-ce25-4078-b339-3a664b519788",
   "metadata": {},
   "outputs": [],
   "source": []
  }
 ],
 "metadata": {
  "kernelspec": {
   "display_name": "Python 3 (ipykernel)",
   "language": "python",
   "name": "python3"
  },
  "language_info": {
   "codemirror_mode": {
    "name": "ipython",
    "version": 3
   },
   "file_extension": ".py",
   "mimetype": "text/x-python",
   "name": "python",
   "nbconvert_exporter": "python",
   "pygments_lexer": "ipython3",
   "version": "3.11.2"
  },
  "widgets": {
   "application/vnd.jupyter.widget-state+json": {
    "state": {},
    "version_major": 2,
    "version_minor": 0
   }
  }
 },
 "nbformat": 4,
 "nbformat_minor": 5
}
