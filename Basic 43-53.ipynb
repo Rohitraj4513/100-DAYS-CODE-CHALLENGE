{
 "cells": [
  {
   "cell_type": "code",
   "execution_count": 1,
   "id": "aaf72ee7-c5db-4d59-bfaa-1623464bf920",
   "metadata": {},
   "outputs": [
    {
     "name": "stdout",
     "output_type": "stream",
     "text": [
      "Lcm is 69\n"
     ]
    }
   ],
   "source": [
    "#LCM of a Number using Recursion\n",
    "def Hcf(a , b):\n",
    "    if b == 0:\n",
    "        return a\n",
    "    return Hcf(b , a % b)\n",
    "\n",
    "def Lcm(v1 , v2):\n",
    "    return (v1 * v2) // Hcf(v1 , v2)\n",
    "a=23\n",
    "b=69\n",
    "print(f'Lcm is {Lcm(a , b)}')"
   ]
  },
  {
   "cell_type": "code",
   "execution_count": 4,
   "id": "985801df-23a0-446d-8237-49609c80fdf4",
   "metadata": {},
   "outputs": [
    {
     "name": "stdout",
     "output_type": "stream",
     "text": [
      "3\n"
     ]
    }
   ],
   "source": [
    "#Length of the String using Recursion\n",
    "st=\" ab\"\n",
    "count = 0\n",
    "for i in st:\n",
    "    count +=1\n",
    "print(count)"
   ]
  },
  {
   "cell_type": "code",
   "execution_count": 10,
   "id": "850eefe2-2ab1-497e-8475-69fcc8e4fe3a",
   "metadata": {},
   "outputs": [
    {
     "name": "stdout",
     "output_type": "stream",
     "text": [
      "3\n"
     ]
    }
   ],
   "source": [
    "#Length of the String using Recursion\n",
    "def Cnt(st):\n",
    "    if st == \"\":\n",
    "        return 0\n",
    "    return 1 + Cnt(st[1:])\n",
    "\n",
    "print(Cnt('ab'))"
   ]
  },
  {
   "cell_type": "code",
   "execution_count": 14,
   "id": "59dd54fa-72fb-47c7-92b2-8007b943bbd7",
   "metadata": {},
   "outputs": [
    {
     "name": "stdout",
     "output_type": "stream",
     "text": [
      "['', 'a', 'b', 'ab', 'c', 'ac', 'bc', 'abc']\n"
     ]
    }
   ],
   "source": [
    "#Print All Permutations\n",
    "st='abc'\n",
    "lst=[]\n",
    "n=len(st)\n",
    "for i in range(1 << n):\n",
    "    count =\"\"\n",
    "    for j in range(n):\n",
    "        if i & (1 << j):\n",
    "            count += st[j]\n",
    "    lst.append(count)\n",
    "print(lst)"
   ]
  },
  {
   "cell_type": "code",
   "execution_count": 16,
   "id": "46869184-57c6-4929-b5f6-ea3975a5f05a",
   "metadata": {},
   "outputs": [
    {
     "name": "stdout",
     "output_type": "stream",
     "text": [
      "['abc', 'acb', 'bac', 'bca', 'cab', 'cba']\n"
     ]
    }
   ],
   "source": [
    "#Print All Subset\n",
    "st = \"abc\"\n",
    "lst=[]\n",
    "n=len(st)\n",
    "for i in range(n):\n",
    "    for j in range(n):\n",
    "        for k in range(n):\n",
    "            if i != j and j != k and i != k :\n",
    "                count = st[i] + st[j] + st[k]\n",
    "                lst.append(count)\n",
    "print(lst)"
   ]
  },
  {
   "cell_type": "code",
   "execution_count": 24,
   "id": "e798b172-31fe-4623-bf9c-ca19f381e11b",
   "metadata": {},
   "outputs": [
    {
     "name": "stdout",
     "output_type": "stream",
     "text": [
      "['abc', 'acb', 'bac', 'bca', 'cab', 'cba']\n"
     ]
    }
   ],
   "source": [
    "#Print All Permutations\n",
    "stn='abc'\n",
    "lst2=[]\n",
    "n2=len(stn)\n",
    "for i in range(n2):\n",
    "    for j in range(n2):\n",
    "        for k in range(n2):\n",
    "            if i != j and j != k and k != i:\n",
    "                count = stn[i] + stn[j] + stn[k]\n",
    "                lst2.append(count)\n",
    "print(lst2)\n",
    "    "
   ]
  },
  {
   "cell_type": "code",
   "execution_count": 38,
   "id": "089a6f49-74d8-4d85-bb80-0ee63e267ba9",
   "metadata": {},
   "outputs": [
    {
     "name": "stdout",
     "output_type": "stream",
     "text": [
      "0 5 4 9 3 8 7 12 [0, 0, 0, 5, 5, 5, 0, 4, 4, 5, 9, 9, 0, 0, 3, 5, 5, 8, 0, 4, 7, 5, 9, 12]\n"
     ]
    }
   ],
   "source": [
    "#Print All Subset\n",
    "lst1=[]\n",
    "lst=[5 , 4 , 3]\n",
    "n=len(lst)\n",
    "for i in range(1 << n):\n",
    "    count=0\n",
    "    for j in range(n):\n",
    "        if (i & (1 << j)) != 0:\n",
    "            count += lst[j]\n",
    "        lst1.append(count)\n",
    "    print(count , end=\" \")\n",
    "print(lst1)\n",
    "        "
   ]
  },
  {
   "cell_type": "code",
   "execution_count": null,
   "id": "01e2f01e-52da-44d5-9769-46b588d62069",
   "metadata": {},
   "outputs": [],
   "source": []
  },
  {
   "cell_type": "code",
   "execution_count": null,
   "id": "838024be-adee-4135-8cfd-19982fa4f681",
   "metadata": {},
   "outputs": [],
   "source": []
  },
  {
   "cell_type": "code",
   "execution_count": null,
   "id": "dc1a7a80-2ab2-440c-833c-0dace5a3e212",
   "metadata": {},
   "outputs": [],
   "source": []
  },
  {
   "cell_type": "code",
   "execution_count": null,
   "id": "c3a5a0df-2f78-403b-8db7-32b1a8489511",
   "metadata": {},
   "outputs": [],
   "source": []
  },
  {
   "cell_type": "code",
   "execution_count": null,
   "id": "2010e9b2-5760-45fe-b790-2268477dd374",
   "metadata": {},
   "outputs": [],
   "source": []
  },
  {
   "cell_type": "code",
   "execution_count": null,
   "id": "083834c8-024b-4cd8-829c-b4876dd23ad5",
   "metadata": {},
   "outputs": [],
   "source": []
  },
  {
   "cell_type": "code",
   "execution_count": null,
   "id": "9feb9673-5091-4267-a749-4e84434dab6d",
   "metadata": {},
   "outputs": [],
   "source": []
  },
  {
   "cell_type": "code",
   "execution_count": null,
   "id": "eec26f83-3040-4054-8f99-43700f46e14a",
   "metadata": {},
   "outputs": [],
   "source": []
  },
  {
   "cell_type": "code",
   "execution_count": null,
   "id": "9c7a0de7-6af5-43c2-b94f-4a323fec4df0",
   "metadata": {},
   "outputs": [],
   "source": []
  },
  {
   "cell_type": "code",
   "execution_count": null,
   "id": "fcd0f44e-f514-46a7-aab4-157bcaf5b474",
   "metadata": {},
   "outputs": [],
   "source": []
  },
  {
   "cell_type": "code",
   "execution_count": null,
   "id": "62fbd2f1-7546-4df3-bcb8-c6cba02a0135",
   "metadata": {},
   "outputs": [],
   "source": []
  },
  {
   "cell_type": "code",
   "execution_count": null,
   "id": "89e465dd-0164-4140-86b0-1c30ca33f28f",
   "metadata": {},
   "outputs": [],
   "source": []
  },
  {
   "cell_type": "code",
   "execution_count": null,
   "id": "4cb9b469-7aae-41a5-aa2d-37286136bda2",
   "metadata": {},
   "outputs": [],
   "source": []
  },
  {
   "cell_type": "code",
   "execution_count": null,
   "id": "80f1e67d-d828-4a31-80e8-98a51dcf5ecf",
   "metadata": {},
   "outputs": [],
   "source": []
  },
  {
   "cell_type": "code",
   "execution_count": null,
   "id": "4086f8a2-15d9-416e-8883-7c2699c79f41",
   "metadata": {},
   "outputs": [],
   "source": []
  },
  {
   "cell_type": "code",
   "execution_count": null,
   "id": "f1155e6c-078f-4446-92ba-d963006a852c",
   "metadata": {},
   "outputs": [],
   "source": []
  },
  {
   "cell_type": "code",
   "execution_count": null,
   "id": "e4a3753f-5bc2-42b2-9f32-a1d3fe44926f",
   "metadata": {},
   "outputs": [],
   "source": []
  },
  {
   "cell_type": "code",
   "execution_count": null,
   "id": "5e8d4b33-81cf-41bb-9866-2658522132e3",
   "metadata": {},
   "outputs": [],
   "source": []
  },
  {
   "cell_type": "code",
   "execution_count": null,
   "id": "ac53c6c3-2f25-483e-acd6-010998c9d62d",
   "metadata": {},
   "outputs": [],
   "source": []
  },
  {
   "cell_type": "code",
   "execution_count": null,
   "id": "ee686358-0643-4e9b-b9f4-cad0fa4aeb0b",
   "metadata": {},
   "outputs": [],
   "source": []
  },
  {
   "cell_type": "code",
   "execution_count": null,
   "id": "8eaac632-e4f8-46cf-a7a7-4af17fffc586",
   "metadata": {},
   "outputs": [],
   "source": []
  },
  {
   "cell_type": "code",
   "execution_count": null,
   "id": "f9e027db-0d86-402a-a1fa-e589f2ab5f37",
   "metadata": {},
   "outputs": [],
   "source": []
  },
  {
   "cell_type": "code",
   "execution_count": null,
   "id": "fe86807a-c155-4266-a136-39d3ccdf7db3",
   "metadata": {},
   "outputs": [],
   "source": []
  },
  {
   "cell_type": "code",
   "execution_count": null,
   "id": "67ace470-a2ed-4680-ae70-bc83e8753087",
   "metadata": {},
   "outputs": [],
   "source": []
  },
  {
   "cell_type": "code",
   "execution_count": null,
   "id": "4f2a04b6-aea7-48d6-ac45-97e74459cff6",
   "metadata": {},
   "outputs": [],
   "source": []
  },
  {
   "cell_type": "code",
   "execution_count": null,
   "id": "65f8b964-0bfd-4d48-8d62-f4e1ed40658c",
   "metadata": {},
   "outputs": [],
   "source": []
  },
  {
   "cell_type": "code",
   "execution_count": null,
   "id": "8d8328d1-6dc6-4bfc-b6d6-fcccf6a00168",
   "metadata": {},
   "outputs": [],
   "source": []
  },
  {
   "cell_type": "code",
   "execution_count": null,
   "id": "b55d8687-8c02-4217-a678-451f14b15a9a",
   "metadata": {},
   "outputs": [],
   "source": []
  },
  {
   "cell_type": "code",
   "execution_count": null,
   "id": "90977fe1-a2c2-4d16-9cba-c5b55a53b096",
   "metadata": {},
   "outputs": [],
   "source": []
  },
  {
   "cell_type": "code",
   "execution_count": null,
   "id": "9d77b5c5-05ad-4dae-b162-fe69df80954b",
   "metadata": {},
   "outputs": [],
   "source": []
  }
 ],
 "metadata": {
  "kernelspec": {
   "display_name": "Python 3 (ipykernel)",
   "language": "python",
   "name": "python3"
  },
  "language_info": {
   "codemirror_mode": {
    "name": "ipython",
    "version": 3
   },
   "file_extension": ".py",
   "mimetype": "text/x-python",
   "name": "python",
   "nbconvert_exporter": "python",
   "pygments_lexer": "ipython3",
   "version": "3.11.2"
  },
  "widgets": {
   "application/vnd.jupyter.widget-state+json": {
    "state": {},
    "version_major": 2,
    "version_minor": 0
   }
  }
 },
 "nbformat": 4,
 "nbformat_minor": 5
}
