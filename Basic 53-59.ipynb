{
 "cells": [
  {
   "cell_type": "code",
   "execution_count": 3,
   "id": "69181be7-2912-4b13-9ccf-8f8b39e2e4d5",
   "metadata": {},
   "outputs": [
    {
     "name": "stdout",
     "output_type": "stream",
     "text": [
      "121"
     ]
    }
   ],
   "source": [
    "#Nth row of Pascal’s Triangle \n",
    "num=2\n",
    "prev=1\n",
    "print(prev , end=\"Q\")\n",
    "for i in range(1 , num+1):\n",
    "    curr = (prev * (num - i + 1))// i\n",
    "    print(curr , end=\"\")\n",
    "    prev=curr"
   ]
  },
  {
   "cell_type": "code",
   "execution_count": 5,
   "id": "0f00a650-6424-4345-b20c-21c0b481409c",
   "metadata": {},
   "outputs": [
    {
     "name": "stdout",
     "output_type": "stream",
     "text": [
      "['{{}}', '{}{}']\n"
     ]
    }
   ],
   "source": [
    "#All Combinations of Balanced Parentheses in Python\n",
    "def Parentheses(n , open , close , s , ans):\n",
    "    if open == n and close == n:\n",
    "        ans.append(s)\n",
    "        return \n",
    "    if open < n:\n",
    "        Parentheses(n , open + 1 , close , s + '{' , ans)\n",
    "    if close < open :\n",
    "        Parentheses(n , open , close + 1, s + '}' , ans)\n",
    "\n",
    "\n",
    "n=2\n",
    "ans=[]\n",
    "Parentheses(n , 0 , 0 , \"\" , ans)\n",
    "print(ans)"
   ]
  },
  {
   "cell_type": "code",
   "execution_count": 6,
   "id": "a9ae6da9-75dd-4112-b757-016b28331c05",
   "metadata": {},
   "outputs": [
    {
     "name": "stdout",
     "output_type": "stream",
     "text": [
      "120\n"
     ]
    }
   ],
   "source": [
    "#Factorial of a Number using Recursion\n",
    "def fact(num):\n",
    "    if num == 1:\n",
    "        return 1\n",
    "    return num * fact(num-1)\n",
    "print(fact(5))"
   ]
  },
  {
   "cell_type": "code",
   "execution_count": 23,
   "id": "019aa24d-3fb5-4e94-83eb-bdd82d0edf90",
   "metadata": {},
   "outputs": [
    {
     "name": "stdout",
     "output_type": "stream",
     "text": [
      "\n",
      "1\n",
      "2\n",
      "1 2\n",
      "3\n",
      "1 3\n",
      "2 3\n",
      "1 2 3\n",
      "\n",
      "\n",
      "[[], [1], [2], [1, 2], [3], [1, 3], [2, 3], [1, 2, 3]]\n"
     ]
    }
   ],
   "source": [
    "#Find All Subsets in Python\n",
    "arr=[1 , 2 , 3]\n",
    "lst=[]\n",
    "n=len(arr)\n",
    "for i in range(1 << n):\n",
    "    count=[]\n",
    "    for j in range(n):\n",
    "        if i & (1 << j):\n",
    "            count.append(arr[j])\n",
    "    print(*count)\n",
    "    lst.append(count)\n",
    "\n",
    "print()\n",
    "print()\n",
    "print(lst)"
   ]
  },
  {
   "cell_type": "code",
   "execution_count": 51,
   "id": "489515b3-c586-4435-ad90-5556ef5e220e",
   "metadata": {},
   "outputs": [],
   "source": [
    "#Find All Subsets in Python\n",
    "def subst(arr , idx=0 , sub=None):\n",
    "    if sub is None:\n",
    "        sub=[]\n",
    "    print(*sub)\n",
    "    for i in range(idx , len(arr)):\n",
    "        sub.append(arr[i])\n",
    "        subset(arr , i+1 , sub)\n",
    "        sub.pop()\n",
    "        "
   ]
  },
  {
   "cell_type": "code",
   "execution_count": 52,
   "id": "a658eed7-15be-49fb-9f39-3af1a61cf615",
   "metadata": {},
   "outputs": [
    {
     "name": "stdout",
     "output_type": "stream",
     "text": [
      "\n",
      "1\n",
      "1 2\n",
      "1 2 3\n",
      "1 3\n",
      "2\n",
      "2 3\n",
      "3\n"
     ]
    }
   ],
   "source": [
    "arr = [1, 2, 3]\n",
    "subst(arr)"
   ]
  },
  {
   "cell_type": "code",
   "execution_count": 69,
   "id": "d2887b1a-958c-4e98-b6d9-bf8709a12866",
   "metadata": {},
   "outputs": [],
   "source": [
    "#Remove all Adjacent Duplicate Characters Recursively\n",
    "def remove_elemt(s):\n",
    "    n=len(s)\n",
    "    if n == 0 or n == 1:\n",
    "        return s\n",
    "    resu=[]\n",
    "    i=0\n",
    "    while i < n:\n",
    "        if i < n-1 and s[i] == s[i+1]:\n",
    "            while i < n-1 and s[i] == s[i+1]:\n",
    "                i +=1\n",
    "        else:\n",
    "            resu.append(s[i])\n",
    "            \n",
    "        i +=1\n",
    "        \n",
    "    new_s = ''.join(resu)\n",
    "\n",
    "    if new_s != s:\n",
    "        return remove_elemt(new_s)\n",
    "        \n",
    "    return new_s"
   ]
  },
  {
   "cell_type": "code",
   "execution_count": 70,
   "id": "da367463-0392-49f8-8ac6-9ac071f4d220",
   "metadata": {},
   "outputs": [
    {
     "name": "stdout",
     "output_type": "stream",
     "text": [
      "ae\n"
     ]
    }
   ],
   "source": [
    "st=\"acaabbbceddd\"\n",
    "n=len(st)\n",
    "print(remove_elemt(st))"
   ]
  },
  {
   "cell_type": "code",
   "execution_count": null,
   "id": "5a4a503b-35cd-4646-a2f1-dbeba95bbdf3",
   "metadata": {},
   "outputs": [],
   "source": []
  }
 ],
 "metadata": {
  "kernelspec": {
   "display_name": "Python 3 (ipykernel)",
   "language": "python",
   "name": "python3"
  },
  "language_info": {
   "codemirror_mode": {
    "name": "ipython",
    "version": 3
   },
   "file_extension": ".py",
   "mimetype": "text/x-python",
   "name": "python",
   "nbconvert_exporter": "python",
   "pygments_lexer": "ipython3",
   "version": "3.11.2"
  },
  "widgets": {
   "application/vnd.jupyter.widget-state+json": {
    "state": {},
    "version_major": 2,
    "version_minor": 0
   }
  }
 },
 "nbformat": 4,
 "nbformat_minor": 5
}
