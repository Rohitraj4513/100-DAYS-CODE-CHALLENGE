{
 "cells": [
  {
   "cell_type": "code",
   "execution_count": 5,
   "id": "b1d3e8f4-2222-4332-878a-ad2f30fff120",
   "metadata": {},
   "outputs": [
    {
     "name": "stdout",
     "output_type": "stream",
     "text": [
      "Sorted Array : [4, 8, 9, 10, 56, 80, 89]\n",
      "Largest Elements : 89\n"
     ]
    }
   ],
   "source": [
    "#Largest Element in an array\n",
    "a = [10, 89, 9, 56, 4, 80, 8]\n",
    "n=len(a)\n",
    "for i in range(n):\n",
    "    for j in range(i ,n):\n",
    "        if  a[i] > a[j]:\n",
    "            a[i] , a[j] = a[j] , a[i]\n",
    "\n",
    "print(f\"Sorted Array : {a}\")\n",
    "print(f\"Largest Elements : {a[-1]}\")\n",
    "   "
   ]
  },
  {
   "cell_type": "code",
   "execution_count": 17,
   "id": "3fddad03-037f-4f62-a2a2-9fa0b7a33bb7",
   "metadata": {},
   "outputs": [
    {
     "name": "stdout",
     "output_type": "stream",
     "text": [
      "Array : [10, 89, 9, 56, 4, 80, 8]\n",
      "2nd Largest Elements : 80\n"
     ]
    }
   ],
   "source": [
    "a = [10, 89, 9, 56, 4, 80, 8]\n",
    "n=len(a)\n",
    "count=a[0]\n",
    "ans=0\n",
    "for i in range(n):\n",
    "    if a[i] > count:\n",
    "        count = a[i]\n",
    "        \n",
    "for i in range(n):\n",
    "    if a[i] < count:\n",
    "        if a[i] > ans:\n",
    "            ans = a[i]\n",
    "print(f\"Array : {a}\")\n",
    "print(f\"2nd Largest Elements : {ans}\")\n",
    "        \n",
    "\n",
    "    "
   ]
  },
  {
   "cell_type": "code",
   "execution_count": 21,
   "id": "e9a13339-acf7-4bda-bf70-6316a89207ac",
   "metadata": {},
   "outputs": [
    {
     "name": "stdout",
     "output_type": "stream",
     "text": [
      "2nd Smallest Elements : 8\n",
      "Smallest Elements : 4\n"
     ]
    }
   ],
   "source": [
    "#Find smallest element in an array\n",
    "a = [10, 89, 9, 56, 4, 80, 8]\n",
    "n=len(a)\n",
    "ans=a[0]\n",
    "an=a[0]\n",
    "for i in range(n):\n",
    "    if a[i] < ans:\n",
    "        ans= a[i]\n",
    "for i in range(n):\n",
    "    if a[i] < an and a[i] != ans:\n",
    "        an=a[i]\n",
    "print(f\"2nd Smallest Elements : {an}\") \n",
    "print(f\"Smallest Elements : {ans}\") "
   ]
  },
  {
   "cell_type": "code",
   "execution_count": 22,
   "id": "c9768db2-25b3-4166-9294-7b6f44f0f372",
   "metadata": {},
   "outputs": [
    {
     "name": "stdout",
     "output_type": "stream",
     "text": [
      "Largest Elements : 89\n",
      "Smallest Elements : 4\n"
     ]
    }
   ],
   "source": [
    "#Smallest and Largest Element in an array\n",
    "a = [10, 89, 9, 56, 4, 80, 8]\n",
    "n=len(a)\n",
    "larg=a[0]\n",
    "sml=a[0]\n",
    "for i in range(n):\n",
    "    if a[i] > larg:\n",
    "        larg = a[i]\n",
    "    if a[i] < sml:\n",
    "        sml = a[i]\n",
    "print(f\"Largest Elements : {larg}\")\n",
    "print(f\"Smallest Elements : {sml}\") "
   ]
  },
  {
   "cell_type": "code",
   "execution_count": 23,
   "id": "f7d8aed9-1f00-4447-b582-83949b06aa34",
   "metadata": {},
   "outputs": [
    {
     "name": "stdout",
     "output_type": "stream",
     "text": [
      "Sum of Elements : 256\n"
     ]
    }
   ],
   "source": [
    "#Sum of Elements in an array\n",
    "a = [10, 89, 9, 56, 4, 80, 8]\n",
    "sum=0\n",
    "for i in a:\n",
    "    sum += i\n",
    "print(f\"Sum of Elements : {sum}\")"
   ]
  },
  {
   "cell_type": "code",
   "execution_count": 26,
   "id": "7fd8d511-3d9b-4ff5-8fa0-5e64ce073e2d",
   "metadata": {},
   "outputs": [
    {
     "name": "stdout",
     "output_type": "stream",
     "text": [
      "Reverse Array : [89, 80, 56, 10, 9, 8, 4]\n"
     ]
    }
   ],
   "source": [
    "#Python Code for Reverse\n",
    "a = [10, 89, 9, 56, 4, 80, 8]\n",
    "for i in range(len(a)):\n",
    "    for j in range(i , len(a)):\n",
    "        if a[i] < a[j]:\n",
    "            a[i] , a[j] = a[j] , a[i]\n",
    "print(F\"Reverse Array : {a}\")"
   ]
  },
  {
   "cell_type": "code",
   "execution_count": 45,
   "id": "8a597e30-fe34-4922-b9cb-75bf221745da",
   "metadata": {},
   "outputs": [
    {
     "name": "stdout",
     "output_type": "stream",
     "text": [
      "[1, 7, 9, 34, 89, 90]\n",
      "Sort Ascending and Descending : [1, 7, 9, 90, 89, 34]\n"
     ]
    }
   ],
   "source": [
    "#Sort First half in Ascending and Second half in descending order\n",
    "a = [1, 90, 34, 89, 7, 9]\n",
    "n=len(a)\n",
    "hlf=n//2\n",
    "for i in range(n):\n",
    "    for j in range(i , n):\n",
    "        if a[i] > a[j]:\n",
    "            a[i] , a[j] = a[j] , a[i]\n",
    "print(a)\n",
    "for i in range(hlf):\n",
    "    for j in range(hlf-i-1):\n",
    "        if a[j] > a[j+1]:\n",
    "            a[j] , a[j+1] = a[j+1] , a[j]\n",
    "            \n",
    "for i in range(hlf , n):\n",
    "    for j in range(hlf , n-1 -(i - hlf)):\n",
    "        if a[j] < a[j+1]:\n",
    "            a[j] , a[j+1] = a[j+1] , a[j]\n",
    "print(f\"Sort Ascending and Descending : {a}\")"
   ]
  },
  {
   "cell_type": "code",
   "execution_count": 49,
   "id": "d24fdc9c-7295-44f9-9e63-8ef75f241c36",
   "metadata": {},
   "outputs": [
    {
     "name": "stdout",
     "output_type": "stream",
     "text": [
      "[1, 7, 9, 34, 89, 90]\n",
      "Sort Ascending and Descending : [1, 7, 9, 90, 89, 34]\n"
     ]
    }
   ],
   "source": [
    "#Sort First half in Ascending and Second half in descending order\n",
    "a = [1, 90, 34, 89, 7, 9]\n",
    "n=len(a)\n",
    "hlf=n//2\n",
    "for i in range(n):\n",
    "    for j in range(i , n):\n",
    "        if a[i] > a[j]:\n",
    "            a[i] , a[j] = a[j] , a[i]\n",
    "print(a)\n",
    "for i in range(hlf):\n",
    "    for j in range(hlf):\n",
    "        if a[i] < a[j+1]:\n",
    "            a[i] , a[j] = a[j] , a[i]\n",
    "            \n",
    "for i in range(hlf , n):\n",
    "    for j in range(hlf , n):\n",
    "        if a[i] > a[j]:\n",
    "            a[i] , a[j] = a[j] , a[i]\n",
    "print(f\"Sort Ascending and Descending : {a}\")"
   ]
  },
  {
   "cell_type": "code",
   "execution_count": 53,
   "id": "66cea0f7-8ffd-477e-8644-e53c68be6f2c",
   "metadata": {},
   "outputs": [
    {
     "name": "stdout",
     "output_type": "stream",
     "text": [
      "10 : 4\n",
      "20 : 2\n",
      "30 : 2\n"
     ]
    }
   ],
   "source": [
    "#Frequency of Elements in an Array\n",
    "arr = [10, 30, 10, 20, 10, 20, 30, 10]\n",
    "m = max(arr)\n",
    "freq=[0]*(m+1)\n",
    "for i in arr:\n",
    "    freq[i] +=1\n",
    "for i in range(len(freq)):\n",
    "    if freq[i] != 0:\n",
    "        print(f\"{i} : {freq[i]}\")"
   ]
  },
  {
   "cell_type": "code",
   "execution_count": 70,
   "id": "9a8c265a-b912-4530-becb-827a2308c0f6",
   "metadata": {},
   "outputs": [
    {
     "name": "stdout",
     "output_type": "stream",
     "text": [
      "30 30 30 30 30 30 10 10 10 10 20 20 "
     ]
    }
   ],
   "source": [
    "#Sorting elements of an Array by Frequency\n",
    "arr = [10, 30, 10, 20, 10, 20, 30, 10 , 30 , 30 , 30 , 30]\n",
    "m=max(arr)\n",
    "freq = [0]*(m+1)\n",
    "for i in arr:\n",
    "    freq[i] +=1\n",
    "frq_list=[]\n",
    "for i in range(len(freq)):\n",
    "    if freq[i] > 0:\n",
    "        frq_list.append([i , freq[i]])\n",
    "        \n",
    "for i in range(len(frq_list)):\n",
    "    for j in range(i+1 , len(frq_list)):\n",
    "        if (frq_list[i][1] < frq_list[j][i] ):\n",
    "            frq_list[i] , frq_list[j] = frq_list[j] , frq_list[i]\n",
    "            \n",
    "for i in frq_list:\n",
    "    for j in range(i[1]):\n",
    "        print(i[0] , end=\" \")\n"
   ]
  },
  {
   "cell_type": "code",
   "execution_count": 64,
   "id": "29aca0e2-87bb-43dc-91a9-1a1120d7bd46",
   "metadata": {},
   "outputs": [
    {
     "name": "stdout",
     "output_type": "stream",
     "text": [
      "Sorted array by frequency: [30, 30, 30, 30, 30, 30, 10, 10, 10, 10, 20, 20]\n"
     ]
    }
   ],
   "source": []
  },
  {
   "cell_type": "code",
   "execution_count": null,
   "id": "663a02aa-4e16-47ca-96fc-f077c884c23e",
   "metadata": {},
   "outputs": [],
   "source": []
  },
  {
   "cell_type": "code",
   "execution_count": null,
   "id": "c6f567e5-5dd3-48a4-b4f8-1506d706f77c",
   "metadata": {},
   "outputs": [],
   "source": []
  },
  {
   "cell_type": "code",
   "execution_count": null,
   "id": "55453949-ca8b-4408-bd59-6264c41b0645",
   "metadata": {},
   "outputs": [],
   "source": []
  },
  {
   "cell_type": "code",
   "execution_count": null,
   "id": "a41465ba-5006-4d9f-8367-5c1dee3a5b6f",
   "metadata": {},
   "outputs": [],
   "source": []
  },
  {
   "cell_type": "code",
   "execution_count": null,
   "id": "78ee9cee-5006-47c6-b100-af4268c5fe1d",
   "metadata": {},
   "outputs": [],
   "source": []
  },
  {
   "cell_type": "code",
   "execution_count": null,
   "id": "185dbeb8-b3e8-435f-aa03-2627b6a1514d",
   "metadata": {},
   "outputs": [],
   "source": []
  },
  {
   "cell_type": "code",
   "execution_count": null,
   "id": "ef8a5dc9-80e8-4bf8-8520-b6b04c970bbd",
   "metadata": {},
   "outputs": [],
   "source": []
  },
  {
   "cell_type": "code",
   "execution_count": null,
   "id": "64edf94c-bfc8-4c93-aecc-4a6b9f4238a4",
   "metadata": {},
   "outputs": [],
   "source": []
  },
  {
   "cell_type": "code",
   "execution_count": null,
   "id": "d8858ca5-4221-4ad3-af4f-486ca8b853de",
   "metadata": {},
   "outputs": [],
   "source": []
  },
  {
   "cell_type": "code",
   "execution_count": null,
   "id": "e80e3075-bd11-42b1-90d1-c94669aa2740",
   "metadata": {},
   "outputs": [],
   "source": []
  },
  {
   "cell_type": "code",
   "execution_count": null,
   "id": "e2ceb4e2-5a03-4970-9b43-237221b5c1a3",
   "metadata": {},
   "outputs": [],
   "source": []
  },
  {
   "cell_type": "code",
   "execution_count": null,
   "id": "0acb328b-f8aa-4ca4-b5b6-5b584da44073",
   "metadata": {},
   "outputs": [],
   "source": []
  },
  {
   "cell_type": "code",
   "execution_count": null,
   "id": "7d6d337e-577c-4ef9-89b3-18abfa15a1b7",
   "metadata": {},
   "outputs": [],
   "source": []
  },
  {
   "cell_type": "code",
   "execution_count": null,
   "id": "a91178b7-2808-4633-a42d-073a6ec12598",
   "metadata": {},
   "outputs": [],
   "source": []
  }
 ],
 "metadata": {
  "kernelspec": {
   "display_name": "Python 3 (ipykernel)",
   "language": "python",
   "name": "python3"
  },
  "language_info": {
   "codemirror_mode": {
    "name": "ipython",
    "version": 3
   },
   "file_extension": ".py",
   "mimetype": "text/x-python",
   "name": "python",
   "nbconvert_exporter": "python",
   "pygments_lexer": "ipython3",
   "version": "3.11.2"
  },
  "widgets": {
   "application/vnd.jupyter.widget-state+json": {
    "state": {},
    "version_major": 2,
    "version_minor": 0
   }
  }
 },
 "nbformat": 4,
 "nbformat_minor": 5
}
