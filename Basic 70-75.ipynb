{
 "cells": [
  {
   "cell_type": "code",
   "execution_count": 2,
   "id": "3bf3dcf2-7277-475e-aacb-d08d60abc6c3",
   "metadata": {},
   "outputs": [
    {
     "name": "stdout",
     "output_type": "stream",
     "text": [
      "5\n"
     ]
    }
   ],
   "source": [
    "#Counting Distinct Elements\n",
    "arr= [10, 20, 40, 30, 50, 20, 10, 20]\n",
    "n=len(arr)\n",
    "m=max(arr)\n",
    "count=0\n",
    "freq = [0]*(m+1)\n",
    "\n",
    "for i in arr:\n",
    "    freq[i] +=1\n",
    "for i in range(len(freq)):\n",
    "    if freq[i] != 0:\n",
    "        count +=1\n",
    "print(count)    "
   ]
  },
  {
   "cell_type": "code",
   "execution_count": 3,
   "id": "a8e60572-41e1-4b24-8037-0b9936e317a0",
   "metadata": {},
   "outputs": [
    {
     "name": "stdout",
     "output_type": "stream",
     "text": [
      "5\n"
     ]
    }
   ],
   "source": [
    "#Counting Distinct Elements\n",
    "arr= [10, 20, 40, 30, 50, 20, 10, 20]\n",
    "count=len(set(arr))\n",
    "print(count)"
   ]
  },
  {
   "cell_type": "code",
   "execution_count": 4,
   "id": "288aa6bf-ac2f-41cf-9e84-6ee4dc5cc057",
   "metadata": {},
   "outputs": [
    {
     "name": "stdout",
     "output_type": "stream",
     "text": [
      "5\n"
     ]
    }
   ],
   "source": [
    "#Counting Distinct Elements\n",
    "arr= [10, 20, 40, 30, 50, 20, 10, 20]\n",
    "dict={}\n",
    "\n",
    "for i in arr:\n",
    "    dict[i] = dict.get(i , 0)+1\n",
    "count = len(dict)\n",
    "print(count)"
   ]
  },
  {
   "cell_type": "code",
   "execution_count": 21,
   "id": "8957539a-7339-41ef-be15-e3980f3ce9ba",
   "metadata": {},
   "outputs": [
    {
     "name": "stdout",
     "output_type": "stream",
     "text": [
      "[10, 20]\n"
     ]
    }
   ],
   "source": [
    "#Repeating elements in an Array\n",
    "arr = [10, 20, 40, 30, 50, 20, 10, 20]\n",
    "lst=[]\n",
    "n=len(arr)\n",
    "for i in range(n):\n",
    "    count=1\n",
    "    for j in range(i+1 , n):\n",
    "        if arr[i] == arr[j]:\n",
    "            count +=1 \n",
    "    if arr[i] not in lst and count > 1:\n",
    "        lst.append(arr[i])\n",
    "    \n",
    "print(lst)"
   ]
  },
  {
   "cell_type": "code",
   "execution_count": 25,
   "id": "e7bdbedc-8cee-4977-b20b-12f94582a394",
   "metadata": {},
   "outputs": [
    {
     "name": "stdout",
     "output_type": "stream",
     "text": [
      "[10, 20]\n"
     ]
    }
   ],
   "source": [
    "#Repeating elements in an Array\n",
    "arr = [10, 20, 40, 30, 50, 20, 10, 20]\n",
    "dict={}\n",
    "lst=[]\n",
    "for i in arr:\n",
    "    dict[i] = dict.get(i , 0)+1\n",
    "for i in dict:\n",
    "    if dict[i] > 1:\n",
    "        lst.append(i)\n",
    "print(lst)        "
   ]
  },
  {
   "cell_type": "code",
   "execution_count": 19,
   "id": "9a6f641b-09fe-48c5-b571-787a6128041f",
   "metadata": {},
   "outputs": [
    {
     "name": "stdout",
     "output_type": "stream",
     "text": [
      "10 20 "
     ]
    }
   ],
   "source": [
    "#Repeating elements in an Array\n",
    "arr = [10, 20, 40, 30, 50, 20, 10, 20]\n",
    "m=max(arr)\n",
    "lst=[0]*(m+1)\n",
    "for i in arr:\n",
    "    lst[i] +=1\n",
    "    \n",
    "for i in range(len(lst)):\n",
    "    if lst[i] > 1:\n",
    "        print(i , end=' ') "
   ]
  },
  {
   "cell_type": "code",
   "execution_count": 27,
   "id": "b58640e5-bbfa-4224-a237-cc381dc37d31",
   "metadata": {},
   "outputs": [
    {
     "name": "stdout",
     "output_type": "stream",
     "text": [
      "70 90 80 "
     ]
    }
   ],
   "source": [
    "#Non-repeating elements in an array\n",
    "arr= [10, 20, 70, 90, 80, 20, 10, 20]\n",
    "dict={}\n",
    "for i in arr:\n",
    "    dict[i] =dict.get(i , 0)+1\n",
    "for i in dict:\n",
    "    if dict[i] == 1:\n",
    "        print(i , end=\" \")\n"
   ]
  },
  {
   "cell_type": "code",
   "execution_count": 43,
   "id": "fb41df3a-1eb1-4d47-8a9e-f74b5dfdb838",
   "metadata": {},
   "outputs": [
    {
     "name": "stdout",
     "output_type": "stream",
     "text": [
      "Before Array : [10, 20, 20, 30, 40, 40, 40, 50, 50]\n",
      "After Array : [10, 20, 0, 30, 40, 0, 0, 50, 0]\n",
      "After Array : [0, 0, 0, 0, 10, 20, 30, 40, 50]\n"
     ]
    }
   ],
   "source": [
    "#Remove duplicate elements\n",
    "arr = [10, 20, 20, 30, 40, 40, 40, 50, 50]\n",
    "print(f\"Before Array : {arr}\")\n",
    "n=len(arr)\n",
    "for i in range(len(arr)):\n",
    "    count=0\n",
    "    for j in range(i+1 , len(arr)):\n",
    "        if arr[i] == arr[j]:\n",
    "            arr[j] = 0\n",
    "print(f\"After Array : {arr}\")\n",
    "n=len(arr)\n",
    "\n",
    "for i in range(len(arr)):\n",
    "    for j in range(i , len(arr)):\n",
    "        if arr[i] > arr[j]:\n",
    "            arr[i] , arr[j] = arr[j] ,arr[i]\n",
    "            \n",
    "print(f\"After Array : {arr}\")"
   ]
  },
  {
   "cell_type": "code",
   "execution_count": 50,
   "id": "3dd6cdd0-0398-42b8-b349-7e22d3cd6158",
   "metadata": {},
   "outputs": [
    {
     "name": "stdout",
     "output_type": "stream",
     "text": [
      "After Array : [10, 20, 30, 40, 50]\n"
     ]
    }
   ],
   "source": [
    "#Remove duplicate elements\n",
    "arr = [10, 20, 20, 30, 40, 40, 40, 50, 50]\n",
    "lst=[]\n",
    "for i in range(len(arr)):\n",
    "    if arr[i] not in lst:\n",
    "        lst.append(arr[i])\n",
    "print(f\"After Array : {lst}\")"
   ]
  },
  {
   "cell_type": "code",
   "execution_count": 56,
   "id": "3c25dcf7-6a6a-4884-acd5-9f8709b1c678",
   "metadata": {},
   "outputs": [
    {
     "name": "stdout",
     "output_type": "stream",
     "text": [
      "10 20 30 40 50 \n",
      "[10, 20, 30, 40, 50]\n"
     ]
    }
   ],
   "source": [
    "#Remove duplicate elements\n",
    "arr = [10, 20, 20, 30, 40, 40, 40, 50, 50]\n",
    "m=max(arr)\n",
    "lst=[0]*(m+1)\n",
    "ans=[]\n",
    "\n",
    "for i in arr:\n",
    "    lst[i] +=1\n",
    "for i in range(len(lst)):\n",
    "    if lst[i] != 0:\n",
    "        ans.append(i)\n",
    "        print(i ,end=' ')\n",
    "\n",
    "print(F'\\n{ans}')\n",
    "        "
   ]
  },
  {
   "cell_type": "code",
   "execution_count": 60,
   "id": "8f335f11-d945-491d-b3f5-5e7db68ea6cf",
   "metadata": {},
   "outputs": [
    {
     "name": "stdout",
     "output_type": "stream",
     "text": [
      "Even Elements in list : 2\n",
      "Odd Elements in list : 3\n"
     ]
    }
   ],
   "source": [
    "#Count number of even and odd elements\n",
    "arr = [11, 20, 35, 40, 53]\n",
    "n=len(arr)\n",
    "odd=0\n",
    "even=0\n",
    "for i in range(n):\n",
    "    if arr[i] % 2 == 0:\n",
    "        even +=1\n",
    "    else:\n",
    "        odd +=1\n",
    "print(f'Even Elements in list : {even}')\n",
    "print(f'Odd Elements in list : {odd}')"
   ]
  },
  {
   "cell_type": "code",
   "execution_count": null,
   "id": "8da8c7ce-1628-4340-9496-637fcf668c1f",
   "metadata": {},
   "outputs": [],
   "source": []
  }
 ],
 "metadata": {
  "kernelspec": {
   "display_name": "Python 3 (ipykernel)",
   "language": "python",
   "name": "python3"
  },
  "language_info": {
   "codemirror_mode": {
    "name": "ipython",
    "version": 3
   },
   "file_extension": ".py",
   "mimetype": "text/x-python",
   "name": "python",
   "nbconvert_exporter": "python",
   "pygments_lexer": "ipython3",
   "version": "3.11.2"
  },
  "widgets": {
   "application/vnd.jupyter.widget-state+json": {
    "state": {},
    "version_major": 2,
    "version_minor": 0
   }
  }
 },
 "nbformat": 4,
 "nbformat_minor": 5
}
