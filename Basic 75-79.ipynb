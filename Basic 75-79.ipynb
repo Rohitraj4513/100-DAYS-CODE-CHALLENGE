{
 "cells": [
  {
   "cell_type": "code",
   "execution_count": 4,
   "id": "c50d6b82-82f4-482c-906e-6fcb83d0a517",
   "metadata": {},
   "outputs": [
    {
     "name": "stdout",
     "output_type": "stream",
     "text": [
      "set()\n"
     ]
    }
   ],
   "source": [
    "#Find whether arrays are disjoint or not\n",
    "set1= {1,2,3,4} \n",
    "set2={5,6,7,32}\n",
    "dist=set1 & set2\n",
    "print(dist)"
   ]
  },
  {
   "cell_type": "code",
   "execution_count": 7,
   "id": "69859f8c-0d4c-491e-af00-4ac287eb4bf8",
   "metadata": {},
   "outputs": [
    {
     "name": "stdout",
     "output_type": "stream",
     "text": [
      "not disjoin\n"
     ]
    }
   ],
   "source": [
    "#Find whether arrays are disjoint or not\n",
    "set1= [1,2,3,4]\n",
    "set2=[5,6,7,4]\n",
    "n=len(set1)\n",
    "count=0\n",
    "for i in range(n):\n",
    "    for j in range(n):\n",
    "        if set1[i] == set2[j]:\n",
    "            count +=1\n",
    "            break\n",
    "if count > 0:\n",
    "    print('not disjoin')\n",
    "else:\n",
    "    print('disjoin')"
   ]
  },
  {
   "cell_type": "code",
   "execution_count": 19,
   "id": "c12f98c6-8595-4714-8ca2-7d154fce52b9",
   "metadata": {},
   "outputs": [
    {
     "name": "stdout",
     "output_type": "stream",
     "text": [
      "Array Subset\n"
     ]
    }
   ],
   "source": [
    "#Check whether array is subset of another array or not\n",
    "arr1 = [11, 12, 13, 21, 30, 70]\n",
    "arr2 = [11, 30, 70, 21]\n",
    "count =0\n",
    "for i in range(len(arr2)):\n",
    "    count =0\n",
    "    for j in range(len(arr1)):\n",
    "        if arr2[i] == arr1[j]:\n",
    "            count +=1\n",
    "            break\n",
    "    if count == 0:\n",
    "        print(\"Array Not Subset\")\n",
    "if count != 0:\n",
    "    print(\"Array Subset\")"
   ]
  },
  {
   "cell_type": "code",
   "execution_count": 39,
   "id": "28b00e37-331a-4538-9a3a-e78ec321404a",
   "metadata": {},
   "outputs": [
    {
     "name": "stdout",
     "output_type": "stream",
     "text": [
      "[20, 20, 1, 1, 18, 18, 39, 5, 6, 7, 9]\n",
      "[5, 6, 7, 9]\n"
     ]
    }
   ],
   "source": [
    "#Sort Array according to the order defined by Another Array\n",
    "arr1 = [ 20, 1, 20, 5, 7, 1, 9, 39, 6, 18, 18 ]\n",
    "arr2 = [ 20, 1, 18, 39 ]\n",
    "sorted=[]\n",
    "remn=[]\n",
    "for i in range(len(arr2)):\n",
    "    for j in range(len(arr1)):\n",
    "        if arr2[i] == arr1[j]:\n",
    "            sorted.append(arr1[j])\n",
    "\n",
    "for i in arr1:\n",
    "    if i not in arr2:\n",
    "        remn.append(i)\n",
    "\n",
    "for i in range(len(remn)):\n",
    "    for j in range(len(remn)):\n",
    "        if remn[i] < remn[j]:\n",
    "            remn[i] , remn[j] = remn[j] , remn[i]\n",
    "            \n",
    "for i in range(len(remn)):\n",
    "    sorted.append(remn[i])\n",
    "        \n",
    "print(sorted)\n",
    "print(remn)     "
   ]
  },
  {
   "cell_type": "code",
   "execution_count": 52,
   "id": "625e4eb8-94f2-4710-b2b8-78c4ea4764a7",
   "metadata": {},
   "outputs": [
    {
     "name": "stdout",
     "output_type": "stream",
     "text": [
      "[100, 2, 70, 12, 90]\n",
      "[5, 1, 3, 2, 4]\n"
     ]
    }
   ],
   "source": [
    "#Replace each element by its Rank in the given Array\n",
    "arr = [100, 2, 70, 12 , 90]\n",
    "cmp = arr.copy()\n",
    "print(arr)\n",
    "for i in range(len(cmp)):\n",
    "    for j in range(i ,len(cmp)):\n",
    "        if cmp[i] > cmp[j]:\n",
    "            cmp[i] , cmp[j] = cmp[j] , cmp[i]\n",
    "            \n",
    "for  i in range(len(arr)):\n",
    "    for j in range(len(cmp)):\n",
    "        if arr[i] == cmp[j]:\n",
    "            arr[i] = j+1\n",
    "            break\n",
    "print(arr)"
   ]
  },
  {
   "cell_type": "code",
   "execution_count": null,
   "id": "4b1b01d9-5a8a-4d51-a910-82a097552d3a",
   "metadata": {},
   "outputs": [],
   "source": []
  }
 ],
 "metadata": {
  "kernelspec": {
   "display_name": "Python 3 (ipykernel)",
   "language": "python",
   "name": "python3"
  },
  "language_info": {
   "codemirror_mode": {
    "name": "ipython",
    "version": 3
   },
   "file_extension": ".py",
   "mimetype": "text/x-python",
   "name": "python",
   "nbconvert_exporter": "python",
   "pygments_lexer": "ipython3",
   "version": "3.11.2"
  },
  "widgets": {
   "application/vnd.jupyter.widget-state+json": {
    "state": {},
    "version_major": 2,
    "version_minor": 0
   }
  }
 },
 "nbformat": 4,
 "nbformat_minor": 5
}
