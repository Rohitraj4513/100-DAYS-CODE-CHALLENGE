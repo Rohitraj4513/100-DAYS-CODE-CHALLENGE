{
 "cells": [
  {
   "cell_type": "code",
   "execution_count": 1,
   "id": "3fad9296-9a43-43fe-94f8-af1b6f18079b",
   "metadata": {},
   "outputs": [
    {
     "name": "stdout",
     "output_type": "stream",
     "text": [
      "#Equilibrium index : 0\n"
     ]
    }
   ],
   "source": [
    "#Equilibrium index of an array\n",
    "arr = [4, -2, 0, 6, -4]\n",
    "total_sum = sum(arr)\n",
    "leftsum=0\n",
    "for i , num in enumerate(arr):\n",
    "    total_sum -= num\n",
    "\n",
    "    if total_sum == leftsum :\n",
    "        print(f\"#Equilibrium index : {i}\")\n",
    "        break\n",
    "    leftsum += num"
   ]
  },
  {
   "cell_type": "code",
   "execution_count": 20,
   "id": "e5ad0712-ff5e-4561-83c5-fe274205774a",
   "metadata": {},
   "outputs": [
    {
     "name": "stdout",
     "output_type": "stream",
     "text": [
      "Before Kth rotation : [10, 20, 30, 40, 50]\n",
      "After Kth  K:1 rotation : [50, 10, 20, 30, 40]\n"
     ]
    }
   ],
   "source": [
    "#Array Rotation Right\n",
    "def reverse(arr , st , end):\n",
    "    while st <= end:\n",
    "        arr[st] , arr[end] = arr[end] , arr[st]\n",
    "        st +=1\n",
    "        end -=1\n",
    "def kth_roate(arr , k):\n",
    "    n=len(arr)\n",
    "    k = k % n\n",
    "    reverse(arr , 0 ,n-1)\n",
    "    reverse(arr , 0 , k-1)\n",
    "    reverse(arr , k , n-1)\n",
    "\n",
    "arr = [10, 20, 30, 40, 50]\n",
    "k=1\n",
    "print(f\"Before Kth rotation : {arr}\")\n",
    "kth_roate(arr , k)\n",
    "print(f\"After Kth  K:{k} rotation : {arr}\")"
   ]
  },
  {
   "cell_type": "code",
   "execution_count": 29,
   "id": "c882ea61-ad20-47f4-83d8-c5829307890e",
   "metadata": {},
   "outputs": [
    {
     "name": "stdout",
     "output_type": "stream",
     "text": [
      "Before Kth rotation : [10, 20, 30, 40, 50]\n",
      "After Kth  K:1 rotation : [20, 30, 40, 50, 10]\n"
     ]
    }
   ],
   "source": [
    "##Array Rotation Left \n",
    "def reverse(arr , st , end):\n",
    "    while st <= end:\n",
    "        arr[st] , arr[end] = arr[end] , arr[st]\n",
    "        st +=1\n",
    "        end -=1\n",
    "\n",
    "def kth_roatete(arr , k):\n",
    "    n= len(arr)\n",
    "    k = k % n\n",
    "    reverse(arr , 0 , k-1)\n",
    "    reverse(arr , k , n-1)\n",
    "    reverse(arr , 0 , n-1)\n",
    "arr = [10, 20, 30, 40, 50]\n",
    "k=1\n",
    "print(f\"Before Kth rotation : {arr}\")\n",
    "kth_roatete(arr , k)\n",
    "print(f\"After Kth  K:{k} rotation : {arr}\")"
   ]
  },
  {
   "cell_type": "code",
   "execution_count": 16,
   "id": "04d9d458-6cc9-4558-bc0a-cf6ce5094ffe",
   "metadata": {},
   "outputs": [
    {
     "name": "stdout",
     "output_type": "stream",
     "text": [
      "[50, 10, 20, 30, 40]\n"
     ]
    }
   ],
   "source": [
    "arr = [10, 20, 30, 40, 50]\n",
    "k=\n",
    "ans=arr[-k:] + arr[:-k]\n",
    "print(ans)\n"
   ]
  },
  {
   "cell_type": "code",
   "execution_count": 17,
   "id": "74833d02-3eb3-4885-bc70-f85c2e74dc45",
   "metadata": {},
   "outputs": [
    {
     "name": "stdout",
     "output_type": "stream",
     "text": [
      "[20, 30, 40, 50, 10]\n"
     ]
    }
   ],
   "source": [
    "#Array Rotation Left \n",
    "arr = [10, 20, 30, 40, 50]\n",
    "k=1\n",
    "ans=arr[k:] + arr[:k]\n",
    "print(ans)"
   ]
  },
  {
   "cell_type": "code",
   "execution_count": 21,
   "id": "f971d3c4-d40f-4944-b1b0-e3b0c4d5d16f",
   "metadata": {},
   "outputs": [
    {
     "name": "stdout",
     "output_type": "stream",
     "text": [
      "[50, 40, 30, 20, 10]\n"
     ]
    }
   ],
   "source": [
    "#Array Rotation Left \n",
    "arr = [10, 20, 30, 40, 50]\n",
    "k=1\n",
    "ans=arr[::-1]\n",
    "print(ans)"
   ]
  },
  {
   "cell_type": "code",
   "execution_count": null,
   "id": "fd990dc0-949f-408a-900f-dc73e3b3ed42",
   "metadata": {},
   "outputs": [],
   "source": []
  },
  {
   "cell_type": "code",
   "execution_count": null,
   "id": "0b0e3a0f-fbf6-47a0-b14e-eb610882b7a2",
   "metadata": {},
   "outputs": [],
   "source": []
  },
  {
   "cell_type": "code",
   "execution_count": null,
   "id": "384fcadf-e04f-4814-933b-2ab827381ff7",
   "metadata": {},
   "outputs": [],
   "source": []
  },
  {
   "cell_type": "code",
   "execution_count": null,
   "id": "3559084b-9001-40c9-b1b0-311a434f85d7",
   "metadata": {},
   "outputs": [],
   "source": []
  },
  {
   "cell_type": "code",
   "execution_count": null,
   "id": "83bc9eb6-862f-48f9-b2a0-f79733c65f05",
   "metadata": {},
   "outputs": [],
   "source": []
  },
  {
   "cell_type": "code",
   "execution_count": null,
   "id": "5c22bed2-7f01-411d-b300-24387b861b64",
   "metadata": {},
   "outputs": [],
   "source": []
  },
  {
   "cell_type": "code",
   "execution_count": null,
   "id": "63c41006-4b17-4ebc-87b6-a34f31a093a5",
   "metadata": {},
   "outputs": [],
   "source": []
  },
  {
   "cell_type": "code",
   "execution_count": null,
   "id": "c0717b9a-1ef5-486e-b3f7-dc843b54b5b2",
   "metadata": {},
   "outputs": [],
   "source": []
  },
  {
   "cell_type": "code",
   "execution_count": null,
   "id": "17171372-7f29-482a-9647-6c347eeb7337",
   "metadata": {},
   "outputs": [],
   "source": []
  },
  {
   "cell_type": "code",
   "execution_count": null,
   "id": "3d8653fc-064c-4f0b-a4f6-916a1b1d5e33",
   "metadata": {},
   "outputs": [],
   "source": []
  },
  {
   "cell_type": "code",
   "execution_count": null,
   "id": "1f4fc640-e7a4-4dc0-b259-cefe9df22ba5",
   "metadata": {},
   "outputs": [],
   "source": []
  },
  {
   "cell_type": "code",
   "execution_count": null,
   "id": "e7de26ac-ef79-4244-aca2-eaca9ff97604",
   "metadata": {},
   "outputs": [],
   "source": []
  },
  {
   "cell_type": "code",
   "execution_count": null,
   "id": "ff297c52-f16e-41e7-8d6a-c9565b14432a",
   "metadata": {},
   "outputs": [],
   "source": []
  },
  {
   "cell_type": "code",
   "execution_count": null,
   "id": "b5d00176-532b-4865-a0c5-458fd5f5412a",
   "metadata": {},
   "outputs": [],
   "source": []
  },
  {
   "cell_type": "code",
   "execution_count": null,
   "id": "0902ca41-b9ba-471f-8ebe-48795ff29a01",
   "metadata": {},
   "outputs": [],
   "source": []
  },
  {
   "cell_type": "code",
   "execution_count": null,
   "id": "83d1350a-67ec-4122-a7d0-60ba213769c4",
   "metadata": {},
   "outputs": [],
   "source": []
  },
  {
   "cell_type": "code",
   "execution_count": null,
   "id": "aeef6ede-d82b-4c79-abef-d921ffdd2699",
   "metadata": {},
   "outputs": [],
   "source": []
  },
  {
   "cell_type": "code",
   "execution_count": null,
   "id": "b1a5dc98-1b89-4fed-a71d-3a5b4ff33dfd",
   "metadata": {},
   "outputs": [],
   "source": []
  },
  {
   "cell_type": "code",
   "execution_count": null,
   "id": "fe5ae217-0312-4e35-8bb0-2f15ccedea3d",
   "metadata": {},
   "outputs": [],
   "source": []
  },
  {
   "cell_type": "code",
   "execution_count": null,
   "id": "c5100c78-a9c7-4286-b156-ae1a1196ffd2",
   "metadata": {},
   "outputs": [],
   "source": []
  }
 ],
 "metadata": {
  "kernelspec": {
   "display_name": "Python 3 (ipykernel)",
   "language": "python",
   "name": "python3"
  },
  "language_info": {
   "codemirror_mode": {
    "name": "ipython",
    "version": 3
   },
   "file_extension": ".py",
   "mimetype": "text/x-python",
   "name": "python",
   "nbconvert_exporter": "python",
   "pygments_lexer": "ipython3",
   "version": "3.11.2"
  },
  "widgets": {
   "application/vnd.jupyter.widget-state+json": {
    "state": {},
    "version_major": 2,
    "version_minor": 0
   }
  }
 },
 "nbformat": 4,
 "nbformat_minor": 5
}
