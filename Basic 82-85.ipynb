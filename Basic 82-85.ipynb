{
 "cells": [
  {
   "cell_type": "code",
   "execution_count": 2,
   "id": "92a35739-6bbb-4bf4-962b-7f5fffa005f4",
   "metadata": {},
   "outputs": [
    {
     "name": "stdout",
     "output_type": "stream",
     "text": [
      "Original Array : [10, 20, 30, 40, 50, 60, 70]\n",
      "right rotaten by kth place : [60, 70, 10, 20, 30, 40, 50]\n",
      "left rotaten by kth place : [30, 40, 50, 60, 70, 10, 20]\n"
     ]
    }
   ],
   "source": [
    "#left rotaten by kth place in Python\n",
    "arr = [10, 20, 30, 40, 50, 60, 70]\n",
    "k=2\n",
    "print(f\"Original Array : {arr}\")\n",
    "right = arr[-k:] + arr[:-k]\n",
    "lft =arr[k:] + arr[:k]\n",
    "print(f\"right rotaten by kth place : {right}\")\n",
    "print(f\"left rotaten by kth place : {lft}\")"
   ]
  },
  {
   "cell_type": "code",
   "execution_count": 10,
   "id": "a1d9e2a2-e749-43b7-9e3b-6c2bde8d49d9",
   "metadata": {},
   "outputs": [
    {
     "name": "stdout",
     "output_type": "stream",
     "text": [
      "Original Array : [10, 20, 30, 40, 50, 60, 70]\n",
      "right rotaten by kth place : [10, 20, 30, 40, 50, 60, 70]\n"
     ]
    }
   ],
   "source": [
    "#right rotaten by kth place in Python\n",
    "def reverse(arr , st , end):\n",
    "    while st <= end:\n",
    "        arr[st] , arr[end] = arr[end] , arr[st]\n",
    "        st +=1\n",
    "        end -=1\n",
    "\n",
    "def reverse_Kth(arr , k):\n",
    "\n",
    "    n=len(arr)\n",
    "    k = k % n\n",
    "\n",
    "    reverse(arr , 0 , n-1)\n",
    "\n",
    "    reverse(arr , 0 , k-1)\n",
    "\n",
    "    reverse(arr , k , n-1)\n",
    "\n",
    "   \n",
    "\n",
    "arr = [10, 20, 30, 40, 50, 60, 70]\n",
    "k=7\n",
    "print(f\"Original Array : {arr}\")\n",
    "reverse_Kth(arr , k)\n",
    "print(f\"right rotaten by kth place : {arr}\")"
   ]
  },
  {
   "cell_type": "code",
   "execution_count": 8,
   "id": "c623996a-80c4-4c2f-b82c-5559f49e9132",
   "metadata": {},
   "outputs": [
    {
     "name": "stdout",
     "output_type": "stream",
     "text": [
      "Original Array : [10, 20, 30, 40, 50, 60, 70]\n",
      "left rotaten by kth place : [30, 40, 50, 60, 70, 10, 20]\n"
     ]
    }
   ],
   "source": [
    "#Block Swap Algorithm in Python\n",
    "def reverse(arr , st , end):\n",
    "    while st <= end:\n",
    "        arr[st] , arr[end] = arr[end] , arr[st]\n",
    "        st +=1\n",
    "        end -=1\n",
    "\n",
    "def reverse_Kth(arr , k):\n",
    "\n",
    "    n=len(arr)\n",
    "    k = k % n\n",
    "\n",
    "    reverse(arr , 0 , k-1)\n",
    "\n",
    "    reverse(arr , k , n-1)\n",
    "\n",
    "    reverse(arr , 0 , n-1)\n",
    "\n",
    "\n",
    "arr = [10, 20, 30, 40, 50, 60, 70]   # [20 , 10 , 30 , 40 , 50 , 60 , 70] , [20 , 10 , 70 , 60 , 50 , 40 , 30] , [30 , 40 , 50 , 60 , 70 , 10 , 20]\n",
    "k=2\n",
    "print(f\"Original Array : {arr}\")\n",
    "reverse_Kth(arr , k)\n",
    "print(f\"left rotaten by kth place : {arr}\")"
   ]
  },
  {
   "cell_type": "code",
   "execution_count": 56,
   "id": "14c29645-c819-45e3-aa73-c0dc9bc962a9",
   "metadata": {},
   "outputs": [
    {
     "name": "stdout",
     "output_type": "stream",
     "text": [
      "False\n"
     ]
    }
   ],
   "source": [
    "#Check the balance of parenthesis in Python\n",
    "def isvalence(s):\n",
    "    c=0\n",
    "    for i in s:\n",
    "        if i == '(':\n",
    "            c+=1\n",
    "        elif i == ')':\n",
    "            c-=1\n",
    "            \n",
    "        if c == 0:\n",
    "            return True\n",
    "\n",
    "        if c  != 0 :\n",
    "            return False\n",
    "        \n",
    "print(isvalence('()()'))          "
   ]
  },
  {
   "cell_type": "code",
   "execution_count": null,
   "id": "b2878d69-1446-4a4d-987f-4b70f15f425b",
   "metadata": {},
   "outputs": [],
   "source": []
  },
  {
   "cell_type": "code",
   "execution_count": null,
   "id": "c71f60bb-fa72-47ba-8fc2-041999dcc0a9",
   "metadata": {},
   "outputs": [],
   "source": []
  },
  {
   "cell_type": "code",
   "execution_count": null,
   "id": "0e6629b0-cac5-4a72-90ac-2d1ae2512ba5",
   "metadata": {},
   "outputs": [],
   "source": []
  },
  {
   "cell_type": "code",
   "execution_count": null,
   "id": "04c04359-c9f4-4f03-89d7-d8d85fa59a69",
   "metadata": {},
   "outputs": [],
   "source": []
  },
  {
   "cell_type": "code",
   "execution_count": null,
   "id": "9351f41c-d5f6-424b-a292-cc52ea4e843a",
   "metadata": {},
   "outputs": [],
   "source": []
  },
  {
   "cell_type": "code",
   "execution_count": null,
   "id": "2d9ba604-d8ce-442f-8acb-68aa59c7a0e8",
   "metadata": {},
   "outputs": [],
   "source": []
  },
  {
   "cell_type": "code",
   "execution_count": null,
   "id": "fbb78c6b-a2f0-43f4-a22a-9cde50f90b87",
   "metadata": {},
   "outputs": [],
   "source": []
  },
  {
   "cell_type": "code",
   "execution_count": null,
   "id": "e2fa18cb-a044-42a5-9731-08a4618e6d3b",
   "metadata": {},
   "outputs": [],
   "source": []
  },
  {
   "cell_type": "code",
   "execution_count": null,
   "id": "62ea3963-87a7-4aaf-a5ba-458ed8911f0a",
   "metadata": {},
   "outputs": [],
   "source": []
  },
  {
   "cell_type": "code",
   "execution_count": null,
   "id": "66d20ac8-ab2e-48c7-a117-ca0b6643e728",
   "metadata": {},
   "outputs": [],
   "source": []
  },
  {
   "cell_type": "code",
   "execution_count": null,
   "id": "418fd19a-d474-4711-8432-3e4f5fbe6b2b",
   "metadata": {},
   "outputs": [],
   "source": []
  },
  {
   "cell_type": "code",
   "execution_count": null,
   "id": "0122af94-4c56-498b-bf30-4477c21e2549",
   "metadata": {},
   "outputs": [],
   "source": []
  },
  {
   "cell_type": "code",
   "execution_count": null,
   "id": "4ad7ffeb-1954-4699-8e86-b59506d45bce",
   "metadata": {},
   "outputs": [],
   "source": []
  },
  {
   "cell_type": "code",
   "execution_count": null,
   "id": "79d9e530-17dc-4ffc-b09a-2197b90823bb",
   "metadata": {},
   "outputs": [],
   "source": []
  },
  {
   "cell_type": "code",
   "execution_count": null,
   "id": "6c9e911c-fa83-43d3-a7d0-ed42994763cf",
   "metadata": {},
   "outputs": [],
   "source": []
  },
  {
   "cell_type": "code",
   "execution_count": null,
   "id": "9780ae54-5dfd-4d8a-b330-53856185419a",
   "metadata": {},
   "outputs": [],
   "source": []
  },
  {
   "cell_type": "code",
   "execution_count": null,
   "id": "7dbc39a1-4166-41af-8835-3288b5567056",
   "metadata": {},
   "outputs": [],
   "source": []
  },
  {
   "cell_type": "code",
   "execution_count": null,
   "id": "73a88bc6-28c2-437a-a0af-8b609384fdcc",
   "metadata": {},
   "outputs": [],
   "source": []
  },
  {
   "cell_type": "code",
   "execution_count": null,
   "id": "68d70582-af03-47cc-9864-c3b17b6866a5",
   "metadata": {},
   "outputs": [],
   "source": []
  },
  {
   "cell_type": "code",
   "execution_count": null,
   "id": "9280904a-254f-4eea-8546-d5f879ba7c6b",
   "metadata": {},
   "outputs": [],
   "source": []
  },
  {
   "cell_type": "code",
   "execution_count": null,
   "id": "5656bd4a-6a17-4e86-8784-28bd74740e65",
   "metadata": {},
   "outputs": [],
   "source": []
  },
  {
   "cell_type": "code",
   "execution_count": null,
   "id": "1791fdac-f604-4fc3-bfd1-842d022d2cce",
   "metadata": {},
   "outputs": [],
   "source": []
  },
  {
   "cell_type": "code",
   "execution_count": null,
   "id": "478904dc-37ae-4f90-8094-ee42b4f1db11",
   "metadata": {},
   "outputs": [],
   "source": []
  },
  {
   "cell_type": "code",
   "execution_count": null,
   "id": "dfce45e7-6b0c-40d0-a240-d18913f1f0d9",
   "metadata": {},
   "outputs": [],
   "source": []
  },
  {
   "cell_type": "code",
   "execution_count": null,
   "id": "9828de1e-6be8-4e69-a551-50f0ddaaafd9",
   "metadata": {},
   "outputs": [],
   "source": []
  },
  {
   "cell_type": "code",
   "execution_count": null,
   "id": "a5a89769-f7b1-4e8a-8bb3-db7c79cd1dbd",
   "metadata": {},
   "outputs": [],
   "source": []
  },
  {
   "cell_type": "code",
   "execution_count": null,
   "id": "38b78ddf-86d3-41cf-800b-2466fd4740b6",
   "metadata": {},
   "outputs": [],
   "source": []
  },
  {
   "cell_type": "code",
   "execution_count": null,
   "id": "053c6f00-5449-4512-8be1-fbf3ec68d5c4",
   "metadata": {},
   "outputs": [],
   "source": []
  },
  {
   "cell_type": "code",
   "execution_count": null,
   "id": "2f458d53-b754-4334-b2e3-2f26742f253b",
   "metadata": {},
   "outputs": [],
   "source": []
  },
  {
   "cell_type": "code",
   "execution_count": null,
   "id": "8f74bffe-0f1d-4a9a-a9fd-b36a33685782",
   "metadata": {},
   "outputs": [],
   "source": []
  },
  {
   "cell_type": "code",
   "execution_count": null,
   "id": "f40dddfe-8fbb-4a09-8e09-abbd0754212e",
   "metadata": {},
   "outputs": [],
   "source": []
  },
  {
   "cell_type": "code",
   "execution_count": null,
   "id": "dc1ce4de-58b3-48da-8420-b8648dae5c92",
   "metadata": {},
   "outputs": [],
   "source": []
  },
  {
   "cell_type": "code",
   "execution_count": null,
   "id": "ebd9c402-e353-4b18-8313-481b197bff19",
   "metadata": {},
   "outputs": [],
   "source": []
  },
  {
   "cell_type": "code",
   "execution_count": null,
   "id": "f00998a4-8ed2-4c69-8c75-46274e0f686d",
   "metadata": {},
   "outputs": [],
   "source": []
  },
  {
   "cell_type": "code",
   "execution_count": null,
   "id": "d83a44e4-cd0c-41d8-8e0d-d836cb6afcc6",
   "metadata": {},
   "outputs": [],
   "source": []
  },
  {
   "cell_type": "code",
   "execution_count": null,
   "id": "2392dc12-a792-4791-8aac-0460cea5bbe1",
   "metadata": {},
   "outputs": [],
   "source": []
  },
  {
   "cell_type": "code",
   "execution_count": null,
   "id": "7aedfcc1-1eba-473a-9905-fa2afc318213",
   "metadata": {},
   "outputs": [],
   "source": []
  },
  {
   "cell_type": "code",
   "execution_count": null,
   "id": "81fee484-b353-4d2c-aa7c-4d7d44ab22d0",
   "metadata": {},
   "outputs": [],
   "source": []
  },
  {
   "cell_type": "code",
   "execution_count": null,
   "id": "cbddda63-b7b3-4aeb-9b6e-a1c1c3126a67",
   "metadata": {},
   "outputs": [],
   "source": []
  },
  {
   "cell_type": "code",
   "execution_count": null,
   "id": "edf69498-9879-444e-9c4e-ff73bca5eefd",
   "metadata": {},
   "outputs": [],
   "source": []
  },
  {
   "cell_type": "code",
   "execution_count": null,
   "id": "6e99bfd5-6167-449f-8f16-30907e24ec57",
   "metadata": {},
   "outputs": [],
   "source": []
  },
  {
   "cell_type": "code",
   "execution_count": null,
   "id": "8040813f-1cac-4e65-8f9a-bca0caed3a50",
   "metadata": {},
   "outputs": [],
   "source": []
  },
  {
   "cell_type": "code",
   "execution_count": null,
   "id": "7e42e0f3-3bd8-483a-a030-5cd3a57634e8",
   "metadata": {},
   "outputs": [],
   "source": []
  },
  {
   "cell_type": "code",
   "execution_count": null,
   "id": "51e90d37-abf8-4d36-9f65-bf2a1e1deb34",
   "metadata": {},
   "outputs": [],
   "source": []
  },
  {
   "cell_type": "code",
   "execution_count": null,
   "id": "9dc9896b-8b56-467d-a090-d806ea84b806",
   "metadata": {},
   "outputs": [],
   "source": []
  },
  {
   "cell_type": "code",
   "execution_count": null,
   "id": "985db612-0aca-4b0c-84e8-c4246ea3f5eb",
   "metadata": {},
   "outputs": [],
   "source": []
  },
  {
   "cell_type": "code",
   "execution_count": null,
   "id": "87b9d1db-e484-444b-893d-eaddafe06435",
   "metadata": {},
   "outputs": [],
   "source": []
  },
  {
   "cell_type": "code",
   "execution_count": null,
   "id": "54f601ee-7a6c-4043-9b17-79595907b5d0",
   "metadata": {},
   "outputs": [],
   "source": []
  }
 ],
 "metadata": {
  "kernelspec": {
   "display_name": "Python 3 (ipykernel)",
   "language": "python",
   "name": "python3"
  },
  "language_info": {
   "codemirror_mode": {
    "name": "ipython",
    "version": 3
   },
   "file_extension": ".py",
   "mimetype": "text/x-python",
   "name": "python",
   "nbconvert_exporter": "python",
   "pygments_lexer": "ipython3",
   "version": "3.11.2"
  },
  "widgets": {
   "application/vnd.jupyter.widget-state+json": {
    "state": {},
    "version_major": 2,
    "version_minor": 0
   }
  }
 },
 "nbformat": 4,
 "nbformat_minor": 5
}
