{
 "cells": [
  {
   "cell_type": "code",
   "execution_count": 4,
   "id": "85ccabf0-c0b1-49d8-8167-4ca2665ffebf",
   "metadata": {},
   "outputs": [
    {
     "name": "stdout",
     "output_type": "stream",
     "text": [
      "c is a consonant\n"
     ]
    }
   ],
   "source": [
    "#Checking a Character is a vowel or consonant in Python\n",
    "lst = ['a', 'e' , 'i' , 'o' , 'u' , 'A' , 'E' , 'I' , 'O' , 'U']\n",
    "c = 'b'\n",
    "if c in lst:\n",
    "    print(\"c is a vowel\")\n",
    "else:\n",
    "    print(\"c is a consonant\")"
   ]
  },
  {
   "cell_type": "code",
   "execution_count": 5,
   "id": "9439a4b4-274b-47e4-9e7d-dbe2fa36293a",
   "metadata": {},
   "outputs": [
    {
     "name": "stdout",
     "output_type": "stream",
     "text": [
      "c is a consonant\n"
     ]
    }
   ],
   "source": [
    "#Checking a Character is a vowel or consonant in Python\n",
    "c = 'b'\n",
    "if c == 'a' or c == 'e' or c == 'i' or c == 'o' or c == 'u' or c == 'A' or c == 'E' or c == 'I' or c == 'O' or c == 'u' :\n",
    "    print(\"c is a vowel\")\n",
    "else:\n",
    "    print(\"c is a consonant\")"
   ]
  },
  {
   "cell_type": "code",
   "execution_count": 12,
   "id": "8494d455-78d0-42ca-aad4-1bc520b81e6e",
   "metadata": {},
   "outputs": [
    {
     "name": "stdout",
     "output_type": "stream",
     "text": [
      "spacial symbol\n"
     ]
    }
   ],
   "source": [
    "#Checking whether a Character is Alphabet or Not in Python ?\n",
    "c='9'\n",
    "if 'a' <= c <= 'z' or 'A' <= c <= 'Z':\n",
    "    print(f\"Character :{c}\")\n",
    "else:\n",
    "    print(\"spacial symbol\")\n",
    "    \n",
    "    "
   ]
  },
  {
   "cell_type": "code",
   "execution_count": 13,
   "id": "78be09cf-4fa9-411c-8903-2d3ab456244e",
   "metadata": {},
   "outputs": [
    {
     "name": "stdout",
     "output_type": "stream",
     "text": [
      "Character :c\n"
     ]
    }
   ],
   "source": [
    "#Checking whether a Character is Alphabet or Not in Python ?\n",
    "c = 'c' \n",
    "\n",
    "if 65 <= ord(c) <= 90 or 97 <= ord(c) <= 122:\n",
    "      print(f\"Character :{c}\")\n",
    "else:\n",
    "    print(\"spacial symbol\")\n",
    "    "
   ]
  },
  {
   "cell_type": "code",
   "execution_count": 26,
   "id": "0fdc4ee4-924f-4191-b11c-1d51db742656",
   "metadata": {},
   "outputs": [
    {
     "name": "stdout",
     "output_type": "stream",
     "text": [
      "The ASCII value of < is 60\n"
     ]
    }
   ],
   "source": [
    "#Find the ASCII value of a character\n",
    "Char = '<'\n",
    "\n",
    "Ascii_val = ord(Char)\n",
    "\n",
    "print('The ASCII value of', Char, 'is', Ascii_val)"
   ]
  },
  {
   "cell_type": "code",
   "execution_count": 28,
   "id": "26ec025a-20d1-4768-b285-1bd27582d93b",
   "metadata": {},
   "outputs": [
    {
     "name": "stdout",
     "output_type": "stream",
     "text": [
      "5\n"
     ]
    }
   ],
   "source": [
    "#Calculating the length of the string without using length() function\n",
    "st='Rohit'\n",
    "count=0\n",
    "for i in st:\n",
    "    count +=1\n",
    "print(count)"
   ]
  },
  {
   "cell_type": "code",
   "execution_count": 29,
   "id": "97f64638-8ea8-4c5d-8ded-e8c35d1bed85",
   "metadata": {},
   "outputs": [
    {
     "name": "stdout",
     "output_type": "stream",
     "text": [
      "Before converting string :GuDDuBHaiyA\n",
      "After converting string : gUddUbhAIYa\n"
     ]
    }
   ],
   "source": [
    "#Toggle each character in a string\n",
    "st= 'GuDDuBHaiyA'\n",
    "ans=\"\"\n",
    "print(f\"Before converting string :{st}\")\n",
    "for i in st:\n",
    "    if i.isupper():\n",
    "        i = i.lower()\n",
    "        ans += i\n",
    "    else:\n",
    "        i =i.upper()\n",
    "        ans +=i\n",
    "print(f\"After converting string : {ans}\")\n",
    "    "
   ]
  },
  {
   "cell_type": "code",
   "execution_count": null,
   "id": "ba769813-6845-4c70-adea-8e632b082116",
   "metadata": {},
   "outputs": [],
   "source": []
  },
  {
   "cell_type": "code",
   "execution_count": null,
   "id": "46a4d42a-a27c-4288-96d2-9affd4545d5f",
   "metadata": {},
   "outputs": [],
   "source": []
  },
  {
   "cell_type": "code",
   "execution_count": null,
   "id": "b6e300f9-9fff-4490-8819-5f4a629e7fff",
   "metadata": {},
   "outputs": [],
   "source": []
  },
  {
   "cell_type": "code",
   "execution_count": null,
   "id": "c7d38a92-4661-47bd-b1f4-079f19a823a5",
   "metadata": {},
   "outputs": [],
   "source": []
  },
  {
   "cell_type": "code",
   "execution_count": null,
   "id": "3755bfee-85ab-4e35-a84b-659fa10eb995",
   "metadata": {},
   "outputs": [],
   "source": []
  },
  {
   "cell_type": "code",
   "execution_count": null,
   "id": "d1de8550-5aac-4e30-9cb4-a58d4f53af68",
   "metadata": {},
   "outputs": [],
   "source": []
  },
  {
   "cell_type": "code",
   "execution_count": null,
   "id": "c7eff859-5cf2-4b57-a95d-9fdeb5a76579",
   "metadata": {},
   "outputs": [],
   "source": []
  },
  {
   "cell_type": "code",
   "execution_count": null,
   "id": "4898d97c-7190-4759-b0bd-afbeeccc2488",
   "metadata": {},
   "outputs": [],
   "source": []
  },
  {
   "cell_type": "code",
   "execution_count": null,
   "id": "b98c1e4e-14db-4303-9754-c326a7e9fbf4",
   "metadata": {},
   "outputs": [],
   "source": []
  }
 ],
 "metadata": {
  "kernelspec": {
   "display_name": "Python 3 (ipykernel)",
   "language": "python",
   "name": "python3"
  },
  "language_info": {
   "codemirror_mode": {
    "name": "ipython",
    "version": 3
   },
   "file_extension": ".py",
   "mimetype": "text/x-python",
   "name": "python",
   "nbconvert_exporter": "python",
   "pygments_lexer": "ipython3",
   "version": "3.11.2"
  },
  "widgets": {
   "application/vnd.jupyter.widget-state+json": {
    "state": {},
    "version_major": 2,
    "version_minor": 0
   }
  }
 },
 "nbformat": 4,
 "nbformat_minor": 5
}
