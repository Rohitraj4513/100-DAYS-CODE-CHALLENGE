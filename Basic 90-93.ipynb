{
 "cells": [
  {
   "cell_type": "code",
   "execution_count": 2,
   "id": "148b3769-e33f-49c7-a47b-32f963c55c9b",
   "metadata": {},
   "outputs": [
    {
     "name": "stdout",
     "output_type": "stream",
     "text": [
      "No. of vowel : 2\n"
     ]
    }
   ],
   "source": [
    "#Count the number of vowels in a string\n",
    "st=[ 'a' , 'e' , 'i' , 'o' , 'u' ]\n",
    "stn=\"rohit\"\n",
    "count =0\n",
    "for i in stn:\n",
    "    if i in st:\n",
    "        count +=1\n",
    "print(f\"No. of vowel : {count}\")"
   ]
  },
  {
   "cell_type": "code",
   "execution_count": 3,
   "id": "41a43983-c4a2-4499-b01d-7c0a7099d73e",
   "metadata": {},
   "outputs": [
    {
     "name": "stdout",
     "output_type": "stream",
     "text": [
      "No. of vowel : 2\n"
     ]
    }
   ],
   "source": [
    "#Count the number of vowels in a string\n",
    "stn=\"rohit\"\n",
    "count =0\n",
    "for i in stn:\n",
    "   if  i == 'a' or i == 'e' or i == 'i' or i == 'o' or i == 'u':\n",
    "       count +=1\n",
    "print(f\"No. of vowel : {count}\")     "
   ]
  },
  {
   "cell_type": "code",
   "execution_count": 4,
   "id": "9831285e-af93-4934-b54f-fb4c3b5015f0",
   "metadata": {},
   "outputs": [
    {
     "name": "stdout",
     "output_type": "stream",
     "text": [
      "Without vowel : rht\n"
     ]
    }
   ],
   "source": [
    "#Program to remove the vowels\n",
    "st=[ 'a' , 'e' , 'i' , 'o' , 'u' ]\n",
    "stn=\"rohit\"\n",
    "count =\"\"\n",
    "for i in stn:\n",
    "    if i not in st:\n",
    "        count += i\n",
    "print(f\"Without vowel : {count}\")         "
   ]
  },
  {
   "cell_type": "code",
   "execution_count": 11,
   "id": "3bc78823-99af-40fe-be7c-584c1f5eb956",
   "metadata": {},
   "outputs": [
    {
     "name": "stdout",
     "output_type": "stream",
     "text": [
      "Palindrome\n"
     ]
    }
   ],
   "source": [
    "#Program to check whether a String is a Palindrome or not\n",
    "#Radar, Kayak, 12321,1221\n",
    "st='12321'\n",
    "new_st = st[::-1]\n",
    "if st == new_st:\n",
    "    print(\"Palindrome\")\n",
    "else:\n",
    "    print(\"Not Palindrome\")"
   ]
  },
  {
   "cell_type": "code",
   "execution_count": 12,
   "id": "9339b87e-8a77-4db8-9b21-aa6650d8096c",
   "metadata": {},
   "outputs": [
    {
     "name": "stdout",
     "output_type": "stream",
     "text": [
      "Palindrome\n"
     ]
    }
   ],
   "source": [
    "#Program to check whether a String is a Palindrome or not\n",
    "#Radar, Kayak, 12321,1221\n",
    "st='12321'\n",
    "new_st = \"\"\n",
    "for i in range(len(st)-1 , -1 , -1):\n",
    "    new_st += st[i]\n",
    "if st == new_st:\n",
    "    print(\"Palindrome\")\n",
    "else:\n",
    "    print(\"Not Palindrome\")"
   ]
  },
  {
   "cell_type": "code",
   "execution_count": null,
   "id": "dbc2aadb-6fda-419e-a9cd-39b5a2e7680d",
   "metadata": {},
   "outputs": [],
   "source": []
  },
  {
   "cell_type": "code",
   "execution_count": null,
   "id": "31b328ef-1c4b-4834-ba5b-097a7c7dd2f6",
   "metadata": {},
   "outputs": [],
   "source": []
  },
  {
   "cell_type": "code",
   "execution_count": null,
   "id": "acb35342-fa18-475c-92ea-5b4ec4377cce",
   "metadata": {},
   "outputs": [],
   "source": []
  },
  {
   "cell_type": "code",
   "execution_count": null,
   "id": "16dfa823-88a7-445f-a397-93e10cebb41b",
   "metadata": {},
   "outputs": [],
   "source": []
  },
  {
   "cell_type": "code",
   "execution_count": null,
   "id": "8cfbdaf1-c615-46f1-848b-12e8e6ddf646",
   "metadata": {},
   "outputs": [],
   "source": []
  }
 ],
 "metadata": {
  "kernelspec": {
   "display_name": "Python 3 (ipykernel)",
   "language": "python",
   "name": "python3"
  },
  "language_info": {
   "codemirror_mode": {
    "name": "ipython",
    "version": 3
   },
   "file_extension": ".py",
   "mimetype": "text/x-python",
   "name": "python",
   "nbconvert_exporter": "python",
   "pygments_lexer": "ipython3",
   "version": "3.11.2"
  },
  "widgets": {
   "application/vnd.jupyter.widget-state+json": {
    "state": {},
    "version_major": 2,
    "version_minor": 0
   }
  }
 },
 "nbformat": 4,
 "nbformat_minor": 5
}
