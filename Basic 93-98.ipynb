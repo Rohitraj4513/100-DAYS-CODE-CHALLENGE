{
 "cells": [
  {
   "cell_type": "code",
   "execution_count": 1,
   "id": "b8c481db-53cb-499f-b19b-ea2946b09f81",
   "metadata": {},
   "outputs": [
    {
     "name": "stdout",
     "output_type": "stream",
     "text": [
      "dlrow olleH\n"
     ]
    }
   ],
   "source": [
    "#Program to Reverse a String\n",
    "st =\"Hello world\"\n",
    "new_st = st[::-1]\n",
    "print(new_st)"
   ]
  },
  {
   "cell_type": "code",
   "execution_count": 5,
   "id": "d1bf0826-c3f7-4edd-82f1-684f00f58aea",
   "metadata": {},
   "outputs": [
    {
     "name": "stdout",
     "output_type": "stream",
     "text": [
      "dlrow olleH\n"
     ]
    }
   ],
   "source": [
    "#Program to Reverse a String\n",
    "st =\"Hello world\"\n",
    "new_wd=\"\"\n",
    "for i in range(len(st)-1 , -1 , -1):\n",
    "    new_wd += st[i] \n",
    "print(new_wd)"
   ]
  },
  {
   "cell_type": "code",
   "execution_count": 40,
   "id": "8dc8ecc6-0845-44b5-b824-fa7a848f26d4",
   "metadata": {},
   "outputs": [
    {
     "name": "stdout",
     "output_type": "stream",
     "text": [
      "Prepinsta\n",
      "0\n"
     ]
    }
   ],
   "source": [
    "#Remove all character from a string except \n",
    "s = \"P*r;e..pi, n'st^a?\"\n",
    "st=\"\"\n",
    "for i in s:\n",
    "    if  (ord(i) >= 65 and ord(i) <= 90) or (ord(i) >= 97 and ord(i) <= 122):\n",
    "        st += i\n",
    "        \n",
    "print(st)"
   ]
  },
  {
   "cell_type": "code",
   "execution_count": 46,
   "id": "c9893610-e692-42e6-a89a-48f2a2f357ba",
   "metadata": {},
   "outputs": [
    {
     "name": "stdout",
     "output_type": "stream",
     "text": [
      "Prepinsta\n"
     ]
    }
   ],
   "source": [
    "#Remove all character from a string except \n",
    "s = \"P*r;e..pi, n'st^a?\"\n",
    "st=\"\"\n",
    "for i in s:\n",
    "    if ('A' <= i <= 'Z' or 'a' <= i <= 'z'):\n",
    "        st += i\n",
    "print(st)   "
   ]
  },
  {
   "cell_type": "code",
   "execution_count": 47,
   "id": "75048060-2a97-4f26-ac35-9f94d385ee45",
   "metadata": {},
   "outputs": [
    {
     "name": "stdout",
     "output_type": "stream",
     "text": [
      "PrepInstaisfabulous\n"
     ]
    }
   ],
   "source": [
    "#Removing spaces from a string\n",
    "s = \"PrepInsta is fabulous\"\n",
    "st=\"\"\n",
    "for i in s:\n",
    "    if i != ' ':\n",
    "        st += i\n",
    "print(st)"
   ]
  },
  {
   "cell_type": "code",
   "execution_count": 48,
   "id": "f9ab60b6-02c5-46c6-822a-91c04c063f18",
   "metadata": {},
   "outputs": [
    {
     "name": "stdout",
     "output_type": "stream",
     "text": [
      "PrepInstaisfabulous\n"
     ]
    }
   ],
   "source": [
    "#Removing spaces from a string\n",
    "s = \"PrepInsta is fabulous\"\n",
    "s = \"\".join(s.split())\n",
    "print(s)"
   ]
  },
  {
   "cell_type": "code",
   "execution_count": 49,
   "id": "b70f9e5e-e774-4faf-8b60-f654391af516",
   "metadata": {},
   "outputs": [
    {
     "name": "stdout",
     "output_type": "stream",
     "text": [
      "a-b+c*d+e/f\n"
     ]
    }
   ],
   "source": [
    "#Python program to Remove brackets from an algebraic expression\n",
    "algo = \"(a-b)+[c*d]+{e/f}\"\n",
    "n_st=\"\"\n",
    "st = ['(' , ')' , '{' , '}' , '[' , ']']\n",
    "for i in algo:\n",
    "    if i not in st:\n",
    "        n_st += i\n",
    "print(n_st)\n",
    "        \n",
    "        "
   ]
  },
  {
   "cell_type": "code",
   "execution_count": 57,
   "id": "5ccc7fda-e95a-4809-aca3-d509b2bba6d4",
   "metadata": {},
   "outputs": [
    {
     "name": "stdout",
     "output_type": "stream",
     "text": [
      "a-b+c*d+e/f\n"
     ]
    }
   ],
   "source": [
    "#Python program to Remove brackets from an algebraic expression\n",
    "algo = \"(a-b)+[c*d]+{e/f}\"\n",
    "n_st=\"\"\n",
    "for i in algo:\n",
    "    if not ( i == '(' or i == ')' or i == '{' or i == '}' or i == '[' or i == ']' ):\n",
    "        n_st += i\n",
    "print(n_st)"
   ]
  },
  {
   "cell_type": "code",
   "execution_count": 69,
   "id": "8f05424c-2059-4bd4-a596-e412c2cddc3e",
   "metadata": {},
   "outputs": [
    {
     "name": "stdout",
     "output_type": "stream",
     "text": [
      "12\n"
     ]
    }
   ],
   "source": [
    "#Python Program to Count the Sum of Numbers in a String\n",
    "s =\"4PREP2INSTAA6\"\n",
    "count=0\n",
    "for i in s:\n",
    "    if 48 <= ord(i) <= 57:\n",
    "        count += int(i)\n",
    "print(count)"
   ]
  },
  {
   "cell_type": "code",
   "execution_count": null,
   "id": "c4947c85-9da4-4b2e-a327-fcabd7305f40",
   "metadata": {},
   "outputs": [],
   "source": []
  }
 ],
 "metadata": {
  "kernelspec": {
   "display_name": "Python 3 (ipykernel)",
   "language": "python",
   "name": "python3"
  },
  "language_info": {
   "codemirror_mode": {
    "name": "ipython",
    "version": 3
   },
   "file_extension": ".py",
   "mimetype": "text/x-python",
   "name": "python",
   "nbconvert_exporter": "python",
   "pygments_lexer": "ipython3",
   "version": "3.11.2"
  },
  "widgets": {
   "application/vnd.jupyter.widget-state+json": {
    "state": {},
    "version_major": 2,
    "version_minor": 0
   }
  }
 },
 "nbformat": 4,
 "nbformat_minor": 5
}
