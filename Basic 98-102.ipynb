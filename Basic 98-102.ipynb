{
 "cells": [
  {
   "cell_type": "code",
   "execution_count": 35,
   "id": "b8093077-3769-4b18-b026-3bfa3a25ec99",
   "metadata": {},
   "outputs": [
    {
     "name": "stdout",
     "output_type": "stream",
     "text": [
      "PreP InstA\n"
     ]
    }
   ],
   "source": [
    "#Capitalize the first and last letter of each word of a string\n",
    "st=\"Prep insta\"\n",
    "words= st.split()\n",
    "new_st=[]\n",
    "for i in words:\n",
    "    if len(i) == 1:\n",
    "        new_st.append(i.upper())\n",
    "    else:\n",
    "        new_w = i[0].upper() + i[1:-1] + i[-1].upper()                    \n",
    "        new_st.append(new_w)\n",
    "result = \" \".join(new_st) \n",
    "print(result)           "
   ]
  },
  {
   "cell_type": "code",
   "execution_count": 40,
   "id": "775f0df2-d388-4c52-9e96-792a06844350",
   "metadata": {},
   "outputs": [
    {
     "name": "stdout",
     "output_type": "stream",
     "text": [
      "{'a': 2, 'b': 3, 'c': 4, 'd': 5, 'e': 6}\n"
     ]
    }
   ],
   "source": [
    "#Calculate The  Frequency of a Characters\n",
    "st = \"aabbbccccdddddeeeeee\"\n",
    "freq = {}\n",
    "for i  in st:\n",
    "    freq[i] = freq.get(i , 0) + 1\n",
    "print(freq)"
   ]
  },
  {
   "cell_type": "code",
   "execution_count": 3,
   "id": "817361b4-05b7-47cb-95df-d9025b7f4822",
   "metadata": {},
   "outputs": [
    {
     "name": "stdout",
     "output_type": "stream",
     "text": [
      "reinsta\n"
     ]
    }
   ],
   "source": [
    "#Find Non Repeating Characters\n",
    "st = \"prepinsta\"\n",
    "new_st=\"\"\n",
    "for i in range(len(st)):\n",
    "    count =0\n",
    "    for j in range(len( st)):\n",
    "        if st[i] == st[j] and i != j:\n",
    "            count +=1\n",
    "            break\n",
    "    if count == 0:\n",
    "        new_st += st[i]\n",
    "print(new_st)"
   ]
  },
  {
   "cell_type": "code",
   "execution_count": 4,
   "id": "717bffc8-c51f-4932-94e2-3ece5e87da21",
   "metadata": {},
   "outputs": [
    {
     "name": "stdout",
     "output_type": "stream",
     "text": [
      "Non-repeating characters: reinsta\n"
     ]
    }
   ],
   "source": [
    "st = \"prepinsta\"\n",
    "new_st = \"\"\n",
    "\n",
    "for i in range(len(st)):\n",
    "    count = 0\n",
    "    for j in range(len(st)):\n",
    "        if st[i] == st[j] and i != j:\n",
    "            count += 1\n",
    "            break\n",
    "    if count == 0:\n",
    "        new_st += st[i]\n",
    "\n",
    "print(\"Non-repeating characters:\", new_st)\n"
   ]
  },
  {
   "cell_type": "code",
   "execution_count": null,
   "id": "13e3787b-0dce-4b4a-8d31-b80dffc2f7c6",
   "metadata": {},
   "outputs": [],
   "source": []
  },
  {
   "cell_type": "code",
   "execution_count": null,
   "id": "33b6eed5-4bad-42c7-b883-4138f921f16f",
   "metadata": {},
   "outputs": [],
   "source": []
  },
  {
   "cell_type": "code",
   "execution_count": null,
   "id": "d9b2fae6-e398-4bb9-9d3c-2a717458f51d",
   "metadata": {},
   "outputs": [],
   "source": []
  },
  {
   "cell_type": "code",
   "execution_count": null,
   "id": "fa64a22c-4c1a-4ba8-b83c-ff1ca6551e17",
   "metadata": {},
   "outputs": [],
   "source": []
  },
  {
   "cell_type": "code",
   "execution_count": null,
   "id": "85e1f129-e2a2-4639-875b-4dfbf964f82a",
   "metadata": {},
   "outputs": [],
   "source": []
  },
  {
   "cell_type": "code",
   "execution_count": null,
   "id": "a4786014-c084-4076-aec3-ed8f5a4c5a8f",
   "metadata": {},
   "outputs": [],
   "source": []
  },
  {
   "cell_type": "code",
   "execution_count": null,
   "id": "6b1c4ccd-52a1-4913-ab7d-fa9c5696150e",
   "metadata": {},
   "outputs": [],
   "source": []
  },
  {
   "cell_type": "code",
   "execution_count": null,
   "id": "d08aca1c-c780-4c7b-b349-e03e6d4a2c2c",
   "metadata": {},
   "outputs": [],
   "source": []
  },
  {
   "cell_type": "code",
   "execution_count": null,
   "id": "4ca42e8f-24bf-4de7-b9ac-cb075a033c6e",
   "metadata": {},
   "outputs": [],
   "source": []
  },
  {
   "cell_type": "code",
   "execution_count": null,
   "id": "697b1f3b-e3d4-4f7a-bc3a-8dd92dffdc34",
   "metadata": {},
   "outputs": [],
   "source": []
  },
  {
   "cell_type": "code",
   "execution_count": null,
   "id": "88c32d8b-f06a-4cbc-b3d2-addaa1ade019",
   "metadata": {},
   "outputs": [],
   "source": []
  },
  {
   "cell_type": "code",
   "execution_count": null,
   "id": "e0de89ea-ca5f-42b4-9c46-445399da4cfa",
   "metadata": {},
   "outputs": [],
   "source": []
  },
  {
   "cell_type": "code",
   "execution_count": null,
   "id": "512b78b0-bfd3-4d39-8160-c925aa328750",
   "metadata": {},
   "outputs": [],
   "source": []
  },
  {
   "cell_type": "code",
   "execution_count": null,
   "id": "e301037a-658e-4122-aa26-fcb5de68567a",
   "metadata": {},
   "outputs": [],
   "source": []
  },
  {
   "cell_type": "code",
   "execution_count": null,
   "id": "ce7714e5-c5c7-4855-883b-0beecbe5cf71",
   "metadata": {},
   "outputs": [],
   "source": []
  }
 ],
 "metadata": {
  "kernelspec": {
   "display_name": "Python 3 (ipykernel)",
   "language": "python",
   "name": "python3"
  },
  "language_info": {
   "codemirror_mode": {
    "name": "ipython",
    "version": 3
   },
   "file_extension": ".py",
   "mimetype": "text/x-python",
   "name": "python",
   "nbconvert_exporter": "python",
   "pygments_lexer": "ipython3",
   "version": "3.11.2"
  },
  "widgets": {
   "application/vnd.jupyter.widget-state+json": {
    "state": {},
    "version_major": 2,
    "version_minor": 0
   }
  }
 },
 "nbformat": 4,
 "nbformat_minor": 5
}
