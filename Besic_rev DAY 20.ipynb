{
 "cells": [
  {
   "cell_type": "code",
   "execution_count": 4,
   "id": "6e416dea-bd80-4aed-afd1-78d8e0653d14",
   "metadata": {},
   "outputs": [
    {
     "name": "stdout",
     "output_type": "stream",
     "text": [
      "mr rohit raj\n"
     ]
    }
   ],
   "source": [
    "st1='mr '\n",
    "st2='rohit'\n",
    "st3=' raj'\n",
    "fullname=st1 + st2 + st3\n",
    "print(fullname)\n",
    "\n"
   ]
  },
  {
   "cell_type": "code",
   "execution_count": 39,
   "id": "b294dbff-ae64-4224-8c3f-d9e76973050e",
   "metadata": {},
   "outputs": [
    {
     "name": "stdout",
     "output_type": "stream",
     "text": [
      "['r', 'n', 'a', 'm', 'e', 'a']\n"
     ]
    }
   ],
   "source": [
    "name=['n' , 'a' , 'm' , 'e' , 'a']\n",
    "name.insert(0 , 'r')\n",
    "print(name)"
   ]
  },
  {
   "cell_type": "code",
   "execution_count": 17,
   "id": "911f3bd3-f250-4638-9f03-28affad87e90",
   "metadata": {},
   "outputs": [
    {
     "name": "stdout",
     "output_type": "stream",
     "text": [
      "2\n"
     ]
    }
   ],
   "source": [
    "len1=len((name[-len(name)+1:-1:+2]))\n",
    "print(len1)"
   ]
  },
  {
   "cell_type": "code",
   "execution_count": 23,
   "id": "d6d1fcfb-96f6-4cb5-bbf0-266e4fe4f311",
   "metadata": {},
   "outputs": [
    {
     "name": "stdout",
     "output_type": "stream",
     "text": [
      "3\n"
     ]
    }
   ],
   "source": [
    "le2=len((name[-len(name)+1:-1]))\n",
    "print(le2)"
   ]
  },
  {
   "cell_type": "code",
   "execution_count": 22,
   "id": "9a98d79d-cff1-48f0-b7bc-a39eae9e4203",
   "metadata": {},
   "outputs": [
    {
     "name": "stdout",
     "output_type": "stream",
     "text": [
      "5\n"
     ]
    }
   ],
   "source": [
    "print(le2+len1)"
   ]
  },
  {
   "cell_type": "code",
   "execution_count": 42,
   "id": "ba792e34-03b9-43f8-92da-2d9145c4e62b",
   "metadata": {},
   "outputs": [],
   "source": [
    "name.append('rohit')\n",
    "name.append('raj')"
   ]
  },
  {
   "cell_type": "code",
   "execution_count": 43,
   "id": "a86c60a8-bd17-47b2-82c0-6d65240617e4",
   "metadata": {},
   "outputs": [
    {
     "name": "stdout",
     "output_type": "stream",
     "text": [
      "['r', 'n', 'a', 'm', 'e', 'a', 'rohit', 'raj']\n"
     ]
    }
   ],
   "source": [
    "print(name)"
   ]
  },
  {
   "cell_type": "code",
   "execution_count": 32,
   "id": "843a0998-ef14-45cd-9df2-891b05898c46",
   "metadata": {},
   "outputs": [
    {
     "name": "stdout",
     "output_type": "stream",
     "text": [
      "raj\n"
     ]
    }
   ],
   "source": [
    "temp=name[-1]\n",
    "name[-1]=name[0]\n",
    "name[0]=temp\n",
    "print(temp)"
   ]
  },
  {
   "cell_type": "code",
   "execution_count": 40,
   "id": "7ef0407c-f271-49ad-8b91-71e098c36818",
   "metadata": {},
   "outputs": [
    {
     "name": "stdout",
     "output_type": "stream",
     "text": [
      "2\n"
     ]
    }
   ],
   "source": [
    "print(name.count('a'))"
   ]
  },
  {
   "cell_type": "code",
   "execution_count": 44,
   "id": "b7e191fb-eaf3-4746-b10f-ff550fcd665f",
   "metadata": {},
   "outputs": [
    {
     "name": "stdout",
     "output_type": "stream",
     "text": [
      "6\n"
     ]
    }
   ],
   "source": [
    "print(name.index('rohit'))"
   ]
  },
  {
   "cell_type": "code",
   "execution_count": 45,
   "id": "0cb46f02-2548-4892-8364-b81ae9297f5e",
   "metadata": {},
   "outputs": [
    {
     "name": "stdout",
     "output_type": "stream",
     "text": [
      "8\n"
     ]
    }
   ],
   "source": [
    "print(len(name))"
   ]
  },
  {
   "cell_type": "code",
   "execution_count": 47,
   "id": "a37e92a2-f775-4e35-82b5-31862d896c0e",
   "metadata": {},
   "outputs": [],
   "source": [
    "tuple1=(10,20,\"Apple\",3.4,'a',[\"master\",\"ji\"],(\"sita\",\"geeta\",22),[{\"roll_no\":1},{\"name\":\"Navneet\"}])"
   ]
  },
  {
   "cell_type": "code",
   "execution_count": 55,
   "id": "c8d230fe-acf5-4f14-a6b9-5501fdf3f8f2",
   "metadata": {},
   "outputs": [
    {
     "name": "stdout",
     "output_type": "stream",
     "text": [
      "7\n"
     ]
    }
   ],
   "source": [
    "print(len(tuple1)-1)"
   ]
  },
  {
   "cell_type": "code",
   "execution_count": 54,
   "id": "b1c968c2-c21f-4900-8149-a553dec75a14",
   "metadata": {},
   "outputs": [
    {
     "name": "stdout",
     "output_type": "stream",
     "text": [
      "Navneet\n"
     ]
    }
   ],
   "source": [
    "print(tuple1[-1][-1]['name'])"
   ]
  },
  {
   "cell_type": "code",
   "execution_count": 61,
   "id": "64cd26d5-5017-42a6-b6c7-f15d1c822f29",
   "metadata": {},
   "outputs": [],
   "source": [
    "tuple1[5][0]='rohit'\n",
    "tuple1[5].append('raj')\n"
   ]
  },
  {
   "cell_type": "code",
   "execution_count": 62,
   "id": "7b02d7bc-1e36-4c6a-8ca6-09cf657133f2",
   "metadata": {},
   "outputs": [
    {
     "name": "stdout",
     "output_type": "stream",
     "text": [
      "(10, 20, 'Apple', 3.4, 'a', ['rohit', 'ji', 'raj'], ('sita', 'geeta', 22), [{'roll_no': 1}, {'name': 'Navneet'}])\n"
     ]
    }
   ],
   "source": [
    "print(tuple1)"
   ]
  },
  {
   "cell_type": "code",
   "execution_count": 66,
   "id": "7e1918ee-4dea-4e0f-b766-1829dd91a242",
   "metadata": {},
   "outputs": [
    {
     "name": "stdout",
     "output_type": "stream",
     "text": [
      "1\n"
     ]
    }
   ],
   "source": [
    "print(tuple1[-1][0]['roll_no'])"
   ]
  },
  {
   "cell_type": "code",
   "execution_count": 70,
   "id": "e798da05-d29f-4719-b47e-439e1477b082",
   "metadata": {},
   "outputs": [
    {
     "name": "stdout",
     "output_type": "stream",
     "text": [
      "raj\n"
     ]
    }
   ],
   "source": [
    "print(tuple1[-3][2])"
   ]
  },
  {
   "cell_type": "code",
   "execution_count": null,
   "id": "ac77dc61-0620-4ba6-8de2-31a1c93798bf",
   "metadata": {},
   "outputs": [],
   "source": []
  }
 ],
 "metadata": {
  "kernelspec": {
   "display_name": "Python 3 (ipykernel)",
   "language": "python",
   "name": "python3"
  },
  "language_info": {
   "codemirror_mode": {
    "name": "ipython",
    "version": 3
   },
   "file_extension": ".py",
   "mimetype": "text/x-python",
   "name": "python",
   "nbconvert_exporter": "python",
   "pygments_lexer": "ipython3",
   "version": "3.11.2"
  },
  "widgets": {
   "application/vnd.jupyter.widget-state+json": {
    "state": {},
    "version_major": 2,
    "version_minor": 0
   }
  }
 },
 "nbformat": 4,
 "nbformat_minor": 5
}
