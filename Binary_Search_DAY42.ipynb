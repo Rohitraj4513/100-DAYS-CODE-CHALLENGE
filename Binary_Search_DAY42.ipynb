{
 "cells": [
  {
   "cell_type": "code",
   "execution_count": 5,
   "id": "f74c1980-779e-44fc-bcd1-daf7fccb3116",
   "metadata": {},
   "outputs": [],
   "source": [
    "def possible(arr , day , m , k):\n",
    "    count=0\n",
    "    nob=0\n",
    "    for i in arr:\n",
    "        if i <= day:\n",
    "            count +=1\n",
    "        else:\n",
    "            nob += (count // k)\n",
    "            count=0\n",
    "    nob +=(count // k)\n",
    "    return nob >= m\n",
    "\n",
    "def noday(arr , m ,k):\n",
    "    n=len(arr)\n",
    "    if m * k > n :\n",
    "        return -1\n",
    "    mn=min(arr)\n",
    "    mx=max(arr)\n",
    "    for i in range(mn , mx+1):\n",
    "        if possible(arr , i , m ,k):\n",
    "            return i\n",
    "    return -1"
   ]
  },
  {
   "cell_type": "code",
   "execution_count": 6,
   "id": "7b929717-8ee4-4863-9b79-520537797140",
   "metadata": {},
   "outputs": [
    {
     "name": "stdout",
     "output_type": "stream",
     "text": [
      "10\n"
     ]
    }
   ],
   "source": [
    "arr = [1, 10, 3, 10, 2]\n",
    "print(noday(arr, 1, 3))"
   ]
  },
  {
   "cell_type": "code",
   "execution_count": 28,
   "id": "66e3e19c-8868-48a5-8cca-b48db7287df8",
   "metadata": {},
   "outputs": [],
   "source": [
    "def possibl(arr , day , m , k):\n",
    "    count=0\n",
    "    nob=0\n",
    "    for i in arr:\n",
    "        if i <= day:\n",
    "            count +=1\n",
    "        else:\n",
    "            nob += (count // k)\n",
    "            count=0\n",
    "    nob +=(count // k)\n",
    "    return nob >= m\n",
    "    \n",
    "def daybouk(arr , m ,k):\n",
    "    \n",
    "    if m * k > len(arr):\n",
    "        return -1\n",
    "    low , high = min(arr) , max(arr)\n",
    "    while(low <= high):\n",
    "        mid= (low + high)//2\n",
    "        if possibl(arr , mid , m , k):\n",
    "            high=mid-1\n",
    "        else:\n",
    "            low=mid+1\n",
    "    return low\n",
    "        "
   ]
  },
  {
   "cell_type": "code",
   "execution_count": 30,
   "id": "df641b33-b205-4958-9896-fd8f35bc172c",
   "metadata": {},
   "outputs": [
    {
     "name": "stdout",
     "output_type": "stream",
     "text": [
      "3\n"
     ]
    }
   ],
   "source": [
    "arr = [1, 10, 3, 10, 2]\n",
    "print(daybouk(arr, 3 , 1))"
   ]
  },
  {
   "cell_type": "code",
   "execution_count": 43,
   "id": "ac76319b-c52b-45ea-92d4-9ab0a7bf77a8",
   "metadata": {},
   "outputs": [],
   "source": [
    "def icecream(arr , m):\n",
    "    arr.sort()\n",
    "    low  , high =0 , len(arr)\n",
    "    while(low <= high):\n",
    "        mid= (low + high)//2\n",
    "        if arr[low] + arr[mid] == m:\n",
    "            return [low+1 , mid+1]\n",
    "        elif(arr[low] + arr[mid] > m):\n",
    "            high=mid-1\n",
    "        else:\n",
    "            low=mid+1\n",
    "    return -1"
   ]
  },
  {
   "cell_type": "code",
   "execution_count": 44,
   "id": "0d2b4b84-09b4-45d2-b222-daff4ca05149",
   "metadata": {},
   "outputs": [
    {
     "ename": "TypeError",
     "evalue": "object of type 'NoneType' has no len()",
     "output_type": "error",
     "traceback": [
      "\u001b[1;31m---------------------------------------------------------------------------\u001b[0m",
      "\u001b[1;31mTypeError\u001b[0m                                 Traceback (most recent call last)",
      "Cell \u001b[1;32mIn[44], line 2\u001b[0m\n\u001b[0;32m      1\u001b[0m arr\u001b[38;5;241m=\u001b[39m[\u001b[38;5;241m1\u001b[39m , \u001b[38;5;241m3\u001b[39m , \u001b[38;5;241m5\u001b[39m , \u001b[38;5;241m4\u001b[39m ]\n\u001b[1;32m----> 2\u001b[0m \u001b[38;5;28mprint\u001b[39m(\u001b[43micecream\u001b[49m\u001b[43m(\u001b[49m\u001b[43marr\u001b[49m\u001b[43m \u001b[49m\u001b[43m,\u001b[49m\u001b[43m \u001b[49m\u001b[38;5;241;43m4\u001b[39;49m\u001b[43m)\u001b[49m)\n",
      "Cell \u001b[1;32mIn[43], line 3\u001b[0m, in \u001b[0;36micecream\u001b[1;34m(arr, m)\u001b[0m\n\u001b[0;32m      1\u001b[0m \u001b[38;5;28;01mdef\u001b[39;00m \u001b[38;5;21micecream\u001b[39m(arr , m):\n\u001b[0;32m      2\u001b[0m     arr\u001b[38;5;241m=\u001b[39marr\u001b[38;5;241m.\u001b[39msort()\n\u001b[1;32m----> 3\u001b[0m     low  , high \u001b[38;5;241m=\u001b[39m\u001b[38;5;241m0\u001b[39m , \u001b[38;5;28;43mlen\u001b[39;49m\u001b[43m(\u001b[49m\u001b[43marr\u001b[49m\u001b[43m)\u001b[49m\n\u001b[0;32m      4\u001b[0m     \u001b[38;5;28;01mwhile\u001b[39;00m(low \u001b[38;5;241m<\u001b[39m\u001b[38;5;241m=\u001b[39m high):\n\u001b[0;32m      5\u001b[0m         mid\u001b[38;5;241m=\u001b[39m (low \u001b[38;5;241m+\u001b[39m high)\u001b[38;5;241m/\u001b[39m\u001b[38;5;241m/\u001b[39m\u001b[38;5;241m2\u001b[39m\n",
      "\u001b[1;31mTypeError\u001b[0m: object of type 'NoneType' has no len()"
     ]
    }
   ],
   "source": [
    "arr=[1 , 3 , 5 , 4 ]\n",
    "print(icecream(arr , 4))"
   ]
  },
  {
   "cell_type": "code",
   "execution_count": null,
   "id": "5bac1d40-bcae-4f88-a1fe-d3591cce62bd",
   "metadata": {},
   "outputs": [],
   "source": []
  },
  {
   "cell_type": "code",
   "execution_count": null,
   "id": "26b53d5a-7182-483a-893e-d5056677d3ff",
   "metadata": {},
   "outputs": [],
   "source": []
  },
  {
   "cell_type": "code",
   "execution_count": null,
   "id": "c84c6fea-c316-4a66-a021-4427b93f6fe7",
   "metadata": {},
   "outputs": [],
   "source": []
  },
  {
   "cell_type": "code",
   "execution_count": null,
   "id": "c5d5f2f4-9421-4488-a19a-5e20e85a85d0",
   "metadata": {},
   "outputs": [],
   "source": []
  },
  {
   "cell_type": "code",
   "execution_count": null,
   "id": "eee8f644-69d1-4aa5-acc7-ace62fd27e72",
   "metadata": {},
   "outputs": [],
   "source": []
  },
  {
   "cell_type": "code",
   "execution_count": null,
   "id": "4f8ec8e5-43fa-4f87-992b-826668f091e5",
   "metadata": {},
   "outputs": [],
   "source": []
  },
  {
   "cell_type": "code",
   "execution_count": null,
   "id": "c29f32c4-35e4-43b0-8835-55dab95b522a",
   "metadata": {},
   "outputs": [],
   "source": []
  },
  {
   "cell_type": "code",
   "execution_count": null,
   "id": "a193edb9-421a-4a6d-b89b-77027fb83aa9",
   "metadata": {},
   "outputs": [],
   "source": []
  },
  {
   "cell_type": "code",
   "execution_count": null,
   "id": "14c1a27c-9f93-473a-9e25-fe8a30288223",
   "metadata": {},
   "outputs": [],
   "source": []
  },
  {
   "cell_type": "code",
   "execution_count": null,
   "id": "d8dd1c29-dfc5-40fd-b8e4-9bd1898d2c68",
   "metadata": {},
   "outputs": [],
   "source": []
  },
  {
   "cell_type": "code",
   "execution_count": null,
   "id": "05a63464-a79c-45ec-b0f5-71c8c2f26682",
   "metadata": {},
   "outputs": [],
   "source": []
  }
 ],
 "metadata": {
  "kernelspec": {
   "display_name": "Python 3 (ipykernel)",
   "language": "python",
   "name": "python3"
  },
  "language_info": {
   "codemirror_mode": {
    "name": "ipython",
    "version": 3
   },
   "file_extension": ".py",
   "mimetype": "text/x-python",
   "name": "python",
   "nbconvert_exporter": "python",
   "pygments_lexer": "ipython3",
   "version": "3.11.2"
  },
  "widgets": {
   "application/vnd.jupyter.widget-state+json": {
    "state": {},
    "version_major": 2,
    "version_minor": 0
   }
  }
 },
 "nbformat": 4,
 "nbformat_minor": 5
}
