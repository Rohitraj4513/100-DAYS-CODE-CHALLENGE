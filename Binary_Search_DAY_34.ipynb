{
 "cells": [
  {
   "cell_type": "code",
   "execution_count": 3,
   "id": "6add8824-40b2-480e-9242-ede2f1e2e835",
   "metadata": {},
   "outputs": [
    {
     "name": "stdout",
     "output_type": "stream",
     "text": [
      "2\n"
     ]
    }
   ],
   "source": [
    "def Binary_Search(arr , n , trg):\n",
    "    st=0\n",
    "    ed=n-1\n",
    "    while(st <= ed):\n",
    "        mid = (st+ed)//2\n",
    "        if (arr[mid] == trg):\n",
    "            return mid\n",
    "        elif(arr[mid] < trg):\n",
    "            st = mid + 1\n",
    "        else:\n",
    "            ed = mid - 1\n",
    "    return -1\n",
    "arr=[3 , 4 , 6 , 8 , 9 , 10 , 13 , 15]\n",
    "print(Binary_Search(arr ,len(arr) , 6))"
   ]
  },
  {
   "cell_type": "code",
   "execution_count": 5,
   "id": "0a265a9a-42b6-415a-8fb2-d02420b3be87",
   "metadata": {},
   "outputs": [
    {
     "name": "stdout",
     "output_type": "stream",
     "text": [
      "4\n"
     ]
    }
   ],
   "source": [
    "def Binary_Search(arr, st , ed , trg):\n",
    "    if st > ed :\n",
    "        return -1\n",
    "    if len(arr) <= 1:\n",
    "        return arr\n",
    "    mid= (st + ed) // 2\n",
    "    if arr[mid] == trg:\n",
    "        return mid\n",
    "    elif arr[mid] < trg:\n",
    "        return Binary_Search(arr , mid+1 , ed , trg)\n",
    "\n",
    "    return Binary_Search(arr , st , mid-1 , trg)\n",
    "\n",
    "arr=[3 , 4 , 6 , 8 , 10 , 15 ]\n",
    "res=Binary_Search(arr ,0 , len(arr) , 10)\n",
    "print(res)"
   ]
  },
  {
   "cell_type": "code",
   "execution_count": 6,
   "id": "771821dd-4215-46f4-bf36-d9dc9c607542",
   "metadata": {},
   "outputs": [
    {
     "name": "stdout",
     "output_type": "stream",
     "text": [
      "2\n"
     ]
    }
   ],
   "source": [
    "def Lower_Bound(arr , n , trg):\n",
    "    st=0\n",
    "    ed=n-1\n",
    "    ans=n\n",
    "    while( st <= ed):\n",
    "        mid = (st + ed) // 2\n",
    "        if arr[mid] >= trg:\n",
    "            ans = mid\n",
    "\n",
    "            ed=mid-1\n",
    "        else:\n",
    "            st = mid+1\n",
    "    return ans\n",
    "\n",
    "arr=[3 , 4 , 6 , 8 , 10 , 15 ]\n",
    "res=Lower_Bound(arr , len(arr) , 6)\n",
    "print(res)\n",
    "\n"
   ]
  },
  {
   "cell_type": "code",
   "execution_count": 7,
   "id": "becfab4e-8ac3-490a-b7e6-f66110e5f875",
   "metadata": {},
   "outputs": [
    {
     "name": "stdout",
     "output_type": "stream",
     "text": [
      "3\n"
     ]
    }
   ],
   "source": [
    "def Upper_Bound(arr , n , t):\n",
    "    st=0\n",
    "    ed=n-1\n",
    "    ans=n\n",
    "    while(st <= ed):\n",
    "        m=(st + ed)//2\n",
    "        if(arr[m] > t):\n",
    "            ans=m\n",
    "\n",
    "            ed=m-1\n",
    "        else:\n",
    "            st=m+1\n",
    "    return ans\n",
    "\n",
    "arr=[3 , 4 , 6 , 8 , 10 , 15 ]\n",
    "res=Upper_Bound(arr , len(arr) , 6)\n",
    "print(res)\n",
    "\n"
   ]
  },
  {
   "cell_type": "code",
   "execution_count": null,
   "id": "a7f1c434-35fd-480f-becb-81e16fad0a96",
   "metadata": {},
   "outputs": [],
   "source": []
  }
 ],
 "metadata": {
  "kernelspec": {
   "display_name": "Python 3 (ipykernel)",
   "language": "python",
   "name": "python3"
  },
  "language_info": {
   "codemirror_mode": {
    "name": "ipython",
    "version": 3
   },
   "file_extension": ".py",
   "mimetype": "text/x-python",
   "name": "python",
   "nbconvert_exporter": "python",
   "pygments_lexer": "ipython3",
   "version": "3.11.2"
  },
  "widgets": {
   "application/vnd.jupyter.widget-state+json": {
    "state": {},
    "version_major": 2,
    "version_minor": 0
   }
  }
 },
 "nbformat": 4,
 "nbformat_minor": 5
}
