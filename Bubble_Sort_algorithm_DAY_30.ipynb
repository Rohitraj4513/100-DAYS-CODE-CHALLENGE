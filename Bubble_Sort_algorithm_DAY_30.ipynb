{
 "cells": [
  {
   "cell_type": "code",
   "execution_count": 1,
   "id": "10ddca6f-21f8-4385-ae34-14db4a9ed663",
   "metadata": {},
   "outputs": [
    {
     "name": "stdout",
     "output_type": "stream",
     "text": [
      "[[1, 2, 3], [7], [4, 5]]\n"
     ]
    }
   ],
   "source": [
    "# Modify the Bubble Sort algorithm to sort a 2D list based on the sum of each sublist.\n",
    "# Sort in ascending order based on the sum.\n",
    "def bubbl(lst):   #lst= [[4, 5], [1, 2, 3], [7]]\n",
    "    n=len(lst)\n",
    "    def sumcls(sublst):\n",
    "        total=0\n",
    "        for i in sublst:\n",
    "            total +=i\n",
    "        return total\n",
    "    for i in range(n):\n",
    "        for j in range(0 , n-i-1):\n",
    "            # if sum(lst[j]) > sum(lst[j + 1]):  #build in functon\n",
    "            if sumcls(lst[j]) > sumcls(lst[j + 1]): # manualy sum impliments\n",
    "                lst[j] , lst[j+1] = lst[j+1] ,lst[j]\n",
    "    return lst\n",
    "lst= [[4, 5], [1, 2, 3], [7]]\n",
    "print(bubbl(lst))\n",
    "\n"
   ]
  },
  {
   "cell_type": "code",
   "execution_count": 2,
   "id": "cb49ef7d-59da-4a07-9988-065a277d9fc0",
   "metadata": {},
   "outputs": [
    {
     "name": "stdout",
     "output_type": "stream",
     "text": [
      "[5, 4, 3, 2, 1] 0\n"
     ]
    }
   ],
   "source": [
    "def max_swap(lst):\n",
    "    n=len(lst)\n",
    "    m=0\n",
    "    for i in range(n-1):\n",
    "        flag= True\n",
    "        for j in range(0,n-i-1):\n",
    "            if lst[j] < lst[j+1]:\n",
    "                lst[j] , lst[j+1] = lst[j+1] , lst[j]\n",
    "                m +=1\n",
    "                flag=False\n",
    "        if flag :\n",
    "            break\n",
    "\n",
    "    return m\n",
    "lst=[5,4,3,2,1]\n",
    "result=max_swap(lst)\n",
    "print(f\"{lst} {result}\")"
   ]
  },
  {
   "cell_type": "code",
   "execution_count": null,
   "id": "5d2ce0d2-6f22-4b59-a45e-8195e776792f",
   "metadata": {},
   "outputs": [],
   "source": []
  },
  {
   "cell_type": "code",
   "execution_count": null,
   "id": "b6fbde33-e7b9-4df6-8f92-04871c4f522e",
   "metadata": {},
   "outputs": [],
   "source": []
  },
  {
   "cell_type": "code",
   "execution_count": null,
   "id": "13dc7106-2734-4b37-b6f8-e6b25d31099a",
   "metadata": {},
   "outputs": [],
   "source": []
  },
  {
   "cell_type": "code",
   "execution_count": null,
   "id": "f9f62a2f-2f34-452d-8046-36e1854280c7",
   "metadata": {},
   "outputs": [],
   "source": []
  },
  {
   "cell_type": "code",
   "execution_count": null,
   "id": "99806b81-7043-4a7f-a73b-035ff1e648e3",
   "metadata": {},
   "outputs": [],
   "source": []
  }
 ],
 "metadata": {
  "kernelspec": {
   "display_name": "Python 3 (ipykernel)",
   "language": "python",
   "name": "python3"
  },
  "language_info": {
   "codemirror_mode": {
    "name": "ipython",
    "version": 3
   },
   "file_extension": ".py",
   "mimetype": "text/x-python",
   "name": "python",
   "nbconvert_exporter": "python",
   "pygments_lexer": "ipython3",
   "version": "3.11.2"
  },
  "widgets": {
   "application/vnd.jupyter.widget-state+json": {
    "state": {},
    "version_major": 2,
    "version_minor": 0
   }
  }
 },
 "nbformat": 4,
 "nbformat_minor": 5
}
