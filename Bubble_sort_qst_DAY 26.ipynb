{
 "cells": [
  {
   "cell_type": "code",
   "execution_count": 16,
   "id": "beb60960-6166-43b3-ac5d-17ae97cbc6df",
   "metadata": {},
   "outputs": [
    {
     "name": "stdout",
     "output_type": "stream",
     "text": [
      "['b', 22, 'r', 11, 'e', 11, 'd', 4]\n"
     ]
    }
   ],
   "source": [
    "#Using list\n",
    "def str_dct(lst , x):\n",
    "    n=len(lst)\n",
    "    for k in range(n-1 , 0 , -2):\n",
    "        if lst[k] < x :\n",
    "            del(lst[k-1:k+1])\n",
    "    n = len(lst)\n",
    "    for i in range(1 , n , 2):\n",
    "        for j in range(1 , n-i ,2):\n",
    "            if lst[j] < lst[j+2] or (lst[j-1] < lst[j+1] and lst[j] == lst[j+2]):\n",
    "                lst[j] , lst[j+2]  = lst[j+2] ,lst[j]\n",
    "                lst[j-1] , lst[j+1] = lst[j+1] , lst[j-1]\n",
    "    return lst\n",
    "\n",
    "lst1=['a' ,1 ,'b' , 22 , 'c' , 3 ,'d' , 4 ,'e', 11 , 'r' , 11 ]\n",
    "str_dct(lst1,4)\n",
    "print(lst1)\n",
    "    "
   ]
  },
  {
   "cell_type": "code",
   "execution_count": 13,
   "id": "dc772ad6-60e7-43f4-b24a-920d953fb927",
   "metadata": {},
   "outputs": [
    {
     "name": "stdout",
     "output_type": "stream",
     "text": [
      "['b', 22, 'r', 11, 'e', 11, 'd', 4]\n"
     ]
    }
   ],
   "source": [
    "#Using String\n",
    "def Bubble(st , x): #[a 1 n 2 c 3]\n",
    "    st=st.split()\n",
    "    n=len(st)\n",
    "    for i in range(n-1 , 0 , -2):\n",
    "        if int(st[i]) < x :\n",
    "            del(st[i-1:i+1])\n",
    "    for i in range(1 , n , 2):\n",
    "        for j in range(1 , n-i , 2):\n",
    "            if st[j] < st[j+2] or (st[j-1] < st[j+1] and st[j] == st[j+2]):\n",
    "                st[j] , st[j+2] = st[j+2] , st[j]\n",
    "                st[j-1] , st[j+1] =st[j+1] , st[j-1]\n",
    "    return ''.join(st)\n",
    "st=\"a 8 n 4 c 7\"  \n",
    "print(Bubble(st , 5))\n"
   ]
  },
  {
   "cell_type": "code",
   "execution_count": null,
   "id": "a4bc79d6-8da1-4f96-aff1-340a842f21d3",
   "metadata": {},
   "outputs": [],
   "source": []
  },
  {
   "cell_type": "code",
   "execution_count": null,
   "id": "46a13785-63f0-4d88-8ae2-dbba4de0d9db",
   "metadata": {},
   "outputs": [],
   "source": []
  },
  {
   "cell_type": "code",
   "execution_count": null,
   "id": "42e352f8-c161-4a1c-b17b-34e7b3a54c6d",
   "metadata": {},
   "outputs": [],
   "source": []
  },
  {
   "cell_type": "code",
   "execution_count": null,
   "id": "379aafd3-dc0f-4ff0-bdfb-63f6e1eb77e9",
   "metadata": {},
   "outputs": [],
   "source": []
  },
  {
   "cell_type": "code",
   "execution_count": null,
   "id": "0a2f7891-579d-478d-8547-b0256dce4a90",
   "metadata": {},
   "outputs": [],
   "source": []
  },
  {
   "cell_type": "code",
   "execution_count": null,
   "id": "f22df10f-29d1-4a0e-b5f4-7153d59a3264",
   "metadata": {},
   "outputs": [],
   "source": []
  },
  {
   "cell_type": "code",
   "execution_count": null,
   "id": "5c195bd0-8f1c-4c50-a62c-a373fdbaf7f7",
   "metadata": {},
   "outputs": [],
   "source": []
  },
  {
   "cell_type": "code",
   "execution_count": null,
   "id": "f1d0c7c5-7d01-4d18-aa19-83d2c7a77a0f",
   "metadata": {},
   "outputs": [],
   "source": []
  },
  {
   "cell_type": "code",
   "execution_count": null,
   "id": "c859c473-cefa-4079-93a4-cdbae32cad1d",
   "metadata": {},
   "outputs": [],
   "source": []
  },
  {
   "cell_type": "code",
   "execution_count": null,
   "id": "ff868a4f-0657-411f-83c6-a9d0ba802843",
   "metadata": {},
   "outputs": [],
   "source": []
  },
  {
   "cell_type": "code",
   "execution_count": null,
   "id": "10d2cc72-e299-4193-898d-dcfd9d51f735",
   "metadata": {},
   "outputs": [],
   "source": []
  }
 ],
 "metadata": {
  "kernelspec": {
   "display_name": "Python 3 (ipykernel)",
   "language": "python",
   "name": "python3"
  },
  "language_info": {
   "codemirror_mode": {
    "name": "ipython",
    "version": 3
   },
   "file_extension": ".py",
   "mimetype": "text/x-python",
   "name": "python",
   "nbconvert_exporter": "python",
   "pygments_lexer": "ipython3",
   "version": "3.11.2"
  },
  "widgets": {
   "application/vnd.jupyter.widget-state+json": {
    "state": {},
    "version_major": 2,
    "version_minor": 0
   }
  }
 },
 "nbformat": 4,
 "nbformat_minor": 5
}
