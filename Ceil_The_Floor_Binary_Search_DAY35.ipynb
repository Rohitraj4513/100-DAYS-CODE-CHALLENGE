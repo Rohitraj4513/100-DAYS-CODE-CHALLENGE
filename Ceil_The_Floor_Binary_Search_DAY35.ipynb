{
 "cells": [
  {
   "cell_type": "code",
   "execution_count": 3,
   "id": "80b0882f-59f4-4c8b-9f70-df36865244e4",
   "metadata": {},
   "outputs": [],
   "source": [
    "def searchInsert( nums, target):\n",
    "    ans=len(nums)\n",
    "    st=0\n",
    "    ed=len(nums)-1\n",
    "    while(st <= ed):\n",
    "        mid=(st+ed)//2\n",
    "        if(nums[mid] == target):\n",
    "            return mid\n",
    "        elif(nums[mid] > target):\n",
    "            ans = mid\n",
    "\n",
    "            ed=mid-1\n",
    "        else:\n",
    "            st=mid+1\n",
    "\n",
    "    return ans"
   ]
  },
  {
   "cell_type": "code",
   "execution_count": 6,
   "id": "95389e92-87b0-4903-bf00-612d117f4de5",
   "metadata": {},
   "outputs": [
    {
     "name": "stdout",
     "output_type": "stream",
     "text": [
      "2\n",
      "1\n",
      "4\n"
     ]
    }
   ],
   "source": [
    "arr=[1,3,5,6]\n",
    "print(searchInsert(arr , 5))\n",
    "print(searchInsert(arr , 2))\n",
    "print(searchInsert(arr , 7))"
   ]
  },
  {
   "cell_type": "code",
   "execution_count": 7,
   "id": "b69ff5e8-5b04-4fd4-9c1d-202182494cfe",
   "metadata": {},
   "outputs": [],
   "source": [
    "def getFloorAndCeil(x , arr):\n",
    "    arr.sort()\n",
    "    st=0\n",
    "    en=len(arr)-1\n",
    "    floor=-1\n",
    "    ceil=-1\n",
    "    while(st <= en):\n",
    "        mid=(st+en)//2\n",
    "            \n",
    "        if(arr[mid] == x):\n",
    "            return arr[mid] , arr[mid]\n",
    "            \n",
    "        elif arr[mid] > x:\n",
    "            ceil=arr[mid]\n",
    "                \n",
    "            en=mid-1\n",
    "        else:\n",
    "            floor=arr[mid]\n",
    "                \n",
    "            st=mid+1\n",
    "    return floor , ceil"
   ]
  },
  {
   "cell_type": "code",
   "execution_count": 8,
   "id": "5dd49f3e-5238-40ac-849d-842d760d89bb",
   "metadata": {},
   "outputs": [
    {
     "name": "stdout",
     "output_type": "stream",
     "text": [
      "(6, 8)\n",
      "(9, -1)\n"
     ]
    }
   ],
   "source": [
    "arr = [5, 6, 8, 9, 6, 5, 5, 6]\n",
    "print(getFloorAndCeil(7 , arr))\n",
    "print(getFloorAndCeil(10 , arr))\n"
   ]
  },
  {
   "cell_type": "code",
   "execution_count": null,
   "id": "6c98e6d5-befb-492b-bd2c-b3dae9ecbd46",
   "metadata": {},
   "outputs": [],
   "source": []
  }
 ],
 "metadata": {
  "kernelspec": {
   "display_name": "Python 3 (ipykernel)",
   "language": "python",
   "name": "python3"
  },
  "language_info": {
   "codemirror_mode": {
    "name": "ipython",
    "version": 3
   },
   "file_extension": ".py",
   "mimetype": "text/x-python",
   "name": "python",
   "nbconvert_exporter": "python",
   "pygments_lexer": "ipython3",
   "version": "3.11.2"
  },
  "widgets": {
   "application/vnd.jupyter.widget-state+json": {
    "state": {},
    "version_major": 2,
    "version_minor": 0
   }
  }
 },
 "nbformat": 4,
 "nbformat_minor": 5
}
