{
 "cells": [
  {
   "cell_type": "code",
   "execution_count": 12,
   "id": "7097fcba-e9d3-4ce6-afa7-7eae31f13fb5",
   "metadata": {},
   "outputs": [],
   "source": [
    "#class methods\n",
    "class person:\n",
    "    cmp='Apple'\n",
    "    def __init__(self , name , age):\n",
    "        self.name=name\n",
    "        self.age=age\n",
    "    @classmethod\n",
    "    def from_cmp(cls, new_cmp):\n",
    "        cls.cmp=new_cmp\n",
    "    def show(self):\n",
    "        print(f\"name:{self.name} age:{self.age} campany:{self.cmp}\")\n"
   ]
  },
  {
   "cell_type": "code",
   "execution_count": 14,
   "id": "87cbef42-5091-44e7-a23b-465d47cc7a1d",
   "metadata": {},
   "outputs": [
    {
     "name": "stdout",
     "output_type": "stream",
     "text": [
      "name:rohit age:20 campany:nokia\n",
      "name:rohit age:20 campany:nokia\n",
      "name:raj age:40 campany:nokia\n",
      "nokia\n"
     ]
    }
   ],
   "source": [
    "#fcn calling\n",
    "obj=person('rohit' , 20)\n",
    "obj.show()\n",
    "obj.from_cmp('nokia')\n",
    "obj.show()\n",
    "obj2=person('raj' ,40)\n",
    "obj2.show()\n",
    "print(person.cmp)"
   ]
  },
  {
   "cell_type": "code",
   "execution_count": 20,
   "id": "3e6a03b6-4854-4e0d-8227-cbfa106970b3",
   "metadata": {},
   "outputs": [],
   "source": [
    "class person1:\n",
    "    def __init__(self , name , age):\n",
    "        self.name=name\n",
    "        self.age=age\n",
    "    @classmethod\n",
    "    def from_cls(cls , string):\n",
    "        return cls(string.split('-')[0] , string.split('-')[1])\n",
    "    def show(self):\n",
    "        print(f\"name:{self.name} age:{self.age} \")\n",
    "        "
   ]
  },
  {
   "cell_type": "code",
   "execution_count": 31,
   "id": "34859634-974d-4ac0-8061-4bca2bb48de5",
   "metadata": {},
   "outputs": [
    {
     "name": "stdout",
     "output_type": "stream",
     "text": [
      "name:rohit age:20 \n",
      "name:rohit age:20 \n",
      "Help on class person in module __main__:\n",
      "\n",
      "class person(builtins.object)\n",
      " |  person(name, age)\n",
      " |  \n",
      " |  Methods defined here:\n",
      " |  \n",
      " |  __init__(self, name, age)\n",
      " |      Initialize self.  See help(type(self)) for accurate signature.\n",
      " |  \n",
      " |  show(self)\n",
      " |  \n",
      " |  ----------------------------------------------------------------------\n",
      " |  Class methods defined here:\n",
      " |  \n",
      " |  from_cmp(new_cmp) from builtins.type\n",
      " |  \n",
      " |  ----------------------------------------------------------------------\n",
      " |  Data descriptors defined here:\n",
      " |  \n",
      " |  __dict__\n",
      " |      dictionary for instance variables (if defined)\n",
      " |  \n",
      " |  __weakref__\n",
      " |      list of weak references to the object (if defined)\n",
      " |  \n",
      " |  ----------------------------------------------------------------------\n",
      " |  Data and other attributes defined here:\n",
      " |  \n",
      " |  cmp = 'nokia'\n",
      "\n",
      "None\n"
     ]
    }
   ],
   "source": [
    "#calling\n",
    "string='rohit-20'\n",
    "obj=person1(string.split('-')[0] , string.split('-')[1])\n",
    "obj.show()\n",
    "obj1=person1.from_cls(string)\n",
    "obj.show()\n",
    "obj.__dict__ #show elements in list from\n",
    "print(help(person))"
   ]
  },
  {
   "cell_type": "code",
   "execution_count": 29,
   "id": "d8ccec1a-ba5c-4e6b-8080-1b3dfa545f1b",
   "metadata": {},
   "outputs": [
    {
     "name": "stdout",
     "output_type": "stream",
     "text": [
      "['__add__', '__class__', '__class_getitem__', '__contains__', '__delattr__', '__delitem__', '__dir__', '__doc__', '__eq__', '__format__', '__ge__', '__getattribute__', '__getitem__', '__getstate__', '__gt__', '__hash__', '__iadd__', '__imul__', '__init__', '__init_subclass__', '__iter__', '__le__', '__len__', '__lt__', '__mul__', '__ne__', '__new__', '__reduce__', '__reduce_ex__', '__repr__', '__reversed__', '__rmul__', '__setattr__', '__setitem__', '__sizeof__', '__str__', '__subclasshook__', 'append', 'clear', 'copy', 'count', 'extend', 'index', 'insert', 'pop', 'remove', 'reverse', 'sort']\n",
      "<built-in method clear of list object at 0x00000241786D5D00>\n",
      "None\n"
     ]
    }
   ],
   "source": [
    "x=[1 , 2 , 3]\n",
    "print(dir(x))\n",
    "print(x.clear)\n",
    "print(x.__hash__)"
   ]
  },
  {
   "cell_type": "code",
   "execution_count": null,
   "id": "f64db50f-06b7-47bd-875e-9f8f7f90a021",
   "metadata": {},
   "outputs": [],
   "source": []
  }
 ],
 "metadata": {
  "kernelspec": {
   "display_name": "Python 3 (ipykernel)",
   "language": "python",
   "name": "python3"
  },
  "language_info": {
   "codemirror_mode": {
    "name": "ipython",
    "version": 3
   },
   "file_extension": ".py",
   "mimetype": "text/x-python",
   "name": "python",
   "nbconvert_exporter": "python",
   "pygments_lexer": "ipython3",
   "version": "3.11.2"
  }
 },
 "nbformat": 4,
 "nbformat_minor": 5
}
