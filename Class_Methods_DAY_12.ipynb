{
 "cells": [
  {
   "cell_type": "code",
   "execution_count": 6,
   "id": "39aacb77-826b-4b80-b565-280d6547d58e",
   "metadata": {},
   "outputs": [],
   "source": [
    "class Employees:\n",
    "    def __init__(self ,id , name):\n",
    "        self.name=name\n",
    "        self.id=id\n",
    "    def show(self):\n",
    "        print(f\"user_id:{self.id} name:{self.name}\")\n",
    "    @staticmethod \n",
    "    def add(a , b):\n",
    "        print(f\"a+b={a+b}\")"
   ]
  },
  {
   "cell_type": "code",
   "execution_count": 9,
   "id": "79a61106-7d45-46ae-b4b3-10f3ce70af75",
   "metadata": {},
   "outputs": [
    {
     "name": "stdout",
     "output_type": "stream",
     "text": [
      "user_id:101 name:rohit\n",
      "a+b=5\n"
     ]
    }
   ],
   "source": [
    "obj =Employees(101, 'rohit')\n",
    "obj.show()\n",
    "Employees.add(1 , 4)"
   ]
  },
  {
   "cell_type": "code",
   "execution_count": 11,
   "id": "50caa35a-95bf-4b54-aa59-7b347b165a9b",
   "metadata": {},
   "outputs": [],
   "source": [
    "#class and variables and methods variables\n",
    "class EMployees:\n",
    "    company=\"Apple\"\n",
    "    def __init__(self , id , name , dept):\n",
    "        self.id=id\n",
    "        self.name=name\n",
    "        self.dept=dept\n",
    "    def Show(self):\n",
    "        print(f\"COMPANY_NAME:{self.company} USER_ID:{self.id} DEPARTMENTS:{self.dept}\")"
   ]
  },
  {
   "cell_type": "code",
   "execution_count": 18,
   "id": "0cbdc254-dcdd-4717-9ee0-309372742893",
   "metadata": {},
   "outputs": [
    {
     "name": "stdout",
     "output_type": "stream",
     "text": [
      "COMPANY_NAME:Apple USER_ID:101 DEPARTMENTS:Programmer\n",
      "COMPANY_NAME:Nokia USER_ID:102 DEPARTMENTS:Tester\n",
      "COMPANY_NAME:Apple USER_ID:103 DEPARTMENTS:Codder\n",
      "COMPANY_NAME:Apple USER_ID:105 DEPARTMENTS:Sales\n",
      "COMPANY_NAME:Apple USER_ID:105 DEPARTMENTS:Sales\n"
     ]
    }
   ],
   "source": [
    "obj=EMployees(101 , \"Rohit\" , \"Programmer\")\n",
    "obj.Show()\n",
    "obj2=EMployees(102 , 'Raj' , 'Tester')\n",
    "obj2.company=\"Nokia\"\n",
    "obj2.Show()\n",
    "obj3=EMployees(103 , \"Rohit\" , \"Codder\")\n",
    "obj3.Show()\n",
    "obj4=EMployees(105 , \"Rowin\" , \"Sales\")\n",
    "obj4.Show()\n",
    "\n"
   ]
  },
  {
   "cell_type": "code",
   "execution_count": null,
   "id": "1cc0bb03-d7b1-4da1-84a9-2b420adba6fa",
   "metadata": {},
   "outputs": [],
   "source": []
  },
  {
   "cell_type": "code",
   "execution_count": null,
   "id": "f3fc4dc2-9ce2-4f54-8d84-fad977d2ea8e",
   "metadata": {},
   "outputs": [],
   "source": []
  },
  {
   "cell_type": "code",
   "execution_count": null,
   "id": "cb13603f-9a8f-46ca-b631-ebd4ce7c77ae",
   "metadata": {},
   "outputs": [],
   "source": []
  },
  {
   "cell_type": "code",
   "execution_count": null,
   "id": "b8d957bd-620f-4d6d-ab96-5864b0397ba1",
   "metadata": {},
   "outputs": [],
   "source": []
  },
  {
   "cell_type": "code",
   "execution_count": null,
   "id": "9d5c54ed-91d5-4812-9c48-9411b06f2add",
   "metadata": {},
   "outputs": [],
   "source": []
  },
  {
   "cell_type": "code",
   "execution_count": null,
   "id": "1d3b17f4-4df6-4191-b9cb-be32c0217c3d",
   "metadata": {},
   "outputs": [],
   "source": []
  },
  {
   "cell_type": "code",
   "execution_count": null,
   "id": "b8c9dc72-7e9c-409e-94d4-5dc047158718",
   "metadata": {},
   "outputs": [],
   "source": []
  },
  {
   "cell_type": "code",
   "execution_count": null,
   "id": "c26945a1-8b7e-4912-883c-529b8cb0cbc9",
   "metadata": {},
   "outputs": [],
   "source": []
  },
  {
   "cell_type": "code",
   "execution_count": null,
   "id": "20450409-9d32-4620-ad52-614187e5063d",
   "metadata": {},
   "outputs": [],
   "source": []
  },
  {
   "cell_type": "code",
   "execution_count": null,
   "id": "5c80435d-b612-45a4-bcdd-f1815a42149a",
   "metadata": {},
   "outputs": [],
   "source": []
  },
  {
   "cell_type": "code",
   "execution_count": null,
   "id": "ca56e716-a61b-4436-85ec-e9a48f12b07f",
   "metadata": {},
   "outputs": [],
   "source": []
  },
  {
   "cell_type": "code",
   "execution_count": null,
   "id": "ee40dd82-11f8-4c10-ba0b-ca08c86073b6",
   "metadata": {},
   "outputs": [],
   "source": []
  },
  {
   "cell_type": "code",
   "execution_count": null,
   "id": "22fe15a3-e672-429c-a303-81e26905bd2a",
   "metadata": {},
   "outputs": [],
   "source": []
  },
  {
   "cell_type": "code",
   "execution_count": null,
   "id": "6d6a171c-7633-4ca4-a8f7-a6bb2c5850c2",
   "metadata": {},
   "outputs": [],
   "source": []
  }
 ],
 "metadata": {
  "kernelspec": {
   "display_name": "Python 3 (ipykernel)",
   "language": "python",
   "name": "python3"
  },
  "language_info": {
   "codemirror_mode": {
    "name": "ipython",
    "version": 3
   },
   "file_extension": ".py",
   "mimetype": "text/x-python",
   "name": "python",
   "nbconvert_exporter": "python",
   "pygments_lexer": "ipython3",
   "version": "3.11.2"
  }
 },
 "nbformat": 4,
 "nbformat_minor": 5
}
