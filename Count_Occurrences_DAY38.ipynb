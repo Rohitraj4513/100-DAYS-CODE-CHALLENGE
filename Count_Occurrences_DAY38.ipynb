{
 "cells": [
  {
   "cell_type": "code",
   "execution_count": 1,
   "id": "bd403b55-e397-43e3-8a27-f515e126cc72",
   "metadata": {},
   "outputs": [],
   "source": [
    "class Solution:\n",
    "    def lower(self , arr , target):\n",
    "        st=0\n",
    "        end=len(arr)-1\n",
    "        ans=-1\n",
    "        while(st <= end):\n",
    "            mid=(st+end)//2\n",
    "            if (arr[mid] == target):\n",
    "                ans =mid\n",
    "                end= mid-1\n",
    "            elif(arr[mid] < target):\n",
    "                st=mid+1\n",
    "            else:\n",
    "                end=mid-1\n",
    "        return ans\n",
    "        \n",
    "    def upper(self , arr , target):\n",
    "        st=0\n",
    "        end=len(arr)-1\n",
    "        ans=-1\n",
    "        while(st <= end):\n",
    "            mid=(st+end)//2\n",
    "            if (arr[mid] == target):\n",
    "                ans =mid\n",
    "                st=mid+1\n",
    "            elif(arr[mid] > target):\n",
    "                end=mid-1\n",
    "            else:\n",
    "                st=mid+1\n",
    "        return ans\n",
    "    \n",
    "    def countFreq(self, arr, target):\n",
    "        low=self.lower(arr , target)\n",
    "        high=self.upper(arr , target)\n",
    "        if low == -1 or high == -1 :\n",
    "            return 0\n",
    "        return high-low+1"
   ]
  },
  {
   "cell_type": "code",
   "execution_count": 3,
   "id": "99aed05e-eaa5-4d1a-8499-05c2fb4f1818",
   "metadata": {},
   "outputs": [
    {
     "name": "stdout",
     "output_type": "stream",
     "text": [
      "4\n"
     ]
    }
   ],
   "source": [
    "arr=[1, 1,2 ,2, 2,2,3]\n",
    "obj=Solution()\n",
    "print(obj.countFreq(arr , 2))"
   ]
  },
  {
   "cell_type": "code",
   "execution_count": 4,
   "id": "d21b3569-412e-4bc8-805d-15aeb5b2bc69",
   "metadata": {},
   "outputs": [],
   "source": [
    "class Solution(object):\n",
    "    def search(self, nums, target):\n",
    "        high=len(nums)-1\n",
    "        low=0\n",
    "        while(low <= high):\n",
    "            mid=(low + high)//2\n",
    "            if(nums[mid] == target):\n",
    "                return True\n",
    "            \n",
    "            if(nums[low] == nums[mid] == nums[high]):\n",
    "                low +=1\n",
    "                high -=1\n",
    "                continue\n",
    "            \n",
    "            if nums[low] <= nums[mid]:\n",
    "                if(nums[low] <= target < nums[mid]):\n",
    "                    high=mid-1\n",
    "                else:\n",
    "                    low=mid+1\n",
    "            else:\n",
    "                if nums[mid] < target <= nums[high]:\n",
    "                    low=mid+1\n",
    "                else:\n",
    "                    high=mid-1\n",
    "        return False"
   ]
  },
  {
   "cell_type": "code",
   "execution_count": 5,
   "id": "fc45fe55-425f-4e11-9678-122d24e9ad85",
   "metadata": {},
   "outputs": [
    {
     "name": "stdout",
     "output_type": "stream",
     "text": [
      "True\n"
     ]
    }
   ],
   "source": [
    "arr=[2,5,6,0,0,1,2]\n",
    "obj=Solution()\n",
    "print(obj.search(arr , 0))"
   ]
  },
  {
   "cell_type": "code",
   "execution_count": null,
   "id": "92a5f037-5dd6-43bc-b572-c976c6ba3555",
   "metadata": {},
   "outputs": [],
   "source": []
  }
 ],
 "metadata": {
  "kernelspec": {
   "display_name": "Python 3 (ipykernel)",
   "language": "python",
   "name": "python3"
  },
  "language_info": {
   "codemirror_mode": {
    "name": "ipython",
    "version": 3
   },
   "file_extension": ".py",
   "mimetype": "text/x-python",
   "name": "python",
   "nbconvert_exporter": "python",
   "pygments_lexer": "ipython3",
   "version": "3.11.2"
  },
  "widgets": {
   "application/vnd.jupyter.widget-state+json": {
    "state": {},
    "version_major": 2,
    "version_minor": 0
   }
  }
 },
 "nbformat": 4,
 "nbformat_minor": 5
}
