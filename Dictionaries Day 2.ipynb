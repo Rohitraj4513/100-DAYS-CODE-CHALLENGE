{
 "cells": [
  {
   "cell_type": "code",
   "execution_count": 4,
   "id": "d2b3efb4-341e-439b-9343-83e6eb27ee0d",
   "metadata": {},
   "outputs": [
    {
     "name": "stdout",
     "output_type": "stream",
     "text": [
      "98\n"
     ]
    }
   ],
   "source": [
    "#Create a dictionary to store student names as keys and their marks as values. Then, retrieve the marks of a specific student by their name.\n",
    "dict={\"rohit\":98,\n",
    "      \"raj\":99,\n",
    "      \"mohit\":88,\n",
    "      \"roh\":\"rohi\"\n",
    "     }\n",
    "print(dict[\"rohit\"])\n",
    "      "
   ]
  },
  {
   "cell_type": "code",
   "execution_count": 5,
   "id": "4d01290b-401f-4a25-bd6c-36ea73de94c0",
   "metadata": {},
   "outputs": [
    {
     "name": "stdin",
     "output_type": "stream",
     "text": [
      " rohit raj rohit raj i am rohit raj my name is rohit raj \n"
     ]
    },
    {
     "name": "stdout",
     "output_type": "stream",
     "text": [
      "{'rohit': 4, 'raj': 4, 'i': 1, 'am': 1, 'my': 1, 'name': 1, 'is': 1}\n"
     ]
    }
   ],
   "source": [
    "#Write a Python program to count the occurrences of each word in a given sentence using a dictionary.\n",
    "str=input()\n",
    "dict={}\n",
    "word=str.split()\n",
    "for i in word:\n",
    "    if i in dict:\n",
    "        dict[i]+=1\n",
    "    else:\n",
    "        dict[i]=1\n",
    "print(dict)"
   ]
  },
  {
   "cell_type": "code",
   "execution_count": 12,
   "id": "2264bd6c-0dd4-4d0d-99ac-c705f45d7965",
   "metadata": {},
   "outputs": [
    {
     "name": "stdin",
     "output_type": "stream",
     "text": [
      " rohit raj rohit raj i am rohit raj my name is rohit raj\n"
     ]
    },
    {
     "name": "stdout",
     "output_type": "stream",
     "text": [
      "{'r': ['rohit', 'raj', 'rohit', 'raj', 'rohit', 'raj', 'rohit', 'raj'], 'i': ['i', 'is'], 'a': ['am'], 'm': ['my'], 'n': ['name']}\n"
     ]
    }
   ],
   "source": [
    "#Write a Python program to group words by their first letter using a dictionary.\n",
    "str1=input()\n",
    "dict1={}\n",
    "wrd=str1.split()\n",
    "for i in wrd:\n",
    "    fst_ltr=i[0]\n",
    "    if fst_ltr in dict1:\n",
    "        dict1[fst_ltr].append(i)\n",
    "    else:\n",
    "        dict1[fst_ltr]=[i]\n",
    "print(dict1)\n",
    "\n"
   ]
  },
  {
   "cell_type": "code",
   "execution_count": null,
   "id": "0bd7192c-5a9b-4adc-a482-3e2390413c60",
   "metadata": {},
   "outputs": [],
   "source": []
  },
  {
   "cell_type": "code",
   "execution_count": null,
   "id": "22bf7b63-b563-4557-92e8-c8b53d0f7902",
   "metadata": {},
   "outputs": [],
   "source": []
  },
  {
   "cell_type": "code",
   "execution_count": null,
   "id": "075267ea-99dc-453b-a982-b1fd682725ea",
   "metadata": {},
   "outputs": [],
   "source": []
  }
 ],
 "metadata": {
  "kernelspec": {
   "display_name": "Python 3 (ipykernel)",
   "language": "python",
   "name": "python3"
  },
  "language_info": {
   "codemirror_mode": {
    "name": "ipython",
    "version": 3
   },
   "file_extension": ".py",
   "mimetype": "text/x-python",
   "name": "python",
   "nbconvert_exporter": "python",
   "pygments_lexer": "ipython3",
   "version": "3.11.2"
  }
 },
 "nbformat": 4,
 "nbformat_minor": 5
}
