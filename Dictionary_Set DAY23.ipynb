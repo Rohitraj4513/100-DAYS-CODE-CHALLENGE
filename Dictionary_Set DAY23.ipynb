{
 "cells": [
  {
   "cell_type": "code",
   "execution_count": 2,
   "id": "4032bf22-62ed-48e9-a9c3-1ef24e23c9c2",
   "metadata": {},
   "outputs": [
    {
     "name": "stdout",
     "output_type": "stream",
     "text": [
      "{'fname': 'ROhit', 'lname': 'Raj', 'Course': 'Mca', 'Reg_no': 7166, 'city': 'patna'}\n",
      "<class 'dict'>\n"
     ]
    }
   ],
   "source": [
    "#Dictionary\n",
    "dt={'fname':'ROhit' , 'lname':'Raj' , 'Course':'Mca' , 'Reg_no':7166 , 'city':'patna'}\n",
    "print(dt)\n",
    "print(type(dt))"
   ]
  },
  {
   "cell_type": "code",
   "execution_count": 8,
   "id": "1d039782-f6a9-487e-9d1b-6622bfbd53c0",
   "metadata": {},
   "outputs": [
    {
     "name": "stdout",
     "output_type": "stream",
     "text": [
      "dict_keys(['fname', 'lname', 'Course', 'Reg_no', 'city'])\n",
      "dict_values(['ROhit', 'Raj', 'Mca', 7166, 'patna'])\n",
      "dict_items([('fname', 'ROhit'), ('lname', 'Raj'), ('Course', 'Mca'), ('Reg_no', 7166), ('city', 'patna')])\n",
      "ROhit\n"
     ]
    }
   ],
   "source": [
    "#Dictionary and its Function\n",
    "print(dt.keys())\n",
    "print(dt.values())\n",
    "print(dt.items())\n",
    "print(dt.get('fname'))"
   ]
  },
  {
   "cell_type": "code",
   "execution_count": 9,
   "id": "964b1efe-ba74-42aa-9c6b-a7036d3f2846",
   "metadata": {},
   "outputs": [
    {
     "name": "stdout",
     "output_type": "stream",
     "text": [
      "{'fname': 'ROhit', 'lname': 'Raj', 'Course': 'Mca', 'Reg_no': 7166, 'city': 'patna', 'college': 'gdgu', 'place': 'sohna'}\n"
     ]
    }
   ],
   "source": [
    "#Dictionary and its Function\n",
    "dt.update({'college':'gdgu' , 'place':'sohna'})\n",
    "dt.pop()\n",
    "print(dt)"
   ]
  },
  {
   "cell_type": "code",
   "execution_count": 11,
   "id": "091b0a54-bdf8-457d-b30f-95e9e4516c90",
   "metadata": {},
   "outputs": [
    {
     "name": "stdout",
     "output_type": "stream",
     "text": [
      "{'fname': 'ROhit', 'lname': 'Raj', 'Course': 'Mca', 'Reg_no': 7166, 'college': 'gdgu', 'place': 'sohna'}\n"
     ]
    }
   ],
   "source": [
    "#Dictionary and its Function\n",
    "dt.pop('city')\n",
    "print(dt)"
   ]
  },
  {
   "cell_type": "code",
   "execution_count": 14,
   "id": "8f3de69b-b240-41b6-89a9-77df0a262409",
   "metadata": {},
   "outputs": [
    {
     "name": "stdout",
     "output_type": "stream",
     "text": [
      "{'fname': 'ROhit', 'lname': 'Raj', 'Course': 'Mca', 'Reg_no': 7166}\n",
      "{'fname': 'ROhit', 'lname': 'Raj', 'Course': 'Mca', 'Reg_no': 7166}\n"
     ]
    }
   ],
   "source": [
    "#Dictionary and its Function\n",
    "dt.popitem()\n",
    "print(dt)\n",
    "new_dt=dt.copy()\n",
    "print(new_dt)"
   ]
  },
  {
   "cell_type": "code",
   "execution_count": 18,
   "id": "9867811e-08b8-4a9b-9b39-eeade10ae500",
   "metadata": {},
   "outputs": [
    {
     "name": "stdout",
     "output_type": "stream",
     "text": [
      "{'a': 0, 'b': 0, 'c': 0}\n",
      "True\n",
      "False\n"
     ]
    }
   ],
   "source": [
    "#Dictionary and its Function\n",
    "keys=['a' , 'b' , 'c']\n",
    "my_dt=dict.fromkeys(keys,0)\n",
    "print(my_dt)\n",
    "print('fname' in dt)\n",
    "print('city' in dt)"
   ]
  },
  {
   "cell_type": "code",
   "execution_count": 21,
   "id": "bad24be1-8269-461f-94bd-f83ae2212515",
   "metadata": {},
   "outputs": [
    {
     "name": "stdout",
     "output_type": "stream",
     "text": [
      "{}\n"
     ]
    }
   ],
   "source": [
    "#Dictionary and its Function\n",
    "dt.clear()\n",
    "print(dt)"
   ]
  },
  {
   "cell_type": "code",
   "execution_count": 25,
   "id": "c33a9e87-dde7-4191-bb4e-663f5ca0a2bb",
   "metadata": {},
   "outputs": [
    {
     "name": "stdout",
     "output_type": "stream",
     "text": [
      "{1, 2, 3, 4, 5}\n",
      "<class 'set'>\n"
     ]
    }
   ],
   "source": [
    "#Set\n",
    "st={1 , 2 , 3 ,4 ,5 }\n",
    "st1={1 , 2 , 3 }\n",
    "print(st)\n",
    "print(type(st))"
   ]
  },
  {
   "cell_type": "code",
   "execution_count": 24,
   "id": "ea8b828d-91e8-45e0-8340-4a276e3381ef",
   "metadata": {},
   "outputs": [
    {
     "name": "stdout",
     "output_type": "stream",
     "text": [
      "{1, 2, 3, 4, 5, 10, 11}\n"
     ]
    }
   ],
   "source": [
    "#Set and its functions\n",
    "st.add(10)\n",
    "st.add(11)\n",
    "st.add(10)\n",
    "st.add(10)\n",
    "print(st)"
   ]
  },
  {
   "cell_type": "code",
   "execution_count": 26,
   "id": "5012abbf-b4f0-40ea-aaff-a340cdf739d4",
   "metadata": {},
   "outputs": [
    {
     "name": "stdout",
     "output_type": "stream",
     "text": [
      "{1, 2, 3, 4, 5, 6, 7}\n"
     ]
    }
   ],
   "source": [
    "#Set and its functions\n",
    "st1.update([4 , 5 , 6 ,7 ])\n",
    "print(st1)"
   ]
  },
  {
   "cell_type": "code",
   "execution_count": 29,
   "id": "1c29a72a-2d9f-42fa-8b9a-3f3ddfd4e7ba",
   "metadata": {},
   "outputs": [
    {
     "name": "stdout",
     "output_type": "stream",
     "text": [
      "{1, 2, 3, 5, 7}\n"
     ]
    }
   ],
   "source": [
    "#Set and its functions\n",
    "st1.remove(4)\n",
    "print(st1)"
   ]
  },
  {
   "cell_type": "code",
   "execution_count": 31,
   "id": "789d92e6-7d3e-4661-b7bb-0eff6d04c1b5",
   "metadata": {},
   "outputs": [
    {
     "name": "stdout",
     "output_type": "stream",
     "text": [
      "{1, 2, 3, 5}\n"
     ]
    }
   ],
   "source": [
    "#Set and its functions\n",
    "st1.discard(7)\n",
    "print(st1)"
   ]
  },
  {
   "cell_type": "code",
   "execution_count": null,
   "id": "ea118b2e-0537-46e4-b548-7a318b093ba6",
   "metadata": {},
   "outputs": [],
   "source": []
  }
 ],
 "metadata": {
  "kernelspec": {
   "display_name": "Python 3 (ipykernel)",
   "language": "python",
   "name": "python3"
  },
  "language_info": {
   "codemirror_mode": {
    "name": "ipython",
    "version": 3
   },
   "file_extension": ".py",
   "mimetype": "text/x-python",
   "name": "python",
   "nbconvert_exporter": "python",
   "pygments_lexer": "ipython3",
   "version": "3.11.2"
  },
  "widgets": {
   "application/vnd.jupyter.widget-state+json": {
    "state": {},
    "version_major": 2,
    "version_minor": 0
   }
  }
 },
 "nbformat": 4,
 "nbformat_minor": 5
}
