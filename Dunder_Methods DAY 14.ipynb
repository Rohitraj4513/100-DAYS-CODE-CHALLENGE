{
 "cells": [
  {
   "cell_type": "code",
   "execution_count": 5,
   "id": "49cf5885-926d-4c86-ac8b-a23765d321bd",
   "metadata": {},
   "outputs": [],
   "source": [
    "#dunder methods\n",
    "class Employee1:\n",
    "    def __init__(self , name):\n",
    "        self.name=name\n",
    "    def __len__(self):\n",
    "        # return len(self.name)\n",
    "        count=0\n",
    "        for i in self.name:\n",
    "            count +=1\n",
    "        return count\n",
    "    def __str__(self):\n",
    "        return f\"the name of employees {self.name}\""
   ]
  },
  {
   "cell_type": "code",
   "execution_count": null,
   "id": "8530dc7c-31bc-4208-b5f1-cc594ff188c3",
   "metadata": {},
   "outputs": [],
   "source": []
  }
 ],
 "metadata": {
  "kernelspec": {
   "display_name": "Python 3 (ipykernel)",
   "language": "python",
   "name": "python3"
  },
  "language_info": {
   "codemirror_mode": {
    "name": "ipython",
    "version": 3
   },
   "file_extension": ".py",
   "mimetype": "text/x-python",
   "name": "python",
   "nbconvert_exporter": "python",
   "pygments_lexer": "ipython3",
   "version": "3.11.2"
  }
 },
 "nbformat": 4,
 "nbformat_minor": 5
}
