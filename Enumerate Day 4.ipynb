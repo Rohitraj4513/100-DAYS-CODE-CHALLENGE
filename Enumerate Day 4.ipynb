{
 "cells": [
  {
   "cell_type": "code",
   "execution_count": 17,
   "id": "a38c45f2-3b3a-4fc5-ad63-22a6c733f3c8",
   "metadata": {},
   "outputs": [
    {
     "name": "stdout",
     "output_type": "stream",
     "text": [
      "1 = apple\n",
      "2 = banana\n",
      "3 = cherry\n"
     ]
    }
   ],
   "source": [
    "#Write a Python program to print the index and value of each item in the list below using the enumerate() function.\n",
    "frt = [\"apple\", \"banana\", \"cherry\"]\n",
    "for index , i in enumerate(frt , start=1):\n",
    "    \n",
    "    print(f\"{index} = {i}\")\n",
    "    "
   ]
  },
  {
   "cell_type": "code",
   "execution_count": 7,
   "id": "142977a1-f8e4-4582-bc72-44df36090c93",
   "metadata": {},
   "outputs": [
    {
     "name": "stdout",
     "output_type": "stream",
     "text": [
      "0 = apple\n",
      "1 = banana\n",
      "2 = orange\n",
      "3 = papaya\n"
     ]
    }
   ],
   "source": [
    "#using loop \n",
    "frt1=['apple' , 'banana' , 'orange' , 'papaya']\n",
    "for i in range(0,len(frt1)):\n",
    "    print(f\"{i} = {frt1[i]}\")"
   ]
  },
  {
   "cell_type": "code",
   "execution_count": 16,
   "id": "f55e5807-78e9-4d0b-bf06-b7a337e97ddf",
   "metadata": {},
   "outputs": [
    {
     "name": "stdout",
     "output_type": "stream",
     "text": [
      "\n",
      "\n",
      "3\n",
      "4\n",
      "5\n"
     ]
    }
   ],
   "source": [
    "'''Given the list: numbers = [10, 20, 30, 40, 50]\n",
    "Write a program to print the index of numbers greater than 25'''\n",
    "numbers = [10, 20, 30, 40, 50]\n",
    "for index , i in enumerate(numbers, start=1):   \n",
    "    print(index) if i>25 else print(\"\")\n",
    "        "
   ]
  },
  {
   "cell_type": "code",
   "execution_count": 18,
   "id": "81e41fdf-741d-4dc4-b755-e328ad9702ec",
   "metadata": {},
   "outputs": [
    {
     "name": "stdout",
     "output_type": "stream",
     "text": [
      "[(0, 'cat'), (1, 'dog'), (2, 'elephant')]\n"
     ]
    }
   ],
   "source": [
    "#Convert the following list into a list of tuples containing the index and value using enumerate():\n",
    "animals = [\"cat\", \"dog\", \"elephant\"]\n",
    "ani=[]\n",
    "for index , i in enumerate(animals):\n",
    "    ani.append((index , i))\n",
    "print(ani)\n"
   ]
  },
  {
   "cell_type": "code",
   "execution_count": 19,
   "id": "58179897-d2ba-452b-b81c-c297290695d9",
   "metadata": {},
   "outputs": [
    {
     "name": "stdout",
     "output_type": "stream",
     "text": [
      "0 = h\n",
      "1 = e\n",
      "2 = l\n",
      "3 = l\n",
      "4 = o\n"
     ]
    }
   ],
   "source": [
    "#Write a program to print each character of the string hello along with its index using enumerate().\n",
    "str1=\"hello\"\n",
    "for index , i in enumerate(str1):\n",
    "    print(f\"{index} = {i}\")\n"
   ]
  },
  {
   "cell_type": "code",
   "execution_count": 20,
   "id": "f3bfc82a-9b6b-44bb-ac36-5ef8d70383e8",
   "metadata": {},
   "outputs": [
    {
     "name": "stdout",
     "output_type": "stream",
     "text": [
      "row 0 = [1, 2]\n",
      "row 1 = [3, 4]\n",
      "row 2 = [5, 6]\n"
     ]
    }
   ],
   "source": [
    "'''Given a list of lists (a 2D matrix):\n",
    "matrix = [[1, 2], [3, 4], [5, 6]]\n",
    "Write a program to print each row along with its index, for example'''\n",
    "matrix = [[1, 2], [3, 4], [5, 6]]\n",
    "for index , i in enumerate(matrix):\n",
    "    print(f\"row {index} = {i}\")"
   ]
  },
  {
   "cell_type": "code",
   "execution_count": null,
   "id": "816e11a6-2ad3-4c9d-bab7-9718cd4b5dca",
   "metadata": {},
   "outputs": [],
   "source": [
    "#Write a Python program to find the largest among three numbers using if-elif-else.\n"
   ]
  }
 ],
 "metadata": {
  "kernelspec": {
   "display_name": "Python 3 (ipykernel)",
   "language": "python",
   "name": "python3"
  },
  "language_info": {
   "codemirror_mode": {
    "name": "ipython",
    "version": 3
   },
   "file_extension": ".py",
   "mimetype": "text/x-python",
   "name": "python",
   "nbconvert_exporter": "python",
   "pygments_lexer": "ipython3",
   "version": "3.11.2"
  }
 },
 "nbformat": 4,
 "nbformat_minor": 5
}
