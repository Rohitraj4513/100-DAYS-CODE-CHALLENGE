{
 "cells": [
  {
   "cell_type": "code",
   "execution_count": null,
   "id": "18b7a5b0-bfa3-4db6-9182-367d7450ec7d",
   "metadata": {},
   "outputs": [],
   "source": [
    "'''Simple Exception Handling:\n",
    "Write a Python program that reads a number from the user and prints its square.If the user enters a non-numeric value,\n",
    "handle the exception gracefully and print an error message.'''"
   ]
  },
  {
   "cell_type": "code",
   "execution_count": 5,
   "id": "b3e9a76f-c39b-4647-8f03-22836149148e",
   "metadata": {},
   "outputs": [
    {
     "name": "stdin",
     "output_type": "stream",
     "text": [
      "enter the number rohit\n"
     ]
    },
    {
     "name": "stdout",
     "output_type": "stream",
     "text": [
      "invalid input\n"
     ]
    }
   ],
   "source": [
    "number=input(\"enter the number\")\n",
    "try:\n",
    "    print(f\" {number} * {number} = {int(number) * int(number)}\")\n",
    "except:\n",
    "    print(\"Invalid input type\")\n",
    "    "
   ]
  },
  {
   "cell_type": "code",
   "execution_count": null,
   "id": "f345b011-248f-4c0a-86a3-a64f6db6a218",
   "metadata": {},
   "outputs": [],
   "source": [
    "'''Multiple Except Blocks: Write a program to handle the following exceptions:\n",
    "\n",
    "Division by zero\n",
    "Invalid input type\n",
    "Any other general exception\n",
    "Finally Block: \n",
    "\n"
   ]
  },
  {
   "cell_type": "code",
   "execution_count": 10,
   "id": "88cf04e7-c449-45eb-9993-31c9da62920d",
   "metadata": {},
   "outputs": [
    {
     "name": "stdin",
     "output_type": "stream",
     "text": [
      "enter number 10\n",
      "enter number yyggh\n"
     ]
    },
    {
     "name": "stdout",
     "output_type": "stream",
     "text": [
      "A ValueError occurred!\n",
      "this is finally block\n"
     ]
    }
   ],
   "source": [
    "num=input(\"enter number\")\n",
    "num1=input(\"enter number\")\n",
    "try:\n",
    "    div=int(num) % int(num1)\n",
    "    print(f\"division={div}\")\n",
    "except ZeroDivisionError:\n",
    "    print(\"You can't divide by zero!\")\n",
    "except ValueError:\n",
    "    print(\"A ValueError occurred!\")\n",
    "except Exception as e:\n",
    "    print(f\"An unexpected error occurred :{e}\")\n",
    "finally:\n",
    "    print(\"this is finally block\")\n",
    "\n",
    "\n",
    "    \n",
    "    "
   ]
  },
  {
   "cell_type": "code",
   "execution_count": null,
   "id": "567b97d8-ba33-4799-9423-40b4e589069a",
   "metadata": {},
   "outputs": [],
   "source": []
  },
  {
   "cell_type": "code",
   "execution_count": null,
   "id": "a8a5836f-771a-4590-9797-43adf3e32852",
   "metadata": {},
   "outputs": [],
   "source": []
  },
  {
   "cell_type": "code",
   "execution_count": null,
   "id": "d2cda3b8-c052-420c-b014-54fa74bed1e6",
   "metadata": {},
   "outputs": [],
   "source": []
  },
  {
   "cell_type": "code",
   "execution_count": null,
   "id": "10ef2f28-45ba-4b6a-ae84-f37c167a801f",
   "metadata": {},
   "outputs": [],
   "source": []
  },
  {
   "cell_type": "code",
   "execution_count": null,
   "id": "3ff1f96e-0e6c-40dc-b0d8-fe70bc2028a8",
   "metadata": {},
   "outputs": [],
   "source": []
  },
  {
   "cell_type": "code",
   "execution_count": null,
   "id": "c69222a7-5615-46dd-98e0-963bf5232e0e",
   "metadata": {},
   "outputs": [],
   "source": []
  },
  {
   "cell_type": "code",
   "execution_count": null,
   "id": "b9d2f868-af9b-4d5c-8582-99ecf314e812",
   "metadata": {},
   "outputs": [],
   "source": []
  },
  {
   "cell_type": "code",
   "execution_count": null,
   "id": "ecae5897-23f4-4ec5-8317-ccba2b6e156c",
   "metadata": {},
   "outputs": [],
   "source": []
  },
  {
   "cell_type": "code",
   "execution_count": null,
   "id": "cabb1f24-7863-48b1-9660-c95f3b5ddccd",
   "metadata": {},
   "outputs": [],
   "source": []
  },
  {
   "cell_type": "code",
   "execution_count": null,
   "id": "1f4f24de-c611-42f5-9202-65cdd2bdd64d",
   "metadata": {},
   "outputs": [],
   "source": []
  },
  {
   "cell_type": "code",
   "execution_count": null,
   "id": "2cf007dc-aa1b-4a49-a610-eab21b9b9e39",
   "metadata": {},
   "outputs": [],
   "source": []
  },
  {
   "cell_type": "code",
   "execution_count": null,
   "id": "d0881eb0-6470-44df-80f9-2d482aa23d4a",
   "metadata": {},
   "outputs": [],
   "source": []
  },
  {
   "cell_type": "code",
   "execution_count": null,
   "id": "d6ac4cb3-f4ec-4f26-985b-88fb7c631754",
   "metadata": {},
   "outputs": [],
   "source": []
  },
  {
   "cell_type": "code",
   "execution_count": null,
   "id": "c23a90e9-ce40-4c0c-9c22-6898e334dec1",
   "metadata": {},
   "outputs": [],
   "source": []
  },
  {
   "cell_type": "code",
   "execution_count": null,
   "id": "ee8ae0a9-6693-4af1-831e-0438d5ad2907",
   "metadata": {},
   "outputs": [],
   "source": []
  },
  {
   "cell_type": "code",
   "execution_count": null,
   "id": "c73c13c5-d506-4e8e-a790-f89e5b38de0c",
   "metadata": {},
   "outputs": [],
   "source": []
  },
  {
   "cell_type": "code",
   "execution_count": null,
   "id": "3373c8ac-45bb-461a-a155-3bbedae45a40",
   "metadata": {},
   "outputs": [],
   "source": []
  },
  {
   "cell_type": "code",
   "execution_count": null,
   "id": "0fcbdc8a-9ae9-4263-b5aa-809066944c17",
   "metadata": {},
   "outputs": [],
   "source": []
  },
  {
   "cell_type": "code",
   "execution_count": null,
   "id": "8daa8c9c-a85c-4a60-ad54-61a0c4da6117",
   "metadata": {},
   "outputs": [],
   "source": []
  },
  {
   "cell_type": "code",
   "execution_count": null,
   "id": "5f09ba44-5e9a-46e0-af62-4003c4fe97c3",
   "metadata": {},
   "outputs": [],
   "source": []
  }
 ],
 "metadata": {
  "kernelspec": {
   "display_name": "Python 3 (ipykernel)",
   "language": "python",
   "name": "python3"
  },
  "language_info": {
   "codemirror_mode": {
    "name": "ipython",
    "version": 3
   },
   "file_extension": ".py",
   "mimetype": "text/x-python",
   "name": "python",
   "nbconvert_exporter": "python",
   "pygments_lexer": "ipython3",
   "version": "3.11.2"
  }
 },
 "nbformat": 4,
 "nbformat_minor": 5
}
