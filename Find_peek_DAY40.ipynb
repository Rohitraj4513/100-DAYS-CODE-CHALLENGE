{
 "cells": [
  {
   "cell_type": "code",
   "execution_count": 13,
   "id": "89a951da-ae05-46eb-9fbd-2c6e3458f185",
   "metadata": {},
   "outputs": [],
   "source": [
    "def Find_peek(arr):\n",
    "    n=len(arr)\n",
    "    if n==1:\n",
    "        return arr[0]\n",
    "    if arr[0] >= arr[1]:\n",
    "        return arr[0]\n",
    "    if arr[n-1] > arr[n-2]:\n",
    "        return arr[n-1]\n",
    "    for i in range(1 , n-1):\n",
    "        if arr[i-1] < arr[i] and arr[i+1] < arr[i] :\n",
    "            return arr[i]\n",
    "    return -1      "
   ]
  },
  {
   "cell_type": "code",
   "execution_count": 14,
   "id": "a415abe5-31d3-4b51-a3fb-8fff28576dd4",
   "metadata": {},
   "outputs": [
    {
     "name": "stdout",
     "output_type": "stream",
     "text": [
      "Array: [1, 3, 20, 4, 1, 0] -> Minimum: 20\n",
      "Array: [10, 20, 15, 2, 23, 90, 67] -> Minimum: 20\n",
      "Array: [5, 10, 20, 15] -> Minimum: 20\n",
      "Array: [10, 8, 6, 5, 3, 2] -> Minimum: 10\n",
      "Array: [1, 2, 3, 4, 5, 6] -> Minimum: 6\n",
      "Array: [5, 10, 5, 2, 8, 9, 7] -> Minimum: 10\n",
      "Array: [7, 7, 7, 7] -> Minimum: 7\n",
      "Array: [1] -> Minimum: 1\n"
     ]
    }
   ],
   "source": [
    "# Test function\n",
    "\n",
    "test_cases = [\n",
    "        [1, 3, 20, 4, 1, 0],  # 20 is a peak\n",
    "        [10, 20, 15, 2, 23, 90, 67],  # Peaks are at index 1 (20) and index 5 (90)\n",
    "        [5, 10, 20, 15],  # 20 is a peak\n",
    "        [10, 8, 6, 5, 3, 2],  # 10 is the only peak\n",
    "        [1, 2, 3, 4, 5, 6],  # 6 is the peak\n",
    "        [5, 10, 5, 2, 8, 9, 7],   # 10 and 9 are peaks\n",
    "        [7, 7, 7, 7],  # All are peaks\n",
    "        [1],   # Single element is always a peak\n",
    "]\n",
    "    \n",
    "for arr in test_cases:\n",
    "    print(f\"Array: {arr} -> Minimum: {Find_peek(arr)}\")\n"
   ]
  },
  {
   "cell_type": "code",
   "execution_count": 53,
   "id": "089cc9be-4cf6-4fd7-9169-307f54362980",
   "metadata": {},
   "outputs": [],
   "source": [
    "def find_peek(arr):\n",
    "    low=0\n",
    "    high=len(arr)-1\n",
    "    n=len(arr)\n",
    "    if n == 1:\n",
    "        return arr[0]\n",
    "    if arr[0] >= arr[1]:\n",
    "        return arr[0]\n",
    "    if arr[n-1] > arr[n-2]:\n",
    "        return arr[n-1]\n",
    "    \n",
    "    while(low <= high):\n",
    "        mid=(low + high)//2\n",
    "        if arr[mid] > arr[mid-1] and arr[mid] >= arr[mid+1]:\n",
    "            return arr[mid]\n",
    "        elif arr[mid] > arr[mid-1]:\n",
    "            low=mid+1\n",
    "        elif arr[mid] > arr[mid+1]:\n",
    "            high=mid-1\n",
    "        else:\n",
    "            low=mid+1\n",
    "    return -1"
   ]
  },
  {
   "cell_type": "code",
   "execution_count": 50,
   "id": "bde543a2-64d2-4373-8813-cda2cdc032e0",
   "metadata": {},
   "outputs": [
    {
     "name": "stdout",
     "output_type": "stream",
     "text": [
      "Array: [1, 3, 20, 4, 1, 0] -> Minimum: 20\n",
      "Array: [10, 20, 15, 2, 23, 90, 67] -> Minimum: 90\n",
      "Array: [5, 10, 20, 15] -> Minimum: 20\n",
      "Array: [10, 8, 6, 5, 3, 2] -> Minimum: 10\n",
      "Array: [1, 2, 3, 4, 5, 6] -> Minimum: 6\n",
      "Array: [5, 10, 5, 2, 8, 9, 7] -> Minimum: 9\n",
      "Array: [7, 7, 7, 7] -> Minimum: 7\n",
      "Array: [1] -> Minimum: 1\n"
     ]
    }
   ],
   "source": [
    "# Test function\n",
    "\n",
    "test_cases = [\n",
    "        [1, 3, 20, 4, 1, 0],  # 20 is a peak\n",
    "        [10, 20, 15, 2, 23, 90, 67],  # Peaks are at index 1 (20) and index 5 (90)\n",
    "        [5, 10, 20, 15],  # 20 is a peak\n",
    "        [10, 8, 6, 5, 3, 2],  # 10 is the only peak\n",
    "        [1, 2, 3, 4, 5, 6],  # 6 is the peak\n",
    "        [5, 10, 5, 2, 8, 9, 7],   # 10 and 9 are peaks\n",
    "        [7, 7, 7, 7],  # All are peaks\n",
    "        [1],   # Single element is always a peak\n",
    "]\n",
    "    \n",
    "for arr in test_cases:\n",
    "    print(f\"Array: {arr} -> Minimum: {find_peek(arr)}\")"
   ]
  },
  {
   "cell_type": "code",
   "execution_count": 41,
   "id": "64558aca-3c8b-4595-a638-d51b07adf5b5",
   "metadata": {},
   "outputs": [
    {
     "name": "stdout",
     "output_type": "stream",
     "text": [
      "50\n"
     ]
    }
   ],
   "source": [
    "arr = [10, 20, 30, 40, 50]\n",
    "print(find_peek(arr))  # Expected: 50 (last element) but your code may fail.\n"
   ]
  },
  {
   "cell_type": "code",
   "execution_count": 42,
   "id": "b94ad9e9-7f0b-4f4c-bb41-1e5ea3a47b1b",
   "metadata": {},
   "outputs": [
    {
     "name": "stdout",
     "output_type": "stream",
     "text": [
      "10\n"
     ]
    }
   ],
   "source": [
    "arr = [10]\n",
    "print(find_peek(arr))  # Expected: 10 but may return an error.\n"
   ]
  },
  {
   "cell_type": "code",
   "execution_count": 43,
   "id": "ea4fa88a-3ce4-4209-bfea-a526b6c0e1bc",
   "metadata": {},
   "outputs": [
    {
     "name": "stdout",
     "output_type": "stream",
     "text": [
      "3\n"
     ]
    }
   ],
   "source": [
    "arr = [1, 3, 2, 3, 2, 3, 2]\n",
    "print(find_peek(arr))  # Expected: Any peak (3) but may cause infinite loop.\n"
   ]
  },
  {
   "cell_type": "code",
   "execution_count": 44,
   "id": "ad7e7c0b-699c-41a9-ba62-eb2ba868cada",
   "metadata": {},
   "outputs": [
    {
     "name": "stdout",
     "output_type": "stream",
     "text": [
      "3\n"
     ]
    }
   ],
   "source": [
    "arr = [1, 3, 2, 3, 2, 3, 2]\n",
    "print(find_peek(arr))  # Expected: Any peak (3) but may cause infinite loop.\n"
   ]
  },
  {
   "cell_type": "code",
   "execution_count": 45,
   "id": "83ca9b26-fde0-41f6-b1cd-74fedcba6961",
   "metadata": {},
   "outputs": [
    {
     "name": "stdout",
     "output_type": "stream",
     "text": [
      "4\n"
     ]
    }
   ],
   "source": [
    "arr = [1, 2, 3, 4, 3, 2, 1]\n",
    "print(find_peek(arr))  # Expected Output: 4, but your code may return incorrect results.\n"
   ]
  },
  {
   "cell_type": "code",
   "execution_count": 51,
   "id": "2a75355b-6a8b-4370-9f4f-2668b9a06595",
   "metadata": {},
   "outputs": [
    {
     "name": "stdout",
     "output_type": "stream",
     "text": [
      "90\n"
     ]
    }
   ],
   "source": [
    "arr = [10, 20, 15, 2, 23, 90, 67]\n",
    "print(find_peek(arr))  # Expected Output: Either 20 or 90\n"
   ]
  },
  {
   "cell_type": "code",
   "execution_count": 47,
   "id": "2f8543ab-c625-4e9c-891d-ce4d445416f5",
   "metadata": {},
   "outputs": [
    {
     "name": "stdout",
     "output_type": "stream",
     "text": [
      "35\n"
     ]
    }
   ],
   "source": [
    "arr = [5, 10, 20, 15, 25, 30, 35]\n",
    "print(find_peek(arr))  # Expected Output: 35 (last element)\n"
   ]
  },
  {
   "cell_type": "code",
   "execution_count": 54,
   "id": "8a4c30a9-b6dd-4864-83fe-1f8f5643415d",
   "metadata": {},
   "outputs": [
    {
     "name": "stdout",
     "output_type": "stream",
     "text": [
      "2\n"
     ]
    }
   ],
   "source": [
    "arr = [1,2,1,2,1]\n",
    "print(find_peek(arr))"
   ]
  },
  {
   "cell_type": "code",
   "execution_count": 70,
   "id": "d01b3a15-0a8a-4989-a339-8553a0bd3bde",
   "metadata": {},
   "outputs": [],
   "source": [
    "import math\n",
    "def sqr(num):\n",
    "    return math.floor(math.sqrt(num))"
   ]
  },
  {
   "cell_type": "code",
   "execution_count": 71,
   "id": "52055ef3-3264-4da8-a808-237d3c8c1bdf",
   "metadata": {},
   "outputs": [
    {
     "name": "stdout",
     "output_type": "stream",
     "text": [
      "3\n"
     ]
    }
   ],
   "source": [
    "print(sqr(11))"
   ]
  },
  {
   "cell_type": "code",
   "execution_count": 72,
   "id": "a86535a7-7e8d-4437-a060-79e31c8cd0ff",
   "metadata": {},
   "outputs": [],
   "source": [
    "def find_sqrt(num):\n",
    "    low  , high = 1 , num\n",
    "    ans=-1\n",
    "    while(low <= high):\n",
    "        mid=(low+high)//2\n",
    "        if mid*mid > num:\n",
    "            high=mid-1\n",
    "        elif mid*mid< num:\n",
    "            ans=mid\n",
    "            low=mid+1\n",
    "        else:\n",
    "            if mid*mid == num:\n",
    "                return mid\n",
    "    return ans"
   ]
  },
  {
   "cell_type": "code",
   "execution_count": 76,
   "id": "fa54e789-ee3a-4b77-8f5f-9d70e7eb6f60",
   "metadata": {},
   "outputs": [
    {
     "name": "stdout",
     "output_type": "stream",
     "text": [
      "2\n"
     ]
    }
   ],
   "source": [
    "print(find_sqrt(5))"
   ]
  },
  {
   "cell_type": "code",
   "execution_count": 78,
   "id": "40035438-be9e-40a0-98ef-c684c80a9b30",
   "metadata": {},
   "outputs": [],
   "source": [
    "def root(n ,  m ):\n",
    "    ans=0\n",
    "    for i in range(m):\n",
    "        if i**n == m:\n",
    "            return i\n",
    "        else:\n",
    "            if i**n > m:\n",
    "                break\n",
    "    return -1"
   ]
  },
  {
   "cell_type": "code",
   "execution_count": 79,
   "id": "22f9b878-0075-481d-b210-e2bea025f382",
   "metadata": {},
   "outputs": [
    {
     "name": "stdout",
     "output_type": "stream",
     "text": [
      "3\n"
     ]
    }
   ],
   "source": [
    "print(root(2 , 9))"
   ]
  },
  {
   "cell_type": "code",
   "execution_count": 80,
   "id": "ce565b32-2f6a-4532-8c8e-b659ef55f8b6",
   "metadata": {},
   "outputs": [],
   "source": [
    "def Root(n , m):\n",
    "    ans=1\n",
    "    while ans**n <= m:\n",
    "        if ans ** n == m :\n",
    "            return ans\n",
    "        ans +=1\n",
    "    return ans "
   ]
  },
  {
   "cell_type": "code",
   "execution_count": 81,
   "id": "8bf015bb-ebc6-4dba-adfb-ac3afae02078",
   "metadata": {},
   "outputs": [
    {
     "name": "stdout",
     "output_type": "stream",
     "text": [
      "3\n"
     ]
    }
   ],
   "source": [
    "print(root(2 , 9))"
   ]
  },
  {
   "cell_type": "code",
   "execution_count": 82,
   "id": "1a855f01-2a40-4d22-b3ae-bd0f7fd2d1fd",
   "metadata": {},
   "outputs": [],
   "source": [
    "def nth_root(n , m):\n",
    "    low , high = 1 , m\n",
    "    while(low <= high):\n",
    "        mid = (low+high)//2\n",
    "        if mid**n == m:\n",
    "            return mid\n",
    "        elif mid**n > m:\n",
    "            high=mid-1\n",
    "        else:\n",
    "            low=mid+1\n",
    "    return -1"
   ]
  },
  {
   "cell_type": "code",
   "execution_count": 85,
   "id": "bbb1cd35-040a-48e7-8eff-80826dc699fa",
   "metadata": {},
   "outputs": [
    {
     "name": "stdout",
     "output_type": "stream",
     "text": [
      "7\n"
     ]
    }
   ],
   "source": [
    "print(root(2 , 49))"
   ]
  },
  {
   "cell_type": "code",
   "execution_count": 102,
   "id": "efa17a2a-11db-4c0f-bc87-abf66e21706f",
   "metadata": {},
   "outputs": [],
   "source": [
    "import math\n",
    "def Koko(arr , h):\n",
    "    ans=0\n",
    "    for i in range(1 , max(arr)+1):\n",
    "        ans = 0\n",
    "        for j in arr:\n",
    "            ans += math.ceil(j / i)\n",
    "        if ans <= h:\n",
    "            return i\n",
    "    return -1"
   ]
  },
  {
   "cell_type": "code",
   "execution_count": 110,
   "id": "a910932c-3ba5-4730-8ee3-00bba32c31af",
   "metadata": {},
   "outputs": [
    {
     "name": "stdout",
     "output_type": "stream",
     "text": [
      "4\n"
     ]
    }
   ],
   "source": [
    "arr=[3 , 6 , 7, 11]\n",
    "print(Koko(arr , 8))"
   ]
  },
  {
   "cell_type": "code",
   "execution_count": 9,
   "id": "014a0bdd-fa44-4eba-9aea-817a2f9ce541",
   "metadata": {},
   "outputs": [],
   "source": [
    "def sum(arr , mid):\n",
    "    ans =0\n",
    "    for i in arr:\n",
    "        ans += math.ceil(i / mid)\n",
    "    return ans\n",
    "\n",
    "def koko(arr , k):\n",
    "    low , high = 1 , max(arr)\n",
    "    while(low <= high):\n",
    "        mid= (low + high)//2\n",
    "        value=sum(arr , mid)\n",
    "        if value > k:\n",
    "            low=mid+1\n",
    "        else:\n",
    "            high=mid-1\n",
    "    return low"
   ]
  },
  {
   "cell_type": "code",
   "execution_count": 10,
   "id": "b4a48a95-9d30-4680-8f3f-ff1d00af23fc",
   "metadata": {},
   "outputs": [
    {
     "name": "stdout",
     "output_type": "stream",
     "text": [
      "15\n"
     ]
    }
   ],
   "source": [
    "arr=[30,11,23,4,20]\n",
    "print(koko(arr , 8))"
   ]
  },
  {
   "cell_type": "code",
   "execution_count": 4,
   "id": "094e6bbc-3414-4e5a-a0d6-2b3580432055",
   "metadata": {},
   "outputs": [],
   "source": [
    "import math\n",
    "class Solution(object):\n",
    "    def sum(self , arr , h):\n",
    "        ans=0\n",
    "        for i in arr:\n",
    "            ans += math.ceil(i / h)\n",
    "        return ans\n",
    "\n",
    "    def minEatingSpeed(self, arr, h):\n",
    "        low , high = 1 , max(arr)\n",
    "        while(low <= high):\n",
    "            mid=(low+high)//2\n",
    "            value=self.sum(arr , mid)\n",
    "            if value > h:\n",
    "                low=mid+1\n",
    "            else:\n",
    "                high=mid-1\n",
    "        return low"
   ]
  },
  {
   "cell_type": "code",
   "execution_count": 7,
   "id": "fa850c4d-5518-405b-a4a2-aecbffb1f25a",
   "metadata": {},
   "outputs": [
    {
     "name": "stdout",
     "output_type": "stream",
     "text": [
      "15\n"
     ]
    }
   ],
   "source": [
    "obj=Solution()\n",
    "arr=[30,11,23,4,20]\n",
    "print(obj.minEatingSpeed(arr , 8))"
   ]
  },
  {
   "cell_type": "code",
   "execution_count": null,
   "id": "82594bfa-1b27-47e0-9484-f2ba64d07564",
   "metadata": {},
   "outputs": [],
   "source": []
  }
 ],
 "metadata": {
  "kernelspec": {
   "display_name": "Python 3 (ipykernel)",
   "language": "python",
   "name": "python3"
  },
  "language_info": {
   "codemirror_mode": {
    "name": "ipython",
    "version": 3
   },
   "file_extension": ".py",
   "mimetype": "text/x-python",
   "name": "python",
   "nbconvert_exporter": "python",
   "pygments_lexer": "ipython3",
   "version": "3.11.2"
  },
  "widgets": {
   "application/vnd.jupyter.widget-state+json": {
    "state": {},
    "version_major": 2,
    "version_minor": 0
   }
  }
 },
 "nbformat": 4,
 "nbformat_minor": 5
}
