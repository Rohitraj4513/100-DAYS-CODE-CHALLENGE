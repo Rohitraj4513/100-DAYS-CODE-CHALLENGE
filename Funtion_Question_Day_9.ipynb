{
 "cells": [
  {
   "cell_type": "code",
   "execution_count": 10,
   "id": "9e8ddbae-fe65-47f4-b989-292eb9b442ff",
   "metadata": {},
   "outputs": [
    {
     "name": "stdout",
     "output_type": "stream",
     "text": [
      "Hello, Python!This is a new line Write a Python program to \n",
      "number=int(input(\"enter the number\"))\n",
      "print(f\"square :{sqrt(number)}\")\n",
      "\n",
      "\n"
     ]
    }
   ],
   "source": [
    "with open('example.txt' ,'r') as f:\n",
    "    data=f.read()\n",
    "    print(data)\n",
    "    \n",
    "    "
   ]
  },
  {
   "cell_type": "code",
   "execution_count": 11,
   "id": "dc77ada5-ec14-4698-924f-dc3afd42fbff",
   "metadata": {},
   "outputs": [],
   "source": [
    "with open('example.txt' ,'a') as f:\n",
    "    f.write('hello my name is rohit')\n",
    "    "
   ]
  },
  {
   "cell_type": "code",
   "execution_count": 12,
   "id": "9d3ef692-1f96-4df9-9df1-bfe4fb888ecc",
   "metadata": {},
   "outputs": [
    {
     "name": "stdout",
     "output_type": "stream",
     "text": [
      "Hello, Python!This is a new line Write a Python program to \n",
      "number=int(input(\"enter the number\"))\n",
      "print(f\"square :{sqrt(number)}\")\n",
      "\n",
      "hello my name is rohit\n"
     ]
    }
   ],
   "source": [
    "with open('example.txt' ,'r') as f:\n",
    "    data=f.read()\n",
    "    print(data)\n",
    "    "
   ]
  },
  {
   "cell_type": "code",
   "execution_count": 18,
   "id": "2704e61c-54c2-419e-b76c-8a595767eed7",
   "metadata": {},
   "outputs": [
    {
     "name": "stdout",
     "output_type": "stream",
     "text": [
      "Hello, Python!This is a new line Write a Python program to \n",
      "\n",
      "number=int(input(\"enter the number\"))\n",
      "\n"
     ]
    }
   ],
   "source": [
    "with open('example.txt' ,'r') as f:\n",
    "    for i in range(2):\n",
    "        data1= f.readline()\n",
    "        print(data1)\n",
    "    "
   ]
  },
  {
   "cell_type": "code",
   "execution_count": 31,
   "id": "b5530103-3c22-410a-91b2-36f8d60dda51",
   "metadata": {},
   "outputs": [
    {
     "name": "stdout",
     "output_type": "stream",
     "text": [
      "10\n",
      "hon!This\n"
     ]
    }
   ],
   "source": [
    "with open('example.txt' ,'r') as f:\n",
    "    f.seek(10)   # start reading in given index\n",
    "    print(f.tell()) # show the strating index of seek\n",
    "    data=f.read(8) # print the value and also use to range foe printing between seek and read given value\n",
    "    print(data)"
   ]
  },
  {
   "cell_type": "code",
   "execution_count": 11,
   "id": "0d6a84f1-aa52-4df8-98f6-9ecf75a28674",
   "metadata": {},
   "outputs": [],
   "source": [
    "#function\n",
    "def Fcn(Fcn1 ,number): # pass function under function\n",
    "    # number=number * number\n",
    "    return 6 * Fcn1(number)\n",
    "    "
   ]
  },
  {
   "cell_type": "code",
   "execution_count": 12,
   "id": "d82e7aba-dcf7-46f5-9a86-fbcc81aca088",
   "metadata": {},
   "outputs": [],
   "source": [
    "#lambda funtion use \n",
    "Fcn1= lambda x:x*x \n",
    "Fcn2=lambda x: x*x*x\n",
    "Fcn3=lambda x ,y: (x+y)/2"
   ]
  },
  {
   "cell_type": "code",
   "execution_count": 14,
   "id": "cfcbf79d-af77-4483-acb0-ece744e6770b",
   "metadata": {},
   "outputs": [
    {
     "name": "stdout",
     "output_type": "stream",
     "text": [
      "24\n"
     ]
    }
   ],
   "source": [
    "# result=Fcn1(3)\n",
    "# result=Fcn2(3)\n",
    "# result=Fcn3(80 ,50)\n",
    "result=Fcn(Fcn1 , 2)\n",
    "print(result)"
   ]
  },
  {
   "cell_type": "code",
   "execution_count": 17,
   "id": "9e880c1d-60f5-40a4-a3a9-6359361bf0c2",
   "metadata": {},
   "outputs": [],
   "source": [
    "cube=lambda x:x*x*x # give the value of x cube "
   ]
  },
  {
   "cell_type": "code",
   "execution_count": 19,
   "id": "edf0334f-4a0c-41cc-a8c7-9de0f9293e5e",
   "metadata": {},
   "outputs": [
    {
     "name": "stdout",
     "output_type": "stream",
     "text": [
      "[1, 8, 27, 64, 125, 216, 343, 512]\n",
      "[1, 8, 27, 64, 125, 216, 343, 512]\n"
     ]
    }
   ],
   "source": [
    "lst=[1 , 2 ,3 ,4 ,5 ,6 ,7, 8]\n",
    "#using function print the cube of list elements \n",
    "newlst=[]\n",
    "for i in lst:\n",
    "    newlst.append(cube(i))\n",
    "print(newlst)\n",
    "\n",
    "#using map function print the cube of list element\n",
    "newlst1=list(map(cube , lst))\n",
    "print(newlst1)\n",
    "    \n"
   ]
  },
  {
   "cell_type": "code",
   "execution_count": 23,
   "id": "7541ceac-41f4-44f8-a471-1dbca2f4c416",
   "metadata": {},
   "outputs": [
    {
     "name": "stdout",
     "output_type": "stream",
     "text": [
      "[5, 6, 7, 8, 9, 10]\n"
     ]
    }
   ],
   "source": [
    "#using filter function use conditional formating\n",
    "lst2=[1 , 2 ,3 ,4 ,5 ,6 ,7, 8 , 9 ,10]\n",
    "grt=lambda x: x>4\n",
    "newlst2=[]\n",
    "newlst2=list(filter(grt , lst2))\n",
    "print(newlst2)"
   ]
  },
  {
   "cell_type": "code",
   "execution_count": 26,
   "id": "77e26eb9-c11f-404e-ad26-4baa2a20fc37",
   "metadata": {},
   "outputs": [
    {
     "name": "stdout",
     "output_type": "stream",
     "text": [
      "15\n"
     ]
    }
   ],
   "source": [
    "#using reduce function use to reduces list elements\n",
    "from functools import reduce\n",
    "lst3=[1 , 2 ,3 ,4 ,5]\n",
    "rdu=lambda x ,y:x+y\n",
    "data = reduce(rdu , lst3)\n",
    "print(data)"
   ]
  },
  {
   "cell_type": "code",
   "execution_count": 30,
   "id": "782fe617-a846-41e7-a038-b4d292087b45",
   "metadata": {},
   "outputs": [
    {
     "name": "stdout",
     "output_type": "stream",
     "text": [
      "True\n",
      "True\n",
      "\n",
      "False\n",
      "True\n"
     ]
    }
   ],
   "source": [
    "# is and == use \n",
    "a=9\n",
    "b=9\n",
    "ab=[1,2,3]\n",
    "bc=[1,2,3]\n",
    "print(a is b)\n",
    "print(a == b)\n",
    "#list\n",
    "print(\"\")\n",
    "print(ab is bc)\n",
    "print(ab == bc)"
   ]
  },
  {
   "cell_type": "code",
   "execution_count": null,
   "id": "9ec43bc8-5eb8-4ee1-8f48-e6f5899a799a",
   "metadata": {},
   "outputs": [],
   "source": []
  },
  {
   "cell_type": "code",
   "execution_count": null,
   "id": "6d53c428-61f1-44d9-a7d1-f32938c948e0",
   "metadata": {},
   "outputs": [],
   "source": []
  },
  {
   "cell_type": "code",
   "execution_count": null,
   "id": "5b288df6-06e0-4a0c-8e2d-f9dccb89d220",
   "metadata": {},
   "outputs": [],
   "source": []
  },
  {
   "cell_type": "code",
   "execution_count": null,
   "id": "73a1e0f7-8d03-4f1c-8b9d-cef021a20cdb",
   "metadata": {},
   "outputs": [],
   "source": []
  },
  {
   "cell_type": "code",
   "execution_count": null,
   "id": "a27f6195-9d00-4e7f-8790-80be417fc7fc",
   "metadata": {},
   "outputs": [],
   "source": []
  },
  {
   "cell_type": "code",
   "execution_count": null,
   "id": "d80d2f24-ef7b-4773-a3db-ec3f4053219d",
   "metadata": {},
   "outputs": [],
   "source": []
  },
  {
   "cell_type": "code",
   "execution_count": null,
   "id": "25823ba5-6f33-4721-925d-9fc6d5d6f088",
   "metadata": {},
   "outputs": [],
   "source": []
  },
  {
   "cell_type": "code",
   "execution_count": null,
   "id": "d5f9a674-449d-4cba-9a11-d1257815ba7c",
   "metadata": {},
   "outputs": [],
   "source": []
  },
  {
   "cell_type": "code",
   "execution_count": null,
   "id": "7f9ddb2c-237c-485c-bed8-b67c4def07fb",
   "metadata": {},
   "outputs": [],
   "source": []
  }
 ],
 "metadata": {
  "kernelspec": {
   "display_name": "Python 3 (ipykernel)",
   "language": "python",
   "name": "python3"
  },
  "language_info": {
   "codemirror_mode": {
    "name": "ipython",
    "version": 3
   },
   "file_extension": ".py",
   "mimetype": "text/x-python",
   "name": "python",
   "nbconvert_exporter": "python",
   "pygments_lexer": "ipython3",
   "version": "3.11.2"
  }
 },
 "nbformat": 4,
 "nbformat_minor": 5
}
