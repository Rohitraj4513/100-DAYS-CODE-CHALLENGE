{
 "cells": [
  {
   "cell_type": "code",
   "execution_count": 11,
   "id": "5b119994-522f-4619-b1b3-ee3d96dc0dee",
   "metadata": {},
   "outputs": [
    {
     "name": "stdout",
     "output_type": "stream",
     "text": [
      "Company :Apple NAME: Rohit RAj ID : 1001 Deparment: Developer \n"
     ]
    }
   ],
   "source": [
    "#hierarchical inheritance \n",
    "class A:\n",
    "    def __init__(self , name , id ,cmp):\n",
    "        self.cmp=cmp\n",
    "        self.name =name\n",
    "        self.id=id\n",
    "\n",
    "    def show(self):\n",
    "        print(f\"Company :{self.cmp} NMAE:{self.name} ID:{self.id}\")\n",
    "class B(A):\n",
    "    def __init__(self , dept , name , id , cmp ):\n",
    "        A.__init__(self , name  , id ,cmp)\n",
    "        self.dept=dept\n",
    "\n",
    "    def show(self):\n",
    "        print(f\"Company :{self.cmp} NAME: {self.name} ID : {self.id} Deparment: {self.dept}\")\n",
    "\n",
    "class C(A):\n",
    "    def __init__(self , dept_fst , name , id , dept , cmp):\n",
    "        A.__init__(self , name , id ,cmp )\n",
    "        B.__init__(self , dept , name , id , cmp)\n",
    "        self.dept_fst=dept_fst\n",
    "        \n",
    "        \n",
    "    def show(self):\n",
    "        print(f\"Company :{self.cmp} NAME: {self.name} ID : {self.id} Deparment: {self.dept} \")\n",
    "\n",
    "#calling function\n",
    "obj=C('Coding' , 'Rohit RAj' , 1001 , 'Developer' ,'Apple')\n",
    "obj.show()\n",
    "    \n",
    "        "
   ]
  },
  {
   "cell_type": "code",
   "execution_count": 19,
   "id": "28ca52db-8e3e-40b7-8d77-dab18733d796",
   "metadata": {},
   "outputs": [
    {
     "name": "stdout",
     "output_type": "stream",
     "text": [
      "Company :Apple NAME: Rohit RAj ID : 1001 Deparment: Managament \n",
      "Company :Apple NAME: Bikki kumar ID : 1002 Deparment: Coding \n",
      "Company :Apple NAME: Raju kumar ID : 1003 Deparment: HQ \n"
     ]
    }
   ],
   "source": [
    "#hybride inheritance \n",
    "class A:\n",
    "    def __init__(self , name , id ,cmp):\n",
    "        self.cmp=cmp\n",
    "        self.name =name\n",
    "        self.id=id\n",
    "        \n",
    "class B(A):\n",
    "    def __init__(self , dept ):\n",
    "        self.dept=dept\n",
    "class C(A):\n",
    "    def __init__(self , dept_fst ):\n",
    "        self.dept_fst=dept_fst\n",
    "class D(A):\n",
    "    def __init__(self , dept_H):\n",
    "        self.dept_H=dept_H\n",
    "class E( D ):\n",
    "    def __init__(self , dept_fst, dept , dept_H, name , id , cmp ):\n",
    "        A.__init__(self , name , id ,cmp )\n",
    "        B.__init__(self , dept)\n",
    "        C.__init__(self, dept_fst)\n",
    "        D.__init__(self , dept_H)            \n",
    "        \n",
    "    def show(self):\n",
    "        print(f\"Company :{self.cmp} NAME: {self.name} ID : {self.id} Deparment: {self.dept} \")\n",
    "    def show_fst(self):\n",
    "        print(f\"Company :{self.cmp} NAME: {self.name} ID : {self.id} Deparment: {self.dept_fst} \")\n",
    "    def show_H(self):\n",
    "        print(f\"Company :{self.cmp} NAME: {self.name} ID : {self.id} Deparment: {self.dept_H} \")\n",
    "    \n",
    "\n",
    "#calling function\n",
    "obj=E('Coding' ,'Managament','HQ' ,'Rohit RAj' , 1001  ,'Apple')\n",
    "obj1=E('Coding' ,'Managament','HQ' ,'Bikki kumar' , 1002  ,'Apple')\n",
    "obj2=E('Coding' ,'Managament','HQ' ,'Raju kumar' , 1003  ,'Apple')\n",
    "obj.show()\n",
    "obj1.show_fst()\n",
    "obj2.show_H()"
   ]
  },
  {
   "cell_type": "code",
   "execution_count": null,
   "id": "587eaaea-1dea-48fc-a86d-d95404d3faa4",
   "metadata": {},
   "outputs": [],
   "source": []
  }
 ],
 "metadata": {
  "kernelspec": {
   "display_name": "Python 3 (ipykernel)",
   "language": "python",
   "name": "python3"
  },
  "language_info": {
   "codemirror_mode": {
    "name": "ipython",
    "version": 3
   },
   "file_extension": ".py",
   "mimetype": "text/x-python",
   "name": "python",
   "nbconvert_exporter": "python",
   "pygments_lexer": "ipython3",
   "version": "3.11.2"
  },
  "widgets": {
   "application/vnd.jupyter.widget-state+json": {
    "state": {},
    "version_major": 2,
    "version_minor": 0
   }
  }
 },
 "nbformat": 4,
 "nbformat_minor": 5
}
