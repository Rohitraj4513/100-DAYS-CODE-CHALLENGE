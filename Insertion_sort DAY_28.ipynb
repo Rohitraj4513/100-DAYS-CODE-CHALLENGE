{
 "cells": [
  {
   "cell_type": "code",
   "execution_count": 2,
   "id": "ada8bd12-c424-4168-81b0-239cd352e4b8",
   "metadata": {},
   "outputs": [
    {
     "name": "stdout",
     "output_type": "stream",
     "text": [
      "[2, 3, 6, 9, 10]\n"
     ]
    }
   ],
   "source": [
    "#Insertion sort\n",
    "def Insertion_sort(arr):\n",
    "    n=len(arr)\n",
    "    for i in range(n):\n",
    "        j=i\n",
    "        while(j > 0 and arr[j-1] > arr[j]):\n",
    "            arr[j-1] , arr[j] = arr[j] , arr[j-1]\n",
    "            j -=1\n",
    "\n",
    "arr=[3 , 2 , 6 , 9 , 10]\n",
    "Insertion_sort(arr)\n",
    "print(arr)"
   ]
  },
  {
   "cell_type": "code",
   "execution_count": 3,
   "id": "e3ed5b96-d947-4af3-91a3-6447dab7027b",
   "metadata": {},
   "outputs": [
    {
     "name": "stdout",
     "output_type": "stream",
     "text": [
      "[10, 9, 6, 3, 2]\n"
     ]
    }
   ],
   "source": [
    "# Reverse sort using Insertion sort\n",
    "def Insertion_sort(arr):\n",
    "    n=len(arr)\n",
    "    for i in range(n):\n",
    "        j=i\n",
    "        while(j > 0 and arr[j-1] < arr[j]):\n",
    "            arr[j-1] , arr[j] = arr[j] , arr[j-1]\n",
    "            j -=1\n",
    "arr=[3 , 2 , 6 , 9 , 10]\n",
    "Insertion_sort(arr)\n",
    "print(arr)"
   ]
  },
  {
   "cell_type": "code",
   "execution_count": null,
   "id": "4c2e0b52-31f4-4fe1-a321-00cb9d1665e3",
   "metadata": {},
   "outputs": [],
   "source": []
  },
  {
   "cell_type": "code",
   "execution_count": null,
   "id": "f343e50f-476d-4732-a0c1-849f5460df32",
   "metadata": {},
   "outputs": [],
   "source": []
  },
  {
   "cell_type": "code",
   "execution_count": null,
   "id": "961c1b8f-b92b-4fa1-8c37-db7ea185384c",
   "metadata": {},
   "outputs": [],
   "source": []
  },
  {
   "cell_type": "code",
   "execution_count": null,
   "id": "ae9b3fe1-75ce-474f-8961-b133988827ce",
   "metadata": {},
   "outputs": [],
   "source": []
  },
  {
   "cell_type": "code",
   "execution_count": null,
   "id": "f13d6734-a86e-43a2-9ff3-622e74d835ce",
   "metadata": {},
   "outputs": [],
   "source": []
  },
  {
   "cell_type": "code",
   "execution_count": null,
   "id": "b6c3fd2f-aa79-4519-be1c-afed48264b05",
   "metadata": {},
   "outputs": [],
   "source": []
  },
  {
   "cell_type": "code",
   "execution_count": null,
   "id": "2dea5697-68f2-4a57-8765-ad6fe8bc2b8a",
   "metadata": {},
   "outputs": [],
   "source": []
  },
  {
   "cell_type": "code",
   "execution_count": null,
   "id": "36adb39c-e365-4e6c-abb3-22e5cff6bda3",
   "metadata": {},
   "outputs": [],
   "source": []
  },
  {
   "cell_type": "code",
   "execution_count": null,
   "id": "0dac295e-e988-46a7-9c78-3ac208b4b12a",
   "metadata": {},
   "outputs": [],
   "source": []
  }
 ],
 "metadata": {
  "kernelspec": {
   "display_name": "Python 3 (ipykernel)",
   "language": "python",
   "name": "python3"
  },
  "language_info": {
   "codemirror_mode": {
    "name": "ipython",
    "version": 3
   },
   "file_extension": ".py",
   "mimetype": "text/x-python",
   "name": "python",
   "nbconvert_exporter": "python",
   "pygments_lexer": "ipython3",
   "version": "3.11.2"
  },
  "widgets": {
   "application/vnd.jupyter.widget-state+json": {
    "state": {},
    "version_major": 2,
    "version_minor": 0
   }
  }
 },
 "nbformat": 4,
 "nbformat_minor": 5
}
