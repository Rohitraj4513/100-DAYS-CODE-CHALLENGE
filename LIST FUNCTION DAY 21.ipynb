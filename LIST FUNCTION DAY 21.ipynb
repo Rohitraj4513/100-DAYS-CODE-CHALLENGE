{
 "cells": [
  {
   "cell_type": "code",
   "execution_count": 5,
   "id": "8188f3c5-b92a-45f4-9547-b68f94189903",
   "metadata": {},
   "outputs": [
    {
     "name": "stdout",
     "output_type": "stream",
     "text": [
      "<class 'list'>\n",
      "1\n",
      "[1, 2, 'Rohit', 4, 5, 6]\n"
     ]
    }
   ],
   "source": [
    "#LIST\n",
    "lst1=[1 , 2 ,3 ,4 ,5 ,6]\n",
    "print(type(lst1))\n",
    "print(lst1[0])\n",
    "lst1[2]=\"Rohit\" #update list or change list values\n",
    "print(lst1)"
   ]
  },
  {
   "cell_type": "code",
   "execution_count": 16,
   "id": "eb66b965-1520-4fac-afb1-304d72ab045b",
   "metadata": {},
   "outputs": [
    {
     "data": {
      "text/plain": [
       "9"
      ]
     },
     "execution_count": 16,
     "metadata": {},
     "output_type": "execute_result"
    }
   ],
   "source": [
    "#list function\n",
    "lst1.insert(1 , 2) #add by index\n",
    "lst1.append(9) # add end of list\n",
    "lst1.remove(\"Rohit\") # remove by given number\n",
    "lst1.pop() # remove at the end of list"
   ]
  },
  {
   "cell_type": "code",
   "execution_count": 23,
   "id": "d0acee79-869c-41cf-8991-8bdc276ec808",
   "metadata": {},
   "outputs": [],
   "source": [
    "#list function\n",
    "lst1.sort()"
   ]
  },
  {
   "cell_type": "code",
   "execution_count": 21,
   "id": "7844aa17-f383-412b-9a44-8d0e2357cf84",
   "metadata": {},
   "outputs": [
    {
     "name": "stdout",
     "output_type": "stream",
     "text": [
      "[1, 2, 4, 5, 6, 8, 8, 8, 8, 9, 9, 9]\n"
     ]
    }
   ],
   "source": [
    "print(lst1)"
   ]
  },
  {
   "cell_type": "code",
   "execution_count": 20,
   "id": "684e1f68-b180-4876-a5b7-bbc530149c1e",
   "metadata": {},
   "outputs": [],
   "source": [
    "LST=lst1.copy()"
   ]
  },
  {
   "cell_type": "code",
   "execution_count": 36,
   "id": "884e6e9f-3db1-44c9-9377-5e123dee3e5c",
   "metadata": {},
   "outputs": [
    {
     "name": "stdout",
     "output_type": "stream",
     "text": [
      "[1, 2, 4, 5, 6, 8, 8, 8, 8, 9, 9, 9, 'R', 'o', 'h', 'i', 't', 'R', 'o', 'h', 'i', 't', 'Rohit', 'Rohit', 'Raj']\n"
     ]
    }
   ],
   "source": [
    "print(LST)"
   ]
  },
  {
   "cell_type": "code",
   "execution_count": 37,
   "id": "5672daa4-b9cb-4836-a4f5-dd0c5dbdbd45",
   "metadata": {},
   "outputs": [
    {
     "name": "stdout",
     "output_type": "stream",
     "text": [
      "1\n",
      "9\n",
      "77\n",
      "4\n"
     ]
    }
   ],
   "source": [
    "#list function\n",
    "print(min(lst1))\n",
    "print(max(lst1))\n",
    "print(sum(lst1))\n",
    "LST.extend(['Rohit' ,'Raj'])\n",
    "print(LST.count(8))"
   ]
  },
  {
   "cell_type": "code",
   "execution_count": 38,
   "id": "f6eafc22-2812-43fe-a4b0-3c1f5a88b56b",
   "metadata": {},
   "outputs": [
    {
     "name": "stdout",
     "output_type": "stream",
     "text": [
      "[1, 2, 4, 5, 6, 8, 8, 8, 8, 9, 9, 9]\n"
     ]
    }
   ],
   "source": [
    "print(lst1)"
   ]
  },
  {
   "cell_type": "code",
   "execution_count": 39,
   "id": "58de9d7e-6317-4963-9c9d-b5017cab02b0",
   "metadata": {},
   "outputs": [],
   "source": [
    "lst1.reverse()"
   ]
  },
  {
   "cell_type": "code",
   "execution_count": 40,
   "id": "fd64d5b3-ac93-463d-ab91-5eb0b01995e1",
   "metadata": {},
   "outputs": [
    {
     "name": "stdout",
     "output_type": "stream",
     "text": [
      "[9, 9, 9, 8, 8, 8, 8, 6, 5, 4, 2, 1]\n"
     ]
    }
   ],
   "source": [
    "print(lst1)"
   ]
  },
  {
   "cell_type": "code",
   "execution_count": 41,
   "id": "c68e0adf-856e-4626-9972-1a6518e3a388",
   "metadata": {},
   "outputs": [
    {
     "name": "stdout",
     "output_type": "stream",
     "text": [
      "[1, 2, 4, 5, 6, 8, 8, 8, 8, 9, 9, 9, 'R', 'o', 'h', 'i', 't', 'R', 'o', 'h', 'i', 't', 'Rohit', 'Rohit', 'Raj', 'Rohit', 'Raj']\n"
     ]
    }
   ],
   "source": [
    "print(LST)"
   ]
  },
  {
   "cell_type": "code",
   "execution_count": 42,
   "id": "9760c076-cf58-4273-bd74-c8ec62fef61b",
   "metadata": {},
   "outputs": [],
   "source": [
    "LST.clear() "
   ]
  },
  {
   "cell_type": "code",
   "execution_count": 43,
   "id": "5b0a3794-5008-4f13-b7c9-bb781edc04ce",
   "metadata": {},
   "outputs": [
    {
     "name": "stdout",
     "output_type": "stream",
     "text": [
      "[]\n"
     ]
    }
   ],
   "source": [
    "print(LST)"
   ]
  },
  {
   "cell_type": "code",
   "execution_count": null,
   "id": "90e7e5b5-26ea-48a6-a4a1-aefaa2ab8ff1",
   "metadata": {},
   "outputs": [],
   "source": []
  }
 ],
 "metadata": {
  "kernelspec": {
   "display_name": "Python 3 (ipykernel)",
   "language": "python",
   "name": "python3"
  },
  "language_info": {
   "codemirror_mode": {
    "name": "ipython",
    "version": 3
   },
   "file_extension": ".py",
   "mimetype": "text/x-python",
   "name": "python",
   "nbconvert_exporter": "python",
   "pygments_lexer": "ipython3",
   "version": "3.11.2"
  },
  "widgets": {
   "application/vnd.jupyter.widget-state+json": {
    "state": {},
    "version_major": 2,
    "version_minor": 0
   }
  }
 },
 "nbformat": 4,
 "nbformat_minor": 5
}
