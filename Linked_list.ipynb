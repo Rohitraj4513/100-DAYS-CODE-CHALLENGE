{
 "cells": [
  {
   "cell_type": "code",
   "execution_count": 26,
   "id": "4f38860b-0559-46a9-9fc4-a0fb1aa292ce",
   "metadata": {},
   "outputs": [],
   "source": [
    "class Node:\n",
    "    def __init__(self , value):\n",
    "        self.data=value\n",
    "        self.next=None\n",
    "class Linked:\n",
    "    def __init__(self):\n",
    "        self.head=None\n",
    "        \n",
    "    def add_node(self , value):\n",
    "        new_node = Node(value)\n",
    "\n",
    "        if self.head is None:\n",
    "            self.head = new_node\n",
    "        else:\n",
    "            current = self.head\n",
    "            while current.next is not None:\n",
    "                current = current.next\n",
    "            current.next= new_node\n",
    " "
   ]
  },
  {
   "cell_type": "code",
   "execution_count": null,
   "id": "88957b73-4c3d-41ed-9e87-5397c4026144",
   "metadata": {},
   "outputs": [],
   "source": [
    "L1 = Linked()\n",
    "L1.add_node(8)\n",
    "L1.add_node(9)\n",
    "L1.add_node(10)\n",
    "L1.add_node(11)\n",
    "L1.add_node(12)"
   ]
  },
  {
   "cell_type": "code",
   "execution_count": null,
   "id": "947f215b-ab5a-456f-8e3a-d72c80609667",
   "metadata": {},
   "outputs": [],
   "source": [
    "# Display \n",
    "    def Display(head):\n",
    "        current = head\n",
    "        while current.next is not None:\n",
    "            print(current.data)\n",
    "            current = current.next\n"
   ]
  },
  {
   "cell_type": "code",
   "execution_count": null,
   "id": "3747ddad-f1d4-4461-a143-eb2ae724ab8a",
   "metadata": {},
   "outputs": [],
   "source": [
    "#add elemets at beggining\n",
    "    def add_elents(head , value):\n",
    "        new_node = Node(value)\n",
    "        new_node.next = head\n",
    "        head = new_node"
   ]
  },
  {
   "cell_type": "code",
   "execution_count": 27,
   "id": "dd9e63f5-3b50-4e1f-a4ef-5fb47ec33ca7",
   "metadata": {},
   "outputs": [],
   "source": []
  },
  {
   "cell_type": "code",
   "execution_count": null,
   "id": "bafcca4c-2744-4efa-93fb-d677f967549b",
   "metadata": {},
   "outputs": [],
   "source": [
    "add_elents(L1.h)"
   ]
  },
  {
   "cell_type": "code",
   "execution_count": 25,
   "id": "1ce6b8dd-1d95-49cb-98ca-e8e10709e93f",
   "metadata": {},
   "outputs": [
    {
     "name": "stdout",
     "output_type": "stream",
     "text": [
      "8\n",
      "9\n",
      "10\n",
      "11\n"
     ]
    }
   ],
   "source": [
    "Display(L1.head)"
   ]
  },
  {
   "cell_type": "code",
   "execution_count": null,
   "id": "55d5fe92-fdcd-43db-a36e-3fe42ddfc4a4",
   "metadata": {},
   "outputs": [],
   "source": []
  },
  {
   "cell_type": "code",
   "execution_count": null,
   "id": "faac5ae6-5039-4bc6-9499-58800ef1a8c7",
   "metadata": {},
   "outputs": [],
   "source": []
  },
  {
   "cell_type": "code",
   "execution_count": null,
   "id": "80942c22-fd7f-457a-9154-812c63f81db2",
   "metadata": {},
   "outputs": [],
   "source": []
  },
  {
   "cell_type": "code",
   "execution_count": null,
   "id": "c1c59e04-2e8c-4443-9345-475060a20a6e",
   "metadata": {},
   "outputs": [],
   "source": []
  },
  {
   "cell_type": "code",
   "execution_count": null,
   "id": "c20a504f-de15-4c78-8128-b70a3058162e",
   "metadata": {},
   "outputs": [],
   "source": []
  },
  {
   "cell_type": "code",
   "execution_count": null,
   "id": "3f406a31-9244-443d-bb58-fe11aa52a7d8",
   "metadata": {},
   "outputs": [],
   "source": []
  },
  {
   "cell_type": "code",
   "execution_count": null,
   "id": "4b3f2439-d77b-4779-9c42-14fe3a877616",
   "metadata": {},
   "outputs": [],
   "source": []
  },
  {
   "cell_type": "code",
   "execution_count": null,
   "id": "1aea06e0-c70a-43a3-88f7-9c5f0958fa9a",
   "metadata": {},
   "outputs": [],
   "source": []
  }
 ],
 "metadata": {
  "kernelspec": {
   "display_name": "Python 3 (ipykernel)",
   "language": "python",
   "name": "python3"
  },
  "language_info": {
   "codemirror_mode": {
    "name": "ipython",
    "version": 3
   },
   "file_extension": ".py",
   "mimetype": "text/x-python",
   "name": "python",
   "nbconvert_exporter": "python",
   "pygments_lexer": "ipython3",
   "version": "3.11.2"
  },
  "widgets": {
   "application/vnd.jupyter.widget-state+json": {
    "state": {},
    "version_major": 2,
    "version_minor": 0
   }
  }
 },
 "nbformat": 4,
 "nbformat_minor": 5
}
