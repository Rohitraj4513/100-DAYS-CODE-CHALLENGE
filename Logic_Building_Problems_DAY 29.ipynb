{
 "cells": [
  {
   "cell_type": "code",
   "execution_count": 2,
   "id": "eb2d76e5-1a98-4ba3-bcf2-d67f941373f9",
   "metadata": {},
   "outputs": [
    {
     "name": "stdin",
     "output_type": "stream",
     "text": [
      "enter number 10\n"
     ]
    },
    {
     "name": "stdout",
     "output_type": "stream",
     "text": [
      "1\n",
      "2\n",
      "3\n",
      "4\n",
      "5\n",
      "6\n",
      "7\n",
      "8\n",
      "9\n",
      "10\n"
     ]
    }
   ],
   "source": [
    "num=int(input(\"enter number\"))\n",
    "for i in range(1,num+1):\n",
    "    print(i)"
   ]
  },
  {
   "cell_type": "code",
   "execution_count": 4,
   "id": "3fd2ecc3-f579-48ea-80f1-e6c4dac0811f",
   "metadata": {},
   "outputs": [
    {
     "name": "stdout",
     "output_type": "stream",
     "text": [
      "55\n",
      "55\n"
     ]
    }
   ],
   "source": [
    "#sum of n natural number\n",
    "sum=0\n",
    "for i in range(1 , num+1):\n",
    "    sum +=i\n",
    "print(sum)\n",
    "\n",
    "#sum of n natural number Optimize\n",
    "su=num*(num+1)//2\n",
    "print(su)\n"
   ]
  },
  {
   "cell_type": "code",
   "execution_count": 7,
   "id": "fadc844b-6596-4190-a4a2-3094b74fd408",
   "metadata": {},
   "outputs": [
    {
     "name": "stdin",
     "output_type": "stream",
     "text": [
      "enter number 1\n",
      "enter number 5\n"
     ]
    },
    {
     "name": "stdout",
     "output_type": "stream",
     "text": [
      "15\n",
      "15\n"
     ]
    }
   ],
   "source": [
    "#sum of a to b give number\n",
    "num1=int(input(\"enter number\"))\n",
    "num2=int(input(\"enter number\"))\n",
    "sum=0\n",
    "for i in range(num1 , num2+1):\n",
    "    sum +=i\n",
    "print(sum)\n",
    "\n",
    "#sum of a to b give number Optimize\n",
    "su=num2*(num2+1)//2 - num1*(num1+1)//2 + num1\n",
    "print(su)"
   ]
  },
  {
   "cell_type": "code",
   "execution_count": 9,
   "id": "9ee3abcb-0001-4ea1-81e0-286dfd4edaad",
   "metadata": {},
   "outputs": [
    {
     "name": "stdin",
     "output_type": "stream",
     "text": [
      "enter year 2001\n"
     ]
    },
    {
     "name": "stdout",
     "output_type": "stream",
     "text": [
      "not leap year\n"
     ]
    }
   ],
   "source": [
    "#leap year \n",
    "year=int(input(\"enter year\"))\n",
    "if (year % 400 == 0 or (year % 4 ==0 and year % 100 != 0)):\n",
    "    print('leap year')\n",
    "else:\n",
    "    print('not leap year')"
   ]
  },
  {
   "cell_type": "code",
   "execution_count": null,
   "id": "9d300c3c-46d0-45f4-af3b-cb8925693d30",
   "metadata": {},
   "outputs": [],
   "source": []
  }
 ],
 "metadata": {
  "kernelspec": {
   "display_name": "Python 3 (ipykernel)",
   "language": "python",
   "name": "python3"
  },
  "language_info": {
   "codemirror_mode": {
    "name": "ipython",
    "version": 3
   },
   "file_extension": ".py",
   "mimetype": "text/x-python",
   "name": "python",
   "nbconvert_exporter": "python",
   "pygments_lexer": "ipython3",
   "version": "3.11.2"
  },
  "widgets": {
   "application/vnd.jupyter.widget-state+json": {
    "state": {},
    "version_major": 2,
    "version_minor": 0
   }
  }
 },
 "nbformat": 4,
 "nbformat_minor": 5
}
