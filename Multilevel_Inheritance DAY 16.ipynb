{
 "cells": [
  {
   "cell_type": "code",
   "execution_count": 10,
   "id": "2ed4ac3d-e201-4613-b092-a622bcff550b",
   "metadata": {},
   "outputs": [
    {
     "name": "stdout",
     "output_type": "stream",
     "text": [
      "Name: kittu\n",
      "Color :black\n",
      "Type :Golden_Retriever\n"
     ]
    }
   ],
   "source": [
    "#Multilevel Inheritance\n",
    "class Animal:\n",
    "    def __init__(self , name):\n",
    "        self.name=name\n",
    "    def show(self):\n",
    "        print(f\"Name: {self.name}\")\n",
    "class Dog(Animal):\n",
    "    def __init__(self  , color):\n",
    "        self.color=color\n",
    "    def show(self):\n",
    "        Animal.show(self)\n",
    "        print(f\"Color :{self.color}\")\n",
    "class golden_retriever(Dog):\n",
    "    def __init__(self , name , color , type='Golden_Retriever'):\n",
    "        Dog.__init__(self,color)\n",
    "        Animal.__init__(self,name)\n",
    "        self.type=type\n",
    "    def show(self):\n",
    "        Dog.show(self)\n",
    "        print(f\"Type :{self.type}\")\n",
    "        \n",
    "#calling\n",
    "obj=golden_retriever('kittu', 'black')\n",
    "obj.show()\n"
   ]
  },
  {
   "cell_type": "code",
   "execution_count": 14,
   "id": "c8c5dc0f-01e9-4261-b475-492d70526638",
   "metadata": {},
   "outputs": [
    {
     "ename": "NameError",
     "evalue": "name 'dpt' is not defined",
     "output_type": "error",
     "traceback": [
      "\u001b[1;31m---------------------------------------------------------------------------\u001b[0m",
      "\u001b[1;31mNameError\u001b[0m                                 Traceback (most recent call last)",
      "Cell \u001b[1;32mIn[14], line 24\u001b[0m\n\u001b[0;32m     21\u001b[0m         \u001b[38;5;28mprint\u001b[39m(\u001b[38;5;124mf\u001b[39m\u001b[38;5;124m\"\u001b[39m\u001b[38;5;124mDepartment : \u001b[39m\u001b[38;5;132;01m{\u001b[39;00m\u001b[38;5;28mself\u001b[39m\u001b[38;5;241m.\u001b[39mdpt\u001b[38;5;132;01m}\u001b[39;00m\u001b[38;5;124m \u001b[39m\u001b[38;5;130;01m\\n\u001b[39;00m\u001b[38;5;124m Designation :\u001b[39m\u001b[38;5;132;01m{\u001b[39;00m\u001b[38;5;28mself\u001b[39m\u001b[38;5;241m.\u001b[39mdegn\u001b[38;5;132;01m}\u001b[39;00m\u001b[38;5;124m \u001b[39m\u001b[38;5;124m\"\u001b[39m)\n\u001b[0;32m     23\u001b[0m \u001b[38;5;66;03m#calling\u001b[39;00m\n\u001b[1;32m---> 24\u001b[0m obj\u001b[38;5;241m=\u001b[39m\u001b[43mManagament\u001b[49m\u001b[43m(\u001b[49m\u001b[38;5;124;43m'\u001b[39;49m\u001b[38;5;124;43mRohit Raj\u001b[39;49m\u001b[38;5;124;43m'\u001b[39;49m\u001b[43m \u001b[49m\u001b[43m,\u001b[49m\u001b[43m \u001b[49m\u001b[38;5;241;43m101\u001b[39;49m\u001b[43m \u001b[49m\u001b[43m,\u001b[49m\u001b[43m \u001b[49m\u001b[38;5;124;43m'\u001b[39;49m\u001b[38;5;124;43mHuman Resourse\u001b[39;49m\u001b[38;5;124;43m'\u001b[39;49m\u001b[43m)\u001b[49m\n\u001b[0;32m     25\u001b[0m obj\u001b[38;5;241m.\u001b[39mshow_details()\n",
      "Cell \u001b[1;32mIn[14], line 17\u001b[0m, in \u001b[0;36mManagament.__init__\u001b[1;34m(self, name, id, dp, degn)\u001b[0m\n\u001b[0;32m     15\u001b[0m \u001b[38;5;28mself\u001b[39m\u001b[38;5;241m.\u001b[39mdegn\u001b[38;5;241m=\u001b[39mdegn\n\u001b[0;32m     16\u001b[0m company\u001b[38;5;241m.\u001b[39m\u001b[38;5;21m__init__\u001b[39m(\u001b[38;5;28mself\u001b[39m , name , \u001b[38;5;28mid\u001b[39m)\n\u001b[1;32m---> 17\u001b[0m \u001b[43mdept\u001b[49m\u001b[38;5;241;43m.\u001b[39;49m\u001b[38;5;21;43m__init__\u001b[39;49m\u001b[43m(\u001b[49m\u001b[38;5;28;43mself\u001b[39;49m\u001b[43m \u001b[49m\u001b[43m,\u001b[49m\u001b[43m \u001b[49m\u001b[43mdp\u001b[49m\u001b[43m)\u001b[49m\n",
      "Cell \u001b[1;32mIn[14], line 10\u001b[0m, in \u001b[0;36mdept.__init__\u001b[1;34m(self, dp)\u001b[0m\n\u001b[0;32m      9\u001b[0m \u001b[38;5;28;01mdef\u001b[39;00m \u001b[38;5;21m__init__\u001b[39m(\u001b[38;5;28mself\u001b[39m , dp):\n\u001b[1;32m---> 10\u001b[0m     \u001b[38;5;28mself\u001b[39m\u001b[38;5;241m.\u001b[39mdpt\u001b[38;5;241m=\u001b[39m\u001b[43mdpt\u001b[49m\n",
      "\u001b[1;31mNameError\u001b[0m: name 'dpt' is not defined"
     ]
    }
   ],
   "source": [
    "#Multilevel Inheritance\n",
    "class company:\n",
    "    def __init__(self , name , id):\n",
    "        self.name=name\n",
    "        self.id=id\n",
    "    def show_details(self):\n",
    "        print(f\"Employees_Name: {self.name} \\n Employees_id: {self.id}\")\n",
    "class dept(company):\n",
    "    def __init__(self , dpt):\n",
    "        self.dpt=dpt\n",
    "    def show_details(self):\n",
    "        company.show_details(self)\n",
    "class Managament(dept):\n",
    "    def __init__(self ,name , id , dpt , degn='HR' ):\n",
    "        self.degn=degn\n",
    "        company.__init__(self , name , id)\n",
    "        dept.__init__(self , dpt)\n",
    "        \n",
    "    def show_details(self):\n",
    "        dept.show_details(self)\n",
    "        print(f\"Department : {self.dpt} \\n Designation :{self.degn} \")\n",
    "\n",
    "#calling\n",
    "obj=Managament('Rohit Raj' , 101 , 'Human Resourse')\n",
    "obj.show_details()\n",
    "        \n",
    "        "
   ]
  },
  {
   "cell_type": "code",
   "execution_count": null,
   "id": "e1a764d7-b12d-4dd2-b144-584321eb97f9",
   "metadata": {},
   "outputs": [],
   "source": []
  }
 ],
 "metadata": {
  "kernelspec": {
   "display_name": "Python 3 (ipykernel)",
   "language": "python",
   "name": "python3"
  },
  "language_info": {
   "codemirror_mode": {
    "name": "ipython",
    "version": 3
   },
   "file_extension": ".py",
   "mimetype": "text/x-python",
   "name": "python",
   "nbconvert_exporter": "python",
   "pygments_lexer": "ipython3",
   "version": "3.11.2"
  },
  "widgets": {
   "application/vnd.jupyter.widget-state+json": {
    "state": {},
    "version_major": 2,
    "version_minor": 0
   }
  }
 },
 "nbformat": 4,
 "nbformat_minor": 5
}
