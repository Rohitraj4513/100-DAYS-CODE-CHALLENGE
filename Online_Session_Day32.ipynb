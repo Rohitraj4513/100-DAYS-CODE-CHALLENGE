{
 "cells": [
  {
   "cell_type": "code",
   "execution_count": 1,
   "id": "cec205ef-2558-47ca-8a20-98ba1be99e92",
   "metadata": {},
   "outputs": [
    {
     "name": "stdout",
     "output_type": "stream",
     "text": [
      "hello words!\n"
     ]
    }
   ],
   "source": [
    "print('hello words!')"
   ]
  },
  {
   "cell_type": "code",
   "execution_count": 3,
   "id": "c2e75bb9-244d-40b9-9401-a23c78766eec",
   "metadata": {},
   "outputs": [
    {
     "name": "stdout",
     "output_type": "stream",
     "text": [
      "x =  15\n",
      "y =  4\n",
      "x + y=  19\n"
     ]
    }
   ],
   "source": [
    "x=15\n",
    "y=4\n",
    "print(\"x = \" , x)\n",
    "print(\"y = \" , y)\n",
    "print(\"x + y= \", x+y)"
   ]
  },
  {
   "cell_type": "code",
   "execution_count": 4,
   "id": "e2e634a3-6256-4da2-a1b9-d371dccac654",
   "metadata": {},
   "outputs": [
    {
     "name": "stdout",
     "output_type": "stream",
     "text": [
      "5\n",
      "i am wonderfull!\n",
      "var\n",
      "i am String\n",
      "300\n"
     ]
    }
   ],
   "source": [
    "x=5\n",
    "y= \"i am wonderfull!\"\n",
    "print(x)\n",
    "print(y)\n",
    "var=2.5\n",
    "print('var')\n",
    "var='i am String'\n",
    "print(var)\n",
    "print(300)"
   ]
  },
  {
   "cell_type": "code",
   "execution_count": 6,
   "id": "26e1e4c7-3165-439a-91e5-fe9570605426",
   "metadata": {},
   "outputs": [
    {
     "name": "stdout",
     "output_type": "stream",
     "text": [
      "True\n",
      "False\n"
     ]
    }
   ],
   "source": [
    "x = 10\n",
    "y = 20\n",
    "z = x\n",
    "print( x is z)\n",
    "print(x is y)"
   ]
  },
  {
   "cell_type": "code",
   "execution_count": 10,
   "id": "b778a077-8edb-48ff-b581-be05914c1984",
   "metadata": {},
   "outputs": [
    {
     "name": "stdout",
     "output_type": "stream",
     "text": [
      "value of c is = 1\n",
      "value of a b & c are same:  100 2.5 join\n"
     ]
    }
   ],
   "source": [
    "a = b = c =1 \n",
    "print('value of c is =', c)\n",
    "a,b,c=100,2.5,'join'\n",
    "print(\"value of a b & c are same: \", a,b,c)"
   ]
  },
  {
   "cell_type": "code",
   "execution_count": 11,
   "id": "33ce60cb-1b30-4f9f-851e-6f96d229d588",
   "metadata": {},
   "outputs": [
    {
     "name": "stdout",
     "output_type": "stream",
     "text": [
      "x as string :  3\n",
      "y as string :  3\n",
      "z as string :  3.0\n"
     ]
    }
   ],
   "source": [
    "x = str(3)\n",
    "y = int(3)\n",
    "z= float(3)\n",
    "print(\"x as string : \", x)\n",
    "print(\"y as string : \", y)\n",
    "print(\"z as string : \", z)"
   ]
  },
  {
   "cell_type": "code",
   "execution_count": 12,
   "id": "cf05839f-a57f-43f4-a301-713840357520",
   "metadata": {},
   "outputs": [
    {
     "name": "stdout",
     "output_type": "stream",
     "text": [
      "x as type :  <class 'str'>\n",
      "y as type :  <class 'int'>\n"
     ]
    }
   ],
   "source": [
    "x = str(3)\n",
    "y = int(3)\n",
    "\n",
    "print(\"x as type : \", type(x))\n",
    "print(\"y as type : \", type(y))"
   ]
  },
  {
   "cell_type": "code",
   "execution_count": null,
   "id": "7b34e2ac-429f-489b-9ecb-1ecb8e4c3bcd",
   "metadata": {},
   "outputs": [],
   "source": [
    "fruits = ['apple' , 'banna' , 'cherre']\n",
    "x , y , z = frt"
   ]
  },
  {
   "cell_type": "code",
   "execution_count": 19,
   "id": "632d066c-ed34-4359-9223-5aa4b4d49a39",
   "metadata": {},
   "outputs": [
    {
     "name": "stdout",
     "output_type": "stream",
     "text": [
      "only x :   python is awsome\n",
      "x+yz is  python is awesome\n",
      "x+yz is  pythonisawesome\n"
     ]
    }
   ],
   "source": [
    "x =' python is awesome'\n",
    "print('only x: ', x)\n",
    "x = \"python\"\n",
    "y =\"is\"\n",
    "z=\"awesome\"\n",
    "print('x y z is together',x,y,z)\n",
    "x = 'python'\n",
    "y ='is'\n",
    "z='awesome'\n",
    "print('x+y+z is ', x + y + z)"
   ]
  },
  {
   "cell_type": "code",
   "execution_count": null,
   "id": "f50f19b0-f56f-4384-a39c-a3e089de1af5",
   "metadata": {},
   "outputs": [],
   "source": []
  },
  {
   "cell_type": "code",
   "execution_count": null,
   "id": "fd6bad7f-8228-4568-8b8e-a83c569bd6bb",
   "metadata": {},
   "outputs": [],
   "source": []
  }
 ],
 "metadata": {
  "kernelspec": {
   "display_name": "Python 3 (ipykernel)",
   "language": "python",
   "name": "python3"
  },
  "language_info": {
   "codemirror_mode": {
    "name": "ipython",
    "version": 3
   },
   "file_extension": ".py",
   "mimetype": "text/x-python",
   "name": "python",
   "nbconvert_exporter": "python",
   "pygments_lexer": "ipython3",
   "version": "3.11.2"
  },
  "widgets": {
   "application/vnd.jupyter.widget-state+json": {
    "state": {},
    "version_major": 2,
    "version_minor": 0
   }
  }
 },
 "nbformat": 4,
 "nbformat_minor": 5
}
