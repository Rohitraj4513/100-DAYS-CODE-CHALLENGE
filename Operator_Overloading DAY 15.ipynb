{
 "cells": [
  {
   "cell_type": "code",
   "execution_count": 5,
   "id": "6f491f14-222e-445a-911d-a4d0add8413f",
   "metadata": {},
   "outputs": [
    {
     "name": "stdout",
     "output_type": "stream",
     "text": [
      "20i+30j+50k\n",
      "3i+2j+5k\n",
      "23i+32j+55k\n"
     ]
    }
   ],
   "source": [
    "#operator overloading\n",
    "class Vector:\n",
    "    def __init__(self , i  ,  j ,  k):\n",
    "        self.i=i\n",
    "        self.j=j\n",
    "        self.k=k\n",
    "    def __str__(self):\n",
    "        return f\"{self.i}i+{self.j}j+{self.k}k\"\n",
    "    def __add__(self ,x):\n",
    "        return f\"{self.i+x.i}i+{self.j+x.j}j+{self.k+x.k}k\"\n",
    "\n",
    "#Calling Function\n",
    "v1=Vector(20,30,50)\n",
    "v2=Vector(3,2,5)\n",
    "print(v1)\n",
    "print(v2)\n",
    "print(v1+v2)"
   ]
  },
  {
   "cell_type": "code",
   "execution_count": 25,
   "id": "cf4890e8-fbf9-4a1c-8954-5c08463c681b",
   "metadata": {},
   "outputs": [
    {
     "name": "stdout",
     "output_type": "stream",
     "text": [
      "The name of Employees:Rohit and the Department is:developer\n",
      "The name of Employees:Rohit\n"
     ]
    }
   ],
   "source": [
    "#Single Inheritance\n",
    "class Employees:\n",
    "    def __init__(self , name):\n",
    "        self.name=name\n",
    "    def __str__(self):\n",
    "        return f\"The name of Employees:{self.name}\"\n",
    "class Dpt(Employees):\n",
    "    def __init__(self , dept , name):\n",
    "        super().__init__(name)\n",
    "        self.dept=dept\n",
    "    def show(self):\n",
    "        print(f\"The name of Employees:{self.name} and the Department is:{self.dept}\")\n",
    "\n",
    "#Calling Function\n",
    "obj=Dpt(\"developer\",\"Rohit\")\n",
    "obj.show()\n",
    "print(obj)\n"
   ]
  },
  {
   "cell_type": "code",
   "execution_count": 16,
   "id": "e1ca19a5-2e20-4fc0-ae32-4965e6cd274b",
   "metadata": {},
   "outputs": [
    {
     "name": "stdout",
     "output_type": "stream",
     "text": [
      "The  name of Cat is:kittu and vocal:meow\n",
      "The  name of Dog is:buggu and vocal:barks\n"
     ]
    }
   ],
   "source": [
    "#Multiple Inheritance\n",
    "class Cat:\n",
    "    def __init__(self , name ,spk):\n",
    "        self.name=name\n",
    "        self.spk=spk\n",
    "    def voice(self):\n",
    "        print(f\"Animal name is :{self.name} and vocal:{self.spk}\")\n",
    "    def show1(self):\n",
    "        print(f\"The  name of Cat is:{self.name} and vocal:{self.spk}\")\n",
    "class Dog:\n",
    "    def __init__(self , na , spke):\n",
    "        self.na=na\n",
    "        self.spke=spke\n",
    "    def voice(self):\n",
    "        print(f\"Animal name is :{self.na} and vocal:{self.spke}\")\n",
    "    def show2(self):\n",
    "        print(f\"The  name of Dog is:{self.na} and vocal:{self.spke}\")\n",
    "class Animal(Dog , Cat):\n",
    "    def __init__(self , cat_name , cat_spk , dog_name , dog_spke):\n",
    "        Cat.__init__(self,cat_name , cat_spk)\n",
    "        Dog.__init__(self,dog_name , dog_spke)\n",
    "        \n",
    "    def show(self):\n",
    "        print(f\"Animal name is :{self.name} and vocal:{self.spke}\")\n",
    "\n",
    "#calling Function\n",
    "obj=Animal('kittu' , 'meow' , 'buggu' ,'barks')\n",
    "obj.show1()\n",
    "obj.show2()\n",
    "\n",
    "    \n",
    "    "
   ]
  },
  {
   "cell_type": "code",
   "execution_count": null,
   "id": "6f42bdcd-3843-434c-8735-93d9907e6b92",
   "metadata": {},
   "outputs": [],
   "source": []
  },
  {
   "cell_type": "code",
   "execution_count": null,
   "id": "9359042a-b1bd-4f91-b614-6ad74e43a232",
   "metadata": {},
   "outputs": [],
   "source": []
  },
  {
   "cell_type": "code",
   "execution_count": null,
   "id": "a066b1fd-f6d2-4c5a-87f5-13d9509663f6",
   "metadata": {},
   "outputs": [],
   "source": []
  }
 ],
 "metadata": {
  "kernelspec": {
   "display_name": "Python 3 (ipykernel)",
   "language": "python",
   "name": "python3"
  },
  "language_info": {
   "codemirror_mode": {
    "name": "ipython",
    "version": 3
   },
   "file_extension": ".py",
   "mimetype": "text/x-python",
   "name": "python",
   "nbconvert_exporter": "python",
   "pygments_lexer": "ipython3",
   "version": "3.11.2"
  }
 },
 "nbformat": 4,
 "nbformat_minor": 5
}
