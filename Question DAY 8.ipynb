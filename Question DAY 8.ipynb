{
 "cells": [
  {
   "cell_type": "code",
   "execution_count": 1,
   "id": "64376603-d21f-4c5b-a53d-1add10e18df7",
   "metadata": {},
   "outputs": [
    {
     "name": "stdout",
     "output_type": "stream",
     "text": [
      "[8, 1, 3, 6]\n",
      "[1, 3, 6, 8]\n"
     ]
    }
   ],
   "source": [
    "#Write a program to find the intersection of two lists.\n",
    "lst1=[1,2,3,4,5,6,7,8,9]\n",
    "lst2=[3,8,6,13,12,78 , 67 , 89 , 90 ,1]\n",
    "lst1=set(lst1)\n",
    "lst2=set(lst2)\n",
    "st3=lst1.intersection(lst2)\n",
    "st3=list(st3)\n",
    "print(st3)\n",
    "\n",
    "#2nd method \n",
    "lst4=[]\n",
    "for i in lst1:\n",
    "    for j in lst2:\n",
    "        if(i == j):\n",
    "            lst4.append(i)\n",
    "            break\n",
    "print(lst4)\n",
    "            \n",
    "    "
   ]
  },
  {
   "cell_type": "code",
   "execution_count": 2,
   "id": "f1023dfd-d07a-417d-8f2c-082edd7ade6d",
   "metadata": {},
   "outputs": [
    {
     "name": "stdin",
     "output_type": "stream",
     "text": [
      "enter a number to rotate the list 3\n"
     ]
    },
    {
     "name": "stdout",
     "output_type": "stream",
     "text": [
      "[4, 5, 6, 1, 2, 3]\n"
     ]
    }
   ],
   "source": [
    "#Implement a program to rotate a list to the left by k positions.\n",
    "lst5=[1,2,3,4,5 , 6]\n",
    "n=len(lst5)\n",
    "k=int(input(\"enter a number to rotate the list\"))\n",
    "k=k % n # 3 % 4 =3\n",
    "lst6=lst5[k:] + lst5[:k]\n",
    "print(lst6)\n",
    "    "
   ]
  },
  {
   "cell_type": "code",
   "execution_count": 4,
   "id": "8194211c-80b2-49a2-a3d3-e4537efdb4c2",
   "metadata": {},
   "outputs": [
    {
     "name": "stdin",
     "output_type": "stream",
     "text": [
      "enter a number to rotate the list 999\n"
     ]
    },
    {
     "name": "stdout",
     "output_type": "stream",
     "text": [
      "the value of :9\n"
     ]
    }
   ],
   "source": [
    "#Write a program to calculate the sum of digits of a number until a single digit is obtained.\n",
    "k=int(input(\"enter a number to rotate the list\"))\n",
    "while k >=10:\n",
    "    temp=k\n",
    "    sum=0\n",
    "    while(temp > 0):\n",
    "        sum += temp % 10\n",
    "        temp=temp // 10\n",
    "    k=sum\n",
    "print(f\"the value of :{k}\")"
   ]
  },
  {
   "cell_type": "code",
   "execution_count": null,
   "id": "1e68f1b7-cc77-43ca-8e2a-f3790b675dff",
   "metadata": {},
   "outputs": [],
   "source": [
    "#Write a program to solve a linear equation in two variables (ax + by = c).\n"
   ]
  },
  {
   "cell_type": "code",
   "execution_count": null,
   "id": "b672bdba-06a9-4904-89e4-cb6d3191d987",
   "metadata": {},
   "outputs": [],
   "source": []
  },
  {
   "cell_type": "code",
   "execution_count": null,
   "id": "b2c20ef5-503f-4991-9e95-af36dc377b2a",
   "metadata": {},
   "outputs": [],
   "source": []
  }
 ],
 "metadata": {
  "kernelspec": {
   "display_name": "Python 3 (ipykernel)",
   "language": "python",
   "name": "python3"
  },
  "language_info": {
   "codemirror_mode": {
    "name": "ipython",
    "version": 3
   },
   "file_extension": ".py",
   "mimetype": "text/x-python",
   "name": "python",
   "nbconvert_exporter": "python",
   "pygments_lexer": "ipython3",
   "version": "3.11.2"
  }
 },
 "nbformat": 4,
 "nbformat_minor": 5
}
