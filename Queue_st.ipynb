{
 "cells": [
  {
   "cell_type": "code",
   "execution_count": 9,
   "id": "b899de13-7397-4cf5-b843-d0724e3b197c",
   "metadata": {},
   "outputs": [
    {
     "name": "stdout",
     "output_type": "stream",
     "text": [
      "2\n"
     ]
    }
   ],
   "source": [
    "#Queue Question\n",
    "sandwiches = [0 , 1 , 0 , 1]\n",
    "students = [1 , 0 , 1, 1]\n",
    "while students:\n",
    "    if students[0] == sandwiches[0]:\n",
    "        students.pop(0)\n",
    "        sandwiches.pop(0)\n",
    "        cnt = 0\n",
    "    else:\n",
    "        students.append(students.pop(0))\n",
    "        cnt += 1\n",
    "    if cnt == len(students):\n",
    "        print(len(students))\n",
    "        break\n"
   ]
  },
  {
   "cell_type": "code",
   "execution_count": 10,
   "id": "976c7580-c1f3-423b-8f70-1ec19ac7a08a",
   "metadata": {},
   "outputs": [
    {
     "name": "stdout",
     "output_type": "stream",
     "text": [
      "1\n"
     ]
    }
   ],
   "source": [
    "#Queue Question\n",
    "stack = [0 , 1 , 0 , 1]\n",
    "queue = [1 , 0 , 1, 1]\n",
    "n = len(queue)\n",
    "for i in range(n):\n",
    "    cnt = 0\n",
    "    while stack[-1] != queue[0] and cnt <= len(queue):\n",
    "        queue.append(queue.pop(0))\n",
    "        cnt +=1\n",
    "           \n",
    "    if stack[-1] == queue[0]:\n",
    "        stack.pop()\n",
    "        queue.pop(0)\n",
    "        cnt = 0\n",
    "        n -=1\n",
    "    if cnt > len(queue):\n",
    "        print(len(queue))\n",
    "        break\n",
    "\n",
    "        "
   ]
  },
  {
   "cell_type": "code",
   "execution_count": 5,
   "id": "53551fdd-bc3a-4aba-97f2-0051bae233b5",
   "metadata": {},
   "outputs": [
    {
     "name": "stdout",
     "output_type": "stream",
     "text": [
      "2\n"
     ]
    }
   ],
   "source": []
  },
  {
   "cell_type": "code",
   "execution_count": 8,
   "id": "65eac16e-a1c2-4a48-b790-0a06f2b9c85e",
   "metadata": {},
   "outputs": [
    {
     "name": "stdout",
     "output_type": "stream",
     "text": [
      "2\n"
     ]
    }
   ],
   "source": []
  },
  {
   "cell_type": "code",
   "execution_count": null,
   "id": "3f314eff-f67c-4f48-bb59-91b85ee4674b",
   "metadata": {},
   "outputs": [],
   "source": []
  }
 ],
 "metadata": {
  "kernelspec": {
   "display_name": "Python 3 (ipykernel)",
   "language": "python",
   "name": "python3"
  },
  "language_info": {
   "codemirror_mode": {
    "name": "ipython",
    "version": 3
   },
   "file_extension": ".py",
   "mimetype": "text/x-python",
   "name": "python",
   "nbconvert_exporter": "python",
   "pygments_lexer": "ipython3",
   "version": "3.10.6"
  },
  "widgets": {
   "application/vnd.jupyter.widget-state+json": {
    "state": {},
    "version_major": 2,
    "version_minor": 0
   }
  }
 },
 "nbformat": 4,
 "nbformat_minor": 5
}
