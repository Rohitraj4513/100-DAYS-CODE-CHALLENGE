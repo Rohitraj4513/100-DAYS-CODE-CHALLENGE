{
 "cells": [
  {
   "cell_type": "code",
   "execution_count": 38,
   "id": "b4321271-25c1-42fe-99a0-3a8bc36f0b1e",
   "metadata": {},
   "outputs": [],
   "source": [
    "#dequeue \n",
    "class Deque:\n",
    "    def __init__(self):\n",
    "        self.queue = []\n",
    "\n",
    "    def insert_fornt(self , x):\n",
    "        self.queue.append(x)\n",
    "        \n",
    "    def insert_raer(self , x):\n",
    "        self.queue.insert(0 , x)\n",
    "\n",
    "    def delete_rear(self):\n",
    "        if len(self.queue) == 0:\n",
    "            return \"queue empty\"\n",
    "        self.queue.pop(0)\n",
    "\n",
    "    def delete_front(self):\n",
    "        if len(self.queue) == 0:\n",
    "            return \"queue empty\"\n",
    "        self.queue.pop()\n",
    "        \n",
    "    def get_rear(self):\n",
    "        return self.queue[0]\n",
    "\n",
    "    def get_front(self):\n",
    "        return self.queue[-1]\n",
    "\n",
    "    def size(self):\n",
    "        return len(self.queue)\n",
    "\n",
    "    def display(self):\n",
    "        if len(self.queue) == 0:\n",
    "            return \"queue empty\"\n",
    "        print(self.queue)\n",
    "            \n",
    "    \n",
    "            "
   ]
  },
  {
   "cell_type": "code",
   "execution_count": 39,
   "id": "c90e96cc-623d-417a-9412-cf65da822cb5",
   "metadata": {},
   "outputs": [],
   "source": [
    "S = Deque()"
   ]
  },
  {
   "cell_type": "code",
   "execution_count": 40,
   "id": "36b33699-8c82-49f9-94c1-079e721b71d7",
   "metadata": {},
   "outputs": [],
   "source": [
    "S.insert_fornt(2)\n",
    "S.insert_fornt(8)\n",
    "S.insert_fornt(3)\n",
    "S.insert_fornt(5)\n",
    "S.insert_fornt(7)\n",
    "S.insert_raer(10)\n",
    "S.insert_raer(9)\n",
    "S.insert_raer(8)\n",
    "S.insert_fornt(10)"
   ]
  },
  {
   "cell_type": "code",
   "execution_count": 41,
   "id": "7778e058-02bc-4979-b11b-410064ebd10b",
   "metadata": {},
   "outputs": [
    {
     "name": "stdout",
     "output_type": "stream",
     "text": [
      "[8, 9, 10, 2, 8, 3, 5, 7, 10]\n"
     ]
    }
   ],
   "source": [
    "S.display()"
   ]
  },
  {
   "cell_type": "code",
   "execution_count": 42,
   "id": "eb883e02-e1ef-46aa-8ea5-23081f5460cf",
   "metadata": {},
   "outputs": [],
   "source": [
    "S.delete_rear()\n",
    "S.delete_front()"
   ]
  },
  {
   "cell_type": "code",
   "execution_count": 43,
   "id": "d7f59f23-a552-4733-94c4-fe9edce98a9a",
   "metadata": {},
   "outputs": [
    {
     "name": "stdout",
     "output_type": "stream",
     "text": [
      "[9, 10, 2, 8, 3, 5, 7]\n"
     ]
    }
   ],
   "source": [
    "S.display()"
   ]
  },
  {
   "cell_type": "code",
   "execution_count": 32,
   "id": "b74303eb-62b4-4327-9588-c614e7f0e32d",
   "metadata": {},
   "outputs": [
    {
     "name": "stdout",
     "output_type": "stream",
     "text": [
      "8\n",
      "10\n"
     ]
    },
    {
     "data": {
      "text/plain": [
       "15"
      ]
     },
     "execution_count": 32,
     "metadata": {},
     "output_type": "execute_result"
    }
   ],
   "source": [
    "print(S.get_rear())\n",
    "print(S.get_front())\n",
    "S.size()"
   ]
  },
  {
   "cell_type": "code",
   "execution_count": 52,
   "id": "05563e48-1182-4ebd-9613-77ac8ce98c70",
   "metadata": {},
   "outputs": [],
   "source": [
    "class Queue:\n",
    "    def __init__(self):\n",
    "        self.stack1 = []\n",
    "        self.stack2 = []\n",
    "        \n",
    "    def enqueue(self , x):\n",
    "        self.stack1.append(x)\n",
    "\n",
    "    def dequeue(self):\n",
    "        if not self.stack2:\n",
    "            while self.stack1:\n",
    "                self.stack2.append(self.stack2)  \n",
    "        self.stack2.pop()\n",
    "    def rear(self):\n",
    "        if not self.stack2:\n",
    "            while self.stack1:\n",
    "                self.stack2.append(self.stack1.pop()) \n",
    "        return self.stack2[0]\n",
    "\n",
    "    def front(self):\n",
    "        if not self.stack2:\n",
    "            while self.stack1:\n",
    "                self.stack2.append(self.stack1.pop()) \n",
    "        return self.stack2[-1]\n",
    "        \n",
    "    def display(self):\n",
    "        if not self.stack2:\n",
    "            while self.stack1:\n",
    "                self.stack2.append(self.stack1.pop()) \n",
    "\n",
    "        print(self.stack2)\n",
    "           \n",
    "        \n",
    "            \n",
    "            "
   ]
  },
  {
   "cell_type": "code",
   "execution_count": 53,
   "id": "8d672df1-139f-440c-99c7-e794c7287be4",
   "metadata": {},
   "outputs": [],
   "source": [
    "S = Queue()\n"
   ]
  },
  {
   "cell_type": "code",
   "execution_count": 54,
   "id": "6924d738-6fe9-4eed-9ddf-070b8e11be26",
   "metadata": {},
   "outputs": [],
   "source": [
    "S.enqueue(2)\n",
    "S.enqueue(8)\n",
    "S.enqueue(3)\n",
    "S.enqueue(5)\n",
    "S.enqueue(7)"
   ]
  },
  {
   "cell_type": "code",
   "execution_count": 55,
   "id": "459a08dc-2e16-4f03-b2c4-0e8959fb3a99",
   "metadata": {},
   "outputs": [
    {
     "name": "stdout",
     "output_type": "stream",
     "text": [
      "[7, 5, 3, 8, 2]\n"
     ]
    }
   ],
   "source": [
    "S.display()"
   ]
  },
  {
   "cell_type": "code",
   "execution_count": 56,
   "id": "8b702c8a-51bf-4b7d-8b21-5e6c7b720ed8",
   "metadata": {},
   "outputs": [],
   "source": [
    "S.dequeue()"
   ]
  },
  {
   "cell_type": "code",
   "execution_count": 57,
   "id": "cbe39d93-b902-4750-9b52-1204a0bf5a7e",
   "metadata": {},
   "outputs": [
    {
     "name": "stdout",
     "output_type": "stream",
     "text": [
      "[7, 5, 3, 8]\n"
     ]
    }
   ],
   "source": [
    "S.display()"
   ]
  },
  {
   "cell_type": "code",
   "execution_count": 58,
   "id": "9c8e5b31-81a6-464a-8775-53aefaf73787",
   "metadata": {},
   "outputs": [
    {
     "name": "stdout",
     "output_type": "stream",
     "text": [
      "7\n",
      "8\n",
      "[7, 5, 3, 8]\n"
     ]
    }
   ],
   "source": [
    "print(S.rear())\n",
    "print(S.front())\n",
    "S.display()"
   ]
  },
  {
   "cell_type": "code",
   "execution_count": null,
   "id": "5f9ae7b3-be8d-4a9b-933f-a28a4f0c4e56",
   "metadata": {},
   "outputs": [],
   "source": []
  },
  {
   "cell_type": "code",
   "execution_count": null,
   "id": "fda352b6-928b-4de0-b846-93effa735e5c",
   "metadata": {},
   "outputs": [],
   "source": []
  },
  {
   "cell_type": "code",
   "execution_count": null,
   "id": "5e62ee70-ec71-4cf0-91a7-55a1d18b87dc",
   "metadata": {},
   "outputs": [],
   "source": []
  },
  {
   "cell_type": "code",
   "execution_count": null,
   "id": "c39e381b-0249-4f3d-911a-56d99f44817d",
   "metadata": {},
   "outputs": [],
   "source": []
  },
  {
   "cell_type": "code",
   "execution_count": null,
   "id": "36c72530-d728-4f7e-8c38-aed5e19c3914",
   "metadata": {},
   "outputs": [],
   "source": []
  },
  {
   "cell_type": "code",
   "execution_count": null,
   "id": "442322b8-acdf-49d4-98b6-953997a7c1fc",
   "metadata": {},
   "outputs": [],
   "source": []
  },
  {
   "cell_type": "code",
   "execution_count": null,
   "id": "73150d90-ea95-4b33-a8c2-f51705d90772",
   "metadata": {},
   "outputs": [],
   "source": []
  },
  {
   "cell_type": "code",
   "execution_count": null,
   "id": "aa139719-d199-4e02-a4fd-1ea4107616a8",
   "metadata": {},
   "outputs": [],
   "source": []
  },
  {
   "cell_type": "code",
   "execution_count": null,
   "id": "8e5469eb-e6e0-4e89-9b8a-0dd2443f798d",
   "metadata": {},
   "outputs": [],
   "source": []
  }
 ],
 "metadata": {
  "kernelspec": {
   "display_name": "Python 3 (ipykernel)",
   "language": "python",
   "name": "python3"
  },
  "language_info": {
   "codemirror_mode": {
    "name": "ipython",
    "version": 3
   },
   "file_extension": ".py",
   "mimetype": "text/x-python",
   "name": "python",
   "nbconvert_exporter": "python",
   "pygments_lexer": "ipython3",
   "version": "3.10.6"
  },
  "widgets": {
   "application/vnd.jupyter.widget-state+json": {
    "state": {},
    "version_major": 2,
    "version_minor": 0
   }
  }
 },
 "nbformat": 4,
 "nbformat_minor": 5
}
