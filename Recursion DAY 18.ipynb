{
 "cells": [
  {
   "cell_type": "code",
   "execution_count": 6,
   "id": "1d0732a8-d162-4312-99a4-7b3f51c83740",
   "metadata": {},
   "outputs": [
    {
     "name": "stdout",
     "output_type": "stream",
     "text": [
      "bcd\n"
     ]
    }
   ],
   "source": [
    "#string recursion\n",
    "def Strre(s ,t, idx):\n",
    "    if idx == len(s):\n",
    "        return ''\n",
    "    str=Strre(s ,t, idx+1)\n",
    "    str1=s[idx]\n",
    "    if(str1 != t):\n",
    "        return str1 + str\n",
    "    else:\n",
    "        return str\n",
    "st='abcd'\n",
    "print(Strre(st , 'a' , 0))\n",
    "        "
   ]
  },
  {
   "cell_type": "code",
   "execution_count": 8,
   "id": "8e249646-85de-467d-bef4-393510bcd76d",
   "metadata": {},
   "outputs": [
    {
     "name": "stdout",
     "output_type": "stream",
     "text": [
      "bcd\n"
     ]
    }
   ],
   "source": [
    "def Strre(s ,t):\n",
    "    if not s:\n",
    "        return ''\n",
    "    str=s[0]\n",
    "   \n",
    "    if str != t:\n",
    "         return str + Strre(s[1:] , t)\n",
    "    else:\n",
    "         return Strre(s[1:] , t)\n",
    "st='abcd'\n",
    "print(Strre(st , 'a'))"
   ]
  },
  {
   "cell_type": "code",
   "execution_count": 10,
   "id": "4bda0d8a-a54a-437e-9813-976118c570ac",
   "metadata": {},
   "outputs": [
    {
     "name": "stdout",
     "output_type": "stream",
     "text": [
      "dcba"
     ]
    }
   ],
   "source": [
    "def Reverse(str  , idx):\n",
    "    if idx == len(str):\n",
    "        return ''\n",
    "    Reverse(str , idx+1)\n",
    "    print(str[idx] , end='')\n",
    "st='abcd'\n",
    "Reverse(st , 0)"
   ]
  },
  {
   "cell_type": "code",
   "execution_count": 18,
   "id": "8d25d1f3-0af0-403e-b094-40ea5a5bc30b",
   "metadata": {},
   "outputs": [
    {
     "name": "stdout",
     "output_type": "stream",
     "text": [
      "dcba\n"
     ]
    }
   ],
   "source": [
    "def Reverse(str  , idx):\n",
    "    if idx == len(str):\n",
    "        return ''\n",
    "    st=Reverse(str , idx+1)\n",
    "    return st + str[idx]\n",
    "st='abcd'\n",
    "print(Reverse(st , 0))"
   ]
  },
  {
   "cell_type": "code",
   "execution_count": 27,
   "id": "144eae7a-9444-4679-a761-f5f70264410e",
   "metadata": {},
   "outputs": [
    {
     "ename": "SyntaxError",
     "evalue": "expected ':' (2795147273.py, line 5)",
     "output_type": "error",
     "traceback": [
      "\u001b[1;36m  Cell \u001b[1;32mIn[27], line 5\u001b[1;36m\u001b[0m\n\u001b[1;33m    if str1\u001b[0m\n\u001b[1;37m            ^\u001b[0m\n\u001b[1;31mSyntaxError\u001b[0m\u001b[1;31m:\u001b[0m expected ':'\n"
     ]
    }
   ],
   "source": [
    "def palindrom(str , idx):\n",
    "    if idx == len[end]:\n",
    "        return \n",
    "    str1=palindrom(str , idx+1)\n",
    "     "
   ]
  },
  {
   "cell_type": "code",
   "execution_count": 32,
   "id": "a8525997-6f4d-495e-8a5f-245b98aa6533",
   "metadata": {},
   "outputs": [
    {
     "name": "stdout",
     "output_type": "stream",
     "text": [
      "not palindrom\n",
      "not palindrom\n"
     ]
    }
   ],
   "source": [
    "str='abad'\n",
    "end=len(str)-1\n",
    "count=0\n",
    "for i in str:\n",
    "    if i != str[end]:\n",
    "        count +=1\n",
    "    end -=1\n",
    "if count == 0:\n",
    "    print('palindrom ')\n",
    "else:\n",
    "    print('not palindrom')\n",
    "cnt=0\n",
    "for i in range(len(str) // 2):\n",
    "    if str[i] != str[len(str)-1-i]:\n",
    "        cnt +=1\n",
    "\n",
    "if(cnt == 0):\n",
    "    print('palindrom ')\n",
    "else:\n",
    "    print('not palindrom')\n",
    "        \n",
    "        \n",
    "        \n",
    "        "
   ]
  },
  {
   "cell_type": "code",
   "execution_count": 24,
   "id": "faaf13b8-03b4-4c33-b7c6-a81ea01529ec",
   "metadata": {},
   "outputs": [
    {
     "name": "stdout",
     "output_type": "stream",
     "text": [
      "palindrom\n"
     ]
    }
   ],
   "source": [
    "str='aba'\n",
    "newstr=str[::-1]\n",
    "if str == newstr:\n",
    "    print('palindrom')\n",
    "else:\n",
    "    print('not palindrom')"
   ]
  },
  {
   "cell_type": "code",
   "execution_count": null,
   "id": "2f2d1247-df5c-485d-b4c0-fcaebf4218c2",
   "metadata": {},
   "outputs": [],
   "source": []
  }
 ],
 "metadata": {
  "kernelspec": {
   "display_name": "Python 3 (ipykernel)",
   "language": "python",
   "name": "python3"
  },
  "language_info": {
   "codemirror_mode": {
    "name": "ipython",
    "version": 3
   },
   "file_extension": ".py",
   "mimetype": "text/x-python",
   "name": "python",
   "nbconvert_exporter": "python",
   "pygments_lexer": "ipython3",
   "version": "3.11.2"
  },
  "widgets": {
   "application/vnd.jupyter.widget-state+json": {
    "state": {},
    "version_major": 2,
    "version_minor": 0
   }
  }
 },
 "nbformat": 4,
 "nbformat_minor": 5
}
