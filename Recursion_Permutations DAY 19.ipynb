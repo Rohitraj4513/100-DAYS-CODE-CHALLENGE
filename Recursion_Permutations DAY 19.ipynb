{
 "cells": [
  {
   "cell_type": "code",
   "execution_count": 9,
   "id": "a931f940-c320-4dd0-ac51-55aafc909e71",
   "metadata": {},
   "outputs": [
    {
     "name": "stdout",
     "output_type": "stream",
     "text": [
      "['', 'a', 'b', 'ab', 'c', 'ac', 'bc', 'abc', 'd', 'ad', 'bd', 'abd', 'cd', 'acd', 'bcd', 'abcd', 'e', 'ae', 'be', 'abe', 'ce', 'ace', 'bce', 'abce', 'de', 'ade', 'bde', 'abde', 'cde', 'acde', 'bcde', 'abcde']\n",
      "32\n"
     ]
    }
   ],
   "source": [
    "#using recursion to generate all subsequences of a given string and return them as a list:\n",
    "def substr(str):\n",
    "    if len(str) == 0:\n",
    "        return ['']\n",
    "    curre=str[0]\n",
    "    lst1=substr(str[1:])\n",
    "    lst2=[]\n",
    "    for i in lst1:\n",
    "        lst2.append(i)\n",
    "        lst2.append(curre+i)\n",
    "    return lst2\n",
    "result=substr('abcde')\n",
    "print(result)\n",
    "print(len(result))"
   ]
  },
  {
   "cell_type": "code",
   "execution_count": 11,
   "id": "ebe67096-2453-498e-ad9d-61569766765d",
   "metadata": {},
   "outputs": [
    {
     "name": "stdout",
     "output_type": "stream",
     "text": [
      "['abc', 'acb', 'bac', 'bca', 'cab', 'cba']\n"
     ]
    }
   ],
   "source": [
    "import itertools as it\n",
    "def per(s):\n",
    "    return [''.join(i) for i in it.permutations(s) ]\n",
    "print(per('abc'))"
   ]
  },
  {
   "cell_type": "code",
   "execution_count": 12,
   "id": "6c987650-f704-4847-b56b-7449ae0563d9",
   "metadata": {},
   "outputs": [
    {
     "name": "stdout",
     "output_type": "stream",
     "text": [
      "['abc', 'acb', 'bac', 'bca', 'cba', 'cab']\n"
     ]
    }
   ],
   "source": []
  },
  {
   "cell_type": "code",
   "execution_count": null,
   "id": "6da853f5-79d3-4de6-bdfc-8fed5b61909d",
   "metadata": {},
   "outputs": [],
   "source": []
  },
  {
   "cell_type": "code",
   "execution_count": null,
   "id": "cedc8db8-5c0b-4a21-bddf-67bf06b8716a",
   "metadata": {},
   "outputs": [],
   "source": []
  },
  {
   "cell_type": "code",
   "execution_count": null,
   "id": "78ad22e1-e1d4-475c-8bca-13c0a66ed99f",
   "metadata": {},
   "outputs": [],
   "source": []
  },
  {
   "cell_type": "code",
   "execution_count": null,
   "id": "1dff6eed-1484-4227-b80a-662e1b5c4990",
   "metadata": {},
   "outputs": [],
   "source": []
  }
 ],
 "metadata": {
  "kernelspec": {
   "display_name": "Python 3 (ipykernel)",
   "language": "python",
   "name": "python3"
  },
  "language_info": {
   "codemirror_mode": {
    "name": "ipython",
    "version": 3
   },
   "file_extension": ".py",
   "mimetype": "text/x-python",
   "name": "python",
   "nbconvert_exporter": "python",
   "pygments_lexer": "ipython3",
   "version": "3.11.2"
  },
  "widgets": {
   "application/vnd.jupyter.widget-state+json": {
    "state": {},
    "version_major": 2,
    "version_minor": 0
   }
  }
 },
 "nbformat": 4,
 "nbformat_minor": 5
}
