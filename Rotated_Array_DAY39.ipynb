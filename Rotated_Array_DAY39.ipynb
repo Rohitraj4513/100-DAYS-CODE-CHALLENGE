{
 "cells": [
  {
   "cell_type": "code",
   "execution_count": 1,
   "id": "d5a01e1d-b4d5-46fc-b43b-e7c85f11f5a3",
   "metadata": {},
   "outputs": [],
   "source": [
    "def minimum(arr):\n",
    "    ans=arr[0]\n",
    "    for i in arr:\n",
    "        if i < ans:\n",
    "            ans=i\n",
    "    return ans"
   ]
  },
  {
   "cell_type": "code",
   "execution_count": 4,
   "id": "793ef46f-507d-4525-96c1-f995664437a5",
   "metadata": {},
   "outputs": [
    {
     "name": "stdout",
     "output_type": "stream",
     "text": [
      "-8\n"
     ]
    }
   ],
   "source": [
    "arr=[4 , 5 ,6 , 7 , -8 ,1 , 2]\n",
    "print(minimum(arr))"
   ]
  },
  {
   "cell_type": "code",
   "execution_count": 22,
   "id": "c0bbdcf9-31a0-4117-b09d-f12a8e595c40",
   "metadata": {},
   "outputs": [],
   "source": [
    "def minumum_value(arr):\n",
    "    low , high = 0 , len(arr)-1\n",
    "    ans=max(arr)\n",
    "    while(low <= high):\n",
    "        mid=(low + high) // 2\n",
    "        if arr[low] <= arr[mid]:\n",
    "            if ans > arr[low]:\n",
    "                ans=arr[low]\n",
    "            low=mid+1\n",
    "        else:\n",
    "            if ans > arr[mid]:\n",
    "                ans=arr[mid]\n",
    "            high=mid-1\n",
    "\n",
    "    return ans"
   ]
  },
  {
   "cell_type": "code",
   "execution_count": 26,
   "id": "bc87180f-b1e2-4882-9c21-e64c9c8756da",
   "metadata": {},
   "outputs": [
    {
     "name": "stdout",
     "output_type": "stream",
     "text": [
      "Array: [4, 5, 6, 7, 0, 1, 2] -> Minimum: 0\n",
      "Array: [3, 4, 5, 1, 2] -> Minimum: 1\n",
      "Array: [11, 13, 15, 17] -> Minimum: 11\n",
      "Array: [2, 1] -> Minimum: 1\n",
      "Array: [1, 2] -> Minimum: 1\n",
      "Array: [5] -> Minimum: 5\n",
      "Array: [2, 2, 2, 2, 1, 2] -> Minimum: 1\n",
      "Array: [10, 10, 10, 1, 10] -> Minimum: 1\n",
      "Array: [1, 1, 1, 1, 1] -> Minimum: 1\n",
      "Array: [7, 8, 9, 1, 2, 3, 4, 5, 6] -> Minimum: 1\n",
      "Array: [4, 5, 6, 7, 8, 9, 1, 2, 3] -> Minimum: 1\n"
     ]
    }
   ],
   "source": [
    "test_cases = [\n",
    "    [4, 5, 6, 7, 0, 1, 2],  # 🔹 Normal rotated array\n",
    "    [3, 4, 5, 1, 2],         # 🔹 Small rotated array\n",
    "    [11, 13, 15, 17],        # 🔹 Sorted array (no rotation)\n",
    "    [2, 1],                  # 🔹 Minimum at the last position (edge case)\n",
    "    [1, 2],                  # 🔹 Already sorted (minimum is first element)\n",
    "    [5],                     # 🔹 Single-element array\n",
    "    [2, 2, 2, 2, 1, 2],      # 🔹 Duplicate elements with rotation\n",
    "    [10, 10, 10, 1, 10],     # 🔹 Duplicate elements with min somewhere in between\n",
    "    [1, 1, 1, 1, 1],         # 🔹 All elements are the same\n",
    "    [7, 8, 9, 1, 2, 3, 4, 5, 6],  # 🔹 Larger rotated array\n",
    "    [4, 5, 6, 7, 8, 9, 1, 2, 3],  # 🔹 Minimum in the middle\n",
    "]\n",
    "\n",
    "for arr in test_cases:\n",
    "    print(f\"Array: {arr} -> Minimum: {minumum_value(arr)}\")"
   ]
  },
  {
   "cell_type": "code",
   "execution_count": 35,
   "id": "497eb301-d87b-402c-a23f-d758e0b1434c",
   "metadata": {},
   "outputs": [],
   "source": [
    "def minimum_value(arr):\n",
    "    low , high= 0 , len(arr)-1\n",
    "    while(low < high):\n",
    "        mid= (low + high)// 2\n",
    "        if arr[mid] > arr[high]:\n",
    "            low=mid+1\n",
    "        else:\n",
    "            high=mid\n",
    "    return arr[low]"
   ]
  },
  {
   "cell_type": "code",
   "execution_count": 36,
   "id": "7d080866-9984-41f6-92d1-e27a0e8d1bf1",
   "metadata": {},
   "outputs": [
    {
     "name": "stdout",
     "output_type": "stream",
     "text": [
      "Array: [4, 5, 6, 7, 0, 1, 2] -> Minimum: 0\n",
      "Array: [3, 4, 5, 1, 2] -> Minimum: 1\n",
      "Array: [11, 13, 15, 17] -> Minimum: 11\n",
      "Array: [2, 1] -> Minimum: 1\n",
      "Array: [1, 2] -> Minimum: 1\n",
      "Array: [5] -> Minimum: 5\n",
      "Array: [2, 2, 2, 2, 1, 2] -> Minimum: 2\n",
      "Array: [10, 10, 10, 1, 10] -> Minimum: 10\n",
      "Array: [1, 1, 1, 1, 1] -> Minimum: 1\n",
      "Array: [7, 8, 9, 1, 2, 3, 4, 5, 6] -> Minimum: 1\n",
      "Array: [4, 5, 6, 7, 8, 9, 1, 2, 3] -> Minimum: 1\n"
     ]
    }
   ],
   "source": [
    "test_cases = [\n",
    "    [4, 5, 6, 7, 0, 1, 2],  # 🔹 Normal rotated array\n",
    "    [3, 4, 5, 1, 2],         # 🔹 Small rotated array\n",
    "    [11, 13, 15, 17],        # 🔹 Sorted array (no rotation)\n",
    "    [2, 1],                  # 🔹 Minimum at the last position (edge case)\n",
    "    [1, 2],                  # 🔹 Already sorted (minimum is first element)\n",
    "    [5],                     # 🔹 Single-element array\n",
    "    [2, 2, 2, 2, 1, 2],      # 🔹 Duplicate elements with rotation\n",
    "    [10, 10, 10, 1, 10],     # 🔹 Duplicate elements with min somewhere in between\n",
    "    [1, 1, 1, 1, 1],         # 🔹 All elements are the same\n",
    "    [7, 8, 9, 1, 2, 3, 4, 5, 6],  # 🔹 Larger rotated array\n",
    "    [4, 5, 6, 7, 8, 9, 1, 2, 3],  # 🔹 Minimum in the middle\n",
    "] \n",
    "\n",
    "for arr in test_cases:\n",
    "    print(f\"Array: {arr} -> Minimum: {minimum_value(arr)}\")"
   ]
  },
  {
   "cell_type": "markdown",
   "id": "5474d2f0-1c29-4bb3-a38a-15245fad27c7",
   "metadata": {},
   "source": [
    "rr[low]\r\n"
   ]
  },
  {
   "cell_type": "code",
   "execution_count": 47,
   "id": "af9959b0-bc69-4659-a002-1723ba104747",
   "metadata": {},
   "outputs": [],
   "source": [
    "def rotate(arr):\n",
    "    low , high = 0  , len(arr)-1\n",
    "    while low < high:\n",
    "        mid= (low + high)//2 \n",
    "        if arr[mid] > arr[high]:\n",
    "            low=mid+1\n",
    "        elif arr[mid] < arr[high]:\n",
    "            high=mid\n",
    "        else:\n",
    "            high -=1\n",
    "    return low\n",
    "    "
   ]
  },
  {
   "cell_type": "code",
   "execution_count": 48,
   "id": "cce99b5e-6c5c-4100-bbee-105472e66aac",
   "metadata": {},
   "outputs": [
    {
     "name": "stdout",
     "output_type": "stream",
     "text": [
      "Array: [4, 5, 6, 7, 0, 1, 2] -> Minimum: 4\n",
      "Array: [3, 4, 5, 1, 2] -> Minimum: 3\n",
      "Array: [11, 13, 15, 17] -> Minimum: 0\n",
      "Array: [2, 1] -> Minimum: 1\n",
      "Array: [1, 2] -> Minimum: 0\n",
      "Array: [5] -> Minimum: 0\n",
      "Array: [2, 2, 2, 2, 1, 2] -> Minimum: 4\n",
      "Array: [10, 10, 10, 1, 10] -> Minimum: 3\n",
      "Array: [1, 1, 1, 1, 1] -> Minimum: 0\n",
      "Array: [7, 8, 9, 1, 2, 3, 4, 5, 6] -> Minimum: 3\n",
      "Array: [4, 5, 6, 7, 8, 9, 1, 2, 3] -> Minimum: 6\n"
     ]
    }
   ],
   "source": [
    "test_cases = [\n",
    "    [4, 5, 6, 7, 0, 1, 2],  # 🔹 Normal rotated array\n",
    "    [3, 4, 5, 1, 2],         # 🔹 Small rotated array\n",
    "    [11, 13, 15, 17],        # 🔹 Sorted array (no rotation)\n",
    "    [2, 1],                  # 🔹 Minimum at the last position (edge case)\n",
    "    [1, 2],                  # 🔹 Already sorted (minimum is first element)\n",
    "    [5],                     # 🔹 Single-element array\n",
    "    [2, 2, 2, 2, 1, 2],      # 🔹 Duplicate elements with rotation\n",
    "    [10, 10, 10, 1, 10],     # 🔹 Duplicate elements with min somewhere in between\n",
    "    [1, 1, 1, 1, 1],         # 🔹 All elements are the same\n",
    "    [7, 8, 9, 1, 2, 3, 4, 5, 6],  # 🔹 Larger rotated array\n",
    "    [4, 5, 6, 7, 8, 9, 1, 2, 3],  # 🔹 Minimum in the middle\n",
    "] \n",
    "\n",
    "for arr in test_cases:\n",
    "    print(f\"Array: {arr} -> Minimum: {rotate(arr)}\")"
   ]
  },
  {
   "cell_type": "code",
   "execution_count": 45,
   "id": "d2183bd1-9ca8-42a3-855d-103eaf032813",
   "metadata": {},
   "outputs": [],
   "source": [
    "def rotated(arr):\n",
    "    low , high = 0 , len(arr)-1\n",
    "    ans=max(arr)\n",
    "    result=0\n",
    "    while(low <= high):\n",
    "        mid=(low + high)//2\n",
    "        if arr[low] <= arr[mid]:\n",
    "            if ans > arr[low]:\n",
    "                ans=arr[low]\n",
    "                result=low\n",
    "            low=mid+1\n",
    "        else:\n",
    "            if ans > arr[mid]:\n",
    "                ans=arr[mid]\n",
    "                result=mid\n",
    "            high=mid-1\n",
    "    return result\n",
    "        "
   ]
  },
  {
   "cell_type": "code",
   "execution_count": 46,
   "id": "84728478-a644-452f-b789-85eb78ecf7b5",
   "metadata": {},
   "outputs": [
    {
     "name": "stdout",
     "output_type": "stream",
     "text": [
      "Array: [4, 5, 6, 7, 0, 1, 2] -> Minimum: 4\n",
      "Array: [3, 4, 5, 1, 2] -> Minimum: 3\n",
      "Array: [11, 13, 15, 17] -> Minimum: 0\n",
      "Array: [2, 1] -> Minimum: 1\n",
      "Array: [1, 2] -> Minimum: 0\n",
      "Array: [5] -> Minimum: 0\n",
      "Array: [2, 2, 2, 2, 1, 2] -> Minimum: 4\n",
      "Array: [10, 10, 10, 1, 10] -> Minimum: 3\n",
      "Array: [1, 1, 1, 1, 1] -> Minimum: 0\n",
      "Array: [7, 8, 9, 1, 2, 3, 4, 5, 6] -> Minimum: 3\n",
      "Array: [4, 5, 6, 7, 8, 9, 1, 2, 3] -> Minimum: 6\n"
     ]
    }
   ],
   "source": [
    "test_cases = [\n",
    "    [4, 5, 6, 7, 0, 1, 2],  # 🔹 Normal rotated array\n",
    "    [3, 4, 5, 1, 2],         # 🔹 Small rotated array\n",
    "    [11, 13, 15, 17],        # 🔹 Sorted array (no rotation)\n",
    "    [2, 1],                  # 🔹 Minimum at the last position (edge case)\n",
    "    [1, 2],                  # 🔹 Already sorted (minimum is first element)\n",
    "    [5],                     # 🔹 Single-element array\n",
    "    [2, 2, 2, 2, 1, 2],      # 🔹 Duplicate elements with rotation\n",
    "    [10, 10, 10, 1, 10],     # 🔹 Duplicate elements with min somewhere in between\n",
    "    [1, 1, 1, 1, 1],         # 🔹 All elements are the same\n",
    "    [7, 8, 9, 1, 2, 3, 4, 5, 6],  # 🔹 Larger rotated array\n",
    "    [4, 5, 6, 7, 8, 9, 1, 2, 3],  # 🔹 Minimum in the middle\n",
    "] \n",
    "\n",
    "for arr in test_cases:\n",
    "    print(f\"Array: {arr} -> Minimum: {rotated(arr)}\")"
   ]
  },
  {
   "cell_type": "code",
   "execution_count": 54,
   "id": "bae9a772-3a2d-4aef-93c1-7621bc58e4b0",
   "metadata": {},
   "outputs": [
    {
     "name": "stdout",
     "output_type": "stream",
     "text": [
      "4\n"
     ]
    }
   ],
   "source": [
    "def Non_repiting(arr):\n",
    "    ans=-1\n",
    "    count=0\n",
    "    for i in range(len(arr)-1):\n",
    "        count =0\n",
    "        for j in range(len(arr)-1):\n",
    "            if arr[i] == arr[j] and i != j:\n",
    "                count +=1\n",
    "                break\n",
    "        if count != 1:\n",
    "            return arr[i]\n",
    "\n",
    "arr=[1 , 1 , 2 , 2 , 3, 3, 4 , 5 , 5 , 6, 6]\n",
    "print(Non_repiting(arr))\n",
    "            "
   ]
  },
  {
   "cell_type": "code",
   "execution_count": 66,
   "id": "8d3c9428-74c5-4d6c-b358-1e92579e1c76",
   "metadata": {},
   "outputs": [
    {
     "name": "stdout",
     "output_type": "stream",
     "text": [
      "7\n"
     ]
    }
   ],
   "source": [
    "def Non_repiting(arr):\n",
    "    m=max(arr)\n",
    "    newa=[0] * (m+1)\n",
    "    for i in arr:\n",
    "        newa[i] +=1\n",
    "    for i in range(len(newa)):\n",
    "        if newa[i] == 1:\n",
    "            return i\n",
    "arr=[1 , 1 , 2 , 2 , 3, 3, 3, 4 , 4 , 7 , 5 , 5 , 6, 6]\n",
    "print(Non_repiting(arr)) "
   ]
  },
  {
   "cell_type": "code",
   "execution_count": 71,
   "id": "3ce2094c-8d9f-4834-b4b9-307846b477f7",
   "metadata": {},
   "outputs": [],
   "source": [
    "def Non_ro(arr):\n",
    "    n=len(arr)-1\n",
    "    for i in range(n):\n",
    "        if i == 0:\n",
    "           if arr[i] != arr[i+1]:\n",
    "               return arr[i]\n",
    "        elif(i == n-1):\n",
    "            if arr[i] != arr[i-1]:\n",
    "                return arr[i]\n",
    "        else:\n",
    "            if arr[i] != arr[i-1] and arr[i] != arr[i+1]:\n",
    "                return arr[i]"
   ]
  },
  {
   "cell_type": "code",
   "execution_count": 72,
   "id": "71d692d2-8c87-4134-91c6-086c09c919c0",
   "metadata": {},
   "outputs": [
    {
     "name": "stdout",
     "output_type": "stream",
     "text": [
      "7\n"
     ]
    }
   ],
   "source": [
    "arr=[1 , 1 , 2 , 2 , 3, 3, 3, 4 , 4 , 7 , 5 , 5 , 6, 6]\n",
    "print(Non_ro(arr)) "
   ]
  },
  {
   "cell_type": "code",
   "execution_count": 73,
   "id": "611ccbf5-2a7d-4804-80f2-57b9eb8d3110",
   "metadata": {},
   "outputs": [],
   "source": [
    "def find_elemt(arr):\n",
    "    n=len(arr)\n",
    "    if n == 1 :\n",
    "        return arr[0]\n",
    "    low , high = 0 , n-1\n",
    "    if arr[0] != arr[1] :\n",
    "        return arr[1]\n",
    "    if arr[n-1] != arr[n-2]:\n",
    "        return arr[n-1]\n",
    "    low , high = 1 , n-2\n",
    "    while low <= high:\n",
    "        mid= (low + high)//2\n",
    "        if arr[mid] != arr[mid+1] and arr[mid] != arr[mid-1]:\n",
    "            return arr[mid]\n",
    "        if mid % 2 == 1 and arr[mid] == arr[mid-1] or (mid % 2==0 and arr[mid] == arr[mid+1]):\n",
    "            low=mid+1\n",
    "        else:\n",
    "            high=mid-1\n",
    "    return -1\n",
    "    "
   ]
  },
  {
   "cell_type": "code",
   "execution_count": 75,
   "id": "1de4e00f-a421-4275-96da-c3e442a6a161",
   "metadata": {},
   "outputs": [
    {
     "name": "stdout",
     "output_type": "stream",
     "text": [
      "5\n"
     ]
    }
   ],
   "source": [
    "arr=[1 , 1 , 2 , 2 , 3, 3, 4  , 4  , 5 , 6, 6]\n",
    "print(find_elemt(arr)) "
   ]
  },
  {
   "cell_type": "code",
   "execution_count": null,
   "id": "89459b2e-350a-4970-b283-3b2ac250ffa2",
   "metadata": {},
   "outputs": [],
   "source": []
  },
  {
   "cell_type": "code",
   "execution_count": null,
   "id": "06729384-d658-40ed-973b-940869033fb6",
   "metadata": {},
   "outputs": [],
   "source": []
  },
  {
   "cell_type": "code",
   "execution_count": null,
   "id": "beec71e2-798e-4689-b1a5-cdb1fdf53928",
   "metadata": {},
   "outputs": [],
   "source": []
  },
  {
   "cell_type": "code",
   "execution_count": null,
   "id": "30e3a112-3ca1-4a8c-84d2-eaa244d32f16",
   "metadata": {},
   "outputs": [],
   "source": []
  },
  {
   "cell_type": "code",
   "execution_count": null,
   "id": "9e0ed0f5-a24c-4e73-9b2a-0ed8a8c98769",
   "metadata": {},
   "outputs": [],
   "source": []
  }
 ],
 "metadata": {
  "kernelspec": {
   "display_name": "Python 3 (ipykernel)",
   "language": "python",
   "name": "python3"
  },
  "language_info": {
   "codemirror_mode": {
    "name": "ipython",
    "version": 3
   },
   "file_extension": ".py",
   "mimetype": "text/x-python",
   "name": "python",
   "nbconvert_exporter": "python",
   "pygments_lexer": "ipython3",
   "version": "3.11.2"
  },
  "widgets": {
   "application/vnd.jupyter.widget-state+json": {
    "state": {},
    "version_major": 2,
    "version_minor": 0
   }
  }
 },
 "nbformat": 4,
 "nbformat_minor": 5
}
