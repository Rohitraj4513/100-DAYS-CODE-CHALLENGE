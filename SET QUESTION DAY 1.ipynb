{
 "cells": [
  {
   "cell_type": "code",
   "execution_count": 57,
   "id": "44f297c1-130d-49c3-8b25-c249eb5dd501",
   "metadata": {},
   "outputs": [
    {
     "name": "stdout",
     "output_type": "stream",
     "text": [
      "<class 'set'>\n",
      "<class 'set'> {1, 2, 3, 4, 5}\n",
      "{1, 2, 3, 4, 5, 6}\n",
      "{1, 2, 4, 5, 6}\n",
      "True\n"
     ]
    }
   ],
   "source": [
    "#Create a empty set\n",
    "sett=set()\n",
    "print(type(sett))\n",
    "#Create a set with the numbers 1 to 5.\n",
    "set_val = { 1, 2, 3, 4, 5}\n",
    "print(type(set_val) , set_val)\n",
    "#Add the number 6 to a set.\n",
    "set_val = { 1, 2, 3, 4, 5}\n",
    "set_val.add(6)\n",
    "print(set_val)\n",
    "#Remove the number 3 from a set.\n",
    "set_val.remove(3)\n",
    "print(set_val)\n",
    "#Check if the number 2 exists in a set.\n",
    "print( 2 in set_val)\n",
    "\n"
   ]
  },
  {
   "cell_type": "code",
   "execution_count": 20,
   "id": "3893e1cb-3c86-4162-b3f7-fbb3aa55185f",
   "metadata": {},
   "outputs": [
    {
     "name": "stdout",
     "output_type": "stream",
     "text": [
      "union={1, 2, 3, 4, 5, 6}\n",
      "intersection={3, 4}\n"
     ]
    }
   ],
   "source": [
    "#Find the union and intersection  of two sets: {1, 2, 3, 4} and {3, 4, 5, 6}.\n",
    "set1={1, 2, 3, 4}\n",
    "set2={3, 4, 5, 6}\n",
    "set3=set1.union(set2)\n",
    "set4=set2.union(set1)\n",
    "set5=set1.intersection(set2)\n",
    "print(f\"union={set3}\")\n",
    "print(f\"intersection={set5}\")\n"
   ]
  },
  {
   "cell_type": "code",
   "execution_count": 24,
   "id": "513c48e0-7c5f-4e04-989b-b2c52e145ecc",
   "metadata": {},
   "outputs": [
    {
     "name": "stdout",
     "output_type": "stream",
     "text": [
      "True\n",
      "True\n"
     ]
    }
   ],
   "source": [
    "#Check if {3, 4} is a subset of {1, 2, 3, 4}.  \n",
    "s1={1, 2, 3, 4}\n",
    "s2={3, 4}\n",
    "s3=s2.issubset(s1)\n",
    "print(s3)\n",
    "#Check if {1, 2, 3, 4} is a superset of {3, 4}.\n",
    "s4=s1.issuperset(s2)\n",
    "print(s4)"
   ]
  },
  {
   "cell_type": "code",
   "execution_count": 27,
   "id": "a711e511-6327-43ca-aa6b-6467443e82c9",
   "metadata": {},
   "outputs": [
    {
     "name": "stdout",
     "output_type": "stream",
     "text": [
      "{5, 6}\n",
      "{1, 2, 5, 6}\n"
     ]
    }
   ],
   "source": [
    "#Find the difference between two sets: {1, 2, 3, 4} and {3, 4, 5, 6}.  \n",
    "se1={1, 2, 3, 4}\n",
    "se2={3, 4, 5, 6}\n",
    "se3=se2.difference(se1)\n",
    "print(se3)\n",
    "#Find the symmetric difference between two sets: {1, 2, 3, 4} and {3, 4, 5, 6}.\n",
    "se4=se1.symmetric_difference(se2)\n",
    "print(se4)"
   ]
  },
  {
   "cell_type": "code",
   "execution_count": 31,
   "id": "eaed2fbd-55b9-4733-b59d-8b3d792af31a",
   "metadata": {},
   "outputs": [
    {
     "name": "stdout",
     "output_type": "stream",
     "text": [
      "[1, 2, 3, 4, 5, 2, 7, 8, 9, 10, 1, 8]\n",
      "<class 'set'> \n",
      " {1, 2, 3, 4, 5, 7, 8, 9, 10}\n"
     ]
    }
   ],
   "source": [
    "#Write a program to remove duplicate elements from a list using a set.\n",
    "lis=[1 , 2, 3 , 4 , 5 , 2 ,7 , 8 , 9 ,10, 1, 8]\n",
    "print(lis)\n",
    "se5=set(lis)\n",
    "print(type(se5) ,'\\n', se5)"
   ]
  },
  {
   "cell_type": "code",
   "execution_count": 55,
   "id": "42380927-32f4-41e0-8677-c58779fd75bd",
   "metadata": {},
   "outputs": [
    {
     "name": "stdout",
     "output_type": "stream",
     "text": [
      "Write', 'aprogram','tofind allthe', 'vowels', 'instring', 'usingset'\n",
      "{'e', 'o', 'i', 'a'}\n"
     ]
    }
   ],
   "source": [
    "#Write a program to find all the vowels in a string using a set.\n",
    "char2=\"Write', 'aprogram','tofind allthe', 'vowels', 'instring', 'usingset'\"\n",
    "st2=set(char2)\n",
    "vo={'a' , 'e', 'i','o','o'}\n",
    "char4=st2.intersection(vo)\n",
    "print(char4)\n"
   ]
  }
 ],
 "metadata": {
  "kernelspec": {
   "display_name": "Python 3 (ipykernel)",
   "language": "python",
   "name": "python3"
  },
  "language_info": {
   "codemirror_mode": {
    "name": "ipython",
    "version": 3
   },
   "file_extension": ".py",
   "mimetype": "text/x-python",
   "name": "python",
   "nbconvert_exporter": "python",
   "pygments_lexer": "ipython3",
   "version": "3.11.2"
  }
 },
 "nbformat": 4,
 "nbformat_minor": 5
}
