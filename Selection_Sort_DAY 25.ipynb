{
 "cells": [
  {
   "cell_type": "code",
   "execution_count": 4,
   "id": "a24e1f91-8dd2-4b53-9047-5c8e3a28c1a1",
   "metadata": {},
   "outputs": [
    {
     "name": "stdout",
     "output_type": "stream",
     "text": [
      "[9 5 3 1]\n"
     ]
    }
   ],
   "source": [
    "#Selection sort\n",
    "import numpy as np\n",
    "def Selection(arr):\n",
    "    n=len(arr)\n",
    "    for i in range(n):\n",
    "        j=i\n",
    "        while(j >0 and arr[j] > arr[j-1]):\n",
    "            arr[j] , arr[j-1] = arr[j-1] , arr[j]\n",
    "            j -=1\n",
    "\n",
    "arr=np.array([5 , 3, 9 , 1 ])\n",
    "Selection(arr)\n",
    "print(arr)"
   ]
  },
  {
   "cell_type": "code",
   "execution_count": 5,
   "id": "a265727b-d4dc-4ac8-93d9-bacce93a9fdc",
   "metadata": {},
   "outputs": [
    {
     "name": "stdout",
     "output_type": "stream",
     "text": [
      "[1 3 5 9]\n"
     ]
    }
   ],
   "source": [
    "#Selection sort\n",
    "import numpy as np\n",
    "def Selection(arr):\n",
    "    n=len(arr)\n",
    "    for i in range(n):\n",
    "        j=i\n",
    "        while(j >0 and arr[j] < arr[j-1]):\n",
    "            arr[j] , arr[j-1] = arr[j-1] , arr[j]\n",
    "            j -=1\n",
    "\n",
    "arr=np.array([5 , 3, 9 , 1 ])\n",
    "Selection(arr)\n",
    "print(arr)"
   ]
  },
  {
   "cell_type": "code",
   "execution_count": null,
   "id": "f7b2ccf5-8c6e-42d2-9322-eec10012e4b7",
   "metadata": {},
   "outputs": [],
   "source": []
  },
  {
   "cell_type": "code",
   "execution_count": null,
   "id": "2192c467-70f7-4d68-9dad-d39316645061",
   "metadata": {},
   "outputs": [],
   "source": []
  },
  {
   "cell_type": "code",
   "execution_count": null,
   "id": "f5491260-75b4-45fd-b573-5747237aa38c",
   "metadata": {},
   "outputs": [],
   "source": []
  },
  {
   "cell_type": "code",
   "execution_count": null,
   "id": "4db95775-2b13-4fd9-a39f-0cea56ec3212",
   "metadata": {},
   "outputs": [],
   "source": []
  },
  {
   "cell_type": "code",
   "execution_count": null,
   "id": "37abd700-df5d-43ee-bfb5-17483f585b86",
   "metadata": {},
   "outputs": [],
   "source": []
  },
  {
   "cell_type": "code",
   "execution_count": null,
   "id": "e926612c-5785-450a-8714-6c45cbfb29ef",
   "metadata": {},
   "outputs": [],
   "source": []
  },
  {
   "cell_type": "code",
   "execution_count": null,
   "id": "379913d8-9d81-41d2-b0b3-b963eef12ee2",
   "metadata": {},
   "outputs": [],
   "source": []
  },
  {
   "cell_type": "code",
   "execution_count": null,
   "id": "c4350ee3-c5a5-48b8-9250-a68da4219b14",
   "metadata": {},
   "outputs": [],
   "source": []
  },
  {
   "cell_type": "code",
   "execution_count": null,
   "id": "5994ac85-47c0-4574-a4c8-574dcc49e55b",
   "metadata": {},
   "outputs": [],
   "source": []
  },
  {
   "cell_type": "code",
   "execution_count": null,
   "id": "e0cf2ac9-955d-4bcb-9e1b-bdaf0e1396f9",
   "metadata": {},
   "outputs": [],
   "source": []
  },
  {
   "cell_type": "code",
   "execution_count": null,
   "id": "c449f6a4-6e5a-4eb7-9711-0ccee1a45256",
   "metadata": {},
   "outputs": [],
   "source": []
  },
  {
   "cell_type": "code",
   "execution_count": null,
   "id": "a1501fba-7115-46ed-a961-b11e3b1bda26",
   "metadata": {},
   "outputs": [],
   "source": []
  },
  {
   "cell_type": "code",
   "execution_count": null,
   "id": "be024f30-54b4-49c5-abcb-7e119e74737a",
   "metadata": {},
   "outputs": [],
   "source": []
  }
 ],
 "metadata": {
  "kernelspec": {
   "display_name": "Python 3 (ipykernel)",
   "language": "python",
   "name": "python3"
  },
  "language_info": {
   "codemirror_mode": {
    "name": "ipython",
    "version": 3
   },
   "file_extension": ".py",
   "mimetype": "text/x-python",
   "name": "python",
   "nbconvert_exporter": "python",
   "pygments_lexer": "ipython3",
   "version": "3.11.2"
  },
  "widgets": {
   "application/vnd.jupyter.widget-state+json": {
    "state": {},
    "version_major": 2,
    "version_minor": 0
   }
  }
 },
 "nbformat": 4,
 "nbformat_minor": 5
}
