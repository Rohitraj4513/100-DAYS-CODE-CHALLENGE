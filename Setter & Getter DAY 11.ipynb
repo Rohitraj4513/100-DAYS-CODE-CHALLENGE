{
 "cells": [
  {
   "cell_type": "code",
   "execution_count": 2,
   "id": "e1d6874a-c3a5-4299-b2f9-ff1f406e00d0",
   "metadata": {},
   "outputs": [
    {
     "name": "stdout",
     "output_type": "stream",
     "text": [
      "Good Morning\n",
      "heyyy\n",
      "Good evening\n"
     ]
    }
   ],
   "source": [
    "#Example of a Simple Decorator\n",
    "def decorator(fx):\n",
    "    def mfx():\n",
    "        print(\"Good Morning\")\n",
    "        fx()\n",
    "        print(\"Good evening\")\n",
    "    return mfx\n",
    "    \n",
    "@decorator\n",
    "def hello():\n",
    "    print(\"heyyy\")\n",
    "\n",
    "#calling\n",
    "hello()"
   ]
  },
  {
   "cell_type": "code",
   "execution_count": 13,
   "id": "0810d071-6503-4106-9a1e-27035c898505",
   "metadata": {},
   "outputs": [
    {
     "name": "stdout",
     "output_type": "stream",
     "text": [
      "Salary: 70000\n",
      "Updated Salary:40000\n"
     ]
    }
   ],
   "source": [
    "'''Create a class Employee with a private attribute salary.\n",
    "Use the @property decorator to define a getter for salary.\n",
    "Use @<property>.setter to define a setter that ensures salary is greater than zero.'''\n",
    "\n",
    "class Employees:\n",
    "    def __init__(self , salary):\n",
    "        self.__salary=salary\n",
    "\n",
    "    @property\n",
    "    def salary(self):\n",
    "        return self.__salary\n",
    "\n",
    "    @salary.setter\n",
    "    def salary(self , new_sly):\n",
    "        if new_sly > 0:\n",
    "            self.__salary = new_sly\n",
    "        else:\n",
    "            print(\"enter valid salary\")\n",
    "\n",
    "#calling\n",
    "obj=Employees(70000)\n",
    "print(f\"Salary: {obj.salary}\")\n",
    "obj.salary=40000\n",
    "print(f\"Updated Salary:{obj.salary}\")          "
   ]
  },
  {
   "cell_type": "code",
   "execution_count": 21,
   "id": "f840e7a6-a97b-4292-8358-04c783c6806d",
   "metadata": {},
   "outputs": [
    {
     "name": "stdout",
     "output_type": "stream",
     "text": [
      " Area of 2 * 4: 8\n",
      " Parameter of 2 * (2 + 4): 12\n",
      " updated Area of 4 * 8: 32\n",
      " updated Parameter of 2 * (4 + 8): 24\n"
     ]
    }
   ],
   "source": [
    "'''Create a class Rectangle with attributes length and breadth.\n",
    "Use the @property decorator to calculate the area as a derived property (area).\n",
    "Use another @property decorator to calculate the perimeter as a derived property.'''\n",
    "\n",
    "class rectangle:\n",
    "    def __init__(self ,length , breadth):\n",
    "        self.__length=length\n",
    "        self.__breadth=breadth\n",
    "\n",
    "    @property\n",
    "    def length(self):\n",
    "        return self.__length\n",
    "\n",
    "    @length.setter\n",
    "    def length(self , new_len):\n",
    "        if new_len > 0 :\n",
    "            self.__length=new_len\n",
    "        else:\n",
    "            print(\"enter valid length\")\n",
    "\n",
    "    @property\n",
    "    def breadth(self):\n",
    "        return self.__breadth\n",
    "\n",
    "    @breadth.setter\n",
    "    def breadth(self , new_brth):\n",
    "        if new_brth > 0 :\n",
    "            self.__breadth=new_brth\n",
    "\n",
    "    @property\n",
    "    def area(self):\n",
    "        return self.__length * self.__breadth\n",
    "\n",
    "\n",
    "    @property\n",
    "    def parameter(self):\n",
    "        return 2*(self.__length + self.__breadth)\n",
    "\n",
    "#calling \n",
    "obj = rectangle(2 , 4)\n",
    "print(f\" Area of {obj.length} * {obj.breadth}: {obj.length * obj.breadth}\") \n",
    "print(f\" Parameter of 2 * ({obj.length} + {obj.breadth}): {2 * (obj.length + obj.breadth)}\") \n",
    "obj.length=4\n",
    "obj.breadth=8\n",
    "print(f\" updated Area of {obj.length} * {obj.breadth}: {obj.length * obj.breadth}\") \n",
    "print(f\" updated Parameter of 2 * ({obj.length} + {obj.breadth}): {2 * (obj.length + obj.breadth)}\") "
   ]
  },
  {
   "cell_type": "code",
   "execution_count": 8,
   "id": "6982fb26-aaf9-4090-9ab5-3d6eadbab350",
   "metadata": {},
   "outputs": [],
   "source": [
    "#Create a class Employee with attributes name, position, and salary. Use a constructor to initialize these attributes.\n",
    "class Employees:\n",
    "    def __init__(self ,name , position ,salary):\n",
    "        self.name=name\n",
    "        self.position=position\n",
    "        self.salary=salary\n",
    "    def info(self):\n",
    "        print(f\"name: {self.name}, position: {self.position}, salary: {self.salary} \")"
   ]
  },
  {
   "cell_type": "code",
   "execution_count": 11,
   "id": "ca1f65c3-baaf-460f-a587-05cc363e966e",
   "metadata": {},
   "outputs": [
    {
     "name": "stdout",
     "output_type": "stream",
     "text": [
      "name: Ro, position: Developer, salary: 3000 \n"
     ]
    }
   ],
   "source": [
    "obj=Employees('Rohit' , 'Developer' ,300000)\n",
    "obj1=Employees('Ro' , 'Developer' ,3000)\n",
    "obj1.info()"
   ]
  },
  {
   "cell_type": "code",
   "execution_count": 27,
   "id": "c681fcf9-e4a3-4679-a2c4-382be403f746",
   "metadata": {},
   "outputs": [],
   "source": [
    "'''Create a class BankAccount with private attributes account_number and balance.\n",
    "Write getter and setter methods to access and update the balance. Ensure that balance cannot be negative.'''\n",
    "class BankAccount:\n",
    "    def __init__(self , account_number , balance):\n",
    "        self.__ac=account_number \n",
    "        self.__blc=balance if balance > 0 else 0\n",
    "    def get_ac(self):\n",
    "        return self.__ac\n",
    "        \n",
    "    def get_blc(self):\n",
    "        return self.__blc\n",
    "        \n",
    "    def set_blc(self , new_blc):\n",
    "        if new_blc > 0 :\n",
    "            self.__blc=new_blc  \n",
    "        else:\n",
    "            print('enter valid balance')\n",
    "    def info(self):\n",
    "        print(f\"account_number: {self.__ac}, balance: {self.__blc} \")\n",
    "        \n",
    "    "
   ]
  },
  {
   "cell_type": "code",
   "execution_count": 30,
   "id": "a32ac224-4f3b-47de-a27e-6133681a422d",
   "metadata": {},
   "outputs": [
    {
     "name": "stdout",
     "output_type": "stream",
     "text": [
      "account_number: 620139203, balance: 5000 \n",
      "\n",
      "620139203\n",
      "enter valid balance\n",
      "60000\n"
     ]
    }
   ],
   "source": [
    "obj=BankAccount(620139203 ,5000)\n",
    "obj.info()\n",
    "print()\n",
    "print(obj.get_ac())\n",
    "obj.set_blc(60000)\n",
    "obj.set_blc(0)\n",
    "print(obj.get_blc())"
   ]
  },
  {
   "cell_type": "code",
   "execution_count": 46,
   "id": "2f8a64bd-d005-4fbe-877b-78f797a5f89a",
   "metadata": {},
   "outputs": [],
   "source": [
    "'''Write a class Book with attributes title, author, and price.\n",
    "Use a constructor to initialize these attributes, and make the price attribute private. Write methods to get and set the price.'''\n",
    "class Book:\n",
    "    def __init__(self ,title , auther , price):\n",
    "        self.title=title\n",
    "        self.auther=auther\n",
    "        self.__price=price if price > 0 else 0\n",
    "\n",
    "    def get_title(self):\n",
    "        return self.title\n",
    "        \n",
    "    def get_auther(self):\n",
    "        return self.auther\n",
    "        \n",
    "    def get_price(self):\n",
    "        return self.__price\n",
    "        \n",
    "    def set_price(self , new_price):\n",
    "        if new_price > 0 :\n",
    "            self.__price=new_price\n",
    "        else:\n",
    "            print(\"enter invalid price\")\n",
    "        \n",
    "        "
   ]
  },
  {
   "cell_type": "code",
   "execution_count": 47,
   "id": "432f2a69-9146-4cf9-907d-8cb2a1020268",
   "metadata": {},
   "outputs": [
    {
     "name": "stdout",
     "output_type": "stream",
     "text": [
      "title: love_me author: ROHIT\n"
     ]
    },
    {
     "data": {
      "text/plain": [
       "150"
      ]
     },
     "execution_count": 47,
     "metadata": {},
     "output_type": "execute_result"
    }
   ],
   "source": [
    "obj = Book('love_me' , 'ROHIT' , -65)\n",
    "print(f\"title: {obj.title} author: {obj.auther}\")\n",
    "obj.set_price(150)\n",
    "obj.get_price()"
   ]
  },
  {
   "cell_type": "code",
   "execution_count": 48,
   "id": "b21d2282-13f0-4911-b690-697989dbe6e2",
   "metadata": {},
   "outputs": [],
   "source": [
    "#Create a class Student with attributes name and age. Ensure that the set_age method validates that the age must be between 5 and 25.\n",
    "class Student:\n",
    "    def __init__(self , name , age):\n",
    "        self.name=name\n",
    "        self.age=age\n",
    "\n",
    "    def get_name(self):\n",
    "        return self.name\n",
    "    def get_age(self):\n",
    "        return self.age\n",
    "    def set_age(self , new_age):\n",
    "        if new_age >= 5 and new_age <= 25 :\n",
    "            self.age=new_age\n",
    "        else:\n",
    "            print(\"enter the age range 5 to 25 \")\n",
    "    \n"
   ]
  },
  {
   "cell_type": "code",
   "execution_count": 53,
   "id": "dc790509-2438-4752-bc5f-b0bc027c8147",
   "metadata": {},
   "outputs": [
    {
     "data": {
      "text/plain": [
       "10"
      ]
     },
     "execution_count": 53,
     "metadata": {},
     "output_type": "execute_result"
    }
   ],
   "source": [
    "obj =Student('rohit' ,20)\n",
    "obj.set_age(10)\n",
    "obj.get_name()\n",
    "obj.get_age()\n"
   ]
  },
  {
   "cell_type": "code",
   "execution_count": null,
   "id": "45bc53a3-22b0-4c28-b33e-224f82756de4",
   "metadata": {},
   "outputs": [],
   "source": []
  }
 ],
 "metadata": {
  "kernelspec": {
   "display_name": "Python 3 (ipykernel)",
   "language": "python",
   "name": "python3"
  },
  "language_info": {
   "codemirror_mode": {
    "name": "ipython",
    "version": 3
   },
   "file_extension": ".py",
   "mimetype": "text/x-python",
   "name": "python",
   "nbconvert_exporter": "python",
   "pygments_lexer": "ipython3",
   "version": "3.11.2"
  }
 },
 "nbformat": 4,
 "nbformat_minor": 5
}
