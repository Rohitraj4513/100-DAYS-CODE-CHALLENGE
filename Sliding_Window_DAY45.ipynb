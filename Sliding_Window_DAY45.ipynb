{
 "cells": [
  {
   "cell_type": "code",
   "execution_count": 8,
   "id": "b5d195f2-4651-4c1f-a0e8-ac44eda4e273",
   "metadata": {},
   "outputs": [
    {
     "name": "stdout",
     "output_type": "stream",
     "text": [
      "{1, 2, 3, 4, 5, 6}\n",
      "{1, 2, 3, 4, 5, 6}\n",
      "{1, 2, 3, 5}\n"
     ]
    }
   ],
   "source": [
    "a=[1 ,2 , 3 , 4 , 4 , 5 , 5 ,6, 6]\n",
    "b=[ 1 , 1 , 2 , 3 , 3 , 5 , 5]\n",
    "c=set(a) | set(b)\n",
    "print(c)\n",
    "d=set(a).union(set(b))\n",
    "print(d)\n",
    "e=set(a).intersection(set(b))\n",
    "print(e)"
   ]
  },
  {
   "cell_type": "code",
   "execution_count": 16,
   "id": "cf0331cb-009f-45af-9d9d-c2424fcd3a03",
   "metadata": {},
   "outputs": [],
   "source": [
    "def union(arr , arr1):\n",
    "    i = j = 0\n",
    "    uni=[]\n",
    "    while i < len(arr) and j< len(arr1):\n",
    "        if arr[i] < arr[j]:\n",
    "            if not uni or uni[-1] != arr[i]:\n",
    "                uni.append(arr[i])\n",
    "            i +=1\n",
    "        elif arr[i] > arr[j]:\n",
    "            if not uni or uni[-1] != arr1[j]:\n",
    "                uni.append(arr1[j])\n",
    "            j +=1\n",
    "        else:\n",
    "            if not uni or uni[-1] != arr[i]:\n",
    "                uni.append(arr[i])\n",
    "            i +=1\n",
    "            j +=1\n",
    "    while i < len(arr):\n",
    "        if not uni or uni[-1] != arr[i]:\n",
    "            uni.append(arr[i])\n",
    "        i +=1\n",
    "    while i < len(arr1):\n",
    "        if not uni or uni[-1] != arr1[j]:\n",
    "            uni.append(arr[j])\n",
    "        j +=1\n",
    "    return uni         "
   ]
  },
  {
   "cell_type": "code",
   "execution_count": 17,
   "id": "72fd5cbb-302b-45f7-a5d1-07c5587a0c42",
   "metadata": {},
   "outputs": [
    {
     "name": "stdout",
     "output_type": "stream",
     "text": [
      "[1, 2, 3, 4, 5, 6]\n"
     ]
    }
   ],
   "source": [
    "a=[1 ,2 , 3 , 4 , 4 , 5 , 5 ,6, 6]\n",
    "b=[ 1 , 1 , 2 , 3 , 3 , 5 , 5]\n",
    "print(union(a , b))"
   ]
  },
  {
   "cell_type": "code",
   "execution_count": 28,
   "id": "1fe0a347-da9d-430f-85ac-d3aa04f7efb7",
   "metadata": {},
   "outputs": [],
   "source": [
    "def subs(arr , m):\n",
    "    n=len(arr)\n",
    "    for i in range(n):\n",
    "        s = 0\n",
    "        for j in range(n):\n",
    "            s += arr[j]\n",
    "            if s == m:\n",
    "                return arr[i : j+1]\n",
    "    return []              "
   ]
  },
  {
   "cell_type": "code",
   "execution_count": 33,
   "id": "9629d175-6d57-4c15-ac3b-aed2c0785c4c",
   "metadata": {},
   "outputs": [
    {
     "name": "stdout",
     "output_type": "stream",
     "text": [
      "Subarray with sum 15 : [1, 2, 3, 4, 5]\n"
     ]
    }
   ],
   "source": [
    "# Example Usage\n",
    "arr = [1, 2, 3, 4, 5]\n",
    "m = 15\n",
    "result = subs(arr, m)\n",
    "\n",
    "print(\"Subarray with sum\", m, \":\", result)"
   ]
  },
  {
   "cell_type": "code",
   "execution_count": 69,
   "id": "32070557-8517-407c-9c8b-6dee7770061d",
   "metadata": {},
   "outputs": [],
   "source": [
    "def subst(arr , k):\n",
    "    l = r =0\n",
    "    sum=0\n",
    "    n=len(arr)\n",
    "    mxlen=0\n",
    "    while r < n:\n",
    "        sum += arr[r]\n",
    "        while  l <= r and sum > k:\n",
    "            sum -= arr[l]\n",
    "            l +=1\n",
    "\n",
    "        if sum == k:\n",
    "            mxlen=max(mxlen, r - l +1)\n",
    "        r +=1\n",
    "    return mxlen\n"
   ]
  },
  {
   "cell_type": "code",
   "execution_count": 70,
   "id": "83a2e7b5-59e1-44e9-bdff-7318e347cac7",
   "metadata": {},
   "outputs": [
    {
     "name": "stdout",
     "output_type": "stream",
     "text": [
      "Subarray with sum 6 : 0\n"
     ]
    }
   ],
   "source": [
    "# Example Usage\n",
    "arr = [3,2,3]\n",
    "m = 6\n",
    "result = subst(arr, m)\n",
    "\n",
    "print(\"Subarray with sum\", m, \":\", result)"
   ]
  },
  {
   "cell_type": "code",
   "execution_count": 71,
   "id": "e4f142e3-a1d2-4466-805f-0eb37d8870c5",
   "metadata": {},
   "outputs": [],
   "source": [
    "def index(arr  , target):\n",
    "    i = 0\n",
    "    sum=0\n",
    "    for j in range(len(arr)):\n",
    "        sum += arr[j] \n",
    "        while sum > target and  j >= i:\n",
    "            sum -=arr[i]\n",
    "            i +=1\n",
    "        if sum == target:\n",
    "            return [i , j] \n",
    "    return [-1 , -1]"
   ]
  },
  {
   "cell_type": "code",
   "execution_count": 72,
   "id": "5fef9a45-1b77-4c46-a450-daf9408e1db6",
   "metadata": {},
   "outputs": [
    {
     "name": "stdout",
     "output_type": "stream",
     "text": [
      "[-1, -1]\n"
     ]
    }
   ],
   "source": [
    "arr = [3,2,3]\n",
    "print(index(arr , 6))"
   ]
  },
  {
   "cell_type": "code",
   "execution_count": 92,
   "id": "b114281e-42fe-4cff-9d4a-2f97023123de",
   "metadata": {},
   "outputs": [],
   "source": [
    "def index(arr , k):\n",
    "    n=len(arr)\n",
    "    for i in range(n):\n",
    "        for j in range(n):\n",
    "            if i == j and n != j:\n",
    "                j +=1\n",
    "            if arr[i] + arr[j] == k :\n",
    "                return [i , j]\n",
    "               \n",
    "    "
   ]
  },
  {
   "cell_type": "code",
   "execution_count": 93,
   "id": "eaeae4a8-9b05-4333-b6d2-963dbf348eda",
   "metadata": {},
   "outputs": [
    {
     "name": "stdout",
     "output_type": "stream",
     "text": [
      "[0, 2]\n"
     ]
    }
   ],
   "source": [
    "arr = [3,2,3]\n",
    "print(index(arr , 6))"
   ]
  },
  {
   "cell_type": "code",
   "execution_count": 111,
   "id": "9796ab67-539a-422a-8799-0683e7b633e2",
   "metadata": {},
   "outputs": [],
   "source": [
    "def index(arr , k):\n",
    "    l  , r = 0 , len(arr)-1\n",
    "    arr.sort()\n",
    "    while l <= r:\n",
    "        if arr[l] + arr[r] == k:\n",
    "            return [l , r]\n",
    "        elif arr[l] + arr[r] > k:\n",
    "            r -=1\n",
    "        else:\n",
    "            l +=1\n",
    "    return [l , j]\n",
    "\n",
    "        "
   ]
  },
  {
   "cell_type": "code",
   "execution_count": 114,
   "id": "a195bb60-e691-4e49-b265-20bdc6898d2b",
   "metadata": {},
   "outputs": [
    {
     "name": "stdout",
     "output_type": "stream",
     "text": [
      "[0, 4]\n"
     ]
    }
   ],
   "source": [
    "arr = [1, 2, 5 , 3 , 4]\n",
    "print(index(arr , 6))"
   ]
  },
  {
   "cell_type": "code",
   "execution_count": 133,
   "id": "a6c07f04-b9d6-4101-976c-b3233c3061e7",
   "metadata": {},
   "outputs": [],
   "source": [
    "def idx(arr , k):\n",
    "    hashmap={}\n",
    "    for i , num in enumerate(arr):\n",
    "        cmp= k - num\n",
    "        \n",
    "        if cmp in  hashmap:\n",
    "            return [hashmap[cmp] , i]\n",
    "        hashmap[num] = i\n",
    "    return []\n",
    "    "
   ]
  },
  {
   "cell_type": "code",
   "execution_count": 134,
   "id": "aa17846b-48d6-4855-8d8e-eadf8c91c2f1",
   "metadata": {},
   "outputs": [
    {
     "name": "stdout",
     "output_type": "stream",
     "text": [
      "[1, 3]\n"
     ]
    }
   ],
   "source": [
    "arr = [1, 2, 3 , 4 , 5]\n",
    "print(idx(arr , 6))"
   ]
  },
  {
   "cell_type": "code",
   "execution_count": 139,
   "id": "3a95832d-8367-4138-b753-ff0f9b7ef557",
   "metadata": {},
   "outputs": [
    {
     "name": "stdout",
     "output_type": "stream",
     "text": [
      "[0, 0, 1, 1, 2, 2]\n"
     ]
    }
   ],
   "source": [
    "def sort(arr):\n",
    "    for i in range(len(arr)):\n",
    "        for j in range(i , len(arr)):\n",
    "            if arr[j] < arr[i]:\n",
    "                arr[i] , arr[j] = arr[j] , arr[i]\n",
    "\n",
    "arr=[2,0,2,1,1,0]\n",
    "sort(arr)\n",
    "print(arr)"
   ]
  },
  {
   "cell_type": "code",
   "execution_count": 138,
   "id": "c5a3bd0f-aaf0-4a33-b5fb-e6f7783741fc",
   "metadata": {},
   "outputs": [
    {
     "name": "stdout",
     "output_type": "stream",
     "text": [
      "[0, 0, 1, 1, 2, 2]\n"
     ]
    }
   ],
   "source": [
    "arr=[2,0,2,1,1,0]\n",
    "sort(arr)\n",
    "print(arr)"
   ]
  },
  {
   "cell_type": "code",
   "execution_count": 148,
   "id": "3426ed01-16bd-41f9-8505-a6363510ee65",
   "metadata": {},
   "outputs": [],
   "source": [
    "#optimize\n",
    "def sort(arr):\n",
    "    l , m , h = 0 , 0 , len(arr)-1\n",
    "    while m <= h:\n",
    "        if arr[m] == 0:\n",
    "            arr[l] , arr[m] = arr[m] , arr[l]\n",
    "            l +=1\n",
    "            m +=1\n",
    "        elif arr[m] == 1:\n",
    "            m +=1\n",
    "        else:\n",
    "            arr[m] , arr[h] = arr[h] , arr[m]\n",
    "            h -=1\n",
    "            \n",
    "        "
   ]
  },
  {
   "cell_type": "code",
   "execution_count": 149,
   "id": "3fc4b156-1947-4397-ae4a-1cffa72a38bb",
   "metadata": {},
   "outputs": [
    {
     "name": "stdout",
     "output_type": "stream",
     "text": [
      "[0, 0, 1, 1, 2, 2]\n"
     ]
    }
   ],
   "source": [
    "arr=[2,0,2,1,1,0]\n",
    "sort(arr)\n",
    "print(arr)"
   ]
  },
  {
   "cell_type": "code",
   "execution_count": 170,
   "id": "6ba3a700-9c1d-425a-a103-f5f429b4413a",
   "metadata": {},
   "outputs": [],
   "source": [
    "def repit(arr):\n",
    "    t=len(arr)\n",
    "    tr=t/2\n",
    "    for i in range(t):\n",
    "        count=0\n",
    "        for j in range(i,t):\n",
    "            if arr[j] == arr[i]:\n",
    "                count +=1\n",
    "        if count > tr:\n",
    "            return arr[i]\n",
    "    return -1            "
   ]
  },
  {
   "cell_type": "code",
   "execution_count": 171,
   "id": "de7e02a7-bb7f-47a7-834d-745038bd55a3",
   "metadata": {},
   "outputs": [
    {
     "name": "stdout",
     "output_type": "stream",
     "text": [
      "2\n"
     ]
    }
   ],
   "source": [
    " nums = [2,2,1,1,1,2,2]\n",
    "print(repit(nums))"
   ]
  },
  {
   "cell_type": "code",
   "execution_count": null,
   "id": "2a7b5302-ceda-475e-9ce0-9e1106d8de87",
   "metadata": {},
   "outputs": [],
   "source": []
  }
 ],
 "metadata": {
  "kernelspec": {
   "display_name": "Python 3 (ipykernel)",
   "language": "python",
   "name": "python3"
  },
  "language_info": {
   "codemirror_mode": {
    "name": "ipython",
    "version": 3
   },
   "file_extension": ".py",
   "mimetype": "text/x-python",
   "name": "python",
   "nbconvert_exporter": "python",
   "pygments_lexer": "ipython3",
   "version": "3.11.2"
  },
  "widgets": {
   "application/vnd.jupyter.widget-state+json": {
    "state": {},
    "version_major": 2,
    "version_minor": 0
   }
  }
 },
 "nbformat": 4,
 "nbformat_minor": 5
}
