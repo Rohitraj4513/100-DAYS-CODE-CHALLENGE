{
 "cells": [
  {
   "cell_type": "code",
   "execution_count": 3,
   "id": "9a76a8c5-4530-4575-aa9b-a17dc143605c",
   "metadata": {},
   "outputs": [],
   "source": [
    "def removeOut(st):\n",
    "    cnt=0\n",
    "    ans=\"\"\n",
    "    n=len(st)\n",
    "    for i in range(n):\n",
    "        if st[i] == ')':\n",
    "            cnt -=1\n",
    "        if cnt != 0:\n",
    "            ans += st[i]\n",
    "        if st[i] == '(' :\n",
    "            cnt +=1\n",
    "    return ans         "
   ]
  },
  {
   "cell_type": "code",
   "execution_count": 4,
   "id": "6808e0f1-2b4f-41c0-96b0-edb14008d184",
   "metadata": {},
   "outputs": [
    {
     "name": "stdout",
     "output_type": "stream",
     "text": [
      "()()()\n"
     ]
    }
   ],
   "source": [
    "st=\"(()())(())\"\n",
    "print(removeOut(st))"
   ]
  },
  {
   "cell_type": "code",
   "execution_count": 40,
   "id": "c585ef3e-c30c-464b-a11c-c18f00b43502",
   "metadata": {},
   "outputs": [],
   "source": [
    "def reverse(s):\n",
    "    wd=s.split()\n",
    "    ms=wd[::-1]\n",
    "    return ' '.join(ms)\n",
    "s = \"the sky is blue\"\n",
    "print(reverse(s))"
   ]
  },
  {
   "cell_type": "code",
   "execution_count": 41,
   "id": "d67863a6-439c-4e1e-bac5-13c7fc811de3",
   "metadata": {},
   "outputs": [
    {
     "name": "stdout",
     "output_type": "stream",
     "text": [
      "blue is sky the\n"
     ]
    }
   ],
   "source": [
    "s = \"the sky is blue\"\n",
    "print(reverse(s))"
   ]
  },
  {
   "cell_type": "code",
   "execution_count": 37,
   "id": "30bf670b-55b1-4f77-94c5-efb1d4e12814",
   "metadata": {},
   "outputs": [],
   "source": [
    "def reverse(s):\n",
    "    ws=s.split()\n",
    "    wb=[i[::-1] for i in ws]\n",
    "    return \" \".join(wb[::-1])\n",
    "s = \"the sky is blue\"\n",
    "print(reverse(s))"
   ]
  },
  {
   "cell_type": "code",
   "execution_count": 38,
   "id": "53ba2b4b-040e-400d-839e-11cef32db6e8",
   "metadata": {},
   "outputs": [
    {
     "name": "stdout",
     "output_type": "stream",
     "text": [
      "eulb si yks eht\n"
     ]
    }
   ],
   "source": [
    "s = \"the sky is blue\"\n",
    "print(reverse(s))"
   ]
  },
  {
   "cell_type": "code",
   "execution_count": 65,
   "id": "bd3ef2f7-2a92-4f0e-8d17-8ddcd5df8325",
   "metadata": {},
   "outputs": [],
   "source": [
    "def rev(st):\n",
    "    n=len(st)\n",
    "    for i in range(n-1 , -1 , -1):\n",
    "        s=int(st[i])\n",
    "        if s % 2 != 0:\n",
    "            return st[:i+1]\n",
    "    return '\"\"'"
   ]
  },
  {
   "cell_type": "code",
   "execution_count": 66,
   "id": "49d337dc-06e8-4818-b3a3-8ec0cbb06e84",
   "metadata": {},
   "outputs": [
    {
     "name": "stdout",
     "output_type": "stream",
     "text": [
      "35427\n"
     ]
    }
   ],
   "source": [
    "st=\"35427\"\n",
    "print(rev(st))"
   ]
  },
  {
   "cell_type": "code",
   "execution_count": 67,
   "id": "8004b3a7-c19a-4caa-90c6-6fd67d9c65e1",
   "metadata": {},
   "outputs": [],
   "source": [
    "def rev(st):\n",
    "    n=len(st)\n",
    "    for i in range(n-1 , -1 , -1):\n",
    "        if st[i] in'13579':\n",
    "            return st[:i+1]\n",
    "    return '\"\"'"
   ]
  },
  {
   "cell_type": "code",
   "execution_count": 68,
   "id": "0a3a0778-32b3-4685-b8ed-7845d805c4cb",
   "metadata": {},
   "outputs": [
    {
     "name": "stdout",
     "output_type": "stream",
     "text": [
      "35427\n"
     ]
    }
   ],
   "source": [
    "st=\"35427\"\n",
    "print(rev(st))"
   ]
  },
  {
   "cell_type": "code",
   "execution_count": 84,
   "id": "19719577-423d-4f2a-ab7f-4e51ba54292a",
   "metadata": {},
   "outputs": [],
   "source": [
    "def comman(res , arrstr):\n",
    "    \n",
    "    n=min(len(res) , len(arrstr))\n",
    "    pre =\"\"\n",
    "    for i in range(n):\n",
    "        if res[i] == arrstr[i]:\n",
    "            pre += res[i]\n",
    "        else:\n",
    "            break\n",
    "    return pre\n",
    "    \n",
    "def logest_prefix(arrstr):\n",
    "    n=len(arrstr)\n",
    "    rem=arrstr[0]\n",
    "    if n == 1:\n",
    "        return \"\"\n",
    "    if n == 1 :\n",
    "        return rem\n",
    "    for i in range(1 , n):\n",
    "        rem=comman(rem , arrstr[i])\n",
    "        if not rem:\n",
    "            break\n",
    "    return rem"
   ]
  },
  {
   "cell_type": "code",
   "execution_count": 85,
   "id": "a9c26138-10f8-41f6-96fd-bc55107684f9",
   "metadata": {},
   "outputs": [
    {
     "name": "stdout",
     "output_type": "stream",
     "text": [
      "fl\n"
     ]
    }
   ],
   "source": [
    "str=[\"flower\",\"flow\",\"flight\"]\n",
    "print(logest_prefix(str))"
   ]
  },
  {
   "cell_type": "code",
   "execution_count": null,
   "id": "73307cf0-2ca0-4fd0-85b9-aa6253ca8197",
   "metadata": {},
   "outputs": [],
   "source": []
  },
  {
   "cell_type": "code",
   "execution_count": null,
   "id": "1ff8afdb-6c36-4266-8d25-a71a57e052ad",
   "metadata": {},
   "outputs": [],
   "source": []
  },
  {
   "cell_type": "code",
   "execution_count": null,
   "id": "cbbc3d7a-a2c8-4200-bbb2-066d7722a8f6",
   "metadata": {},
   "outputs": [],
   "source": []
  },
  {
   "cell_type": "code",
   "execution_count": null,
   "id": "bfe37407-7125-4c19-8edf-5efcbbf1b2dd",
   "metadata": {},
   "outputs": [],
   "source": []
  },
  {
   "cell_type": "code",
   "execution_count": null,
   "id": "0194b04f-0d1a-40b8-ba6d-608c25bba882",
   "metadata": {},
   "outputs": [],
   "source": []
  },
  {
   "cell_type": "code",
   "execution_count": null,
   "id": "8dbcd480-7dd4-4ff9-89df-4be7dbf368c8",
   "metadata": {},
   "outputs": [],
   "source": []
  },
  {
   "cell_type": "code",
   "execution_count": null,
   "id": "c189b98f-4d1b-4a7b-9dd9-358cb02c7e12",
   "metadata": {},
   "outputs": [],
   "source": []
  },
  {
   "cell_type": "code",
   "execution_count": null,
   "id": "638d7658-1ef7-4a42-a493-53e6bb74fe80",
   "metadata": {},
   "outputs": [],
   "source": []
  },
  {
   "cell_type": "code",
   "execution_count": null,
   "id": "c35aea9a-e3ad-4543-ab5b-7f73630209ce",
   "metadata": {},
   "outputs": [],
   "source": []
  },
  {
   "cell_type": "code",
   "execution_count": null,
   "id": "852e93df-28d9-4a5c-b877-4c1208c239e2",
   "metadata": {},
   "outputs": [],
   "source": []
  },
  {
   "cell_type": "code",
   "execution_count": null,
   "id": "d22697ea-f43a-48c9-b7bf-7cccaef51a3c",
   "metadata": {},
   "outputs": [],
   "source": []
  }
 ],
 "metadata": {
  "kernelspec": {
   "display_name": "Python 3 (ipykernel)",
   "language": "python",
   "name": "python3"
  },
  "language_info": {
   "codemirror_mode": {
    "name": "ipython",
    "version": 3
   },
   "file_extension": ".py",
   "mimetype": "text/x-python",
   "name": "python",
   "nbconvert_exporter": "python",
   "pygments_lexer": "ipython3",
   "version": "3.11.2"
  },
  "widgets": {
   "application/vnd.jupyter.widget-state+json": {
    "state": {},
    "version_major": 2,
    "version_minor": 0
   }
  }
 },
 "nbformat": 4,
 "nbformat_minor": 5
}
