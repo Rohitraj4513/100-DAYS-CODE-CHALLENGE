{
 "cells": [
  {
   "cell_type": "code",
   "execution_count": 3,
   "id": "5f3cf2ba-674b-4a47-8ef4-14a52cc1c91e",
   "metadata": {},
   "outputs": [],
   "source": [
    "def power(st):\n",
    "    n=len(st)\n",
    "    for i in range(1 << n):\n",
    "        sub=\"\"\n",
    "        for j in range(n):\n",
    "            if i  & (1 << j):\n",
    "                sub += st[j]\n",
    "        print(sub)"
   ]
  },
  {
   "cell_type": "code",
   "execution_count": 4,
   "id": "45bf3699-ec12-4908-b274-8c0bc01397a3",
   "metadata": {},
   "outputs": [
    {
     "name": "stdout",
     "output_type": "stream",
     "text": [
      "\n",
      "a\n",
      "b\n",
      "ab\n",
      "c\n",
      "ac\n",
      "bc\n",
      "abc\n",
      "None\n"
     ]
    }
   ],
   "source": [
    "print(power('abc'))"
   ]
  },
  {
   "cell_type": "code",
   "execution_count": 13,
   "id": "3fdb8310-6395-4323-a004-e8e05d011df6",
   "metadata": {},
   "outputs": [],
   "source": [
    "def power(st):\n",
    "    n=len(st)\n",
    "    res=[]\n",
    "    for i in range(1 << n):\n",
    "        sub=[]\n",
    "        for j in range(n):\n",
    "            if i  & (1 << j):\n",
    "                sub.append(st[j])\n",
    "                \n",
    "        res.append(sub)\n",
    "    return res\n",
    "                \n",
    "            \n",
    "            "
   ]
  },
  {
   "cell_type": "code",
   "execution_count": 14,
   "id": "e849d2b1-abbd-400b-9c7f-bcadf18df28c",
   "metadata": {},
   "outputs": [
    {
     "name": "stdout",
     "output_type": "stream",
     "text": [
      "[[], [1], [2], [1, 2], [3], [1, 3], [2, 3], [1, 2, 3]]\n"
     ]
    }
   ],
   "source": [
    "arr=[1,2,3]\n",
    "print(power(arr))"
   ]
  },
  {
   "cell_type": "code",
   "execution_count": 22,
   "id": "4b25a1c6-c4ad-4fc1-b756-59f34e2ee13d",
   "metadata": {},
   "outputs": [],
   "source": [
    "def power(st):\n",
    "    n=len(st)\n",
    "    res=[]\n",
    "    for i in range(1<<n):\n",
    "        sub=\"\"\n",
    "        for j in range(n):\n",
    "            if i & (1 << j):\n",
    "                sub += st[j]\n",
    "        res.append(sub)\n",
    "    return res"
   ]
  },
  {
   "cell_type": "code",
   "execution_count": 23,
   "id": "c739f335-0e31-413f-b5b1-59599eca4309",
   "metadata": {},
   "outputs": [
    {
     "name": "stdout",
     "output_type": "stream",
     "text": [
      "['', 'a', 'b', 'ab', 'c', 'ac', 'bc', 'abc']\n"
     ]
    }
   ],
   "source": [
    "print(power('abc'))"
   ]
  },
  {
   "cell_type": "code",
   "execution_count": null,
   "id": "0edd657f-fc18-491d-99d0-6f4a859ea948",
   "metadata": {},
   "outputs": [],
   "source": []
  },
  {
   "cell_type": "code",
   "execution_count": null,
   "id": "a6a85727-e7df-49cd-a69e-45ec332bd7bf",
   "metadata": {},
   "outputs": [],
   "source": []
  },
  {
   "cell_type": "code",
   "execution_count": null,
   "id": "b7c86b68-de8e-426e-bc8f-ef6a687d3a41",
   "metadata": {},
   "outputs": [],
   "source": []
  },
  {
   "cell_type": "code",
   "execution_count": null,
   "id": "9332b99e-dff7-4acf-9261-567374cd134a",
   "metadata": {},
   "outputs": [],
   "source": []
  },
  {
   "cell_type": "code",
   "execution_count": null,
   "id": "684e69be-e786-4c4a-aae2-3f692315f26c",
   "metadata": {},
   "outputs": [],
   "source": []
  },
  {
   "cell_type": "code",
   "execution_count": null,
   "id": "43891556-6a05-42b9-9885-f875d0aeff9d",
   "metadata": {},
   "outputs": [],
   "source": []
  },
  {
   "cell_type": "code",
   "execution_count": null,
   "id": "a0e284ae-6a94-4813-a34c-42a9a374e9b9",
   "metadata": {},
   "outputs": [],
   "source": []
  }
 ],
 "metadata": {
  "kernelspec": {
   "display_name": "Python 3 (ipykernel)",
   "language": "python",
   "name": "python3"
  },
  "language_info": {
   "codemirror_mode": {
    "name": "ipython",
    "version": 3
   },
   "file_extension": ".py",
   "mimetype": "text/x-python",
   "name": "python",
   "nbconvert_exporter": "python",
   "pygments_lexer": "ipython3",
   "version": "3.11.2"
  },
  "widgets": {
   "application/vnd.jupyter.widget-state+json": {
    "state": {},
    "version_major": 2,
    "version_minor": 0
   }
  }
 },
 "nbformat": 4,
 "nbformat_minor": 5
}
