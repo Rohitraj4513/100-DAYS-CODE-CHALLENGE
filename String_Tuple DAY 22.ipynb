{
 "cells": [
  {
   "cell_type": "code",
   "execution_count": 33,
   "id": "cdce37c6-fdf6-41a4-9ca6-58faf7163bcd",
   "metadata": {},
   "outputs": [
    {
     "ename": "TypeError",
     "evalue": "'str' object does not support item assignment",
     "output_type": "error",
     "traceback": [
      "\u001b[1;31m---------------------------------------------------------------------------\u001b[0m",
      "\u001b[1;31mTypeError\u001b[0m                                 Traceback (most recent call last)",
      "Cell \u001b[1;32mIn[33], line 6\u001b[0m\n\u001b[0;32m      4\u001b[0m st3\u001b[38;5;241m=\u001b[39m\u001b[38;5;124m'''\u001b[39m\u001b[38;5;124mRohit,RAj,from \u001b[39m\u001b[38;5;124m'''\u001b[39m\n\u001b[0;32m      5\u001b[0m st6\u001b[38;5;241m=\u001b[39m\u001b[38;5;124m'\u001b[39m\u001b[38;5;124m12345\u001b[39m\u001b[38;5;124m'\u001b[39m\n\u001b[1;32m----> 6\u001b[0m \u001b[43mst\u001b[49m\u001b[43m[\u001b[49m\u001b[38;5;241;43m1\u001b[39;49m\u001b[43m]\u001b[49m\u001b[38;5;241m=\u001b[39m\u001b[38;5;124m'\u001b[39m\u001b[38;5;124mh\u001b[39m\u001b[38;5;124m'\u001b[39m \u001b[38;5;66;03m# immutable\u001b[39;00m\n\u001b[0;32m      7\u001b[0m \u001b[38;5;28mprint\u001b[39m(st)\n",
      "\u001b[1;31mTypeError\u001b[0m: 'str' object does not support item assignment"
     ]
    }
   ],
   "source": [
    "#String\n",
    "\n",
    "st='    Rohit   '\n",
    "st2=\"Rohit\"\n",
    "st3='''Rohit,RAj,from '''\n",
    "st6='12345'\n",
    "st[1]='h' # immutable\n",
    "print(st)"
   ]
  },
  {
   "cell_type": "code",
   "execution_count": 22,
   "id": "b7500b37-1ff6-440e-af87-e87829984b37",
   "metadata": {},
   "outputs": [
    {
     "name": "stdout",
     "output_type": "stream",
     "text": [
      "    Rohit   \n",
      "  Rohit   \n",
      "  \n",
      "   tihoR    \n"
     ]
    }
   ],
   "source": [
    "#slicing\n",
    "print(st[::])\n",
    "print(st[2:])\n",
    "print(st[:2])\n",
    "print(st[::-1])"
   ]
  },
  {
   "cell_type": "code",
   "execution_count": 41,
   "id": "feafc5db-6284-4756-938f-eb6f7047a265",
   "metadata": {},
   "outputs": [
    {
     "name": "stdout",
     "output_type": "stream",
     "text": [
      "12\n",
      "    ROHIT   \n",
      "    rohit   \n",
      "Rohit\n",
      "    TWihit   \n",
      "['Rohit', 'RAj', 'from ']\n",
      "Rohit RAj from \n",
      "10\n",
      "True\n",
      "True\n",
      "2\n"
     ]
    }
   ],
   "source": [
    "#build function in string\n",
    "print(len(st))\n",
    "print(st.upper())\n",
    "print(st.lower())\n",
    "print(st.strip())\n",
    "print(st.replace('Ro' , 'TWi'))\n",
    "st4=st3.split(',')\n",
    "print(st4)\n",
    "print(' '.join(st4))\n",
    "print(st3.find('from'))\n",
    "print(st6.isdigit())\n",
    "print(st3.startswith('Rohit'))\n",
    "print(st3.count('R'))\n"
   ]
  },
  {
   "cell_type": "code",
   "execution_count": 52,
   "id": "94474700-cb33-40c4-ab2d-9e27fb340338",
   "metadata": {},
   "outputs": [
    {
     "name": "stdout",
     "output_type": "stream",
     "text": [
      "8\n",
      "1\n",
      "5\n",
      "21\n",
      "2\n",
      "0\n",
      "[1, 1, 2, 2, 3, 3, 4, 5]\n"
     ]
    }
   ],
   "source": [
    "#tuple Functions\n",
    "print(len(tpl))\n",
    "print(min(tpl))\n",
    "print(max(tpl))\n",
    "print(sum(tpl))\n",
    "print(tpl.count(1))\n",
    "print(tpl.index(1))\n",
    "print(sorted(tpl))"
   ]
  },
  {
   "cell_type": "code",
   "execution_count": 44,
   "id": "d23f590f-311c-4917-bca1-8bcffdcb9ee7",
   "metadata": {},
   "outputs": [
    {
     "ename": "TypeError",
     "evalue": "'tuple' object does not support item assignment",
     "output_type": "error",
     "traceback": [
      "\u001b[1;31m---------------------------------------------------------------------------\u001b[0m",
      "\u001b[1;31mTypeError\u001b[0m                                 Traceback (most recent call last)",
      "Cell \u001b[1;32mIn[44], line 4\u001b[0m\n\u001b[0;32m      2\u001b[0m tpl\u001b[38;5;241m=\u001b[39m(\u001b[38;5;241m1\u001b[39m ,\u001b[38;5;241m2\u001b[39m ,\u001b[38;5;241m3\u001b[39m ,\u001b[38;5;241m4\u001b[39m , \u001b[38;5;241m5\u001b[39m , \u001b[38;5;241m2\u001b[39m , \u001b[38;5;241m1\u001b[39m , \u001b[38;5;241m3\u001b[39m)\n\u001b[0;32m      3\u001b[0m tpl1\u001b[38;5;241m=\u001b[39m(\u001b[38;5;241m12\u001b[39m,) \u001b[38;5;66;03m#single elements\u001b[39;00m\n\u001b[1;32m----> 4\u001b[0m \u001b[43mtpl\u001b[49m\u001b[43m[\u001b[49m\u001b[38;5;241;43m1\u001b[39;49m\u001b[43m]\u001b[49m\u001b[38;5;241m=\u001b[39m\u001b[38;5;241m7\u001b[39m \u001b[38;5;66;03m#immutable\u001b[39;00m\n\u001b[0;32m      5\u001b[0m \u001b[38;5;28mprint\u001b[39m(\u001b[38;5;28mtype\u001b[39m(tpl))\n\u001b[0;32m      6\u001b[0m \u001b[38;5;28mprint\u001b[39m(\u001b[38;5;28mtype\u001b[39m(tpl1))\n",
      "\u001b[1;31mTypeError\u001b[0m: 'tuple' object does not support item assignment"
     ]
    }
   ],
   "source": [
    "#tuple \n",
    "tpl=(1 ,2 ,3 ,4 , 5 , 2 , 1 , 3)\n",
    "st='Rohit'\n",
    "tpl1=(12,) #single elements\n",
    "tpl[1]=7 #immutable\n",
    "print(type(tpl))\n",
    "print(type(tpl1))"
   ]
  },
  {
   "cell_type": "code",
   "execution_count": 54,
   "id": "c3535056-911b-4f6f-80bc-a254873e6c51",
   "metadata": {},
   "outputs": [
    {
     "name": "stdout",
     "output_type": "stream",
     "text": [
      "('Rohit',)\n"
     ]
    }
   ],
   "source": [
    "st='Rohit'\n",
    "tpl2=tuple([st])\n",
    "print(tpl2)"
   ]
  },
  {
   "cell_type": "code",
   "execution_count": 49,
   "id": "689ccd17-5add-45b8-b775-f021b9c8e319",
   "metadata": {},
   "outputs": [
    {
     "name": "stdout",
     "output_type": "stream",
     "text": [
      "True\n",
      "False\n"
     ]
    }
   ],
   "source": [
    "#tuple Functions\n",
    "my_tuple = (1, 2, 3, True)\n",
    "print(all(my_tuple))  \n",
    "\n",
    "my_tuple = (1, 0, 3)\n",
    "print(all(my_tuple))  \n"
   ]
  },
  {
   "cell_type": "code",
   "execution_count": 50,
   "id": "fa312fd0-c00d-4331-9deb-99c3a7195443",
   "metadata": {},
   "outputs": [
    {
     "name": "stdout",
     "output_type": "stream",
     "text": [
      "True\n",
      "False\n"
     ]
    }
   ],
   "source": [
    "my_tuple = (0, 0, False, 1)\n",
    "print(any(my_tuple)) \n",
    "\n",
    "my_tuple = (0, 0, False)\n",
    "print(any(my_tuple))  \n"
   ]
  },
  {
   "cell_type": "code",
   "execution_count": null,
   "id": "e8f17105-2716-4fe5-8b74-fe3a621e3f7b",
   "metadata": {},
   "outputs": [],
   "source": []
  },
  {
   "cell_type": "code",
   "execution_count": null,
   "id": "35fd3ace-4e6d-4676-bc77-bcf8c6ae491e",
   "metadata": {},
   "outputs": [],
   "source": []
  },
  {
   "cell_type": "code",
   "execution_count": null,
   "id": "62bc75cb-f1b3-4c48-b5ee-0fd132d5cb52",
   "metadata": {},
   "outputs": [],
   "source": []
  },
  {
   "cell_type": "code",
   "execution_count": null,
   "id": "23ee65fa-88ee-4e79-bdae-0e04c14136fc",
   "metadata": {},
   "outputs": [],
   "source": []
  },
  {
   "cell_type": "code",
   "execution_count": null,
   "id": "f5bd718d-ecdb-4978-9b8d-e2832173c63b",
   "metadata": {},
   "outputs": [],
   "source": []
  },
  {
   "cell_type": "code",
   "execution_count": null,
   "id": "5c0024f0-072a-4aa3-bf9d-b3bc5930fb2a",
   "metadata": {},
   "outputs": [],
   "source": []
  },
  {
   "cell_type": "code",
   "execution_count": null,
   "id": "6c426139-6131-42e2-80ea-ff32ff5c68ba",
   "metadata": {},
   "outputs": [],
   "source": []
  },
  {
   "cell_type": "code",
   "execution_count": null,
   "id": "e5df9043-c24a-4c62-9432-7e8415dadc06",
   "metadata": {},
   "outputs": [],
   "source": []
  },
  {
   "cell_type": "code",
   "execution_count": null,
   "id": "7863e63a-87df-449e-9c74-688a87e8df2d",
   "metadata": {},
   "outputs": [],
   "source": []
  }
 ],
 "metadata": {
  "kernelspec": {
   "display_name": "Python 3 (ipykernel)",
   "language": "python",
   "name": "python3"
  },
  "language_info": {
   "codemirror_mode": {
    "name": "ipython",
    "version": 3
   },
   "file_extension": ".py",
   "mimetype": "text/x-python",
   "name": "python",
   "nbconvert_exporter": "python",
   "pygments_lexer": "ipython3",
   "version": "3.11.2"
  },
  "widgets": {
   "application/vnd.jupyter.widget-state+json": {
    "state": {},
    "version_major": 2,
    "version_minor": 0
   }
  }
 },
 "nbformat": 4,
 "nbformat_minor": 5
}
