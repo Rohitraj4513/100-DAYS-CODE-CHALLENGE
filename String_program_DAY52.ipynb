{
 "cells": [
  {
   "cell_type": "code",
   "execution_count": 2,
   "id": "d367d2ab-ede6-4fb4-bdfe-ef117d8ec4f5",
   "metadata": {},
   "outputs": [],
   "source": [
    "def S_arrenge(st):\n",
    "    n=len(st)\n",
    "    hash={}\n",
    "    for i in st:\n",
    "        if i in hash:\n",
    "            hash[i] +=1\n",
    "        else:\n",
    "            hash[i] =1\n",
    "    srt_char=sorted(hash.items(), key=lambda i:i[1] , reverse=True)\n",
    "\n",
    "    \n",
    "    return ''.join(char * count for char , count in srt_char )\n",
    " "
   ]
  },
  {
   "cell_type": "code",
   "execution_count": 3,
   "id": "f33c81bb-6e3e-4982-8e7e-22de5ebda5e3",
   "metadata": {},
   "outputs": [
    {
     "name": "stdout",
     "output_type": "stream",
     "text": [
      "eetr\n"
     ]
    }
   ],
   "source": [
    "st=\"tree\"\n",
    "print(S_arrenge(st))"
   ]
  },
  {
   "cell_type": "code",
   "execution_count": 7,
   "id": "8cbd3cc5-297f-4659-9008-d5fd4cd00381",
   "metadata": {},
   "outputs": [],
   "source": [
    "def rotate(st , goal):\n",
    "    if len(st) != len(goal):\n",
    "        return False\n",
    "    count=[0] * 26\n",
    "    for i in range(len(st)):\n",
    "        \n",
    "        count[ord(st[i]) - ord('a')] +=1\n",
    "        count[ord(goal[i]) - ord('a')] -=1\n",
    "    return all(i ==0 for i in count)"
   ]
  },
  {
   "cell_type": "code",
   "execution_count": 8,
   "id": "bfcab607-6901-40fc-bad7-bf7bd51c7db5",
   "metadata": {},
   "outputs": [
    {
     "name": "stdout",
     "output_type": "stream",
     "text": [
      "True\n"
     ]
    }
   ],
   "source": [
    "st1 = \"aabb\" \n",
    "goal = \"abab\"\n",
    "print(rotate(st1, goal))"
   ]
  },
  {
   "cell_type": "code",
   "execution_count": 9,
   "id": "5b71deb2-af4a-43db-b26f-e5600e6ce42c",
   "metadata": {},
   "outputs": [],
   "source": [
    "def hashmap_iso(st1 , st2):\n",
    "    if len(st1) != len(st2):\n",
    "        return False\n",
    "    t={}\n",
    "    s={}\n",
    "    for i in range(len(st1)):\n",
    "        c1 , c2 = st1[i] , st2[i]\n",
    "        if (c1 in t and t[c1] != c2 ) or ( c2 in s and s[c2] != c1):\n",
    "            return False\n",
    "        t[c1] = c2\n",
    "        s[c2] = c1\n",
    "    return True"
   ]
  },
  {
   "cell_type": "code",
   "execution_count": 10,
   "id": "4db6de02-0ebf-499d-9369-faaf40e186cf",
   "metadata": {},
   "outputs": [
    {
     "name": "stdout",
     "output_type": "stream",
     "text": [
      "True\n"
     ]
    }
   ],
   "source": [
    "st1=\"egg\"\n",
    "st2=\"add\"\n",
    "print(hashmap_iso(st1 , st2))"
   ]
  },
  {
   "cell_type": "code",
   "execution_count": null,
   "id": "e2d71a28-8631-44a2-909b-546f8d58f8dd",
   "metadata": {},
   "outputs": [],
   "source": []
  }
 ],
 "metadata": {
  "kernelspec": {
   "display_name": "Python 3 (ipykernel)",
   "language": "python",
   "name": "python3"
  },
  "language_info": {
   "codemirror_mode": {
    "name": "ipython",
    "version": 3
   },
   "file_extension": ".py",
   "mimetype": "text/x-python",
   "name": "python",
   "nbconvert_exporter": "python",
   "pygments_lexer": "ipython3",
   "version": "3.11.2"
  },
  "widgets": {
   "application/vnd.jupyter.widget-state+json": {
    "state": {},
    "version_major": 2,
    "version_minor": 0
   }
  }
 },
 "nbformat": 4,
 "nbformat_minor": 5
}
