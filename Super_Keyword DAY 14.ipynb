{
 "cells": [
  {
   "cell_type": "code",
   "execution_count": 49,
   "id": "7abf9ce5-4b03-4caa-843e-1a2ad0582a5e",
   "metadata": {},
   "outputs": [
    {
     "name": "stdout",
     "output_type": "stream",
     "text": [
      "campany:Apple department:conding Employees_id:1001 Employees_Name:Rohit Raj\n",
      "campany_name:Apple Employees_name:Rohit Raj Employees_id:1001\n"
     ]
    }
   ],
   "source": [
    "#super keyword use\n",
    "class Employee:\n",
    "    _cmp='Apple'\n",
    "    def __init__(self , name , id):\n",
    "        self.name=name\n",
    "        self.id=id\n",
    "    def show(self):\n",
    "        print(f\"campany_name:{self._cmp} Employees_name:{self.name} Employees_id:{self.id}\")\n",
    "     \n",
    "class Dept(Employee):\n",
    "    def __init__(self , name , id ,dpt):\n",
    "        super().__init__(name ,id)\n",
    "        self.dpt=dpt\n",
    "        # print(super().cmp)\n",
    "    def show(self):\n",
    "        print(f\"campany:{self._cmp} department:{self.dpt} Employees_id:{self.id} Employees_Name:{self.name}\")\n",
    "        super().show()\n",
    "\n",
    "#calling\n",
    "ob=Dept('Rohit Raj' , 1001,\"conding\")\n",
    "ob.show()\n",
    "\n",
    "\n"
   ]
  },
  {
   "cell_type": "code",
   "execution_count": 57,
   "id": "81f25180-2a78-4aaa-84b4-c9e33a199a3d",
   "metadata": {},
   "outputs": [
    {
     "name": "stdout",
     "output_type": "stream",
     "text": [
      "student_name:rohit  roll_number:101\n",
      "student_name:rohit  roll_number:101 Marks:88\n"
     ]
    }
   ],
   "source": [
    "#dunder methods\n",
    "class Student:\n",
    "    def __init__(self , name , roll):\n",
    "        self.name=name\n",
    "        self.roll=roll\n",
    "    def show(self):\n",
    "        print(f\"student_name:{self.name} roll_number:{self.roll}\")\n",
    "class Teacher(Student):\n",
    "    def __init__(self , name , roll , marks):\n",
    "        super().__init__(name , roll)\n",
    "        self.cls=marks\n",
    "        super().show()\n",
    "    def show(self):\n",
    "        print(f\"student_name:{self.name} roll_number:{self.roll} Marks:{self.cls}\")\n",
    "#calling Function\n",
    "obj=Teacher(\"rohit \", 101 , 88)\n",
    "obj.show()"
   ]
  },
  {
   "cell_type": "code",
   "execution_count": 86,
   "id": "b4241468-babd-4209-a1ca-f1e852fd52bf",
   "metadata": {},
   "outputs": [
    {
     "ename": "ImportError",
     "evalue": "cannot import name 'Employee1' from 'ipynb.fs.full.pyc' (unknown location)",
     "output_type": "error",
     "traceback": [
      "\u001b[1;31m---------------------------------------------------------------------------\u001b[0m",
      "\u001b[1;31mImportError\u001b[0m                               Traceback (most recent call last)",
      "Cell \u001b[1;32mIn[86], line 1\u001b[0m\n\u001b[1;32m----> 1\u001b[0m \u001b[38;5;28;01mfrom\u001b[39;00m \u001b[38;5;21;01mipynb\u001b[39;00m\u001b[38;5;21;01m.\u001b[39;00m\u001b[38;5;21;01mfs\u001b[39;00m\u001b[38;5;21;01m.\u001b[39;00m\u001b[38;5;21;01mfull\u001b[39;00m\u001b[38;5;21;01m.\u001b[39;00m\u001b[38;5;21;01mpyc\u001b[39;00m \u001b[38;5;28;01mimport\u001b[39;00m Employee1\n\u001b[0;32m      2\u001b[0m \u001b[38;5;66;03m#calling \u001b[39;00m\n\u001b[0;32m      3\u001b[0m ob\u001b[38;5;241m=\u001b[39mEmployee1()\n",
      "\u001b[1;31mImportError\u001b[0m: cannot import name 'Employee1' from 'ipynb.fs.full.pyc' (unknown location)"
     ]
    }
   ],
   "source": [
    "from ipynb.fs.full.pyc import Employee1\n",
    "#calling \n",
    "ob=Employee1()\n",
    "print(ob)\n",
    "print(ob.name)\n",
    "# print(len(ob))"
   ]
  },
  {
   "cell_type": "code",
   "execution_count": 94,
   "id": "22720dc2-6b95-49bf-8f68-97a2a33273bf",
   "metadata": {},
   "outputs": [
    {
     "name": "stdout",
     "output_type": "stream",
     "text": [
      "28.26\n"
     ]
    }
   ],
   "source": [
    "#overrinding \n",
    "class Shape:\n",
    "    def __init__(self , x , y):\n",
    "        self.x=x\n",
    "        self.y=y\n",
    "\n",
    "    def Area(self):\n",
    "       return self.x * self.y\n",
    "class Circle(Shape):\n",
    "    def __init__(self , redius):\n",
    "        self.redius=redius\n",
    "        super().__init__(redius ,redius)\n",
    "    def Area(self):\n",
    "        return 3.14 * super().Area()\n",
    "#calling\n",
    "obj=Circle(3)\n",
    "print(obj.Area())\n",
    "        \n"
   ]
  },
  {
   "cell_type": "code",
   "execution_count": null,
   "id": "fea4eb83-c003-44df-a67a-dbdac09d98ae",
   "metadata": {},
   "outputs": [],
   "source": []
  }
 ],
 "metadata": {
  "kernelspec": {
   "display_name": "Python 3 (ipykernel)",
   "language": "python",
   "name": "python3"
  },
  "language_info": {
   "codemirror_mode": {
    "name": "ipython",
    "version": 3
   },
   "file_extension": ".py",
   "mimetype": "text/x-python",
   "name": "python",
   "nbconvert_exporter": "python",
   "pygments_lexer": "ipython3",
   "version": "3.11.2"
  }
 },
 "nbformat": 4,
 "nbformat_minor": 5
}
