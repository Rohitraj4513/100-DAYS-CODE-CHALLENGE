{
 "cells": [
  {
   "cell_type": "code",
   "execution_count": 13,
   "id": "0f11eb72-3973-43df-9e6e-585830a3e7f0",
   "metadata": {},
   "outputs": [
    {
     "name": "stdout",
     "output_type": "stream",
     "text": [
      "[1 4 5 6 7]\n"
     ]
    }
   ],
   "source": [
    "#babbule sort\n",
    "import numpy as np\n",
    "def bubble(arr ,n):\n",
    "    for i in range(n-1):\n",
    "        for j in range(n-i-1):\n",
    "            if arr[j] > arr[j+1]:\n",
    "                arr[j] , arr[j+1] =arr[j+1] , arr[j]      \n",
    "    return arr\n",
    "#function calling\n",
    "arr=np.array([5,4 , 7 , 6 , 1])\n",
    "bubble(arr ,len(arr))\n",
    "print(arr)               "
   ]
  },
  {
   "cell_type": "code",
   "execution_count": 19,
   "id": "dac5b602-3f50-43c4-9d58-d7e0e4d5de53",
   "metadata": {},
   "outputs": [
    {
     "name": "stdout",
     "output_type": "stream",
     "text": [
      "[0 1 2 3 4 5]\n"
     ]
    }
   ],
   "source": [
    "#babbule sort\n",
    "def bubble(arr ,n):\n",
    "    for i in range(n-1):\n",
    "        for j in range(n-i-1):\n",
    "            if arr[j] > arr[j+1]:\n",
    "               swap(arr , j ,j+1)\n",
    "#function calling\n",
    "arr=np.array([5,4,3,2,1,0])\n",
    "bubble(arr ,len(arr))\n",
    "print(arr) "
   ]
  },
  {
   "cell_type": "code",
   "execution_count": 20,
   "id": "15bdc727-7156-4dfc-ab7e-cd28fa4bb4ce",
   "metadata": {},
   "outputs": [
    {
     "name": "stdout",
     "output_type": "stream",
     "text": [
      "[5 4 3 2 1 0]\n"
     ]
    }
   ],
   "source": [
    "#babbule sort\n",
    "import numpy as np\n",
    "def bubble(arr ,n):\n",
    "    for i in range(n-1):\n",
    "        for j in range(n-i-1):\n",
    "            if arr[j] > arr[j+1]:\n",
    "                temp=arr[j]\n",
    "                arr[j] = arr[j+1]\n",
    "                arr[j] =temp\n",
    "#function calling\n",
    "arr=np.array([5,4,3,2,1,0])\n",
    "bubble(arr ,len(arr))\n",
    "print(arr)"
   ]
  },
  {
   "cell_type": "code",
   "execution_count": 24,
   "id": "4d42bea9-8105-4671-99da-9f01544e8dd8",
   "metadata": {},
   "outputs": [
    {
     "name": "stdout",
     "output_type": "stream",
     "text": [
      "[1 2 3 6 9]\n"
     ]
    }
   ],
   "source": [
    "#optimize solution for best case\n",
    "def Bubble(arr , n):\n",
    "    for i in range(n-1):\n",
    "        flag=False\n",
    "        for j in range(n-i-1):\n",
    "            if arr[j] > arr[j+1]:\n",
    "                arr[j] , arr[j+1] = arr[j+1] , arr[j]\n",
    "                flag=True\n",
    "        if flag==False:\n",
    "            return arr\n",
    "#function calling\n",
    "arr=np.array([2 , 1 , 3 , 6 , 9])\n",
    "Bubble(arr ,len(arr))\n",
    "print(arr)"
   ]
  },
  {
   "cell_type": "code",
   "execution_count": 2,
   "id": "f1d2da7b-65a8-49ed-b385-223cc5968471",
   "metadata": {},
   "outputs": [
    {
     "name": "stdout",
     "output_type": "stream",
     "text": [
      "[9 6 3 2 1]\n"
     ]
    }
   ],
   "source": [
    "#bubble sort reverse order\n",
    "import numpy as np\n",
    "def bubble_reverse(arr):     #[ 4 , 2 , 1 , 5, ]\n",
    "    n=len(arr)-1\n",
    "    for i in range(n):\n",
    "        for j in range(0 , n-i):\n",
    "            if arr[j+1] > arr[j]:\n",
    "                arr[j] , arr[j+1] = arr[j+1] , arr[j]\n",
    "arr=np.array([2 , 1 , 3 , 6 , 9])\n",
    "bubble_reverse(arr)\n",
    "print(arr)"
   ]
  },
  {
   "cell_type": "code",
   "execution_count": null,
   "id": "e52072e7-5666-46e7-b267-8ca858e803c9",
   "metadata": {},
   "outputs": [],
   "source": []
  },
  {
   "cell_type": "code",
   "execution_count": null,
   "id": "f5fe30a8-9952-48a4-b633-3b60122ead06",
   "metadata": {},
   "outputs": [],
   "source": []
  }
 ],
 "metadata": {
  "kernelspec": {
   "display_name": "Python 3 (ipykernel)",
   "language": "python",
   "name": "python3"
  },
  "language_info": {
   "codemirror_mode": {
    "name": "ipython",
    "version": 3
   },
   "file_extension": ".py",
   "mimetype": "text/x-python",
   "name": "python",
   "nbconvert_exporter": "python",
   "pygments_lexer": "ipython3",
   "version": "3.11.2"
  },
  "widgets": {
   "application/vnd.jupyter.widget-state+json": {
    "state": {},
    "version_major": 2,
    "version_minor": 0
   }
  }
 },
 "nbformat": 4,
 "nbformat_minor": 5
}
