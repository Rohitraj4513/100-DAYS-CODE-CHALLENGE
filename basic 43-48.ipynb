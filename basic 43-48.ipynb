{
 "cells": [
  {
   "cell_type": "code",
   "execution_count": 7,
   "id": "e4014fa0-ce73-4712-aa48-7447eb7f27db",
   "metadata": {},
   "outputs": [
    {
     "name": "stdout",
     "output_type": "stream",
     "text": [
      "[1, 3, 2, 5, 6]\n"
     ]
    }
   ],
   "source": [
    "#remove Duplicate\n",
    "arr=[1 , 2 , 3 , 2 , 5 , 6]\n",
    "n=len(arr)\n",
    "for i in range(n):\n",
    "    for j in range(i , n-1):\n",
    "        if arr[i] == arr[j] and i != j :\n",
    "            arr.remove(arr[j])     \n",
    "print(arr)"
   ]
  },
  {
   "cell_type": "code",
   "execution_count": 24,
   "id": "0798d568-19a3-4ca2-b90f-acbe0393fb6b",
   "metadata": {},
   "outputs": [
    {
     "name": "stdout",
     "output_type": "stream",
     "text": [
      "[2, 2, 5]\n"
     ]
    }
   ],
   "source": [
    "#Prime Number\n",
    "arr=[1 , 2 , 3 , 2 , 5 , 6]\n",
    "ans=[]\n",
    "for i in range(n):\n",
    "    count=0\n",
    "    for j in range(2 , n-1):\n",
    "        if arr[i] % j == 0  and i != j:\n",
    "            count += 1\n",
    "    if count == 0 and arr[i] > 1:\n",
    "        ans.append(arr[i])\n",
    "    if arr[i] == 2:\n",
    "            ans.append(arr[i])\n",
    "print(ans)    "
   ]
  },
  {
   "cell_type": "code",
   "execution_count": 71,
   "id": "c343653c-5ed1-473d-ab62-6a9cf22fbc7b",
   "metadata": {},
   "outputs": [
    {
     "name": "stdout",
     "output_type": "stream",
     "text": [
      "[2, 3, 2, 5, 7, 11, 79]\n"
     ]
    }
   ],
   "source": [
    "#Prime Number\n",
    "arr=[1 , 2 , 3 , 2 , 5 , 6 , 7 , 11 , 22 , 70 , 999, 79 , 69]\n",
    "n=len(arr)\n",
    "ans=[]\n",
    "for i in range(n):\n",
    "    count=0\n",
    "    for j in range(2 ,int(arr[i]**0.5)+1):\n",
    "        if arr[i] % j == 0:\n",
    "            count +=1\n",
    "            break\n",
    "    if count == 0 and arr[i] != 1:\n",
    "        ans.append(arr[i])\n",
    "    \n",
    "print(ans)"
   ]
  },
  {
   "cell_type": "code",
   "execution_count": 40,
   "id": "3c47e57d-6947-4899-bc8f-3f8d43f12b53",
   "metadata": {},
   "outputs": [
    {
     "name": "stdout",
     "output_type": "stream",
     "text": [
      "prime number\n"
     ]
    }
   ],
   "source": [
    "#Prime Number\n",
    "def prime(num , i=2):\n",
    "    if num == i:\n",
    "        return 'prime number'\n",
    "    if num % i == 0 and num != 2:\n",
    "        return 'Not prime'\n",
    "    return prime(num , i+1)\n",
    "    \n",
    "print(prime(5))\n",
    "        \n",
    "    "
   ]
  },
  {
   "cell_type": "code",
   "execution_count": 72,
   "id": "4fd25a6f-477e-481b-bc97-875e5ac546ca",
   "metadata": {},
   "outputs": [
    {
     "name": "stdout",
     "output_type": "stream",
     "text": [
      "[3, 5, 7, 11, 17]\n"
     ]
    }
   ],
   "source": [
    "#Prime Number\n",
    "def prime(num , i ,ln ,  ans=None):   \n",
    "    if ans is None:\n",
    "        ans = []\n",
    "    \n",
    "    if ln == i:\n",
    "        return ans     \n",
    "    count=0\n",
    "    for j in range(2 , int(num[i]**0.5)+1):\n",
    "        if num[i] % j == 0 and arr[i] != i :\n",
    "            count +=1\n",
    "            break\n",
    "            \n",
    "    if count == 0:\n",
    "        ans.append(num[i])\n",
    "    return prime(num,i+1,ln,ans)\n",
    "\n",
    "arr=[3 , 4 , 5 , 7, 9 , 11 , 12 , 50 , 17]\n",
    "ln=len(arr)\n",
    "print(prime(arr , 0 , ln ))  "
   ]
  },
  {
   "cell_type": "code",
   "execution_count": 77,
   "id": "eeb92ec7-2ef6-4bcc-8d39-c5a3c5d140e8",
   "metadata": {},
   "outputs": [
    {
     "name": "stdout",
     "output_type": "stream",
     "text": [
      "8\n"
     ]
    }
   ],
   "source": [
    "#Largest Element in an Array\n",
    "def largest(A , i , ans=None):\n",
    "    if ans is None:\n",
    "        ans=A[0]\n",
    "    if len(A) == i:\n",
    "        return ans\n",
    "    if A[i] > ans:\n",
    "        ans = A[i]\n",
    "    return largest(A , i+1 , ans)\n",
    "A=[1, 4, 3, -5, -4, 8, 6]\n",
    "print(largest(A , 0))"
   ]
  },
  {
   "cell_type": "code",
   "execution_count": 78,
   "id": "85f97da3-54a8-4fdd-a595-53d24c5e3140",
   "metadata": {},
   "outputs": [
    {
     "name": "stdout",
     "output_type": "stream",
     "text": [
      "-5\n"
     ]
    }
   ],
   "source": [
    "#Smallest Element in an Array\n",
    "def Smallest_Element(A , i , ans=None):\n",
    "    if ans is None:\n",
    "        ans=A[0]\n",
    "    if len(A) == i:\n",
    "        return ans\n",
    "    if A[i] < ans:\n",
    "        ans=A[i]\n",
    "    return Smallest_Element(A , i+1 , ans)\n",
    "\n",
    "A=[1, 4, 3, -5, -4, 8, 6]\n",
    "print(Smallest_Element(A , 0))"
   ]
  },
  {
   "cell_type": "code",
   "execution_count": 85,
   "id": "0ae58d6e-219a-4f15-acec-7996404712a5",
   "metadata": {},
   "outputs": [
    {
     "name": "stdout",
     "output_type": "stream",
     "text": [
      "4321\n"
     ]
    }
   ],
   "source": [
    "#Reversing a Number using Recursion\n",
    "num=1234\n",
    "ans=''\n",
    "while num != 0:\n",
    "    rem = str(num % 10)\n",
    "    ans += rem\n",
    "    num = num//10\n",
    "print(ans)\n",
    "    "
   ]
  },
  {
   "cell_type": "code",
   "execution_count": 94,
   "id": "83987feb-b179-48a4-b6f7-6c287e574a1e",
   "metadata": {},
   "outputs": [
    {
     "name": "stdout",
     "output_type": "stream",
     "text": [
      "4321\n"
     ]
    }
   ],
   "source": [
    "#Reversing a Number using Recursion\n",
    "num=1234\n",
    "ans1=0\n",
    "while num != 0:\n",
    "    rem = (num % 10)\n",
    "    ans1 = ans1 * 10 + rem\n",
    "    num = num//10\n",
    "print(ans1)"
   ]
  },
  {
   "cell_type": "code",
   "execution_count": 96,
   "id": "a9f23443-f8f0-47f7-aca4-441e086963da",
   "metadata": {},
   "outputs": [
    {
     "name": "stdout",
     "output_type": "stream",
     "text": [
      "4321\n"
     ]
    }
   ],
   "source": [
    "#Reversing a Number using Recursion\n",
    "def Reversing(num , ans=None):\n",
    "    if ans is None:\n",
    "        ans=0\n",
    "    if num == 0:\n",
    "        return int(ans)\n",
    "    rem = (num % 10)\n",
    "    ans = ans * 10 + rem\n",
    "    return Reversing(num//10 , ans)\n",
    "res=Reversing(1234) \n",
    "print(res)    \n",
    "    "
   ]
  },
  {
   "cell_type": "code",
   "execution_count": 100,
   "id": "ada4e9de-dfc4-4c7e-a6ad-1bc647006471",
   "metadata": {},
   "outputs": [
    {
     "name": "stdout",
     "output_type": "stream",
     "text": [
      "20\n"
     ]
    }
   ],
   "source": [
    "#HCF of a Number using Recursion\n",
    "def Gcd(n1 , n2 ,i, ans):\n",
    "    if max(n1 , n2) == i:\n",
    "        return ans\n",
    "    if n1 % i == n2 % i == 0:\n",
    "        ans = i\n",
    "    return Gcd(n1 , n2 , i+1 , ans)\n",
    "\n",
    "print(Gcd(20 , 60, 1 , 0))"
   ]
  },
  {
   "cell_type": "code",
   "execution_count": null,
   "id": "8ea35c98-a810-487d-a348-25b249224271",
   "metadata": {},
   "outputs": [],
   "source": []
  }
 ],
 "metadata": {
  "kernelspec": {
   "display_name": "Python 3 (ipykernel)",
   "language": "python",
   "name": "python3"
  },
  "language_info": {
   "codemirror_mode": {
    "name": "ipython",
    "version": 3
   },
   "file_extension": ".py",
   "mimetype": "text/x-python",
   "name": "python",
   "nbconvert_exporter": "python",
   "pygments_lexer": "ipython3",
   "version": "3.11.2"
  },
  "widgets": {
   "application/vnd.jupyter.widget-state+json": {
    "state": {},
    "version_major": 2,
    "version_minor": 0
   }
  }
 },
 "nbformat": 4,
 "nbformat_minor": 5
}
