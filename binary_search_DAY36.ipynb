{
 "cells": [
  {
   "cell_type": "code",
   "execution_count": 3,
   "id": "f462f87d-be4b-43aa-be51-5936167e0601",
   "metadata": {},
   "outputs": [
    {
     "name": "stdout",
     "output_type": "stream",
     "text": [
      "1\n"
     ]
    }
   ],
   "source": [
    "def Liner(arr , tr):\n",
    "    for i in range(len(arr)-1):\n",
    "        if arr[i] == tr:\n",
    "            return i\n",
    "    return -1\n",
    "            \n",
    "arr=[1 , 2 , 3 ,4 ,5 ,6 , 7 ,8 , 9]\n",
    "print(Liner(arr , 2))"
   ]
  },
  {
   "cell_type": "code",
   "execution_count": 7,
   "id": "c1776a64-2edc-4937-9dd3-1fb972b77034",
   "metadata": {},
   "outputs": [
    {
     "name": "stdout",
     "output_type": "stream",
     "text": [
      "6\n"
     ]
    }
   ],
   "source": [
    "def First_occurrence(arr , tr):\n",
    "    st=0\n",
    "    end=len(arr)-1\n",
    "    ans=-1\n",
    "    while(st <= end):\n",
    "        mid=(st + end )//2 \n",
    "        if arr[mid] == tr:\n",
    "            return mid\n",
    "        elif(arr[mid] <= tr):\n",
    "            ans=mid\n",
    "            \n",
    "            st=mid+1\n",
    "        else:\n",
    "            end=mid-1\n",
    "    return ans\n",
    "        \n",
    "arr=[1 , 1, 2 ,5 ,6 , 7 ,8 ,8, 9]\n",
    "print(First_occurence(arr , 8))"
   ]
  },
  {
   "cell_type": "code",
   "execution_count": 14,
   "id": "946b7f51-214e-425f-a994-172f82616ff3",
   "metadata": {},
   "outputs": [
    {
     "name": "stdout",
     "output_type": "stream",
     "text": [
      "2\n"
     ]
    }
   ],
   "source": [
    "import math\n",
    "def first_occurrence(arr , tr):\n",
    "    st=0\n",
    "    end=len(arr)-1\n",
    "    ans=-1\n",
    "    trg=tr**0.5\n",
    "    tr=math.sqrt(tr)\n",
    "    while(st <= end):\n",
    "        mid=(st+end)//2\n",
    "        if arr[mid] == trg:\n",
    "            return mid\n",
    "        elif(arr[mid] <= trg):\n",
    "            ans = mid\n",
    "            st=mid+1\n",
    "        else:\n",
    "            end=mid-1\n",
    "    return ans\n",
    "    \n",
    "arr=[1 , 1, 2 ,5 ,6 , 7 ,8 ,8, 9]\n",
    "print(first_occurenc(arr , 8))    "
   ]
  },
  {
   "cell_type": "code",
   "execution_count": null,
   "id": "4a27a421-8e2f-4b6d-b58b-0885ff72b94b",
   "metadata": {},
   "outputs": [],
   "source": []
  },
  {
   "cell_type": "code",
   "execution_count": null,
   "id": "c680c9da-0796-4662-af3e-f863646fcf0e",
   "metadata": {},
   "outputs": [],
   "source": []
  },
  {
   "cell_type": "code",
   "execution_count": null,
   "id": "9d690bd7-47e1-4c66-92d8-964f2efd2c69",
   "metadata": {},
   "outputs": [],
   "source": []
  },
  {
   "cell_type": "code",
   "execution_count": null,
   "id": "ed5e8287-4f0a-4624-a394-c5378fee9c8c",
   "metadata": {},
   "outputs": [],
   "source": []
  },
  {
   "cell_type": "code",
   "execution_count": null,
   "id": "8ffb7ea3-fac1-476a-84ed-9fa5ac7bf7d3",
   "metadata": {},
   "outputs": [],
   "source": []
  },
  {
   "cell_type": "code",
   "execution_count": null,
   "id": "6c6637cd-3526-4614-b3cd-e2badfe142c4",
   "metadata": {},
   "outputs": [],
   "source": []
  },
  {
   "cell_type": "code",
   "execution_count": null,
   "id": "b7f227fa-b5b0-47e9-88dd-e30691c29e9c",
   "metadata": {},
   "outputs": [],
   "source": []
  },
  {
   "cell_type": "code",
   "execution_count": null,
   "id": "27d51f37-0cb7-46e0-9256-c0644e813182",
   "metadata": {},
   "outputs": [],
   "source": []
  },
  {
   "cell_type": "code",
   "execution_count": null,
   "id": "a865de00-7520-4a09-a62c-24decbf30e43",
   "metadata": {},
   "outputs": [],
   "source": []
  },
  {
   "cell_type": "code",
   "execution_count": null,
   "id": "4e03042f-9e85-4b19-bfac-d9ae3530a258",
   "metadata": {},
   "outputs": [],
   "source": []
  },
  {
   "cell_type": "code",
   "execution_count": null,
   "id": "74c174f9-7b7a-4a20-94c9-36e5fcfdf0e2",
   "metadata": {},
   "outputs": [],
   "source": []
  },
  {
   "cell_type": "code",
   "execution_count": null,
   "id": "ce818418-6366-446d-a895-a3d7d99f0b76",
   "metadata": {},
   "outputs": [],
   "source": []
  },
  {
   "cell_type": "code",
   "execution_count": null,
   "id": "bec48954-0347-435a-8bde-1cfd22784d31",
   "metadata": {},
   "outputs": [],
   "source": []
  },
  {
   "cell_type": "code",
   "execution_count": null,
   "id": "3db84644-e2e3-49fc-8f04-ff701e822fca",
   "metadata": {},
   "outputs": [],
   "source": []
  },
  {
   "cell_type": "code",
   "execution_count": null,
   "id": "322a735a-8be3-44ab-8c8e-3aa46bbb8732",
   "metadata": {},
   "outputs": [],
   "source": []
  },
  {
   "cell_type": "code",
   "execution_count": null,
   "id": "86c08d8a-5655-475e-864e-369b930add65",
   "metadata": {},
   "outputs": [],
   "source": []
  },
  {
   "cell_type": "code",
   "execution_count": null,
   "id": "9d6e2bb6-d7d3-4e67-a968-1d48c6752642",
   "metadata": {},
   "outputs": [],
   "source": []
  },
  {
   "cell_type": "code",
   "execution_count": null,
   "id": "ed093b13-afdd-4f9e-9d34-4d92ee4c8e94",
   "metadata": {},
   "outputs": [],
   "source": []
  },
  {
   "cell_type": "code",
   "execution_count": null,
   "id": "449a63a3-f2be-4c19-9176-8117b6989275",
   "metadata": {},
   "outputs": [],
   "source": []
  },
  {
   "cell_type": "code",
   "execution_count": null,
   "id": "d5006d2b-515b-4b97-81d3-e341c9c15ad9",
   "metadata": {},
   "outputs": [],
   "source": []
  },
  {
   "cell_type": "code",
   "execution_count": null,
   "id": "2cea6698-e782-4363-a741-f1da3e8bdd08",
   "metadata": {},
   "outputs": [],
   "source": []
  },
  {
   "cell_type": "code",
   "execution_count": null,
   "id": "82eda953-3a11-46f2-9cef-cc4362f9c4b5",
   "metadata": {},
   "outputs": [],
   "source": []
  },
  {
   "cell_type": "code",
   "execution_count": null,
   "id": "e9756fe4-a5d3-43bb-84d4-4f4fff24fcda",
   "metadata": {},
   "outputs": [],
   "source": []
  },
  {
   "cell_type": "code",
   "execution_count": null,
   "id": "395df766-78ee-4bbb-8e20-dd2d91ae45e7",
   "metadata": {},
   "outputs": [],
   "source": []
  },
  {
   "cell_type": "code",
   "execution_count": null,
   "id": "4b06bdd0-5dc4-44d4-89db-644b84fc7e9c",
   "metadata": {},
   "outputs": [],
   "source": []
  },
  {
   "cell_type": "code",
   "execution_count": null,
   "id": "4bfbf775-f430-4f2b-833b-fa81636e33a9",
   "metadata": {},
   "outputs": [],
   "source": []
  },
  {
   "cell_type": "code",
   "execution_count": null,
   "id": "67fb5939-dcb7-4b9f-83ca-2a04b9ba9a09",
   "metadata": {},
   "outputs": [],
   "source": []
  },
  {
   "cell_type": "code",
   "execution_count": null,
   "id": "3833bfe0-6e61-4c34-b9ff-8b1073ea5667",
   "metadata": {},
   "outputs": [],
   "source": []
  },
  {
   "cell_type": "code",
   "execution_count": null,
   "id": "dac0007d-b04a-449d-ace9-1e51b3006425",
   "metadata": {},
   "outputs": [],
   "source": []
  },
  {
   "cell_type": "code",
   "execution_count": null,
   "id": "e8813325-0eec-4e3a-8337-86bdac92b2b9",
   "metadata": {},
   "outputs": [],
   "source": []
  },
  {
   "cell_type": "code",
   "execution_count": null,
   "id": "0c70afe2-46bb-4d16-94a5-868f376b9d97",
   "metadata": {},
   "outputs": [],
   "source": []
  },
  {
   "cell_type": "code",
   "execution_count": null,
   "id": "a9cf5280-d3b6-47b6-9516-d31387f5b855",
   "metadata": {},
   "outputs": [],
   "source": []
  }
 ],
 "metadata": {
  "kernelspec": {
   "display_name": "Python 3 (ipykernel)",
   "language": "python",
   "name": "python3"
  },
  "language_info": {
   "codemirror_mode": {
    "name": "ipython",
    "version": 3
   },
   "file_extension": ".py",
   "mimetype": "text/x-python",
   "name": "python",
   "nbconvert_exporter": "python",
   "pygments_lexer": "ipython3",
   "version": "3.11.2"
  },
  "widgets": {
   "application/vnd.jupyter.widget-state+json": {
    "state": {},
    "version_major": 2,
    "version_minor": 0
   }
  }
 },
 "nbformat": 4,
 "nbformat_minor": 5
}
