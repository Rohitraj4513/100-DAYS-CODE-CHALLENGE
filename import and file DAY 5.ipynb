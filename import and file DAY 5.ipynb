{
 "cells": [
  {
   "cell_type": "code",
   "execution_count": 4,
   "id": "6d07108d-1eca-4e41-b66e-a08fc526e13c",
   "metadata": {},
   "outputs": [
    {
     "name": "stdin",
     "output_type": "stream",
     "text": [
      "enter the number 9\n"
     ]
    },
    {
     "name": "stdout",
     "output_type": "stream",
     "text": [
      "square of value :3.0\n"
     ]
    }
   ],
   "source": [
    " #Write a Python program that uses the math module to calculate the square root of a number entered by the user.\n",
    "from math import sqrt\n",
    "number=int(input(\"enter the number\"))\n",
    "print(f\"square :{sqrt(number)}\")\n",
    "\n",
    "import math as m\n",
    "number=int(input(\"enter the number\"))\n",
    "str=m.sqrt(number)\n",
    "print(str)\n",
    "\n",
    "import math\n",
    "number=int(input(\"enter the number\"))\n",
    "st=math.sqrt(number)\n",
    "print(st)\n"
   ]
  },
  {
   "cell_type": "code",
   "execution_count": 14,
   "id": "038935e9-145d-4522-ab35-c49f0c68d746",
   "metadata": {},
   "outputs": [
    {
     "name": "stdout",
     "output_type": "stream",
     "text": [
      "Directorytest_directory2created successfully\n",
      "The directory 'test_directory2exists\n"
     ]
    }
   ],
   "source": [
    "#Use the os module to create a new directory called test_directory and check if the directory was created.\n",
    "import os \n",
    "dir_name=(\"test_directory2\")\n",
    "os.mkdir(dir_name)\n",
    "print(f\"Directory{dir_name}created successfully\")\n",
    "if os.path.exists(dir_name):\n",
    "    print(f\"The directory '{dir_name}exists\")"
   ]
  },
  {
   "cell_type": "code",
   "execution_count": 17,
   "id": "47d45525-7393-4ca9-907c-b21fbbf66031",
   "metadata": {},
   "outputs": [
    {
     "name": "stdout",
     "output_type": "stream",
     "text": [
      "Current Date and Time: 2024-12-26 20:52:07.554805\n"
     ]
    }
   ],
   "source": [
    "#Import the datetime module and print the current date and time.\n",
    "import datetime\n",
    "time=datetime.datetime.now()\n",
    "print(f\"Current Date and Time: {time}\")"
   ]
  },
  {
   "cell_type": "code",
   "execution_count": 22,
   "id": "28c99ebd-9b95-499a-ab31-aba35ba7a270",
   "metadata": {},
   "outputs": [
    {
     "name": "stdout",
     "output_type": "stream",
     "text": [
      "outside function : 10\n",
      "inside function : 5\n",
      "After function call outside: 5\n"
     ]
    }
   ],
   "source": [
    "''' Write a Python program that demonstrates the difference between a local and a global variable. \n",
    "Use a global variable count and modify its value inside a function using the global'''\n",
    "count=10\n",
    "def Update_count():\n",
    "    global count\n",
    "    count = 5\n",
    "    print(f\"inside function : {count}\")\n",
    "print(f\"outside function : {count}\")\n",
    "Update_count()\n",
    "print(f\"After function call outside: {count}\")"
   ]
  },
  {
   "cell_type": "code",
   "execution_count": 26,
   "id": "a94b3079-d38f-4c2f-988a-1eca9c1cb854",
   "metadata": {},
   "outputs": [
    {
     "name": "stdout",
     "output_type": "stream",
     "text": [
      "globle variable :10\n"
     ]
    },
    {
     "name": "stdin",
     "output_type": "stream",
     "text": [
      "enter value 2\n"
     ]
    },
    {
     "name": "stdout",
     "output_type": "stream",
     "text": [
      "local variable : 2\n",
      "cobe : 8\n"
     ]
    }
   ],
   "source": [
    "''' Write a Python function that uses a local variable x and calculates the cube of a number entered by the user.\n",
    "Ensure the variable x doesn’t affect global variables.'''\n",
    "x=10\n",
    "def Cube(number):\n",
    "    x=int(input(\"enter value\"))\n",
    "    cb=x*x*x\n",
    "    print(f\"local variable : {x}\")\n",
    "    print(f\"cobe : {cb}\")\n",
    "print(f\"globle variable :{x}\")\n",
    "#function call\n",
    "Cube(2)\n",
    "    \n",
    "    \n"
   ]
  },
  {
   "cell_type": "code",
   "execution_count": null,
   "id": "a0c91c93-6bbf-4c18-8d0e-1c2d5efb1276",
   "metadata": {},
   "outputs": [],
   "source": [
    "File I/O"
   ]
  },
  {
   "cell_type": "code",
   "execution_count": 36,
   "id": "233e0234-5498-4ea5-9a5b-b5f29a5d6943",
   "metadata": {},
   "outputs": [
    {
     "name": "stdout",
     "output_type": "stream",
     "text": [
      "Hello, Python!\n"
     ]
    }
   ],
   "source": [
    "''' Write a Python program to create a text file named example.txt and write the text \"Hello, Python!\" into it. \n",
    "Then read the contents of the file and print it. '''\n",
    "with open(\"example.txt\" , \"w\") as f:\n",
    "    f.write('Hello, Python!')\n",
    "\n",
    "\n",
    "with open('example.txt' , 'r') as f:\n",
    "    cnt=f.read()\n",
    "    print(cnt)\n",
    "\n"
   ]
  },
  {
   "cell_type": "code",
   "execution_count": 58,
   "id": "28176667-40ee-42f2-a1c2-15e5d956c057",
   "metadata": {},
   "outputs": [],
   "source": [
    "#Write a program that appends \"This is a new line.\" to an existing file called my_file.txt. If the file does not exist, create it.\n",
    "with open(\"example.txt\" , \"a\") as f:\n",
    "    cntt=f.write(\" Write a Python program to create a text file named example.txt and write the text Hello, Python! into it. Then read the contents of the file and print it.\")\n",
    " \n",
    "    \n",
    "    \n",
    "    "
   ]
  },
  {
   "cell_type": "code",
   "execution_count": null,
   "id": "19bf2225-4f06-47ed-a487-240a9d00c323",
   "metadata": {},
   "outputs": [],
   "source": [
    "with open(\"example.txt\" , \"a\") as f:\n",
    "    cntt=f.write(''' from math import sqrt\n",
    "number=int(input(\"enter the number\"))\n",
    "print(f\"square :{sqrt(number)}\")\n",
    "\n",
    "import math as m\n",
    "number=int(input(\"enter the number\"))\n",
    "str=m.sqrt(number)\n",
    "print(str)\n",
    "\n",
    "import math\n",
    "number=int(input(\"enter the number\"))\n",
    "st=math.sqrt(number)\n",
    "print(st).''')"
   ]
  },
  {
   "cell_type": "code",
   "execution_count": 59,
   "id": "1b8eaa6a-2277-40c1-b7fc-6c2997b2517a",
   "metadata": {},
   "outputs": [
    {
     "name": "stdout",
     "output_type": "stream",
     "text": [
      "Hello, Python!This is a new line Write a Python program to create a text file named example.txt and write the text Hello, Python! into it. Then read the contents of the file and  it. from math import sqrt\n",
      "number=int(input(\"enter the number\"))\n",
      "print(f\"square :{sqrt(number)}\")\n",
      "\n",
      "import math as m\n",
      "number=int(input(\"enter the number\"))\n",
      "str=m.sqrt(number)\n",
      "print(str)\n",
      "\n",
      "import math\n",
      "number=int(input(\"enter the number\"))\n",
      "st=math.sqrt(number)\n",
      "print(st).\n"
     ]
    }
   ],
   "source": [
    "with open('example.txt' , 'r') as f:\n",
    "    cn=f.read()\n",
    "    print(cn)"
   ]
  },
  {
   "cell_type": "code",
   "execution_count": 61,
   "id": "1fea517c-7d10-43fe-8d53-53a40e81f067",
   "metadata": {},
   "outputs": [
    {
     "name": "stdout",
     "output_type": "stream",
     "text": [
      "Number of lines :205\n",
      "Number of words: 166\n",
      "Number of characters:205\n"
     ]
    }
   ],
   "source": [
    "# Create a Python program to count the number of lines, words, and characters in a text file. Assume the file is named example.txt.\n",
    "with open(\"example.txt\" , \"r\") as f:\n",
    "    line=f.readline()\n",
    "    count_line= len(line)\n",
    "    word_count= sum(len(i.split()) for i in line)\n",
    "    char_count = sum(len(i) for i in line)\n",
    "    print(f\"Number of lines :{count_line}\")\n",
    "    print(f\"Number of words: {word_count}\")\n",
    "    print(f\"Number of characters:{char_count}\")\n",
    "    "
   ]
  },
  {
   "cell_type": "code",
   "execution_count": null,
   "id": "ce0fc5a4-c9fa-4a50-bb76-78e930daf07f",
   "metadata": {},
   "outputs": [],
   "source": []
  },
  {
   "cell_type": "code",
   "execution_count": null,
   "id": "20f0c480-8916-41d2-8cac-705419a46ab5",
   "metadata": {},
   "outputs": [],
   "source": []
  },
  {
   "cell_type": "code",
   "execution_count": null,
   "id": "afccb3ac-a95d-48da-8a62-6adb1f81c0f7",
   "metadata": {},
   "outputs": [],
   "source": []
  }
 ],
 "metadata": {
  "kernelspec": {
   "display_name": "Python 3 (ipykernel)",
   "language": "python",
   "name": "python3"
  },
  "language_info": {
   "codemirror_mode": {
    "name": "ipython",
    "version": 3
   },
   "file_extension": ".py",
   "mimetype": "text/x-python",
   "name": "python",
   "nbconvert_exporter": "python",
   "pygments_lexer": "ipython3",
   "version": "3.11.2"
  }
 },
 "nbformat": 4,
 "nbformat_minor": 5
}
