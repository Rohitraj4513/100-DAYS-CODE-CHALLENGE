{
 "cells": [
  {
   "cell_type": "code",
   "execution_count": 2,
   "id": "58062df7-3733-4506-b94b-701d5417545b",
   "metadata": {},
   "outputs": [
    {
     "name": "stdout",
     "output_type": "stream",
     "text": [
      "6\n"
     ]
    }
   ],
   "source": [
    "def mxsum(arr):\n",
    "    n=len(arr)\n",
    "    mxcm=-10**9\n",
    "    for i in range(n):\n",
    "        for j in range(i , n):\n",
    "            sum_=0\n",
    "            for k in range(i , j+1):\n",
    "                sum_+=arr[k]\n",
    "            mxcm=max(sum_ , mxcm)\n",
    "    return mxcm\n",
    "    \n",
    "nums = [-2,1,-3,4,-1,2,1,-5,4]\n",
    "print(mxsum(nums))\n",
    "              \n",
    "                \n",
    "                \n",
    "                "
   ]
  },
  {
   "cell_type": "code",
   "execution_count": 4,
   "id": "92aa1de0-25a0-4a5a-beb5-af8c2bcfc4ec",
   "metadata": {},
   "outputs": [
    {
     "name": "stdout",
     "output_type": "stream",
     "text": [
      "6\n"
     ]
    }
   ],
   "source": [
    "def mxsum(arr):\n",
    "    n=len(arr)\n",
    "    mxcm=-10**9\n",
    "    for i in range(n):\n",
    "        sum_=0\n",
    "        for j in range(i , n):\n",
    "            sum_+=arr[j]\n",
    "            mxcm=max(sum_ , mxcm)\n",
    "    return mxcm\n",
    "    \n",
    "nums = [-2,1,-3,4,-1,2,1,-5,4]\n",
    "print(mxsum(nums))         "
   ]
  },
  {
   "cell_type": "code",
   "execution_count": 19,
   "id": "e842c06f-9ea5-411b-8235-67f8a1f01c05",
   "metadata": {},
   "outputs": [],
   "source": [
    "def mxsm(arr):\n",
    "    n=len(arr)\n",
    "    min1=10**9\n",
    "    min2=10**9\n",
    "    mxsum=-10**9\n",
    "    for i in arr:\n",
    "        if i < min1:\n",
    "            min2=min1\n",
    "            min1=i\n",
    "        elif i < min2:\n",
    "            min2=i\n",
    "        if min2 != 10**9:\n",
    "            mxsum=max(mxsum , min1 + min2)\n",
    "        \n",
    "    return mxsum\n",
    "        "
   ]
  },
  {
   "cell_type": "code",
   "execution_count": 20,
   "id": "b065bdb0-2ba2-415a-8863-05cfed6d0696",
   "metadata": {},
   "outputs": [
    {
     "name": "stdout",
     "output_type": "stream",
     "text": [
      "7\n"
     ]
    }
   ],
   "source": [
    "nums =  [4, 3, 1, 5, 6]\n",
    "print(mxsm(nums)) "
   ]
  },
  {
   "cell_type": "code",
   "execution_count": 34,
   "id": "f75efccd-0039-47c7-8461-7f620d17e538",
   "metadata": {},
   "outputs": [
    {
     "name": "stdout",
     "output_type": "stream",
     "text": [
      "6\n"
     ]
    }
   ],
   "source": [
    "def Stock_prices(arr):\n",
    "    mini=arr[0]\n",
    "    mx=0\n",
    "    sum_=0\n",
    "    n=len(arr)\n",
    "    for i in range(n-1):\n",
    "        if mini > arr[i]:\n",
    "            mini=arr[i]\n",
    "        if arr[i+1] > arr[i]:\n",
    "            value=arr[i+1] - mini\n",
    "            if sum_ < value:\n",
    "                sum_=value\n",
    "    return sum_\n",
    "arr = [2, 4, 1, 7]       \n",
    "print(Stock_prices(arr))               \n",
    "     "
   ]
  },
  {
   "cell_type": "code",
   "execution_count": 35,
   "id": "0e5d2bc9-a867-40f0-8435-34f3486006a2",
   "metadata": {},
   "outputs": [],
   "source": [
    "def Stock_prices(arr):\n",
    "    mini=arr[0]\n",
    "    mxprice=0\n",
    "    for i in range(1 , len(arr)):\n",
    "        mini=min(mini , arr[i])\n",
    "        mxprice=max(mxprice , arr[i] - mini)\n",
    "    return mxprice\n",
    "        "
   ]
  },
  {
   "cell_type": "code",
   "execution_count": 36,
   "id": "d5a923b5-2fa1-436e-a353-d0de351dac6d",
   "metadata": {},
   "outputs": [
    {
     "name": "stdout",
     "output_type": "stream",
     "text": [
      "6\n"
     ]
    }
   ],
   "source": [
    "arr = [2, 4, 1, 7]       \n",
    "print(Stock_prices(arr))  "
   ]
  },
  {
   "cell_type": "code",
   "execution_count": 54,
   "id": "65ad1f41-2fb5-4dc2-a66f-49335c9cb306",
   "metadata": {},
   "outputs": [],
   "source": [
    "def point(arr):\n",
    "    low=0\n",
    "    high=0\n",
    "    for i in range(len(arr)):\n",
    "        if arr[i] > 0 and i != 0:\n",
    "            high=i\n",
    "        else:\n",
    "           if arr[i] < 0:\n",
    "               low=i \n",
    "        \n",
    "               \n",
    "        \n",
    "        "
   ]
  },
  {
   "cell_type": "code",
   "execution_count": 55,
   "id": "701147ed-49bd-4a23-9331-497993e5aa5f",
   "metadata": {},
   "outputs": [
    {
     "name": "stdout",
     "output_type": "stream",
     "text": [
      "[3, 1, -2, -5, 2, -4]\n",
      "[3, -2, 1, 2, -5, -4]\n"
     ]
    }
   ],
   "source": [
    "arr=[3,1,-2,-5,2,-4]\n",
    "print(arr)\n",
    "point(arr)\n",
    "print(arr)"
   ]
  },
  {
   "cell_type": "code",
   "execution_count": 57,
   "id": "46d3411e-d95f-4859-890f-7c7f8c65d844",
   "metadata": {},
   "outputs": [
    {
     "name": "stdout",
     "output_type": "stream",
     "text": [
      "[3, 1, -2, -5, 2, -4]\n",
      "[-4, 2, 1, 3, -5, -2]\n"
     ]
    }
   ],
   "source": [
    "def point(arr):\n",
    "    "
   ]
  },
  {
   "cell_type": "code",
   "execution_count": 1,
   "id": "ae96219e-e10b-47c0-8548-e65ddf3e9a69",
   "metadata": {},
   "outputs": [],
   "source": [
    "def point(arr): \n",
    "    ng=[]\n",
    "    pst=[]\n",
    "    for i in range(len(arr)):\n",
    "        if arr[i] > 0:\n",
    "            pst.append(arr[i])\n",
    "        else:\n",
    "            ng.append(arr[i])\n",
    "    for i in range(len(pst)):\n",
    "        arr[i * 2] = pst[i]\n",
    "    for i in range(len(ng)):\n",
    "        arr[i * 2 + 1] = ng[i]   \n",
    "    return arr"
   ]
  },
  {
   "cell_type": "code",
   "execution_count": 2,
   "id": "d320efa6-5d2c-43a0-a87a-ff019c330317",
   "metadata": {},
   "outputs": [
    {
     "name": "stdout",
     "output_type": "stream",
     "text": [
      "[3, -2, 1, -5, 2, -4]\n"
     ]
    }
   ],
   "source": [
    "arr=[3,1,-2,-5,2,-4]\n",
    "print(point(arr))  "
   ]
  },
  {
   "cell_type": "code",
   "execution_count": 3,
   "id": "9940e6ff-ccea-4df0-90fd-df39f48ded35",
   "metadata": {},
   "outputs": [
    {
     "name": "stdout",
     "output_type": "stream",
     "text": [
      "[3, -2, 1, -5, 2, -4]\n"
     ]
    }
   ],
   "source": [
    "def point(arr):\n",
    "    pos_idx, neg_idx = 0, 1  # Start at first positive (even) and first negative (odd)\n",
    "    n = len(arr)\n",
    "\n",
    "    while pos_idx < n and neg_idx < n:\n",
    "        # Find the next misplaced positive number\n",
    "        while pos_idx < n and arr[pos_idx] >= 0:\n",
    "            pos_idx += 2  # Skip to next positive slot\n",
    "\n",
    "        # Find the next misplaced negative number\n",
    "        while neg_idx < n and arr[neg_idx] < 0:\n",
    "            neg_idx += 2  # Skip to next negative slot\n",
    "\n",
    "        # Swap if within bounds\n",
    "        if pos_idx < n and neg_idx < n:\n",
    "            arr[pos_idx], arr[neg_idx] = arr[neg_idx], arr[pos_idx]\n",
    "\n",
    "    return arr\n",
    "\n",
    "# Example Usage\n",
    "arr=[3,1,-2,-5,2,-4]\n",
    "print(point(arr))  # Output: [1, -3, 2, -4, 6, -5, 8, -7, 9]\n"
   ]
  },
  {
   "cell_type": "code",
   "execution_count": 10,
   "id": "c096a66d-a4e4-4950-928b-fc2c5fee4042",
   "metadata": {},
   "outputs": [],
   "source": [
    "def reverse(arr):\n",
    "    pst=0\n",
    "    ngt=1\n",
    "    n=len(arr)\n",
    "    while pst < n and ngt < n :\n",
    "        while pst < n and arr[pst] >= 0:\n",
    "            pst +=2\n",
    "        while ngt < n and arr[ngt] < 0:\n",
    "            ngt +=2\n",
    "        if ngt < n and pst < n:\n",
    "            arr[pst] , arr[ngt] = arr[ngt] ,arr[pst]\n",
    "    return arr"
   ]
  },
  {
   "cell_type": "code",
   "execution_count": 12,
   "id": "6627b8a7-cd3a-4aba-a063-b472ae1da722",
   "metadata": {},
   "outputs": [
    {
     "name": "stdout",
     "output_type": "stream",
     "text": [
      "[28, -41, 22, -8, 46, -37, 35, -9, 18, -6, 19, -26, 15, -10, 31, -37, 14, -9]\n"
     ]
    }
   ],
   "source": [
    "arr=[28,-41,22,-8,-37,46,35,-9,18,-6,19,-26,-37,-10,-9,15,14,31]\n",
    "print(reverse(arr)) "
   ]
  },
  {
   "cell_type": "code",
   "execution_count": null,
   "id": "6ed3febd-7879-403f-8c51-7d2e94c887b0",
   "metadata": {},
   "outputs": [],
   "source": [
    "[28,-41,22,-8,46,-37,35,-9,18,-6,19,-26,15,-37,14,-10,31,-9]"
   ]
  },
  {
   "cell_type": "code",
   "execution_count": null,
   "id": "37a3c802-140d-4058-9ec1-a20a6120a788",
   "metadata": {},
   "outputs": [],
   "source": [
    "from typing import List\n",
    "\n",
    "def RearrangebySign(A: List[int]) -> List[int]:\n",
    "    n = len(A)\n",
    "    \n",
    "    # Define array for storing the ans separately.\n",
    "    ans =[]\n",
    "    \n",
    "    # positive elements start from 0 and negative from 1.\n",
    "    posIndex, negIndex = 0, 1\n",
    "    for i in range(n):\n",
    "        \n",
    "        # Fill negative elements in odd indices and inc by 2.\n",
    "        if A[i] < 0:\n",
    "            ans[negIndex] = A[i]\n",
    "            negIndex += 2\n",
    "        \n",
    "        # Fill positive elements in even indices and inc by 2.\n",
    "        else:\n",
    "            ans[posIndex] = A[i]\n",
    "            posIndex += 2\n",
    "    \n",
    "    return ans\n",
    "    \n",
    "# Test the function\n",
    "A = [28,-41,22,-8,-37,46,35,-9,18,-6,19,-26,-37,-10,-9,15,14,31]\n",
    "ans = RearrangebySign(A)\n",
    "print(ans)"
   ]
  },
  {
   "cell_type": "code",
   "execution_count": 16,
   "id": "002518b5-998e-4dd9-a523-45353fa9b201",
   "metadata": {},
   "outputs": [
    {
     "name": "stdout",
     "output_type": "stream",
     "text": [
      "[28, -41, 22, -8, 46, -37, 35, -9, 18, -6, 19, -26, 15, -10, 31, -37, 14, -9]\n"
     ]
    }
   ],
   "source": []
  },
  {
   "cell_type": "code",
   "execution_count": 21,
   "id": "ae7a8e03-612c-4323-baa9-36ad15ba6f4b",
   "metadata": {},
   "outputs": [],
   "source": [
    "def rearrge(arr):\n",
    "    n=len(arr)\n",
    "    pst=0\n",
    "    ngt=1\n",
    "    ans=[0]*n\n",
    "    for i in range(n):\n",
    "        if arr[i] > 0:\n",
    "            ans[pst] = arr[i]\n",
    "            pst +=2\n",
    "        else:\n",
    "            ans[ngt] = arr[i]\n",
    "            ngt +=2\n",
    "    return ans"
   ]
  },
  {
   "cell_type": "code",
   "execution_count": 23,
   "id": "15c82cc5-602a-4d9d-910f-a461740be199",
   "metadata": {},
   "outputs": [
    {
     "name": "stdout",
     "output_type": "stream",
     "text": [
      "[3, -2, 1, -5, 2, -4]\n"
     ]
    }
   ],
   "source": [
    "arr=[3,1,-2,-5,2,-4]\n",
    "print(rearrge(arr))"
   ]
  },
  {
   "cell_type": "code",
   "execution_count": null,
   "id": "a5fd7791-425d-4818-bb39-9326554dc62d",
   "metadata": {},
   "outputs": [],
   "source": []
  },
  {
   "cell_type": "code",
   "execution_count": null,
   "id": "21752d6c-8d12-4a23-930c-672846f96626",
   "metadata": {},
   "outputs": [],
   "source": []
  },
  {
   "cell_type": "code",
   "execution_count": null,
   "id": "71c6084c-5665-4554-a203-12225fdf218d",
   "metadata": {},
   "outputs": [],
   "source": []
  },
  {
   "cell_type": "code",
   "execution_count": null,
   "id": "1adc8a0b-87ce-441f-9c1d-591100153f68",
   "metadata": {},
   "outputs": [],
   "source": []
  }
 ],
 "metadata": {
  "kernelspec": {
   "display_name": "Python 3 (ipykernel)",
   "language": "python",
   "name": "python3"
  },
  "language_info": {
   "codemirror_mode": {
    "name": "ipython",
    "version": 3
   },
   "file_extension": ".py",
   "mimetype": "text/x-python",
   "name": "python",
   "nbconvert_exporter": "python",
   "pygments_lexer": "ipython3",
   "version": "3.11.2"
  },
  "widgets": {
   "application/vnd.jupyter.widget-state+json": {
    "state": {},
    "version_major": 2,
    "version_minor": 0
   }
  }
 },
 "nbformat": 4,
 "nbformat_minor": 5
}
