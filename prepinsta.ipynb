{
 "cells": [
  {
   "cell_type": "code",
   "execution_count": 21,
   "id": "53bf4a74-80b1-4586-b301-cf7ab58d1f33",
   "metadata": {},
   "outputs": [
    {
     "name": "stdout",
     "output_type": "stream",
     "text": [
      "True\n"
     ]
    }
   ],
   "source": [
    "#Program to check Valid Palindrome – Medium Level\n",
    "s = \"Was it a car or a cat I saw?\"\n",
    "s = s.lower()\n",
    "news = \"\"\n",
    "for i in s:\n",
    "    if \"a\" <= i <= \"z\" or \"0\" <= i <= \"9\":\n",
    "        news += i\n",
    "\n",
    "n = len(news)-1\n",
    "low , high = 0 , n\n",
    "count = 0\n",
    "\n",
    "while low <= high:\n",
    "    if news[low] != news[high]:\n",
    "        print('False')\n",
    "        count +=1\n",
    "        break\n",
    "    low +=1\n",
    "    high -=1\n",
    "    \n",
    "if count == 0:\n",
    "    print('True')\n",
    "        \n"
   ]
  },
  {
   "cell_type": "code",
   "execution_count": 34,
   "id": "535d8653-e6b0-4bdc-bc22-264ce09262b7",
   "metadata": {},
   "outputs": [
    {
     "name": "stdout",
     "output_type": "stream",
     "text": [
      "[0, 1]\n"
     ]
    }
   ],
   "source": [
    "#Two Integer Sum II – Medium Level Problem\n",
    "\n",
    "num = [2, 7, 11, 15]\n",
    "target = 9\n",
    "n = len(num)\n",
    "for i in range(n):\n",
    "    for j in range(i+1, n):\n",
    "       if num[i] + num[j] == target:\n",
    "           print([i , j])\n",
    "           break\n",
    "            \n",
    "        "
   ]
  },
  {
   "cell_type": "code",
   "execution_count": 1,
   "id": "cd3a3bc5-9d2a-4fe8-bacc-1dcaec540156",
   "metadata": {},
   "outputs": [
    {
     "name": "stdout",
     "output_type": "stream",
     "text": [
      "[0, 1]\n"
     ]
    }
   ],
   "source": [
    "num = [2, 7, 11, 15]\n",
    "target = 9\n",
    "\n",
    "low , high = 0 , len(num)-1\n",
    "while low < high :\n",
    "    if num[low] + num[high] == target:\n",
    "        print([low , high])\n",
    "        break\n",
    "    elif num[low] + num[high] > target:\n",
    "        high -=1\n",
    "    else:\n",
    "        low +=1\n",
    "\n",
    "        \n",
    "        "
   ]
  },
  {
   "cell_type": "code",
   "execution_count": null,
   "id": "37bd0160-f74a-4004-b98a-851d7a8b42fa",
   "metadata": {},
   "outputs": [],
   "source": []
  },
  {
   "cell_type": "code",
   "execution_count": null,
   "id": "db1b4b2d-bd08-4952-96ac-2272e798a21e",
   "metadata": {},
   "outputs": [],
   "source": []
  },
  {
   "cell_type": "code",
   "execution_count": null,
   "id": "0453c507-c540-4ff9-9617-7f25de51ec9e",
   "metadata": {},
   "outputs": [],
   "source": []
  },
  {
   "cell_type": "code",
   "execution_count": null,
   "id": "41b5f501-0e70-412d-b39f-6404de2bc173",
   "metadata": {},
   "outputs": [],
   "source": []
  },
  {
   "cell_type": "code",
   "execution_count": null,
   "id": "136b1709-3f18-4646-9c5c-526922b2a97e",
   "metadata": {},
   "outputs": [],
   "source": []
  },
  {
   "cell_type": "code",
   "execution_count": null,
   "id": "ca5e9e84-dc4a-4b35-b288-89ddad0d5cee",
   "metadata": {},
   "outputs": [],
   "source": []
  },
  {
   "cell_type": "code",
   "execution_count": null,
   "id": "44491567-6b74-4b5f-a6a1-2e0c529dbfbb",
   "metadata": {},
   "outputs": [],
   "source": []
  },
  {
   "cell_type": "code",
   "execution_count": null,
   "id": "36ff9d4b-82cf-4b30-b985-cac7ed79df7b",
   "metadata": {},
   "outputs": [],
   "source": []
  },
  {
   "cell_type": "code",
   "execution_count": null,
   "id": "a5678056-1599-4ed2-9737-408c71ce5631",
   "metadata": {},
   "outputs": [],
   "source": []
  },
  {
   "cell_type": "code",
   "execution_count": null,
   "id": "c9d0a8e2-6416-483b-964c-f30d07ac5851",
   "metadata": {},
   "outputs": [],
   "source": []
  },
  {
   "cell_type": "code",
   "execution_count": null,
   "id": "285ff4a1-8f31-4c1a-9c8a-9428c6f97689",
   "metadata": {},
   "outputs": [],
   "source": []
  },
  {
   "cell_type": "code",
   "execution_count": null,
   "id": "5d42017b-f40e-421b-9cc8-2bdf6b26bc4e",
   "metadata": {},
   "outputs": [],
   "source": []
  },
  {
   "cell_type": "code",
   "execution_count": null,
   "id": "fbb1b382-63bd-4f9e-bb08-3b68617a5ec8",
   "metadata": {},
   "outputs": [],
   "source": []
  },
  {
   "cell_type": "code",
   "execution_count": null,
   "id": "031db1f0-a0bd-451a-a27c-8c156b119a33",
   "metadata": {},
   "outputs": [],
   "source": []
  },
  {
   "cell_type": "code",
   "execution_count": null,
   "id": "7c787b9a-daab-4dd4-9d39-07abd2cf1519",
   "metadata": {},
   "outputs": [],
   "source": []
  },
  {
   "cell_type": "code",
   "execution_count": null,
   "id": "db77c657-dd93-49a3-9502-10ea0c23d60b",
   "metadata": {},
   "outputs": [],
   "source": []
  },
  {
   "cell_type": "code",
   "execution_count": null,
   "id": "5c453734-70b2-4a54-9d88-547168361905",
   "metadata": {},
   "outputs": [],
   "source": []
  }
 ],
 "metadata": {
  "kernelspec": {
   "display_name": "Python 3 (ipykernel)",
   "language": "python",
   "name": "python3"
  },
  "language_info": {
   "codemirror_mode": {
    "name": "ipython",
    "version": 3
   },
   "file_extension": ".py",
   "mimetype": "text/x-python",
   "name": "python",
   "nbconvert_exporter": "python",
   "pygments_lexer": "ipython3",
   "version": "3.10.6"
  },
  "widgets": {
   "application/vnd.jupyter.widget-state+json": {
    "state": {},
    "version_major": 2,
    "version_minor": 0
   }
  }
 },
 "nbformat": 4,
 "nbformat_minor": 5
}
