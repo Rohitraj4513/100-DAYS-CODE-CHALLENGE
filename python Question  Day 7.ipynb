{
 "cells": [
  {
   "cell_type": "code",
   "execution_count": 9,
   "id": "e2b5839a-129b-43d0-bced-46398830f7ad",
   "metadata": {},
   "outputs": [
    {
     "name": "stdout",
     "output_type": "stream",
     "text": [
      "[1, 20, 3, 30, 5, 66, 7, 2, 20]\n",
      "[1, 2, 3, 5, 7, 20, 30, 66]\n"
     ]
    }
   ],
   "source": [
    "#Implement a program to remove duplicate elements from a list.\n",
    "lis=[1 , 20 , 3 , 30 , 5 ,66 ,7,2 , 20]\n",
    "print(lis)\n",
    "slt=set(lis)\n",
    "li = list(slt)\n",
    "li.sort()\n",
    "print(li)"
   ]
  },
  {
   "cell_type": "code",
   "execution_count": 57,
   "id": "39acbdf8-cf8c-4b7e-a062-a4d5d80cdd4b",
   "metadata": {},
   "outputs": [
    {
     "name": "stdout",
     "output_type": "stream",
     "text": [
      "mplement : count value : 1\n",
      "a : count value : 2\n",
      "function : count value : 1\n",
      "to : count value : 1\n",
      "count : count value : 1\n",
      "the : count value : 1\n",
      "frequency : count value : 1\n",
      "of : count value : 1\n",
      "words : count value : 1\n",
      "in : count value : 1\n",
      "string : count value : 1\n",
      "[['mplement', 1], ['a', 2], ['function', 1], ['to', 1], ['count', 1], ['the', 1], ['frequency', 1], ['of', 1], ['words', 1], ['in', 1], ['string', 1]]\n"
     ]
    }
   ],
   "source": [
    "#Implement a function to count the frequency of words in a string.\n",
    "str=\"mplement a function to count the frequency of words in a string\"\n",
    "str=str.lower()\n",
    "word=str.split(\" \")\n",
    "lst=[]\n",
    "for i in word:\n",
    "    count=word.count(i)\n",
    "    if not any(i == item[0] for item in lst):\n",
    "        lst.append([i , count])\n",
    "        print(f\"{i} : count value : {count}\")\n",
    "print(lst)\n",
    "\n",
    "\n"
   ]
  },
  {
   "cell_type": "code",
   "execution_count": 50,
   "id": "ae9ebbc1-c6de-47a9-8e27-2af8cc22929a",
   "metadata": {},
   "outputs": [
    {
     "name": "stdout",
     "output_type": "stream",
     "text": [
      "[['nama', 1], ['my', 1], ['name', 2], ['is', 2], ['rohit', 2], ['and', 1], ['your', 1]]\n"
     ]
    }
   ],
   "source": []
  },
  {
   "cell_type": "code",
   "execution_count": null,
   "id": "e3968aed-2577-4921-bbc6-0770c12b99aa",
   "metadata": {},
   "outputs": [],
   "source": []
  }
 ],
 "metadata": {
  "kernelspec": {
   "display_name": "Python 3 (ipykernel)",
   "language": "python",
   "name": "python3"
  },
  "language_info": {
   "codemirror_mode": {
    "name": "ipython",
    "version": 3
   },
   "file_extension": ".py",
   "mimetype": "text/x-python",
   "name": "python",
   "nbconvert_exporter": "python",
   "pygments_lexer": "ipython3",
   "version": "3.11.2"
  }
 },
 "nbformat": 4,
 "nbformat_minor": 5
}
