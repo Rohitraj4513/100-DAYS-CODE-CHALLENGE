{
 "cells": [
  {
   "cell_type": "code",
   "execution_count": 2,
   "id": "84366f0f-d58b-4d31-be23-944d8a704a13",
   "metadata": {},
   "outputs": [
    {
     "name": "stdout",
     "output_type": "stream",
     "text": [
      "[7, 8, 9, 12, 15]\n"
     ]
    }
   ],
   "source": [
    "def partion(arr , l , h):\n",
    "    po=arr[h]\n",
    "    i =l-1\n",
    "    for j in range(l , h):\n",
    "        if arr[j] < po :\n",
    "            i +=1\n",
    "            arr[j] , arr[i] = arr[i] , arr[j]\n",
    "    arr[i+1] , arr[h] = arr[h] , arr[i+1]\n",
    "    return i+1\n",
    "\n",
    "def Quick_sort(arr , l , h):\n",
    "    if l < h :\n",
    "        pi = partion(arr , l , h)\n",
    "\n",
    "        Quick_sort(arr , l , pi-1)\n",
    "        Quick_sort(arr, pi+1 , h)\n",
    "        \n",
    "arr = [12, 8, 15, 7, 9]\n",
    "Quick_sort(arr, 0, len(arr) - 1)\n",
    "print(arr)  # Output: [2, 5, 7, 8, 8]"
   ]
  },
  {
   "cell_type": "code",
   "execution_count": 19,
   "id": "a4d1bd02-8fda-472f-94f2-b488ceb25447",
   "metadata": {},
   "outputs": [
    {
     "name": "stdout",
     "output_type": "stream",
     "text": [
      "[7, 8, 9, 12, 15]\n"
     ]
    }
   ],
   "source": [
    "def Count(arr):\n",
    "    if not arr:\n",
    "        return arr\n",
    "    h=max(arr)\n",
    "    l=min(arr)\n",
    "    rang= h -l +1 \n",
    "    count=[0] * (h + 1)\n",
    "    output=[0] * len(arr)\n",
    "    \n",
    "    for i in arr:\n",
    "        count[i-l] +=1\n",
    "        \n",
    "    for i in range(1 , len(count)):\n",
    "        count[i] += count[i-1]\n",
    "    \n",
    "    \n",
    "    for i in reversed(arr):\n",
    "        output[count[i-l]-1] = i\n",
    "        count[i-l] -= 1\n",
    "        \n",
    "    return output\n",
    "        \n",
    "arr = [12, 8, 15, 7, 9]\n",
    "res=Count(arr)\n",
    "print(res)  # Output: [2, 5, 7, 8, 8]   "
   ]
  },
  {
   "cell_type": "code",
   "execution_count": 11,
   "id": "7e196947-f9da-4f6d-bf09-fc00abe4a8a4",
   "metadata": {},
   "outputs": [
    {
     "name": "stdout",
     "output_type": "stream",
     "text": [
      "5\n",
      "4\n",
      "3\n",
      "2\n",
      "1\n"
     ]
    }
   ],
   "source": [
    "arr = [1, 5, 1, 4, 3]\n",
    "for i in range(len(arr), 0 , -1):\n",
    "    print(i)\n",
    "    "
   ]
  },
  {
   "cell_type": "code",
   "execution_count": null,
   "id": "83e8adeb-0bb6-4f50-99eb-3bd769887e78",
   "metadata": {},
   "outputs": [],
   "source": []
  },
  {
   "cell_type": "code",
   "execution_count": null,
   "id": "295c5e2a-3eff-4b0f-9997-a52ac39943cd",
   "metadata": {},
   "outputs": [],
   "source": []
  },
  {
   "cell_type": "code",
   "execution_count": null,
   "id": "66377fc6-9ce4-4e5d-a4ba-09f2e1a638f7",
   "metadata": {},
   "outputs": [],
   "source": []
  }
 ],
 "metadata": {
  "kernelspec": {
   "display_name": "Python 3 (ipykernel)",
   "language": "python",
   "name": "python3"
  },
  "language_info": {
   "codemirror_mode": {
    "name": "ipython",
    "version": 3
   },
   "file_extension": ".py",
   "mimetype": "text/x-python",
   "name": "python",
   "nbconvert_exporter": "python",
   "pygments_lexer": "ipython3",
   "version": "3.11.2"
  },
  "widgets": {
   "application/vnd.jupyter.widget-state+json": {
    "state": {},
    "version_major": 2,
    "version_minor": 0
   }
  }
 },
 "nbformat": 4,
 "nbformat_minor": 5
}
