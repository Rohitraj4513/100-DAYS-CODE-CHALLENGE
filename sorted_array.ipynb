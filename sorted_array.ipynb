{
 "cells": [
  {
   "cell_type": "code",
   "execution_count": 53,
   "id": "205b1c0b-eafc-4ada-95b4-a527d3714bf7",
   "metadata": {},
   "outputs": [
    {
     "name": "stdout",
     "output_type": "stream",
     "text": [
      "[1, 2, 5, 6, 7, 9]\n",
      "7\n"
     ]
    }
   ],
   "source": [
    "arr= [ 7 , 5 , 2 , 9 , 6 , 1]\n",
    "n=len(arr)\n",
    "for i in range(n):\n",
    "    count=i\n",
    "    for j in range(i+1 , n):\n",
    "        if arr[j] < arr[count]:\n",
    "            count = j\n",
    "    arr[i] , arr[count] = arr[count] , arr[i]\n",
    "print(arr)\n",
    "print(arr[-2])"
   ]
  },
  {
   "cell_type": "code",
   "execution_count": 16,
   "id": "eb14bca9-562b-4614-9725-53b383939b11",
   "metadata": {},
   "outputs": [
    {
     "name": "stdout",
     "output_type": "stream",
     "text": [
      "[0, 2]\n"
     ]
    }
   ],
   "source": [
    "#Given a sorted array and a target element, find the first and last index of the target.\n",
    "nums = [5, 5, 5, 8, 8, 10]\n",
    "target = 5 \n",
    "# Output: [3, 4]\n",
    "st=-1\n",
    "end=-1\n",
    "n=len(nums)\n",
    "for i in range(n):\n",
    "    if nums[i] == target:\n",
    "        if st  == -1:\n",
    "            st=i\n",
    "        else:\n",
    "            end = i\n",
    "st=[st , end]\n",
    "print(st)\n",
    "        \n",
    "    \n",
    "\n"
   ]
  },
  {
   "cell_type": "code",
   "execution_count": null,
   "id": "63b4dadf-75c5-4049-8627-b47b06113295",
   "metadata": {},
   "outputs": [],
   "source": [
    "nums = [5, 5, 5, 8, 8, 10]\n",
    "target = 5 \n",
    "low , high = 0 , len(nums)\n",
    "result=-1\n",
    "while low <= high:\n",
    "    mid=(low + high)//2\n",
    "    if nums[mid] == target:\n",
    "        result = mid"
   ]
  },
  {
   "cell_type": "code",
   "execution_count": 18,
   "id": "18ed0910-0b46-4610-8910-53e893d7df88",
   "metadata": {},
   "outputs": [
    {
     "name": "stdout",
     "output_type": "stream",
     "text": [
      "[0, 2]\n"
     ]
    }
   ],
   "source": [
    "def Search(num , target):\n",
    "    def binary(first):\n",
    "        low  , high = 0 , len(num)-1\n",
    "        result=-1\n",
    "        while low <= high:\n",
    "            mid = (low + high)//2\n",
    "            if num[mid] == target:\n",
    "                result=mid\n",
    "                if first == True:\n",
    "                    high=mid-1\n",
    "                else:\n",
    "                    low=mid+1\n",
    "            elif num[mid] < target:\n",
    "                low = mid+1\n",
    "            else:\n",
    "                high=mid-1\n",
    "        return result\n",
    "    st1=binary(first=True)\n",
    "    end=binary(first=False)\n",
    "\n",
    "    return [st1 , end]\n",
    "nums = [5, 5, 5, 8, 8, 10]\n",
    "target = 5 \n",
    "print(Search(nums , target))"
   ]
  },
  {
   "cell_type": "code",
   "execution_count": 24,
   "id": "b59d47cc-83ff-4664-8ada-4f0c494a9a0c",
   "metadata": {},
   "outputs": [
    {
     "name": "stdout",
     "output_type": "stream",
     "text": [
      "3\n"
     ]
    }
   ],
   "source": [
    "#Given an array of size n-1 containing numbers from 1 to n, find the missing number.\n",
    "arr = [1, 2, 4, 5]  \n",
    "n=len(arr)+1\n",
    "result = (n * (n + 1))//2\n",
    "sum_arr=0\n",
    "for i in range(n-1):\n",
    "    sum_arr +=arr[i]\n",
    "ans=result - sum_arr\n",
    "print(ans)\n",
    "        \n"
   ]
  },
  {
   "cell_type": "code",
   "execution_count": 29,
   "id": "e12540ae-9d8f-497c-a485-75594f386b85",
   "metadata": {},
   "outputs": [
    {
     "name": "stdout",
     "output_type": "stream",
     "text": [
      "3\n"
     ]
    }
   ],
   "source": [
    "#A peak element is greater than its neighbors. Find any peak in an unsorted array.\n",
    "arr = [1, 2, 3, 4]  \n",
    "n=len(arr)\n",
    "ans=-1\n",
    "if n == 1:\n",
    "    ans=0\n",
    "if arr[0] > arr[1]:\n",
    "    ans=1\n",
    "if arr[n-1] > arr[n-2]:\n",
    "    ans=n-1\n",
    "\n",
    "for i in range(1 , n-1):\n",
    "    if arr[i] > arr[i-1] and arr[i] > arr[i+1]:\n",
    "        ans = i\n",
    "print(ans)\n",
    "    \n"
   ]
  },
  {
   "cell_type": "code",
   "execution_count": 31,
   "id": "1d53ea21-5590-4762-8901-9ae48e51e86f",
   "metadata": {},
   "outputs": [
    {
     "name": "stdout",
     "output_type": "stream",
     "text": [
      "True\n"
     ]
    }
   ],
   "source": [
    "#Two strings are anagrams if they contain the same characters but in different orders.\n",
    "def check(st1 , st2):\n",
    "    \n",
    "    if len(st1) != len(st2):\n",
    "        return False\n",
    "    n=len(st1)\n",
    "    for i in range(n):\n",
    "        count=0\n",
    "        for j in range(n):\n",
    "            if st1[i] == st2[j]:\n",
    "                count +=1\n",
    "        if count == 0:\n",
    "            return False\n",
    "    return True\n",
    "            \n",
    "st1= \"listen\" \n",
    "st2=\"silent\" \n",
    "print(check(\"aabb\", \"abcc\"))"
   ]
  },
  {
   "cell_type": "code",
   "execution_count": 35,
   "id": "02c5d266-1dd9-4f80-b73b-a65716c2378e",
   "metadata": {},
   "outputs": [
    {
     "name": "stdout",
     "output_type": "stream",
     "text": [
      "True\n",
      "False\n"
     ]
    }
   ],
   "source": [
    "def check(st1 , st2):\n",
    "    if len(st1) != len(st2):\n",
    "        return False\n",
    "    frq1={}\n",
    "    frq2={}\n",
    "    for i in st1:\n",
    "        frq1[i] = frq1.get(i , 0)+1\n",
    "    for i in st2:\n",
    "        frq2[i] = frq2.get(i , 0)+1\n",
    "    return frq1 == frq2\n",
    "st1= \"listen\" \n",
    "st2=\"silent\" \n",
    "print(check(st1 , st2))\n",
    "print(check(\"aabb\", \"abcc\"))"
   ]
  },
  {
   "cell_type": "code",
   "execution_count": 37,
   "id": "342975a0-2e77-4b22-8034-8ebdd1ac5d56",
   "metadata": {},
   "outputs": [
    {
     "name": "stdout",
     "output_type": "stream",
     "text": [
      "palindrome\n"
     ]
    }
   ],
   "source": [
    "st='aadaa'\n",
    "new_st=st[::-1]\n",
    "if st == new_st:\n",
    "    print('palindrome')\n",
    "else:\n",
    "    print(\"Not palindrome\")\n",
    "\n"
   ]
  },
  {
   "cell_type": "code",
   "execution_count": 1,
   "id": "e2aaabfb-ddd5-488a-8b49-ef5c4aba0fd8",
   "metadata": {},
   "outputs": [
    {
     "name": "stdout",
     "output_type": "stream",
     "text": [
      "Not palindrome\n"
     ]
    }
   ],
   "source": [
    "st='aadhaa'\n",
    "n=len(st)\n",
    "low , high = 0 ,n-1\n",
    "count=0\n",
    "while low <= high:\n",
    "    if st[low] == st[high]:\n",
    "        low +=1\n",
    "        high -=1\n",
    "    else:\n",
    "        count +=1\n",
    "        break\n",
    "        \n",
    "if count == 0:\n",
    "    print('palindrome')\n",
    "else:\n",
    "    print(\"Not palindrome\")\n",
    "    \n"
   ]
  },
  {
   "cell_type": "code",
   "execution_count": 6,
   "id": "bc09da1b-972e-4694-8077-ae0135c5fd02",
   "metadata": {},
   "outputs": [
    {
     "name": "stdout",
     "output_type": "stream",
     "text": [
      "['', 'a', 'b', 'ab', 'c', 'ac', 'bc', 'abc']\n"
     ]
    }
   ],
   "source": [
    "st='abc'\n",
    "lst=[]\n",
    "n=len(st)\n",
    "for i in range(1 << n):\n",
    "    sub=\"\"\n",
    "    for j in range(n):\n",
    "        if i & (1 << j):\n",
    "            sub += st[j]\n",
    "    lst.append(sub)\n",
    "print(lst)\n",
    "    \n"
   ]
  },
  {
   "cell_type": "code",
   "execution_count": 9,
   "id": "eb4fafb2-77b4-4a66-9a1d-545020589162",
   "metadata": {},
   "outputs": [
    {
     "name": "stdout",
     "output_type": "stream",
     "text": [
      " a b ab c ac bc abc d ad bd abd cd acd bcd abcd "
     ]
    }
   ],
   "source": [
    "st='abcd'\n",
    "n=len(st)\n",
    "lst=[]\n",
    "for i in range(1 << n):\n",
    "    sub = \"\"\n",
    "    for j in range(n):\n",
    "        if i & (1 << j):\n",
    "            sub += st[j]\n",
    "    print(sub , end=' ')\n",
    "   \n",
    "    "
   ]
  },
  {
   "cell_type": "code",
   "execution_count": 14,
   "id": "87c85c85-6056-4e53-adbf-8efc12dd09eb",
   "metadata": {},
   "outputs": [
    {
     "name": "stdout",
     "output_type": "stream",
     "text": [
      "bab\n"
     ]
    }
   ],
   "source": [
    "#Given a string, return the longest palindromic substring.\n",
    "def logest(s):\n",
    "    if not s:\n",
    "        return \"\"\n",
    "    def sub(left , right):\n",
    "        while left >= 0 and right < len(s) and s[left] == s[right] :\n",
    "            left -=1\n",
    "            right +=1\n",
    "        return s[left+1 : right]\n",
    "    long= \"\"\n",
    "    for i in range(len(s)):\n",
    "        odd=sub(i , i)\n",
    "        if len(odd) > len(long):\n",
    "            long = odd\n",
    "\n",
    "        even=sub(i , i)\n",
    "        if len(even) > len(long):\n",
    "            long = even\n",
    "    return long\n",
    "\n",
    "st = \"babad\"\n",
    "print(logest(st))\n",
    "        \n",
    "        \n",
    "        \n",
    "\n",
    "\n",
    "\n",
    "\n",
    "    \n",
    "\n",
    "\n",
    "\n"
   ]
  },
  {
   "cell_type": "code",
   "execution_count": 16,
   "id": "ff96df04-675e-40ec-a9f1-17e20b6ff833",
   "metadata": {},
   "outputs": [
    {
     "name": "stdout",
     "output_type": "stream",
     "text": [
      "bab\n"
     ]
    }
   ],
   "source": [
    "def longest(S):\n",
    "    if not S:\n",
    "        return \"\"\n",
    "\n",
    "    def helper(left , right):\n",
    "        while left >= 0 and right < len(S) and S[left] == S[right] :\n",
    "            left -=1\n",
    "            right +=1\n",
    "        return S[left+1:right]\n",
    "    long=\"\"\n",
    "    for i in range(len(S)):\n",
    "        odd=helper(i , i)\n",
    "        if len(odd)  > len(long):\n",
    "            long=odd\n",
    "\n",
    "        even= helper(i , i)\n",
    "        if len(even) > len(long):\n",
    "            long =even\n",
    "    return long\n",
    "\n",
    "st = \"babad\"\n",
    "print(logest(st))"
   ]
  },
  {
   "cell_type": "code",
   "execution_count": 19,
   "id": "7a0bf8cd-acd6-4698-892d-b258ec9a260f",
   "metadata": {},
   "outputs": [
    {
     "name": "stdout",
     "output_type": "stream",
     "text": [
      "olleh\n"
     ]
    }
   ],
   "source": [
    "#Reverse Words in a String\n",
    "st=\"hello\"\n",
    "new_st=st[::-1]\n",
    "print(new_st)\n",
    "\n"
   ]
  },
  {
   "cell_type": "code",
   "execution_count": 25,
   "id": "170f872a-8be6-40b0-85e3-b4d489b09dad",
   "metadata": {},
   "outputs": [
    {
     "name": "stdout",
     "output_type": "stream",
     "text": [
      "Python love I\n"
     ]
    }
   ],
   "source": [
    "st=\"I love Python\"\n",
    "new_st=[]\n",
    "words=st.split()\n",
    "for i in range(len(words)-1 , -1 , -1):\n",
    "    new_st.append(words[i])\n",
    "ans=\" \".join(new_st)\n",
    "    \n",
    "print(ans)"
   ]
  },
  {
   "cell_type": "code",
   "execution_count": 29,
   "id": "c0461a7c-08bc-4483-82ff-9324afbf3d69",
   "metadata": {},
   "outputs": [
    {
     "name": "stdout",
     "output_type": "stream",
     "text": [
      "[0, 1]\n"
     ]
    }
   ],
   "source": [
    "#Given an array and a target, find two numbers that add up to the target.\n",
    "nums = [2, 7, 11, 15]\n",
    "target = 9 \n",
    "st=-1\n",
    "end=-1\n",
    "for i in range(len(nums)):\n",
    "    for j in range(i , len(nums)):\n",
    "        if nums[i] + nums[j] == target:\n",
    "            st=i\n",
    "            end=j\n",
    "print([st , end])\n",
    "            \n",
    "\n"
   ]
  },
  {
   "cell_type": "code",
   "execution_count": 40,
   "id": "4127f3b8-91c0-4dd7-9bba-09a3fe4cddc6",
   "metadata": {},
   "outputs": [
    {
     "name": "stdout",
     "output_type": "stream",
     "text": [
      "[1, 2]\n"
     ]
    }
   ],
   "source": [
    "#Given an array and a target, find two numbers that add up to the target.\n",
    "def find(nums , target):\n",
    "    sum=0\n",
    "    for i in range(len(nums)):\n",
    "        sum = nums[i]\n",
    "        for j in range(i+1,len(nums)):\n",
    "            sum += nums[j]\n",
    "            if sum == target :\n",
    "                return [i , j]\n",
    "    return None\n",
    "nums = [2, 7, 11, 15]\n",
    "target = 18           \n",
    "print(find(nums , target))"
   ]
  },
  {
   "cell_type": "code",
   "execution_count": 48,
   "id": "c779e356-6732-465b-bbd7-c5799248cb6e",
   "metadata": {},
   "outputs": [
    {
     "name": "stdout",
     "output_type": "stream",
     "text": [
      "3\n"
     ]
    }
   ],
   "source": [
    "#Find the Majority Element (Element Appearing More Than n/2 Times)\n",
    "nums = [ 1, 2, 5 , 7, 6 , 3]\n",
    "output = 3\n",
    "def majority(nums):\n",
    "    n= len(nums)\n",
    "    count=0\n",
    "    target = n // 2\n",
    "    for i in range(n):\n",
    "        count=0\n",
    "        for j in range(n):\n",
    "            if nums[i] == nums[j]:\n",
    "                count +=1\n",
    "        if count >= target:\n",
    "            return nums[i]\n",
    "    return \"Not Found\"\n",
    "\n",
    "nums = [ 1, 2, 5 , 7, 6 , 3 , 3 , 3 , 3 , 3]\n",
    "output = 3\n",
    "print(majority(nums))\n",
    "            "
   ]
  },
  {
   "cell_type": "code",
   "execution_count": 51,
   "id": "9b3b2190-c916-4a24-9152-c077b490c566",
   "metadata": {},
   "outputs": [
    {
     "name": "stdout",
     "output_type": "stream",
     "text": [
      "{2}\n",
      "{1, 2}\n"
     ]
    }
   ],
   "source": [
    "#Find the Intersection of Two Arrays\n",
    "\n",
    "nums2=set([1, 2, 2, 1]) \n",
    "nums1 =set([2, 2])\n",
    "ans= nums1 & nums2\n",
    "ans1= nums1 | nums2\n",
    "print(ans)\n",
    "print(ans1)"
   ]
  },
  {
   "cell_type": "code",
   "execution_count": 57,
   "id": "63671658-7c62-42df-9e49-14c4741a49b4",
   "metadata": {},
   "outputs": [
    {
     "name": "stdout",
     "output_type": "stream",
     "text": [
      "[1, 2, 5, 7, 6, 9]\n",
      "6\n"
     ]
    }
   ],
   "source": [
    "def kth(num , k):\n",
    "    n=len(num)\n",
    "    for i in range(n):\n",
    "        count=i\n",
    "        for j in range(i , n):\n",
    "            if num[i] > num[j]:\n",
    "                count =j\n",
    "        num[i] , num[count] = num[count] , num[i]\n",
    "    print(num)\n",
    "    return num[-k]\n",
    "arr= [ 7 , 5 , 2 , 9 , 6 , 1]\n",
    "print(kth(arr , 2))\n"
   ]
  },
  {
   "cell_type": "code",
   "execution_count": 60,
   "id": "024e53cf-4fe6-4641-b4cc-3331850673c0",
   "metadata": {},
   "outputs": [
    {
     "name": "stdout",
     "output_type": "stream",
     "text": [
      "Name : Rohit Age: 20\n"
     ]
    }
   ],
   "source": [
    "class A:\n",
    "    def __init__(self , name , age):\n",
    "        self.name= name\n",
    "        self.age=age\n",
    "    def show(self):\n",
    "        print(f\"Name : {self.name} Age: {self.age}\")\n",
    "obj=A('Rohit' , 20)\n",
    "obj.show()"
   ]
  },
  {
   "cell_type": "code",
   "execution_count": 63,
   "id": "ed4bbcbb-7ba8-4f0c-b07c-5c9d8576597f",
   "metadata": {},
   "outputs": [
    {
     "name": "stdout",
     "output_type": "stream",
     "text": [
      "Total Amount :200 \n",
      "Amount add\n",
      "Total Amount :500 \n"
     ]
    }
   ],
   "source": [
    "class Bank:\n",
    "    def __init__(self , Balance):\n",
    "        self.__balance=Balance\n",
    "\n",
    "    def add(self , value):\n",
    "        self.__balance +=value\n",
    "        print(\"Amount add\")\n",
    "        \n",
    "    def show(self):\n",
    "        print(f\"Total Amount :{self.__balance} \")\n",
    "        \n",
    "obj=Bank(200)\n",
    "obj.show()\n",
    "obj.add(300)\n",
    "obj.show()      "
   ]
  },
  {
   "cell_type": "code",
   "execution_count": 66,
   "id": "fa39a81c-2598-4206-b293-bff60b357c1d",
   "metadata": {},
   "outputs": [
    {
     "data": {
      "text/plain": [
       "'woof  , woof'"
      ]
     },
     "execution_count": 66,
     "metadata": {},
     "output_type": "execute_result"
    }
   ],
   "source": [
    "class A:\n",
    "    def speak(self):\n",
    "        return \"Sound of animal\"\n",
    "class B(A):\n",
    "    def Dog(self):\n",
    "        return \"woof  , woof\"\n",
    "gd = B()\n",
    "gd.speak()\n",
    "gd.Dog()\n",
    "        \n",
    "    "
   ]
  },
  {
   "cell_type": "code",
   "execution_count": 74,
   "id": "e2d4912c-a017-4007-b179-0de784ff9d0e",
   "metadata": {},
   "outputs": [
    {
     "name": "stdout",
     "output_type": "stream",
     "text": [
      "sound like\n",
      "woof , woof\n",
      "meow , meow\n"
     ]
    }
   ],
   "source": [
    "class A:\n",
    "    def speak(self):\n",
    "        print(\"sound like\")\n",
    "class Dog(A):\n",
    "    def speak(self):\n",
    "        print(\"woof , woof\")\n",
    "class Cat(A):\n",
    "    def speak(self):\n",
    "        print(\"meow , meow\")\n",
    "obj=[A() , Dog() , Cat()]\n",
    "for i in obj:\n",
    "    i.speak()\n"
   ]
  },
  {
   "cell_type": "code",
   "execution_count": 77,
   "id": "9c026117-e983-409a-93d2-e6806db3800e",
   "metadata": {},
   "outputs": [
    {
     "name": "stdout",
     "output_type": "stream",
     "text": [
      "25\n",
      "55\n"
     ]
    }
   ],
   "source": [
    "class A:\n",
    "    def add(self , a, b , c=0):\n",
    "        return a+b+c\n",
    "obj=A()\n",
    "print(obj.add(10 , 15))\n",
    "print(obj.add(10 , 15 , 30))"
   ]
  },
  {
   "cell_type": "code",
   "execution_count": 78,
   "id": "7aa035ce-ddb4-4add-b26e-cbbb2c1c8272",
   "metadata": {},
   "outputs": [
    {
     "name": "stdout",
     "output_type": "stream",
     "text": [
      "car start\n",
      "car stop\n"
     ]
    }
   ],
   "source": [
    "from abc import ABC , abstractmethod\n",
    "class A(ABC):\n",
    "    @abstractmethod\n",
    "    def start(self):\n",
    "        pass\n",
    "\n",
    "    @abstractmethod\n",
    "    def stop(self):\n",
    "        pass\n",
    "class Car(A):\n",
    "    def start(self):\n",
    "        return \"car start\"\n",
    "    def stop(self):\n",
    "        return \"car stop\"\n",
    "car = Car()\n",
    "print(car.start())\n",
    "print(car.stop())"
   ]
  },
  {
   "cell_type": "code",
   "execution_count": null,
   "id": "0b2297ac-0f6f-4473-9769-9de26fb294d0",
   "metadata": {},
   "outputs": [],
   "source": []
  }
 ],
 "metadata": {
  "kernelspec": {
   "display_name": "Python 3 (ipykernel)",
   "language": "python",
   "name": "python3"
  },
  "language_info": {
   "codemirror_mode": {
    "name": "ipython",
    "version": 3
   },
   "file_extension": ".py",
   "mimetype": "text/x-python",
   "name": "python",
   "nbconvert_exporter": "python",
   "pygments_lexer": "ipython3",
   "version": "3.11.2"
  },
  "widgets": {
   "application/vnd.jupyter.widget-state+json": {
    "state": {},
    "version_major": 2,
    "version_minor": 0
   }
  }
 },
 "nbformat": 4,
 "nbformat_minor": 5
}
