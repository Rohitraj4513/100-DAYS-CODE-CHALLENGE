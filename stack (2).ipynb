{
 "cells": [
  {
   "cell_type": "code",
   "execution_count": 1,
   "id": "2564bdc1-02f7-4103-92b6-e041fcc1518b",
   "metadata": {},
   "outputs": [],
   "source": [
    "# infix expression to a postfix expression \n",
    "def priority(op):\n",
    "    hash = {'^' : 3 , '%' : 2 , '*' : 2 , '+' : 1 , '-' : 1 , '(' : -1}\n",
    "    return hash[op]\n",
    "    \n",
    "def infix(s):\n",
    "    ans = \"\"\n",
    "    st = []\n",
    "    i = 0\n",
    "    while i < len(s):\n",
    "        if 'A' <= s[i] <= 'Z' or 'a' <= s[i] <= 'z' or '0' <= s[i] <= '9':\n",
    "            ans += s[i]\n",
    "        elif s[i] == '(':\n",
    "            st.append(s[i])\n",
    "        elif s[i] == ')':\n",
    "            while len(st) != 0 and st[-1] != '(':\n",
    "                ans += st.pop()\n",
    "            st.pop()\n",
    "        else:\n",
    "            while len(st) != 0 and priority(s[i]) <= priority(st[-1]):\n",
    "                ans += st.pop()\n",
    "            st.append(s[i])\n",
    "        i +=1\n",
    "   \n",
    "    while len(st) != 0 :\n",
    "        ans += st[-1]\n",
    "        st.pop()\n",
    "        \n",
    "    return ans      "
   ]
  },
  {
   "cell_type": "code",
   "execution_count": 15,
   "id": "7996af10-ed01-45be-84ca-a1b54d1fadb6",
   "metadata": {},
   "outputs": [
    {
     "name": "stdout",
     "output_type": "stream",
     "text": [
      "i-)h*g+f(^)e-d^c(*b+a\n"
     ]
    }
   ],
   "source": [
    "s = \"a+b*(c^d-e)^(f+g*h)-i\"\n"
   ]
  },
  {
   "cell_type": "code",
   "execution_count": 3,
   "id": "431e02ed-8103-471c-94bf-b606d55f3ea6",
   "metadata": {},
   "outputs": [
    {
     "name": "stdout",
     "output_type": "stream",
     "text": [
      "abcd^e-fgh*+^*+i-\n"
     ]
    }
   ],
   "source": [
    "print(infix(s))"
   ]
  },
  {
   "cell_type": "code",
   "execution_count": 57,
   "id": "6f16c4c3-9aa6-40a2-9c91-e6cce0d9ee36",
   "metadata": {},
   "outputs": [],
   "source": [
    "#infix to prefix\n",
    "def priority(op):\n",
    "    hash = {'^' : 3 , '%' : 2 , '*' : 2 , '+' : 1 , '-' : 1 , '(' : -1}\n",
    "    return hash[op]\n",
    "    \n",
    "def prefix(s):\n",
    "    s = s[::-1]\n",
    "    s =''.join(['(' if ch ==')' else ')' if ch == '(' else ch for ch in s])\n",
    "    ans= \"\" \n",
    "    st =[]\n",
    "    i = 0\n",
    "    \n",
    "    while i < len(s):\n",
    "        if 'A' <= s[i] <= 'Z' or 'a' <= s[i] <= 'z' or '0' <= s[i] <= '9':\n",
    "            ans += s[i]\n",
    "        elif s[i] == '(':\n",
    "            st.append(s[i])\n",
    "            \n",
    "        elif s[i] == ')':\n",
    "            while len(st) != 0 and st[-1] != '(':\n",
    "                ans += st.pop()\n",
    "            st.pop()\n",
    "        else:\n",
    "            if s[i] == '^':\n",
    "                while len(st) != 0 and priority(s[i]) <= priority(st[-1]):\n",
    "                    ans += st.pop()\n",
    "            else:\n",
    "                while len(st) != 0  and priority(s[i]) < priority(st[-1]):\n",
    "                    ans += st.pop()\n",
    "            st.append(s[i])\n",
    "        i +=1\n",
    "    while len(st) != 0:\n",
    "        ans += st.pop()\n",
    "\n",
    "    return ans[::-1]\n",
    "        "
   ]
  },
  {
   "cell_type": "code",
   "execution_count": 58,
   "id": "e93664a6-ceff-4170-85eb-5ccf57d59cf4",
   "metadata": {},
   "outputs": [],
   "source": [
    "s = \"a+b*(c^d-e)^(f+g*h)-i\""
   ]
  },
  {
   "cell_type": "code",
   "execution_count": 59,
   "id": "f4702d38-38a9-4a19-a845-a3393cebc878",
   "metadata": {},
   "outputs": [
    {
     "name": "stdout",
     "output_type": "stream",
     "text": [
      "-+a*b^-^cde+f*ghi\n"
     ]
    }
   ],
   "source": [
    "print(prefix(s))"
   ]
  },
  {
   "cell_type": "code",
   "execution_count": null,
   "id": "04974de1-86c0-4c0e-9e9a-6e46f62ee24f",
   "metadata": {},
   "outputs": [],
   "source": [
    "\n"
   ]
  },
  {
   "cell_type": "code",
   "execution_count": null,
   "id": "32854951-9978-421a-b742-0b29d520bc6b",
   "metadata": {},
   "outputs": [],
   "source": []
  },
  {
   "cell_type": "code",
   "execution_count": null,
   "id": "9c99522f-138b-42b7-b817-88a82eb71036",
   "metadata": {},
   "outputs": [],
   "source": []
  },
  {
   "cell_type": "code",
   "execution_count": null,
   "id": "f090adab-30a6-43a8-8471-d2ae67abc1dd",
   "metadata": {},
   "outputs": [],
   "source": []
  },
  {
   "cell_type": "code",
   "execution_count": null,
   "id": "e37d7c29-afef-4382-9774-a4608e372026",
   "metadata": {},
   "outputs": [],
   "source": []
  },
  {
   "cell_type": "code",
   "execution_count": null,
   "id": "217ee257-eb3c-4ea0-ba62-dfa2ca163357",
   "metadata": {},
   "outputs": [],
   "source": []
  },
  {
   "cell_type": "code",
   "execution_count": null,
   "id": "967a2e4b-847b-442c-97a0-fb0606e2b686",
   "metadata": {},
   "outputs": [],
   "source": []
  },
  {
   "cell_type": "code",
   "execution_count": null,
   "id": "3f0e4dfb-7d05-40d7-9ffa-6315d870f455",
   "metadata": {},
   "outputs": [],
   "source": []
  },
  {
   "cell_type": "code",
   "execution_count": null,
   "id": "926ea563-3c33-42e5-a977-84d8ffe125df",
   "metadata": {},
   "outputs": [],
   "source": []
  },
  {
   "cell_type": "code",
   "execution_count": null,
   "id": "a36e70c6-e86e-46a4-8bcf-2ab4598dfe52",
   "metadata": {},
   "outputs": [],
   "source": []
  },
  {
   "cell_type": "code",
   "execution_count": null,
   "id": "8e5c19f4-753a-4001-a467-8383b7cc2c1f",
   "metadata": {},
   "outputs": [],
   "source": []
  },
  {
   "cell_type": "code",
   "execution_count": null,
   "id": "09805cd5-b842-4ef4-851d-7cba1266f3d2",
   "metadata": {},
   "outputs": [],
   "source": []
  },
  {
   "cell_type": "code",
   "execution_count": null,
   "id": "f520014e-a1d0-4b4d-9fbb-8f0d97be5ad8",
   "metadata": {},
   "outputs": [],
   "source": []
  },
  {
   "cell_type": "code",
   "execution_count": null,
   "id": "ecb5595f-4add-4d32-a232-ca1e9c2f3784",
   "metadata": {},
   "outputs": [],
   "source": []
  }
 ],
 "metadata": {
  "kernelspec": {
   "display_name": "Python 3 (ipykernel)",
   "language": "python",
   "name": "python3"
  },
  "language_info": {
   "codemirror_mode": {
    "name": "ipython",
    "version": 3
   },
   "file_extension": ".py",
   "mimetype": "text/x-python",
   "name": "python",
   "nbconvert_exporter": "python",
   "pygments_lexer": "ipython3",
   "version": "3.11.2"
  },
  "widgets": {
   "application/vnd.jupyter.widget-state+json": {
    "state": {},
    "version_major": 2,
    "version_minor": 0
   }
  }
 },
 "nbformat": 4,
 "nbformat_minor": 5
}
