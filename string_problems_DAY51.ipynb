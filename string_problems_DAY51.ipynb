{
 "cells": [
  {
   "cell_type": "code",
   "execution_count": 13,
   "id": "c4cdf403-a52d-440f-b482-843fad11277b",
   "metadata": {},
   "outputs": [],
   "source": [
    "class Solution(object):\n",
    "    def common(self,pre , st):\n",
    "        mi=min(len(pre) , len(st))\n",
    "        ans=\"\"\n",
    "        for i in range(mi):\n",
    "            if pre[i] == st[i]:\n",
    "                ans += pre[i]\n",
    "            else:\n",
    "                break\n",
    "        return ans\n",
    "\n",
    "    def longestCommonPrefix(self, strs):\n",
    "        n=len(strs)\n",
    "        pre=strs[0]\n",
    "        if n == 0:\n",
    "            return \"\"\n",
    "        if n == 1 :\n",
    "            return strs[0]\n",
    "        for i in range(n):\n",
    "            pre=self.common(pre , strs[i])\n",
    "\n",
    "            if not pre:\n",
    "                break\n",
    "\n",
    "        return pre"
   ]
  },
  {
   "cell_type": "code",
   "execution_count": 15,
   "id": "66bfb733-2eae-4589-855e-34b5aced9534",
   "metadata": {},
   "outputs": [
    {
     "name": "stdout",
     "output_type": "stream",
     "text": [
      "\n"
     ]
    }
   ],
   "source": [
    "S=Solution()\n",
    "strr=[\"flower\",\"gflow\",\"cflight\"]\n",
    "print(S.longestCommonPrefix(strr))"
   ]
  },
  {
   "cell_type": "code",
   "execution_count": 34,
   "id": "94da8bbc-577c-423b-8c39-45ac7ec1c16f",
   "metadata": {},
   "outputs": [],
   "source": [
    "def rotate(st , goal):\n",
    "    n=len(st)\n",
    "    news=\"\"\n",
    "    print(news)\n",
    "    if n != len(goal):\n",
    "        return False\n",
    "    for i in range(1 ,n):\n",
    "        news=st[-i:] + st[:-i]\n",
    "        \n",
    "        if news == goal:\n",
    "            return True\n",
    "\n",
    "    return False\n",
    "\n",
    "            "
   ]
  },
  {
   "cell_type": "code",
   "execution_count": 36,
   "id": "13fdb651-f8d3-495a-97d3-3d79c497fcb7",
   "metadata": {},
   "outputs": [
    {
     "name": "stdout",
     "output_type": "stream",
     "text": [
      "\n",
      "False\n"
     ]
    }
   ],
   "source": [
    "st = \"abcde\"\n",
    "goal=\"abced\"\n",
    "print(rotate(st , goal))"
   ]
  },
  {
   "cell_type": "code",
   "execution_count": 37,
   "id": "ff176549-e1fd-415f-951f-e31fd68cd4fe",
   "metadata": {},
   "outputs": [],
   "source": [
    "def rotate(st , goal):\n",
    "    return len(st) == len(goal) and goal in (st + st)"
   ]
  },
  {
   "cell_type": "code",
   "execution_count": 39,
   "id": "1a9db03a-c75e-44ae-a10b-7cd78cdba6a4",
   "metadata": {},
   "outputs": [
    {
     "name": "stdout",
     "output_type": "stream",
     "text": [
      "True\n"
     ]
    }
   ],
   "source": [
    "st = \"abcde\"\n",
    "goal=\"bcdea\"\n",
    "print(rotate(st , goal))"
   ]
  },
  {
   "cell_type": "code",
   "execution_count": 55,
   "id": "b1512e12-f97c-4a47-8a9b-5e7163752183",
   "metadata": {},
   "outputs": [
    {
     "name": "stdout",
     "output_type": "stream",
     "text": [
      "True\n"
     ]
    }
   ],
   "source": [
    "def Valid(gaol , st1):\n",
    "    if len(st1) != len(goal):\n",
    "        return False\n",
    "    for i in range(len(st1)):\n",
    "        count=0\n",
    "        for j in range(len(st1)):\n",
    "            if st1[i] == goal[j]:\n",
    "                count +=1\n",
    "        \n",
    "        if count == 0:\n",
    "            return False\n",
    "    return True\n",
    "    \n",
    "st1 = \"anagram\"\n",
    "goal=\"nagaram\"\n",
    "print(find(goal , st1))              "
   ]
  },
  {
   "cell_type": "code",
   "execution_count": 53,
   "id": "f0846042-b76e-4292-b99b-654e230c7389",
   "metadata": {},
   "outputs": [
    {
     "name": "stdout",
     "output_type": "stream",
     "text": [
      "False\n"
     ]
    }
   ],
   "source": []
  },
  {
   "cell_type": "code",
   "execution_count": null,
   "id": "5c4b9336-a309-4955-9c4c-a01ad082e727",
   "metadata": {},
   "outputs": [],
   "source": []
  },
  {
   "cell_type": "code",
   "execution_count": null,
   "id": "9cbce40f-ed9b-4892-80b9-c60d44f42444",
   "metadata": {},
   "outputs": [],
   "source": []
  },
  {
   "cell_type": "code",
   "execution_count": null,
   "id": "0bacb966-7884-4ee5-b9a6-f9d190e9a907",
   "metadata": {},
   "outputs": [],
   "source": []
  },
  {
   "cell_type": "code",
   "execution_count": null,
   "id": "cd087b62-d94e-4962-80eb-a5ad3f69e248",
   "metadata": {},
   "outputs": [],
   "source": []
  },
  {
   "cell_type": "code",
   "execution_count": null,
   "id": "3d25f91f-37fb-46b7-b8f4-aba1e47032c5",
   "metadata": {},
   "outputs": [],
   "source": []
  },
  {
   "cell_type": "code",
   "execution_count": null,
   "id": "71d8783f-7545-465c-a106-6355552959eb",
   "metadata": {},
   "outputs": [],
   "source": []
  },
  {
   "cell_type": "code",
   "execution_count": null,
   "id": "909be8ee-9c36-429f-81fa-0e57b52c4e6a",
   "metadata": {},
   "outputs": [],
   "source": []
  },
  {
   "cell_type": "code",
   "execution_count": null,
   "id": "e8882ce5-b878-4146-bd02-1433551d4862",
   "metadata": {},
   "outputs": [],
   "source": []
  },
  {
   "cell_type": "code",
   "execution_count": null,
   "id": "8707e073-c4df-4b48-b710-f4577223eae5",
   "metadata": {},
   "outputs": [],
   "source": []
  }
 ],
 "metadata": {
  "kernelspec": {
   "display_name": "Python 3 (ipykernel)",
   "language": "python",
   "name": "python3"
  },
  "language_info": {
   "codemirror_mode": {
    "name": "ipython",
    "version": 3
   },
   "file_extension": ".py",
   "mimetype": "text/x-python",
   "name": "python",
   "nbconvert_exporter": "python",
   "pygments_lexer": "ipython3",
   "version": "3.11.2"
  },
  "widgets": {
   "application/vnd.jupyter.widget-state+json": {
    "state": {},
    "version_major": 2,
    "version_minor": 0
   }
  }
 },
 "nbformat": 4,
 "nbformat_minor": 5
}
